{
 "cells": [
  {
   "cell_type": "markdown",
   "metadata": {},
   "source": [
    "# Tour de Richmond Park Leaderboard\n",
    "Now we are ready to do some analysis"
   ]
  },
  {
   "cell_type": "code",
   "execution_count": 12,
   "metadata": {
    "collapsed": false,
    "scrolled": true
   },
   "outputs": [],
   "source": [
    "%matplotlib inline\n",
    "import matplotlib.pylab as plt\n",
    "import pandas as pd\n",
    "import numpy as np\n",
    "\n",
    "# Special functions\n",
    "import HistoricWeather\n",
    "import AirDensity\n",
    "\n",
    "\n",
    "leaderboard = pd.read_excel('Leaderboard Tour de Richmond Park.xlsx')\n",
    "leaderboard.Date = pd.to_datetime(leaderboard.Date)\n",
    "leaderboard.head()\n",
    "leaderboard.Speed = leaderboard.Speed.str.split('k').str[0].astype('float64') \n",
    "leaderboard.HR = leaderboard.HR.replace('-','NaN')\n",
    "leaderboard.HR = leaderboard.HR.str.split('b').str[0].astype('float64') \n"
   ]
  },
  {
   "cell_type": "markdown",
   "metadata": {
    "collapsed": false
   },
   "source": [
    "Pull in historic weather for the dates on the leaderboard"
   ]
  },
  {
   "cell_type": "code",
   "execution_count": 13,
   "metadata": {
    "collapsed": false
   },
   "outputs": [
    {
     "name": "stdout",
     "output_type": "stream",
     "text": [
      "No historic data available for Saturday, 22 August 2009\n"
     ]
    }
   ],
   "source": [
    "observations = pd.DataFrame()\n",
    "for d in leaderboard.Date:  \n",
    "    [y, m, d, h, mi, s, town, country] = [d.year, d.month, d.day, 18, 0, 0, 'london', 'uk']\n",
    "    OBS = HistoricWeather.weatherObs(d=d, m=m, y=y, h=h, mi=mi, s=s, town=town, country=country)\n",
    "    observations = observations.append(OBS)\n",
    "\n",
    "O = observations.copy()"
   ]
  },
  {
   "cell_type": "markdown",
   "metadata": {},
   "source": [
    "Correct the pressure for one erroneous observation"
   ]
  },
  {
   "cell_type": "code",
   "execution_count": 14,
   "metadata": {
    "collapsed": false
   },
   "outputs": [],
   "source": [
    "observations.Pressure.loc['2011-08-10 18:00:00']=1020\n",
    "\n"
   ]
  },
  {
   "cell_type": "code",
   "execution_count": 15,
   "metadata": {
    "collapsed": false
   },
   "outputs": [],
   "source": [
    "def getAirDensity(obs):\n",
    "    return AirDensity.rhoCalc(Pressure = obs.Pressure, Temp = obs.Temp, Humidity = obs.Humidity)\n",
    "\n",
    "observations['AirDensity'] = observations.apply(getAirDensity, axis=1)\n",
    "observations['ObsDate'] = observations.index - pd.Timedelta(18,unit='h')\n",
    "observations = observations.reset_index(drop=True)\n",
    "\n"
   ]
  },
  {
   "cell_type": "code",
   "execution_count": 16,
   "metadata": {
    "collapsed": false
   },
   "outputs": [],
   "source": [
    "leaderboard = leaderboard.join(observations)\n"
   ]
  },
  {
   "cell_type": "code",
   "execution_count": 17,
   "metadata": {
    "collapsed": false
   },
   "outputs": [
    {
     "data": {
      "text/html": [
       "<div>\n",
       "<table border=\"1\" class=\"dataframe\">\n",
       "  <thead>\n",
       "    <tr style=\"text-align: right;\">\n",
       "      <th></th>\n",
       "      <th>Rank</th>\n",
       "      <th>Name</th>\n",
       "      <th>Date</th>\n",
       "      <th>Speed</th>\n",
       "      <th>HR</th>\n",
       "      <th>Power</th>\n",
       "      <th>Powermeter</th>\n",
       "      <th>VAM</th>\n",
       "      <th>Time</th>\n",
       "      <th>Humidity</th>\n",
       "      <th>Pressure</th>\n",
       "      <th>Temp</th>\n",
       "      <th>Wind</th>\n",
       "      <th>WindDirn</th>\n",
       "      <th>AirDensity</th>\n",
       "      <th>ObsDate</th>\n",
       "    </tr>\n",
       "  </thead>\n",
       "  <tbody>\n",
       "    <tr>\n",
       "      <th>0</th>\n",
       "      <td>1</td>\n",
       "      <td>Rob Sharland</td>\n",
       "      <td>2015-08-12</td>\n",
       "      <td>46.5</td>\n",
       "      <td>NaN</td>\n",
       "      <td>393.0</td>\n",
       "      <td>Powermeter</td>\n",
       "      <td>-</td>\n",
       "      <td>13:57:00</td>\n",
       "      <td>60.0</td>\n",
       "      <td>1022.0</td>\n",
       "      <td>22.0</td>\n",
       "      <td>12.0</td>\n",
       "      <td>80.0</td>\n",
       "      <td>1.199210</td>\n",
       "      <td>2015-08-12</td>\n",
       "    </tr>\n",
       "    <tr>\n",
       "      <th>1</th>\n",
       "      <td>2</td>\n",
       "      <td>richard mason</td>\n",
       "      <td>2016-09-21</td>\n",
       "      <td>46.3</td>\n",
       "      <td>171.0</td>\n",
       "      <td>454.0</td>\n",
       "      <td>NaN</td>\n",
       "      <td>-</td>\n",
       "      <td>14:01:00</td>\n",
       "      <td>68.0</td>\n",
       "      <td>1018.0</td>\n",
       "      <td>20.0</td>\n",
       "      <td>7.0</td>\n",
       "      <td>190.0</td>\n",
       "      <td>1.202621</td>\n",
       "      <td>2016-09-21</td>\n",
       "    </tr>\n",
       "    <tr>\n",
       "      <th>2</th>\n",
       "      <td>3</td>\n",
       "      <td>Barnabas Purbrook</td>\n",
       "      <td>2016-09-21</td>\n",
       "      <td>46.3</td>\n",
       "      <td>178.0</td>\n",
       "      <td>390.0</td>\n",
       "      <td>Powermeter</td>\n",
       "      <td>-</td>\n",
       "      <td>14:02:00</td>\n",
       "      <td>68.0</td>\n",
       "      <td>1018.0</td>\n",
       "      <td>20.0</td>\n",
       "      <td>7.0</td>\n",
       "      <td>190.0</td>\n",
       "      <td>1.202621</td>\n",
       "      <td>2016-09-21</td>\n",
       "    </tr>\n",
       "    <tr>\n",
       "      <th>3</th>\n",
       "      <td>3</td>\n",
       "      <td>Alexander Donaldson</td>\n",
       "      <td>2016-09-21</td>\n",
       "      <td>46.3</td>\n",
       "      <td>157.0</td>\n",
       "      <td>315.0</td>\n",
       "      <td>Powermeter</td>\n",
       "      <td>-</td>\n",
       "      <td>14:02:00</td>\n",
       "      <td>68.0</td>\n",
       "      <td>1018.0</td>\n",
       "      <td>20.0</td>\n",
       "      <td>7.0</td>\n",
       "      <td>190.0</td>\n",
       "      <td>1.202621</td>\n",
       "      <td>2016-09-21</td>\n",
       "    </tr>\n",
       "    <tr>\n",
       "      <th>4</th>\n",
       "      <td>5</td>\n",
       "      <td>Tom Hargreaves</td>\n",
       "      <td>2016-09-21</td>\n",
       "      <td>46.2</td>\n",
       "      <td>180.0</td>\n",
       "      <td>NaN</td>\n",
       "      <td>Powermeter</td>\n",
       "      <td>-</td>\n",
       "      <td>14:03:00</td>\n",
       "      <td>68.0</td>\n",
       "      <td>1018.0</td>\n",
       "      <td>20.0</td>\n",
       "      <td>7.0</td>\n",
       "      <td>190.0</td>\n",
       "      <td>1.202621</td>\n",
       "      <td>2016-09-21</td>\n",
       "    </tr>\n",
       "    <tr>\n",
       "      <th>5</th>\n",
       "      <td>6</td>\n",
       "      <td>Gabriel Evans</td>\n",
       "      <td>2014-09-03</td>\n",
       "      <td>45.8</td>\n",
       "      <td>NaN</td>\n",
       "      <td>371.0</td>\n",
       "      <td>Powermeter</td>\n",
       "      <td>-</td>\n",
       "      <td>14:10:00</td>\n",
       "      <td>62.0</td>\n",
       "      <td>1021.0</td>\n",
       "      <td>22.0</td>\n",
       "      <td>10.0</td>\n",
       "      <td>90.0</td>\n",
       "      <td>1.197793</td>\n",
       "      <td>2014-09-03</td>\n",
       "    </tr>\n",
       "    <tr>\n",
       "      <th>6</th>\n",
       "      <td>7</td>\n",
       "      <td>Tom Percival RPR</td>\n",
       "      <td>2016-09-13</td>\n",
       "      <td>45.6</td>\n",
       "      <td>193.0</td>\n",
       "      <td>327.0</td>\n",
       "      <td>Powermeter</td>\n",
       "      <td>-</td>\n",
       "      <td>14:14:00</td>\n",
       "      <td>53.0</td>\n",
       "      <td>1008.0</td>\n",
       "      <td>30.0</td>\n",
       "      <td>6.0</td>\n",
       "      <td>145.0</td>\n",
       "      <td>1.148597</td>\n",
       "      <td>2016-09-13</td>\n",
       "    </tr>\n",
       "    <tr>\n",
       "      <th>7</th>\n",
       "      <td>8</td>\n",
       "      <td>gavin ryan</td>\n",
       "      <td>2016-08-25</td>\n",
       "      <td>45.1</td>\n",
       "      <td>174.0</td>\n",
       "      <td>NaN</td>\n",
       "      <td>NaN</td>\n",
       "      <td>-</td>\n",
       "      <td>14:23:00</td>\n",
       "      <td>71.0</td>\n",
       "      <td>1014.0</td>\n",
       "      <td>26.0</td>\n",
       "      <td>3.0</td>\n",
       "      <td>310.0</td>\n",
       "      <td>1.170336</td>\n",
       "      <td>2016-08-25</td>\n",
       "    </tr>\n",
       "    <tr>\n",
       "      <th>8</th>\n",
       "      <td>9</td>\n",
       "      <td>callum clarke</td>\n",
       "      <td>2016-08-15</td>\n",
       "      <td>44.9</td>\n",
       "      <td>NaN</td>\n",
       "      <td>332.0</td>\n",
       "      <td>Powermeter</td>\n",
       "      <td>-</td>\n",
       "      <td>14:28:00</td>\n",
       "      <td>54.0</td>\n",
       "      <td>1022.0</td>\n",
       "      <td>24.0</td>\n",
       "      <td>11.0</td>\n",
       "      <td>105.0</td>\n",
       "      <td>1.191028</td>\n",
       "      <td>2016-08-15</td>\n",
       "    </tr>\n",
       "    <tr>\n",
       "      <th>9</th>\n",
       "      <td>10</td>\n",
       "      <td>Tom Crump</td>\n",
       "      <td>2016-08-15</td>\n",
       "      <td>44.8</td>\n",
       "      <td>191.0</td>\n",
       "      <td>394.0</td>\n",
       "      <td>Powermeter</td>\n",
       "      <td>-</td>\n",
       "      <td>14:29:00</td>\n",
       "      <td>54.0</td>\n",
       "      <td>1022.0</td>\n",
       "      <td>24.0</td>\n",
       "      <td>11.0</td>\n",
       "      <td>105.0</td>\n",
       "      <td>1.191028</td>\n",
       "      <td>2016-08-15</td>\n",
       "    </tr>\n",
       "    <tr>\n",
       "      <th>10</th>\n",
       "      <td>11</td>\n",
       "      <td>Joe Peake (Goat RPR) CCL</td>\n",
       "      <td>2016-09-13</td>\n",
       "      <td>44.7</td>\n",
       "      <td>NaN</td>\n",
       "      <td>422.0</td>\n",
       "      <td>NaN</td>\n",
       "      <td>-</td>\n",
       "      <td>14:31:00</td>\n",
       "      <td>53.0</td>\n",
       "      <td>1008.0</td>\n",
       "      <td>30.0</td>\n",
       "      <td>6.0</td>\n",
       "      <td>145.0</td>\n",
       "      <td>1.148597</td>\n",
       "      <td>2016-09-13</td>\n",
       "    </tr>\n",
       "    <tr>\n",
       "      <th>11</th>\n",
       "      <td>12</td>\n",
       "      <td>Stephen Irwin</td>\n",
       "      <td>2013-06-19</td>\n",
       "      <td>44.6</td>\n",
       "      <td>181.0</td>\n",
       "      <td>313.0</td>\n",
       "      <td>Powermeter</td>\n",
       "      <td>-</td>\n",
       "      <td>14:33:00</td>\n",
       "      <td>60.0</td>\n",
       "      <td>1014.0</td>\n",
       "      <td>24.0</td>\n",
       "      <td>8.0</td>\n",
       "      <td>25.0</td>\n",
       "      <td>1.180855</td>\n",
       "      <td>2013-06-19</td>\n",
       "    </tr>\n",
       "    <tr>\n",
       "      <th>12</th>\n",
       "      <td>13</td>\n",
       "      <td>Chris Nicholls (Disco RPR)</td>\n",
       "      <td>2014-05-19</td>\n",
       "      <td>44.4</td>\n",
       "      <td>NaN</td>\n",
       "      <td>429.0</td>\n",
       "      <td>NaN</td>\n",
       "      <td>-</td>\n",
       "      <td>14:38:00</td>\n",
       "      <td>48.0</td>\n",
       "      <td>1002.0</td>\n",
       "      <td>24.0</td>\n",
       "      <td>12.0</td>\n",
       "      <td>115.0</td>\n",
       "      <td>1.168374</td>\n",
       "      <td>2014-05-19</td>\n",
       "    </tr>\n",
       "    <tr>\n",
       "      <th>13</th>\n",
       "      <td>14</td>\n",
       "      <td>Alex Scutt RPR</td>\n",
       "      <td>2016-09-13</td>\n",
       "      <td>44.2</td>\n",
       "      <td>NaN</td>\n",
       "      <td>435.0</td>\n",
       "      <td>NaN</td>\n",
       "      <td>-</td>\n",
       "      <td>14:41:00</td>\n",
       "      <td>53.0</td>\n",
       "      <td>1008.0</td>\n",
       "      <td>30.0</td>\n",
       "      <td>6.0</td>\n",
       "      <td>145.0</td>\n",
       "      <td>1.148597</td>\n",
       "      <td>2016-09-13</td>\n",
       "    </tr>\n",
       "    <tr>\n",
       "      <th>14</th>\n",
       "      <td>15</td>\n",
       "      <td>Dan (Baby Face RPR)</td>\n",
       "      <td>2016-04-13</td>\n",
       "      <td>43.9</td>\n",
       "      <td>153.0</td>\n",
       "      <td>339.0</td>\n",
       "      <td>Powermeter</td>\n",
       "      <td>-</td>\n",
       "      <td>14:47:00</td>\n",
       "      <td>48.0</td>\n",
       "      <td>1008.0</td>\n",
       "      <td>16.0</td>\n",
       "      <td>6.0</td>\n",
       "      <td>325.0</td>\n",
       "      <td>1.210476</td>\n",
       "      <td>2016-04-13</td>\n",
       "    </tr>\n",
       "    <tr>\n",
       "      <th>15</th>\n",
       "      <td>16</td>\n",
       "      <td>Arlen (Kingpin RPR)</td>\n",
       "      <td>2016-04-13</td>\n",
       "      <td>43.8</td>\n",
       "      <td>163.0</td>\n",
       "      <td>325.0</td>\n",
       "      <td>Powermeter</td>\n",
       "      <td>-</td>\n",
       "      <td>14:50:00</td>\n",
       "      <td>48.0</td>\n",
       "      <td>1008.0</td>\n",
       "      <td>16.0</td>\n",
       "      <td>6.0</td>\n",
       "      <td>325.0</td>\n",
       "      <td>1.210476</td>\n",
       "      <td>2016-04-13</td>\n",
       "    </tr>\n",
       "    <tr>\n",
       "      <th>16</th>\n",
       "      <td>17</td>\n",
       "      <td>Lawrence Carpenter (Fortecycling.cc)</td>\n",
       "      <td>2015-06-23</td>\n",
       "      <td>43.6</td>\n",
       "      <td>170.0</td>\n",
       "      <td>380.0</td>\n",
       "      <td>Powermeter</td>\n",
       "      <td>-</td>\n",
       "      <td>14:53:00</td>\n",
       "      <td>57.0</td>\n",
       "      <td>1019.0</td>\n",
       "      <td>20.0</td>\n",
       "      <td>5.0</td>\n",
       "      <td>325.0</td>\n",
       "      <td>1.204965</td>\n",
       "      <td>2015-06-23</td>\n",
       "    </tr>\n",
       "    <tr>\n",
       "      <th>17</th>\n",
       "      <td>18</td>\n",
       "      <td>Stuart Spies</td>\n",
       "      <td>2016-09-24</td>\n",
       "      <td>43.5</td>\n",
       "      <td>164.0</td>\n",
       "      <td>350.0</td>\n",
       "      <td>Powermeter</td>\n",
       "      <td>-</td>\n",
       "      <td>14:55:00</td>\n",
       "      <td>55.0</td>\n",
       "      <td>1014.0</td>\n",
       "      <td>21.0</td>\n",
       "      <td>12.0</td>\n",
       "      <td>185.0</td>\n",
       "      <td>1.194790</td>\n",
       "      <td>2016-09-24</td>\n",
       "    </tr>\n",
       "    <tr>\n",
       "      <th>18</th>\n",
       "      <td>19</td>\n",
       "      <td>Ian Paine</td>\n",
       "      <td>2013-07-07</td>\n",
       "      <td>43.5</td>\n",
       "      <td>NaN</td>\n",
       "      <td>392.0</td>\n",
       "      <td>NaN</td>\n",
       "      <td>-</td>\n",
       "      <td>14:56:00</td>\n",
       "      <td>44.0</td>\n",
       "      <td>1032.0</td>\n",
       "      <td>28.0</td>\n",
       "      <td>9.0</td>\n",
       "      <td>80.0</td>\n",
       "      <td>1.186549</td>\n",
       "      <td>2013-07-07</td>\n",
       "    </tr>\n",
       "    <tr>\n",
       "      <th>19</th>\n",
       "      <td>20</td>\n",
       "      <td>James O'Connell</td>\n",
       "      <td>2016-04-13</td>\n",
       "      <td>43.4</td>\n",
       "      <td>179.0</td>\n",
       "      <td>389.0</td>\n",
       "      <td>NaN</td>\n",
       "      <td>-</td>\n",
       "      <td>14:58:00</td>\n",
       "      <td>48.0</td>\n",
       "      <td>1008.0</td>\n",
       "      <td>16.0</td>\n",
       "      <td>6.0</td>\n",
       "      <td>325.0</td>\n",
       "      <td>1.210476</td>\n",
       "      <td>2016-04-13</td>\n",
       "    </tr>\n",
       "  </tbody>\n",
       "</table>\n",
       "</div>"
      ],
      "text/plain": [
       "    Rank                                  Name       Date  Speed     HR  \\\n",
       "0      1                          Rob Sharland 2015-08-12   46.5    NaN   \n",
       "1      2                         richard mason 2016-09-21   46.3  171.0   \n",
       "2      3                     Barnabas Purbrook 2016-09-21   46.3  178.0   \n",
       "3      3                   Alexander Donaldson 2016-09-21   46.3  157.0   \n",
       "4      5                        Tom Hargreaves 2016-09-21   46.2  180.0   \n",
       "5      6                         Gabriel Evans 2014-09-03   45.8    NaN   \n",
       "6      7                      Tom Percival RPR 2016-09-13   45.6  193.0   \n",
       "7      8                            gavin ryan 2016-08-25   45.1  174.0   \n",
       "8      9                         callum clarke 2016-08-15   44.9    NaN   \n",
       "9     10                             Tom Crump 2016-08-15   44.8  191.0   \n",
       "10    11              Joe Peake (Goat RPR) CCL 2016-09-13   44.7    NaN   \n",
       "11    12                         Stephen Irwin 2013-06-19   44.6  181.0   \n",
       "12    13            Chris Nicholls (Disco RPR) 2014-05-19   44.4    NaN   \n",
       "13    14                        Alex Scutt RPR 2016-09-13   44.2    NaN   \n",
       "14    15                   Dan (Baby Face RPR) 2016-04-13   43.9  153.0   \n",
       "15    16                   Arlen (Kingpin RPR) 2016-04-13   43.8  163.0   \n",
       "16    17  Lawrence Carpenter (Fortecycling.cc) 2015-06-23   43.6  170.0   \n",
       "17    18                          Stuart Spies 2016-09-24   43.5  164.0   \n",
       "18    19                             Ian Paine 2013-07-07   43.5    NaN   \n",
       "19    20                       James O'Connell 2016-04-13   43.4  179.0   \n",
       "\n",
       "    Power   Powermeter VAM      Time  Humidity  Pressure  Temp  Wind  \\\n",
       "0   393.0   Powermeter   -  13:57:00      60.0    1022.0  22.0  12.0   \n",
       "1   454.0          NaN   -  14:01:00      68.0    1018.0  20.0   7.0   \n",
       "2   390.0   Powermeter   -  14:02:00      68.0    1018.0  20.0   7.0   \n",
       "3   315.0   Powermeter   -  14:02:00      68.0    1018.0  20.0   7.0   \n",
       "4     NaN   Powermeter   -  14:03:00      68.0    1018.0  20.0   7.0   \n",
       "5   371.0   Powermeter   -  14:10:00      62.0    1021.0  22.0  10.0   \n",
       "6   327.0   Powermeter   -  14:14:00      53.0    1008.0  30.0   6.0   \n",
       "7     NaN          NaN   -  14:23:00      71.0    1014.0  26.0   3.0   \n",
       "8   332.0   Powermeter   -  14:28:00      54.0    1022.0  24.0  11.0   \n",
       "9   394.0   Powermeter   -  14:29:00      54.0    1022.0  24.0  11.0   \n",
       "10  422.0          NaN   -  14:31:00      53.0    1008.0  30.0   6.0   \n",
       "11  313.0   Powermeter   -  14:33:00      60.0    1014.0  24.0   8.0   \n",
       "12  429.0          NaN   -  14:38:00      48.0    1002.0  24.0  12.0   \n",
       "13  435.0          NaN   -  14:41:00      53.0    1008.0  30.0   6.0   \n",
       "14  339.0   Powermeter   -  14:47:00      48.0    1008.0  16.0   6.0   \n",
       "15  325.0   Powermeter   -  14:50:00      48.0    1008.0  16.0   6.0   \n",
       "16  380.0   Powermeter   -  14:53:00      57.0    1019.0  20.0   5.0   \n",
       "17  350.0   Powermeter   -  14:55:00      55.0    1014.0  21.0  12.0   \n",
       "18  392.0          NaN   -  14:56:00      44.0    1032.0  28.0   9.0   \n",
       "19  389.0          NaN   -  14:58:00      48.0    1008.0  16.0   6.0   \n",
       "\n",
       "    WindDirn  AirDensity    ObsDate  \n",
       "0       80.0    1.199210 2015-08-12  \n",
       "1      190.0    1.202621 2016-09-21  \n",
       "2      190.0    1.202621 2016-09-21  \n",
       "3      190.0    1.202621 2016-09-21  \n",
       "4      190.0    1.202621 2016-09-21  \n",
       "5       90.0    1.197793 2014-09-03  \n",
       "6      145.0    1.148597 2016-09-13  \n",
       "7      310.0    1.170336 2016-08-25  \n",
       "8      105.0    1.191028 2016-08-15  \n",
       "9      105.0    1.191028 2016-08-15  \n",
       "10     145.0    1.148597 2016-09-13  \n",
       "11      25.0    1.180855 2013-06-19  \n",
       "12     115.0    1.168374 2014-05-19  \n",
       "13     145.0    1.148597 2016-09-13  \n",
       "14     325.0    1.210476 2016-04-13  \n",
       "15     325.0    1.210476 2016-04-13  \n",
       "16     325.0    1.204965 2015-06-23  \n",
       "17     185.0    1.194790 2016-09-24  \n",
       "18      80.0    1.186549 2013-07-07  \n",
       "19     325.0    1.210476 2016-04-13  "
      ]
     },
     "execution_count": 17,
     "metadata": {},
     "output_type": "execute_result"
    }
   ],
   "source": [
    "\n",
    "leaderboard.head(20)"
   ]
  },
  {
   "cell_type": "code",
   "execution_count": 18,
   "metadata": {
    "collapsed": false
   },
   "outputs": [
    {
     "data": {
      "image/png": "[encoded data removed]",
      "text/plain": [
       "<matplotlib.figure.Figure at 0x119f36b00>"
      ]
     },
     "metadata": {},
     "output_type": "display_data"
    },
    {
     "data": {
      "image/png": "[encoded data removed]",
      "text/plain": [
       "<matplotlib.figure.Figure at 0x11a309710>"
      ]
     },
     "metadata": {},
     "output_type": "display_data"
    },
    {
     "data": {
      "image/png": "[encoded data removed]",
      "text/plain": [
       "<matplotlib.figure.Figure at 0x119f0ee10>"
      ]
     },
     "metadata": {},
     "output_type": "display_data"
    }
   ],
   "source": [
    "f = 'Power'\n",
    "leaderboard[leaderboard.Powermeter.notnull()][f].plot()\n",
    "plt.show()\n",
    "leaderboard[leaderboard.Powermeter.notnull()].plot(kind='scatter',x=f,y='Speed')\n",
    "leaderboard[leaderboard.Powermeter.isnull()].plot(kind='scatter',x=f,y='Speed',c='g')\n",
    "plt.show()"
   ]
  },
  {
   "cell_type": "code",
   "execution_count": null,
   "metadata": {
    "collapsed": false
   },
   "outputs": [],
   "source": []
  },
  {
   "cell_type": "code",
   "execution_count": null,
   "metadata": {
    "collapsed": false
   },
   "outputs": [],
   "source": []
  },
  {
   "cell_type": "code",
   "execution_count": 19,
   "metadata": {
    "collapsed": false
   },
   "outputs": [],
   "source": [
    "\n",
    "leaderboard['Month'] = leaderboard.Date.apply(lambda x: x.month)"
   ]
  },
  {
   "cell_type": "code",
   "execution_count": 20,
   "metadata": {
    "collapsed": false
   },
   "outputs": [
    {
     "data": {
      "text/plain": [
       "7.428241206030151"
      ]
     },
     "execution_count": 20,
     "metadata": {},
     "output_type": "execute_result"
    }
   ],
   "source": [
    "leaderboard.Month.multiply(leaderboard.index).sum()/leaderboard.index.values.sum()"
   ]
  },
  {
   "cell_type": "code",
   "execution_count": 21,
   "metadata": {
    "collapsed": false
   },
   "outputs": [
    {
     "data": {
      "text/plain": [
       "<matplotlib.axes._subplots.AxesSubplot at 0x116ecb358>"
      ]
     },
     "execution_count": 21,
     "metadata": {},
     "output_type": "execute_result"
    },
    {
     "data": {
      "image/png": "[encoded data removed]",
      "text/plain": [
       "<matplotlib.figure.Figure at 0x119f0b518>"
      ]
     },
     "metadata": {},
     "output_type": "display_data"
    }
   ],
   "source": [
    "leaderboard.plot(kind='scatter',x='Month',y='AirDensity')"
   ]
  },
  {
   "cell_type": "code",
   "execution_count": 22,
   "metadata": {
    "collapsed": false
   },
   "outputs": [
    {
     "data": {
      "text/plain": [
       "<matplotlib.axes._subplots.AxesSubplot at 0x119ec8668>"
      ]
     },
     "execution_count": 22,
     "metadata": {},
     "output_type": "execute_result"
    },
    {
     "data": {
      "image/png": "[encoded data removed]",
      "text/plain": [
       "<matplotlib.figure.Figure at 0x11a46fb70>"
      ]
     },
     "metadata": {},
     "output_type": "display_data"
    }
   ],
   "source": [
    "from pandas.tools.plotting import radviz\n",
    "plt.figure()\n",
    "plt.rcParams['figure.figsize'] = 20, 16\n",
    "radviz(leaderboard[['Speed','Power','Pressure','Temp']], 'Speed')"
   ]
  },
  {
   "cell_type": "code",
   "execution_count": null,
   "metadata": {
    "collapsed": false
   },
   "outputs": [],
   "source": []
  },
  {
   "cell_type": "code",
   "execution_count": null,
   "metadata": {
    "collapsed": true
   },
   "outputs": [],
   "source": []
  }
 ],
 "metadata": {
  "anaconda-cloud": {},
  "kernelspec": {
   "display_name": "Python [Root]",
   "language": "python",
   "name": "Python [Root]"
  },
  "language_info": {
   "codemirror_mode": {
    "name": "ipython",
    "version": 3
   },
   "file_extension": ".py",
   "mimetype": "text/x-python",
   "name": "python",
   "nbconvert_exporter": "python",
   "pygments_lexer": "ipython3",
   "version": "3.5.2"
  }
 },
 "nbformat": 4,
 "nbformat_minor": 0
}
