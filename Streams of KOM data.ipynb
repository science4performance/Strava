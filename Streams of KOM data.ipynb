{
 "cells": [
  {
   "cell_type": "markdown",
   "metadata": {},
   "source": [
    "# Obtaining a riders's power data a KOM\n",
    "## Michal Kwiatkowski's KOM data on the Poggio (Milan San Remo win)\n",
    "This is the activity we are going to analyse https://www.strava.com/activities/905223228 <br>\n",
    "We start with Michal's strava_id=1905161. You cannot download this activity without authorisation. However, you can obtain a list of KOMs, which are SegmentEfforts. And you can download a stream of a SegementEffort. In theory, if you turn the whole activity into a segment, you can obtain a fell stream for that activity.<br> **At the end of the day, you just need to obtain the effort_id for the segment. Then you can pull in the leaderboard data using get_segment_effort(effort_id) and streams of the underlying data using get_effort_streams(effort_id).**"
   ]
  },
  {
   "cell_type": "code",
   "execution_count": 5,
   "metadata": {},
   "outputs": [],
   "source": [
    "%matplotlib inline\n",
    "\n",
    "import stravalib\n",
    "import matplotlib.pylab as plt\n",
    "import numpy as np\n",
    "\n",
    "try:\n",
    "    f = open( 'mytoken.txt', 'r' )\n",
    "    mytoken = f.read()\n",
    "    f.close()\n",
    "    client = stravalib.Client(access_token = mytoken) \n",
    "except:\n",
    "    print('access_token required')\n"
   ]
  },
  {
   "cell_type": "code",
   "execution_count": 7,
   "metadata": {},
   "outputs": [
    {
     "name": "stdout",
     "output_type": "stream",
     "text": [
      "Michal Kwiatkowski\n"
     ]
    }
   ],
   "source": [
    "strava_id=1905161       # Michal Kwiatkowski\n",
    "athlete = client.get_athlete(1905161)\n",
    "print(athlete.firstname, athlete.lastname)"
   ]
  },
  {
   "cell_type": "markdown",
   "metadata": {},
   "source": [
    "We can find the activity_id from the Strava web page, but we can't download the data for this activity without authorisation."
   ]
  },
  {
   "cell_type": "code",
   "execution_count": 8,
   "metadata": {},
   "outputs": [],
   "source": [
    "# Not authorised to get activity streams\n",
    "#AS = client.get_activity_streams(905223228)"
   ]
  },
  {
   "cell_type": "markdown",
   "metadata": {},
   "source": [
    "Strava permits downloading of an athlete's KOMs. These are provided as an iterator of SegmentEfforts. A SegmentEfffort is in the BaseEffort class with the additional device_watts attribute to indicate if a power meter was in use."
   ]
  },
  {
   "cell_type": "code",
   "execution_count": 8,
   "metadata": {
    "collapsed": true
   },
   "outputs": [],
   "source": [
    "koms = client.get_athlete_koms(strava_id)"
   ]
  },
  {
   "cell_type": "code",
   "execution_count": 13,
   "metadata": {},
   "outputs": [
    {
     "name": "stdout",
     "output_type": "stream",
     "text": [
      "An interator containing 554 KOMs\n",
      "<SegmentEffort id=22072192138 name='Poggio di Sanremo, falsopiano finale' resource_state=2>\n",
      "<SegmentEffort id=22072191926 name='Poggio di Sanremo, strappo finale' resource_state=2>\n",
      "<SegmentEffort id=22072192112 name='RF  M.Guardia vs Poggio' resource_state=2>\n",
      "<SegmentEffort id=22072191984 name='Poggio-Kwiato Forza ! Road-Racing.pl' resource_state=2>\n",
      "<SegmentEffort id=22072191953 name='Poggio Climb' resource_state=2>\n",
      "<SegmentEffort id=22072192159 name='Poggio,salita e discesa' resource_state=2>\n",
      "<SegmentEffort id=22072192066 name='Poggio di Sanremo' resource_state=2>\n",
      "<SegmentEffort id=22072192020 name='GdC 2015 - Tappa 2 (Poggio)' resource_state=2>\n",
      "<SegmentEffort id=22072192080 name='POGGIO da ss1' resource_state=2>\n",
      "<SegmentEffort id=22072192036 name='Il Poggio (Taggia)' resource_state=2>\n"
     ]
    }
   ],
   "source": [
    "print('An interator containing {} KOMs'.format(len([k for k in koms])))\n",
    "for i in range(10):\n",
    "    print(koms.next())"
   ]
  },
  {
   "cell_type": "markdown",
   "metadata": {},
   "source": [
    "## Segment Efforts\n",
    "It is possible to select one of the efforts and download the associated effort_stream. This is a sneaky way around the not being able to download the activity_stream. <br>\n",
    "**First we look at the segment effort. Then we download the segement effort stream.**<br>\n",
    "Let's focus on a particular effort: SegmentEffort id=22072192066 name='Poggio di Sanremo'.<br><br> A SegmentEffort is in this class class stravalib.model.BaseEffort with the following attributes\n",
    "id\n",
    "The id of the SegmentEffort\n",
    "\n",
    "name\n",
    "The name of the segment\n",
    "\n",
    "segment\n",
    "The associated stravalib.model.Segment for this effort\n",
    "\n",
    "activity\n",
    "The associated stravalib.model.Activity\n",
    "\n",
    "athlete\n",
    "The associated stravalib.model.Athlete\n",
    "\n",
    "kom_rank\n",
    "1-10 segment KOM ranking for athlete at time of upload\n",
    "\n",
    "pr_rank\n",
    "1-3 personal record ranking for athlete at time of upload\n",
    "\n",
    "moving_time\n",
    "datetime.timedelta\n",
    "\n",
    "elapsed_time\n",
    "datetime.timedelta\n",
    "\n",
    "start_date\n",
    "datetime.datetime when effort was started in GMT\n",
    "\n",
    "start_date_local\n",
    "datetime.datetime when effort was started in activity timezone for this effort\n",
    "\n",
    "distance\n",
    "The distance for this effort.\n",
    "\n",
    "average_watts\n",
    "Average power during effort\n",
    "\n",
    "device_watts\n",
    "True if the watts are from a power meter, false if estimated\n",
    "\n",
    "average_heartrate\n",
    "Average HR during effort\n",
    "\n",
    "max_heartrate\n",
    "Max HR during effort\n",
    "\n",
    "average_cadence\n",
    "Average cadence during effort\n",
    "\n",
    "start_index\n",
    "The activity stream index of the start of this effort\n",
    "\n",
    "end_index\n",
    "The activity stream index of the end of this effort\n",
    "\n",
    "achievements\n",
    "Undocumented attribute includes list of achievements for this effort.\n"
   ]
  },
  {
   "cell_type": "code",
   "execution_count": 19,
   "metadata": {},
   "outputs": [],
   "source": [
    "# Either enter the segment_id or find it using the precise segment name\n",
    "segment_id = [k.id for k in koms if k.name=='Poggio di Sanremo'][0]\n",
    "\n",
    "segmentEffort = client.get_segment_effort(segment_id)\n"
   ]
  },
  {
   "cell_type": "code",
   "execution_count": 20,
   "metadata": {},
   "outputs": [
    {
     "name": "stdout",
     "output_type": "stream",
     "text": [
      "<SegmentEffort id=22072192066 name='Poggio di Sanremo' resource_state=3>\n",
      "name Poggio di Sanremo\n",
      "segment <Segment id=626919 name='Poggio di Sanremo' resource_state=2>\n",
      "activity <Activity id=905223228 name=None resource_state=1>\n",
      "athlete <Athlete id=1905161 firstname=None lastname=None>\n",
      "kom_rank 1\n",
      "pr_rank None\n",
      "moving_time 0:05:47\n",
      "elapsed_time 0:05:47\n",
      "start_date 2017-03-18 16:03:35+00:00\n",
      "start_date_local 2017-03-18 17:03:35\n",
      "distance 3569.00 m\n",
      "average_watts 536.4\n",
      "device_watts True\n",
      "average_heartrate 180.7\n",
      "max_heartrate 190.0\n",
      "average_cadence 98.6\n",
      "start_index 25987\n",
      "end_index 26334\n",
      "achievements [<SegmentEfforAchievement >]\n"
     ]
    }
   ],
   "source": [
    "segmentAttributes= ['name','segment','activity','athlete','kom_rank',\n",
    "                    'pr_rank','moving_time','elapsed_time','start_date',\n",
    "                    'start_date_local','distance','average_watts',\n",
    "                    'device_watts','average_heartrate','max_heartrate',\n",
    "                    'average_cadence','start_index','end_index',\n",
    "                    'achievements']\n",
    "print(segmentEffort)\n",
    "for a in segmentAttributes:\n",
    "    print(a,getattr(segmentEffort,a))"
   ]
  },
  {
   "cell_type": "markdown",
   "metadata": {},
   "source": [
    "** The segmentEffort attributes are the statistics that appear on the leaderboard, e.g. average_watts=536.** But if a (Sky) rider has set the average power for the activity to zero (as for https://www.strava.com/activities/905223228), the average_watts attribute will not agree with the underlying power data. To see this, we need to download the effort_streams for this segmentEffort."
   ]
  },
  {
   "cell_type": "code",
   "execution_count": 22,
   "metadata": {},
   "outputs": [
    {
     "data": {
      "text/plain": [
       "{'altitude': <Stream type=altitude resolution=high original_size=348>,\n",
       " 'cadence': <Stream type=cadence resolution=high original_size=348>,\n",
       " 'distance': <Stream type=distance resolution=high original_size=348>,\n",
       " 'grade_smooth': <Stream type=grade_smooth resolution=high original_size=348>,\n",
       " 'heartrate': <Stream type=heartrate resolution=high original_size=348>,\n",
       " 'latlng': <Stream type=latlng resolution=high original_size=348>,\n",
       " 'moving': <Stream type=moving resolution=high original_size=348>,\n",
       " 'temp': <Stream type=temp resolution=high original_size=348>,\n",
       " 'time': <Stream type=time resolution=high original_size=348>,\n",
       " 'velocity_smooth': <Stream type=velocity_smooth resolution=high original_size=348>,\n",
       " 'watts': <Stream type=watts resolution=high original_size=348>}"
      ]
     },
     "execution_count": 22,
     "metadata": {},
     "output_type": "execute_result"
    }
   ],
   "source": [
    "types = ['time', 'latlng', 'distance', 'altitude', 'velocity_smooth',\n",
    "'heartrate', 'cadence', 'watts', 'temp', 'moving', 'grade_smooth']\n",
    "effortStreams = client.get_effort_streams(segmentEffort.id ,types)\n",
    "effortStreams"
   ]
  },
  {
   "cell_type": "markdown",
   "metadata": {},
   "source": [
    "## EffortStreams\n",
    "The attributes and data types of an effortStream are found here https://strava.github.io/api/v3/streams/\n",
    "\n",
    "Object attributes \n",
    "type:\tstring\n",
    "data:\tarray \n",
    "array of stream values\n",
    "series_type:\tstring \n",
    "series type used for down sampling, will be present even if not used\n",
    "original_size:\tinteger \n",
    "complete stream length\n",
    "resolution:\tstring \n",
    "‘low’, ‘medium’ or ‘high’\n",
    "\n",
    "\n",
    "Stream types\n",
    "Streams are available in 11 different types. If the stream is not available for a particular activity it will be left out of the request results.\n",
    "\n",
    "time:\tinteger seconds\n",
    "latlng:\tfloats [latitude, longitude]\n",
    "distance:\tfloat meters\n",
    "altitude:\tfloat meters\n",
    "velocity_smooth:\tfloat meters per second\n",
    "heartrate:\tinteger BPM\n",
    "cadence:\tinteger RPM\n",
    "watts:\tinteger watts\n",
    "temp:\tinteger degrees Celsius\n",
    "moving:\tboolean\n",
    "grade_smooth:\tfloat percent"
   ]
  },
  {
   "cell_type": "code",
   "execution_count": 24,
   "metadata": {},
   "outputs": [
    {
     "data": {
      "text/plain": [
       "[<matplotlib.lines.Line2D at 0x11831fba8>]"
      ]
     },
     "execution_count": 24,
     "metadata": {},
     "output_type": "execute_result"
    },
    {
     "data": {
      "image/png": "[encoded data removed]",
      "text/plain": [
       "<matplotlib.figure.Figure at 0x118276ef0>"
      ]
     },
     "metadata": {},
     "output_type": "display_data"
    }
   ],
   "source": [
    "plt.plot((np.array(effortStreams['distance'].data)-effortStreams['distance'].data[0])/1000, effortStreams['watts'].data)"
   ]
  },
  {
   "cell_type": "code",
   "execution_count": 39,
   "metadata": {},
   "outputs": [
    {
     "name": "stdout",
     "output_type": "stream",
     "text": [
      "heartrate 180.724137931\n",
      "cadence 98.6120689655\n",
      "watts 442.706896552\n",
      "velocity_smooth 37.1265517241\n"
     ]
    }
   ],
   "source": [
    "for t in ['heartrate', 'cadence', 'watts']:\n",
    "    print(t, np.array(effortStreams[t].data).mean())\n",
    "t = 'velocity_smooth'\n",
    "print(t, np.array(effortStreams[t].data).mean()*3.6)"
   ]
  },
  {
   "cell_type": "markdown",
   "metadata": {},
   "source": [
    "We can see that Michal's average power was 443 watts. This agress with the averages shown in the analysis view. https://www.strava.com/activities/905223228/analysis/25987/26334 <br> Note that the last two codes in this address correspond to start_index and end_index of the segmentEffort"
   ]
  },
  {
   "cell_type": "code",
   "execution_count": 40,
   "metadata": {},
   "outputs": [
    {
     "name": "stdout",
     "output_type": "stream",
     "text": [
      "25987 26334\n"
     ]
    }
   ],
   "source": [
    "print(segmentEffort.start_index, segmentEffort.end_index)"
   ]
  },
  {
   "cell_type": "markdown",
   "metadata": {},
   "source": [
    "Put the procedure into a function that takes a rider's strava_id and the precise segment name. This returns a dictionary containing the effort stream."
   ]
  },
  {
   "cell_type": "markdown",
   "metadata": {},
   "source": [
    "## A more general example using one of my efforts\n",
    "This effort_id shows up in the web page address when you highlight your effort https://www.strava.com/activities/909334531/segments/22177936063"
   ]
  },
  {
   "cell_type": "code",
   "execution_count": 69,
   "metadata": {
    "collapsed": true
   },
   "outputs": [],
   "source": [
    "effort_id2 = 22177936063\n",
    "segmentEffort2 = client.get_segment_effort(effort_id2)\n",
    "effortStreams2 = client.get_effort_streams(effort_id2 ,types)\n"
   ]
  },
  {
   "cell_type": "code",
   "execution_count": 70,
   "metadata": {},
   "outputs": [
    {
     "name": "stdout",
     "output_type": "stream",
     "text": [
      "<SegmentEffort id=22177936063 name='Lower Hampton Road Sprint' resource_state=3>\n",
      "name Lower Hampton Road Sprint\n",
      "segment <Segment id=1008767 name='Lower Hampton Road Sprint' resource_state=2>\n",
      "activity <Activity id=909334531 name=None resource_state=1>\n",
      "athlete <Athlete id=351706 firstname=None lastname=None>\n",
      "kom_rank None\n",
      "pr_rank None\n",
      "moving_time 0:04:18\n",
      "elapsed_time 0:04:18\n",
      "start_date 2017-03-21 12:34:27+00:00\n",
      "start_date_local 2017-03-21 12:34:27\n",
      "distance 3027.20 m\n",
      "average_watts 321.3\n",
      "device_watts True\n",
      "average_heartrate 152.3\n",
      "max_heartrate 164.0\n",
      "average_cadence 83.7\n",
      "start_index 10971\n",
      "end_index 11229\n",
      "achievements []\n"
     ]
    }
   ],
   "source": [
    "print(segmentEffort2)\n",
    "for a in segmentAttributes:\n",
    "    print(a,getattr(segmentEffort2,a))"
   ]
  },
  {
   "cell_type": "code",
   "execution_count": 71,
   "metadata": {},
   "outputs": [
    {
     "name": "stdout",
     "output_type": "stream",
     "text": [
      "heartrate 152.254826255\n",
      "cadence 83.4015444015\n",
      "watts 321.420849421\n",
      "velocity_smooth 42.1811583012\n"
     ]
    }
   ],
   "source": [
    "for t in ['heartrate', 'cadence', 'watts']:\n",
    "    print(t, np.array(effortStreams2[t].data).mean())\n",
    "t = 'velocity_smooth'\n",
    "print(t, np.array(effortStreams2[t].data).mean()*3.6)\n"
   ]
  },
  {
   "cell_type": "code",
   "execution_count": 72,
   "metadata": {},
   "outputs": [
    {
     "data": {
      "text/plain": [
       "[<matplotlib.lines.Line2D at 0x118200fd0>]"
      ]
     },
     "execution_count": 72,
     "metadata": {},
     "output_type": "execute_result"
    },
    {
     "data": {
      "image/png": "[encoded data removed]",
      "text/plain": [
       "<matplotlib.figure.Figure at 0x1184b4ef0>"
      ]
     },
     "metadata": {},
     "output_type": "display_data"
    }
   ],
   "source": [
    "plt.plot(effortStreams2['cadence'].data)"
   ]
  },
  {
   "cell_type": "code",
   "execution_count": 68,
   "metadata": {},
   "outputs": [
    {
     "name": "stdout",
     "output_type": "stream",
     "text": [
      "<Stream type=cadence resolution=high original_size=205> 204\n"
     ]
    }
   ],
   "source": [
    "print(effortStreams2['cadence'], 11361-11157)"
   ]
  },
  {
   "cell_type": "code",
   "execution_count": null,
   "metadata": {
    "collapsed": true
   },
   "outputs": [],
   "source": []
  }
 ],
 "metadata": {
  "anaconda-cloud": {},
  "kernelspec": {
   "display_name": "Python [Root]",
   "language": "python",
   "name": "Python [Root]"
  },
  "language_info": {
   "codemirror_mode": {
    "name": "ipython",
    "version": 3
   },
   "file_extension": ".py",
   "mimetype": "text/x-python",
   "name": "python",
   "nbconvert_exporter": "python",
   "pygments_lexer": "ipython3",
   "version": "3.5.3"
  }
 },
 "nbformat": 4,
 "nbformat_minor": 1
}
