{
 "cells": [
  {
   "cell_type": "markdown",
   "metadata": {},
   "source": [
    "# Pro cyclist KOMs"
   ]
  },
  {
   "cell_type": "code",
   "execution_count": 9,
   "metadata": {
    "collapsed": false
   },
   "outputs": [
    {
     "name": "stdout",
     "output_type": "stream",
     "text": [
      "Tobias Dahlhaus\n"
     ]
    }
   ],
   "source": [
    "%matplotlib inline\n",
    "\n",
    "import stravalib\n",
    "import Strava_Download\n",
    "import matplotlib.pylab as plt\n",
    "import pandas as pd\n",
    "import numpy as np\n",
    "\n",
    "try:\n",
    "    f = open( 'mytoken.txt', 'r' )\n",
    "    mytoken = f.read()\n",
    "    f.close()\n",
    "    client = stravalib.Client(access_token = mytoken) \n",
    "except:\n",
    "    print('access_token required')\n",
    "\n",
    "athlete = client.get_athlete(577039)\n",
    "print(athlete.firstname, athlete.lastname)"
   ]
  },
  {
   "cell_type": "code",
   "execution_count": 1,
   "metadata": {
    "collapsed": false
   },
   "outputs": [],
   "source": [
    "types = ['time', 'latlng', 'distance', 'altitude', 'velocity_smooth',\n",
    "'heartrate', 'cadence', 'watts', 'temp', 'moving', 'grade_smooth']\n"
   ]
  },
  {
   "cell_type": "markdown",
   "metadata": {},
   "source": [
    "OK lets see what we can get on Kristian House"
   ]
  },
  {
   "cell_type": "code",
   "execution_count": 11,
   "metadata": {
    "collapsed": false
   },
   "outputs": [],
   "source": [
    "KH = client.get_athlete(173213)"
   ]
  },
  {
   "cell_type": "code",
   "execution_count": 12,
   "metadata": {
    "collapsed": false
   },
   "outputs": [
    {
     "data": {
      "text/plain": [
       "('Kristian', 'House')"
      ]
     },
     "execution_count": 12,
     "metadata": {},
     "output_type": "execute_result"
    }
   ],
   "source": [
    "KH.firstname, KH.lastname"
   ]
  },
  {
   "cell_type": "markdown",
   "metadata": {},
   "source": [
    "Strava permits downloading of an athlete's KOMs. These are provided as an iterator of SegmentEfforts. A SegmentEfffort is in the BaseEffort class with the additional device_watts attribute to indicate if a power meter was in use."
   ]
  },
  {
   "cell_type": "code",
   "execution_count": 14,
   "metadata": {
    "collapsed": true
   },
   "outputs": [],
   "source": [
    "koms = client.get_athlete_koms(173213)"
   ]
  },
  {
   "cell_type": "code",
   "execution_count": 15,
   "metadata": {
    "collapsed": false
   },
   "outputs": [
    {
     "name": "stdout",
     "output_type": "stream",
     "text": [
      "326\n",
      "<SegmentEffort id=22099134106 name='Whitchurch Road' resource_state=2>\n",
      "<SegmentEffort id=22099134164 name='Whitchurch to Nantwich' resource_state=2>\n",
      "<SegmentEffort id=22099133978 name='Whitchurch to Shrops canal dash' resource_state=2>\n",
      "<SegmentEffort id=22057273016 name='Home commute' resource_state=2>\n",
      "<SegmentEffort id=21864427582 name='Bridgend Vale loop' resource_state=2>\n",
      "<SegmentEffort id=21794042983 name='Pootings Road Climb' resource_state=2>\n",
      "<SegmentEffort id=21454809538 name='71 West - Bee Creek Road to R. O. Drive' resource_state=2>\n",
      "<SegmentEffort id=21300003300 name='Bridge to Serene Hills' resource_state=2>\n",
      "<SegmentEffort id=21247601604 name='FSR Day 2 Lap' resource_state=2>\n",
      "<SegmentEffort id=20774667093 name='E 99 Climb' resource_state=2>\n",
      "<SegmentEffort id=18095296625 name='Short Climb' resource_state=2>\n",
      "<SegmentEffort id=18095296759 name='Chapel Lane Kelsall ' resource_state=2>\n",
      "<SegmentEffort id=18095296702 name='Roughlow' resource_state=2>\n",
      "<SegmentEffort id=18095296661 name='CL Climb' resource_state=2>\n",
      "<SegmentEffort id=18095296723 name='Chapel Lane, Kelsall' resource_state=2>\n",
      "<SegmentEffort id=18095296588 name='pulse' resource_state=2>\n",
      "<SegmentEffort id=17556792941 name=\"L'Abiau-Hoves\" resource_state=2>\n",
      "<SegmentEffort id=17321789975 name='Rugby Club Sprint' resource_state=2>\n",
      "<SegmentEffort id=17291744363 name='Pincots to mapalridge ' resource_state=2>\n",
      "<SegmentEffort id=17291744391 name='Bury Hill Ln Climb' resource_state=2>\n",
      "<SegmentEffort id=17291744927 name='Ndo wickwar to chipping sodbury' resource_state=2>\n",
      "<SegmentEffort id=17291744336 name='Sodbury Road Climb' resource_state=2>\n",
      "<SegmentEffort id=17291744120 name='Bridge Sprint Back' resource_state=2>\n",
      "<SegmentEffort id=17291744147 name='Kingswood - Wickwar' resource_state=2>\n",
      "<SegmentEffort id=17291744825 name='Kingswood to CS' resource_state=2>\n",
      "<SegmentEffort id=17291745260 name='NDO kingswood to pucklechurch' resource_state=2>\n",
      "<SegmentEffort id=17291744947 name='Wotton Turn - Chipping Sodbury' resource_state=2>\n",
      "<SegmentEffort id=17291743074 name='Selsley common to Colley peak' resource_state=2>\n",
      "<SegmentEffort id=17262493832 name='Wetherspoons to P&A sprint' resource_state=2>\n",
      "<SegmentEffort id=17232851135 name='Smith Lane Rainow to Berristall Lane' resource_state=2>\n",
      "<SegmentEffort id=17232851476 name='Rainow to Macc Downhill' resource_state=2>\n",
      "<SegmentEffort id=17232851441 name='Drop into Macclesfield... (LFCC on Tour)' resource_state=2>\n",
      "<SegmentEffort id=18468699876 name='Crewe Green to Rope Lane' resource_state=2>\n",
      "<SegmentEffort id=17232844143 name='uni sprint' resource_state=2>\n",
      "<SegmentEffort id=17232844019 name='Radway to Old Park' resource_state=2>\n",
      "<SegmentEffort id=17232844096 name='' resource_state=2>\n",
      "<SegmentEffort id=17232844113 name='B5077 Radway To Church' resource_state=2>\n",
      "<SegmentEffort id=17232843919 name='Old Britannia to Poppyfields rnd' resource_state=2>\n",
      "<SegmentEffort id=17232843739 name='Council 2 Council houses' resource_state=2>\n",
      "<SegmentEffort id=17205685728 name='Dockray to Matterdale End' resource_state=2>\n",
      "<SegmentEffort id=17205684406 name='Carly to Cummy' resource_state=2>\n",
      "<SegmentEffort id=16469648243 name='Tuv-Børelva' resource_state=2>\n",
      "<SegmentEffort id=16469648266 name='Tuv til Kongen av Børelv' resource_state=2>\n",
      "<SegmentEffort id=16437400923 name='Osan - Tronli' resource_state=2>\n",
      "<SegmentEffort id=16437401019 name='Osan-Modellflybanen' resource_state=2>\n",
      "<SegmentEffort id=16437400955 name='Osan - Bestemorstua' resource_state=2>\n",
      "<SegmentEffort id=15827621776 name='la Algaba venta la Esmeraldalda' resource_state=2>\n",
      "<SegmentEffort id=15827621292 name='Rotonda moyano- Cruce Bodegon A-8005' resource_state=2>\n",
      "<SegmentEffort id=19551549902 name='Road Champs 2016 - Finishing Circuit' resource_state=2>\n",
      "<SegmentEffort id=14758885366 name='복탄리 언덕 2' resource_state=2>\n",
      "<SegmentEffort id=21984085223 name='라제통문-태권도원입구' resource_state=2>\n",
      "<SegmentEffort id=14510648751 name='Penshurst Garage to the Spotted Dog' resource_state=2>\n",
      "<SegmentEffort id=14407571357 name='Chapel to chelford loop' resource_state=2>\n",
      "<SegmentEffort id=14407570189 name='Radbroke to Holmes Chapel' resource_state=2>\n",
      "<SegmentEffort id=16613967433 name='Whipping Stocks to HCH' resource_state=2>\n",
      "<SegmentEffort id=14249264839 name='Blast and Brake' resource_state=2>\n",
      "<SegmentEffort id=14249264816 name='High St to Brake Rd' resource_state=2>\n",
      "<SegmentEffort id=14249264798 name='Brymbo climb to new road' resource_state=2>\n",
      "<SegmentEffort id=14099815169 name='5062 to seven sisters' resource_state=2>\n",
      "<SegmentEffort id=14099815150 name='Up Middlewhich Road to Seven Sisters' resource_state=2>\n",
      "<SegmentEffort id=14009008942 name='Canal climb' resource_state=2>\n",
      "<SegmentEffort id=14009008571 name='!Vélocio? Taking the Mickley to Whitchurch Road' resource_state=2>\n",
      "<SegmentEffort id=14009010155 name='RNLI Three Shires 100km' resource_state=2>\n",
      "<SegmentEffort id=13818127336 name='flètre a caestre' resource_state=2>\n",
      "<SegmentEffort id=13818127384 name='fletre caestre 2' resource_state=2>\n",
      "<SegmentEffort id=13579845314 name='M6taeCong' resource_state=2>\n",
      "<SegmentEffort id=13437972280 name='Cold Overton Berg' resource_state=2>\n",
      "<SegmentEffort id=13379678713 name='Stamford Road to Ailsworth' resource_state=2>\n",
      "<SegmentEffort id=12797487102 name='Vol naar De Panne' resource_state=2>\n",
      "<SegmentEffort id=12425003645 name='Blue Moon Breeze' resource_state=2>\n",
      "<SegmentEffort id=11700786194 name=\"Lammatina's Descent\" resource_state=2>\n",
      "<SegmentEffort id=12435902739 name='LWRT: Millgrove to Warburton' resource_state=2>\n",
      "<SegmentEffort id=11644585276 name='Killara-Sunnyside Out' resource_state=2>\n",
      "<SegmentEffort id=11644585166 name='Mt Real Descent' resource_state=2>\n",
      "<SegmentEffort id=11575598289 name='Hoylake Ave to Bells Boulevard' resource_state=2>\n",
      "<SegmentEffort id=11575598361 name='Bell St roundabout Torquay to Forrest Rd' resource_state=2>\n",
      "<SegmentEffort id=12563675221 name='Sandy Ripper' resource_state=2>\n",
      "<SegmentEffort id=12563675181 name='RR 2721 East bound' resource_state=2>\n",
      "<SegmentEffort id=12563651753 name='SH281 to Sandy' resource_state=2>\n",
      "<SegmentEffort id=10843119613 name='Sean Connery villa > Villaricos first roundabout' resource_state=2>\n",
      "<SegmentEffort id=10843119605 name='GP mojacar' resource_state=2>\n",
      "<SegmentEffort id=10843119616 name='Juan Terreros - Villaricos ' resource_state=2>\n",
      "<SegmentEffort id=12563565654 name='East to McGregor' resource_state=2>\n",
      "<SegmentEffort id=12563565467 name='GO GO GO Cypress Mill Rd to Johnson City bridge' resource_state=2>\n",
      "<SegmentEffort id=9108402054 name='Wizard Hill' resource_state=2>\n",
      "<SegmentEffort id=8920671920 name='Road to hell' resource_state=2>\n",
      "<SegmentEffort id=16797124124 name='Dam Climb Final Kick' resource_state=2>\n",
      "<SegmentEffort id=12563196364 name='Gen Williamson climb to 620' resource_state=2>\n",
      "<SegmentEffort id=12560074605 name='Chez Soleil Hill (correct start/end)' resource_state=2>\n",
      "<SegmentEffort id=2556285346 name='Mineral Wells Hill Climb' resource_state=2>\n",
      "<SegmentEffort id=12560601897 name='Hamilton Pool Switchback Proper' resource_state=2>\n",
      "<SegmentEffort id=12562282005 name='71 to RO West Face' resource_state=2>\n",
      "<SegmentEffort id=13409791673 name='Pacing the Angels' resource_state=2>\n",
      "<SegmentEffort id=6397513626 name='Barhatch to Knowle' resource_state=2>\n",
      "<SegmentEffort id=7342452251 name='Crocknorth Road Full' resource_state=2>\n",
      "<SegmentEffort id=7307246179 name='The Skilfull bit To Moreton ' resource_state=2>\n",
      "<SegmentEffort id=3576283845 name='Dodge the buses' resource_state=2>\n",
      "<SegmentEffort id=7127967044 name='Bickleigh up Stoke HC' resource_state=2>\n",
      "<SegmentEffort id=4717842796 name='Honiton/Willand/Tiverton/Exeter' resource_state=2>\n",
      "<SegmentEffort id=3576283841 name='Honiton to Exeter part of TOB Stage 6' resource_state=2>\n",
      "<SegmentEffort id=11278701036 name='Pengam Lights to Ystrad R/About' resource_state=2>\n",
      "<SegmentEffort id=4924360628 name='Cae Goronwy to Llansannan' resource_state=2>\n",
      "<SegmentEffort id=2006414764 name='black reds to moota' resource_state=2>\n",
      "<SegmentEffort id=9014122583 name='Yair to Linglie' resource_state=2>\n",
      "<SegmentEffort id=4772680049 name='Millbank (up)' resource_state=2>\n",
      "<SegmentEffort id=2006319306 name='Chelsea Bridge to Parliament Sq' resource_state=2>\n",
      "<SegmentEffort id=2006318508 name='Waitrose - Scilly Isles' resource_state=2>\n",
      "<SegmentEffort id=2006318655 name='2012 TT - Cobham to Kingston' resource_state=2>\n",
      "<SegmentEffort id=2006318664 name='A 10 mile TT PB near the end of a century sportive' resource_state=2>\n",
      "<SegmentEffort id=2006319284 name='Ride London 100 - Leatherhead to Millbank (75-100 miles)' resource_state=2>\n",
      "<SegmentEffort id=2006318688 name='Ride London 100 - Leatherhead to Wimbledon' resource_state=2>\n",
      "<SegmentEffort id=2006317392 name='Severs Copse' resource_state=2>\n",
      "<SegmentEffort id=2048417639 name='Split time calc: 6 Turn on to N14 at Lanseria' resource_state=2>\n",
      "<SegmentEffort id=2281449381 name='Lydenburg, ride back, full' resource_state=2>\n",
      "<SegmentEffort id=3220533733 name='Bréhal ----> Le Loreur' resource_state=2>\n",
      "<SegmentEffort id=11162190813 name='exit Agon' resource_state=2>\n",
      "<SegmentEffort id=18298486847 name='la hure de loup' resource_state=2>\n",
      "<SegmentEffort id=14752217813 name='montée super U' resource_state=2>\n",
      "<SegmentEffort id=12560518093 name='Climb out of the creek - other way' resource_state=2>\n",
      "<SegmentEffort id=12560518066 name='Fitzhugh Wall on Johnson City ride' resource_state=2>\n",
      "<SegmentEffort id=13477453108 name='Flat Creek to Olive Company' resource_state=2>\n",
      "<SegmentEffort id=12560518162 name='3232 to Sycamore Creek' resource_state=2>\n",
      "<SegmentEffort id=12562738991 name='Oasis to the Bend' resource_state=2>\n",
      "<SegmentEffort id=1956517916 name='TdG - ITT - Final 8miles' resource_state=2>\n",
      "<SegmentEffort id=1739395279 name='Modified Gruene TTT 2013, Ice House start/finish' resource_state=2>\n",
      "<SegmentEffort id=654057388 name='2013 ToNB RR' resource_state=2>\n",
      "<SegmentEffort id=1966298428 name='End of RR to ITT Finish' resource_state=2>\n",
      "<SegmentEffort id=12562323209 name='Fitzhugh 290 to Crumley Ranch Rd' resource_state=2>\n",
      "<SegmentEffort id=12562323222 name='Fitzhugh to CR12' resource_state=2>\n",
      "<SegmentEffort id=638501897 name='Old Calder to top Mt A' resource_state=2>\n",
      "<SegmentEffort id=1740532615 name='Burns St Rollout' resource_state=2>\n",
      "<SegmentEffort id=616186676 name='Maldon to Chewton' resource_state=2>\n",
      "<SegmentEffort id=12560451303 name='71 to 962' resource_state=2>\n",
      "<SegmentEffort id=786445817 name='Munstead to Bramley' resource_state=2>\n",
      "<SegmentEffort id=490663255 name='Station Ln Climb' resource_state=2>\n",
      "<SegmentEffort id=1644386191 name='Culmer Hill - Down' resource_state=2>\n",
      "<SegmentEffort id=699424490 name='Highstreet Green' resource_state=2>\n",
      "<SegmentEffort id=490663283 name='Nanhurst Crossroads to Dunsfold' resource_state=2>\n",
      "<SegmentEffort id=1323399943 name=\"Angela Rippon's carpet vole\" resource_state=2>\n",
      "<SegmentEffort id=14385006744 name='Staple Lane and Crocknorth' resource_state=2>\n",
      "<SegmentEffort id=490663327 name='Old Woking to A3 Send' resource_state=2>\n",
      "<SegmentEffort id=3641170049 name='Roundabout To Garage' resource_state=2>\n",
      "<SegmentEffort id=490663338 name='Boxgrove Blast' resource_state=2>\n",
      "<SegmentEffort id=490663275 name='Westcott Road Climb' resource_state=2>\n",
      "<SegmentEffort id=2166468217 name='Dorking to Shalford' resource_state=2>\n",
      "<SegmentEffort id=1520663724 name='Dorking to Shalford' resource_state=2>\n",
      "<SegmentEffort id=490663267 name='Milton Ct Ln Climb' resource_state=2>\n",
      "<SegmentEffort id=3801599866 name='Strood Green Sprint' resource_state=2>\n",
      "<SegmentEffort id=14468768231 name='Aberdare To Abercynon' resource_state=2>\n",
      "<SegmentEffort id=1248535314 name='Hirwaun to Abercynon' resource_state=2>\n",
      "<SegmentEffort id=18575133717 name='Roundabouts' resource_state=2>\n",
      "<SegmentEffort id=818072670 name='Dolfor Hill Climb' resource_state=2>\n",
      "<SegmentEffort id=1583678919 name='HCC Dolfor Hillclimb' resource_state=2>\n",
      "<SegmentEffort id=6878850237 name='HCC 5 mile TT' resource_state=2>\n",
      "<SegmentEffort id=1632424892 name='Newtown lights to Cefn Lea' resource_state=2>\n",
      "<SegmentEffort id=5924859669 name='B4368 climb 2nd half' resource_state=2>\n",
      "<SegmentEffort id=490663378 name='B4368 Climb' resource_state=2>\n",
      "<SegmentEffort id=13602641139 name=\"Abermule to Captain's Pitch\" resource_state=2>\n",
      "<SegmentEffort id=1166396776 name='Cwm Face Climb' resource_state=2>\n",
      "<SegmentEffort id=2595451951 name='B4368 Abermule->A489 Junc' resource_state=2>\n",
      "<SegmentEffort id=1681837887 name='CAERHOWEL BRIDGE TO ABERMULE' resource_state=2>\n",
      "<SegmentEffort id=1252096425 name='MONTGOMERY TO ABERMULE SPRINT' resource_state=2>\n",
      "<SegmentEffort id=649977407 name='lower forden-hendomen turns' resource_state=2>\n",
      "<SegmentEffort id=8424340710 name='Kick Up to Warslow' resource_state=2>\n",
      "<SegmentEffort id=1969986350 name='Bottomhouse to Onecote' resource_state=2>\n",
      "<SegmentEffort id=728603097 name='oakamoor rd decent' resource_state=2>\n",
      "<SegmentEffort id=2045876445 name='Hares Ln to Oakamoor Rd' resource_state=2>\n",
      "<SegmentEffort id=490663305 name='Brocton Climb - Long Version' resource_state=2>\n",
      "<SegmentEffort id=15170194987 name='Scared Of Heights???' resource_state=2>\n",
      "<SegmentEffort id=490663271 name='Brocton Climb' resource_state=2>\n",
      "<SegmentEffort id=13478307664 name='Heaven via Brocton ' resource_state=2>\n",
      "<SegmentEffort id=5221759917 name='Wildwood exit to Overhill Rd dash' resource_state=2>\n",
      "<SegmentEffort id=2403199009 name='Dave R Sprint' resource_state=2>\n",
      "<SegmentEffort id=1238965287 name='Sandon Rd Descent' resource_state=2>\n",
      "<SegmentEffort id=2503937496 name='Sandon double bump' resource_state=2>\n",
      "<SegmentEffort id=2136000802 name='Lichfield Road - Sandon - Beaconside ' resource_state=2>\n",
      "<SegmentEffort id=14831839097 name='Out of station climb' resource_state=2>\n",
      "<SegmentEffort id=490663161 name='Barkin House Climb' resource_state=2>\n",
      "<SegmentEffort id=490663188 name='Oxenholme road climb' resource_state=2>\n",
      "<SegmentEffort id=490663167 name='Wreay Climb' resource_state=2>\n",
      "<SegmentEffort id=2520800530 name='Commute Back Leg 1' resource_state=2>\n",
      "<SegmentEffort id=10737804093 name=\"Gillar's Lane to East Lancs\" resource_state=2>\n",
      "<SegmentEffort id=10737804102 name='Catchdale Super Sprint ' resource_state=2>\n",
      "<SegmentEffort id=10737804090 name='Prescott gold club short' resource_state=2>\n",
      "<SegmentEffort id=10737804088 name='Burrows Decent' resource_state=2>\n",
      "<SegmentEffort id=10737804097 name='Give it some Welly Top to Bottom' resource_state=2>\n",
      "<SegmentEffort id=10737804081 name='Two dogs leg warmer.' resource_state=2>\n",
      "<SegmentEffort id=10737804080 name='Huyton Lane Hill from Longveiw Dr' resource_state=2>\n",
      "<SegmentEffort id=10737804072 name='Sprint for a Pint' resource_state=2>\n",
      "<SegmentEffort id=10737804070 name='roundabout to primrose' resource_state=2>\n",
      "<SegmentEffort id=10737804037 name=\"Cooper's Lane N-S\" resource_state=2>\n",
      "<SegmentEffort id=10737804029 name='QVC Sprint' resource_state=2>\n",
      "<SegmentEffort id=10737804005 name='down headbolt' resource_state=2>\n",
      "<SegmentEffort id=16478872062 name='Jimmy Savils Escape Route' resource_state=2>\n",
      "<SegmentEffort id=15960383828 name=\"Norm's workshop \" resource_state=2>\n",
      "<SegmentEffort id=10737803967 name='News Lane & Bushey Lane' resource_state=2>\n",
      "<SegmentEffort id=10737803942 name='flipping the bird' resource_state=2>\n",
      "<SegmentEffort id=10737803920 name='Rainford Rising' resource_state=2>\n",
      "<SegmentEffort id=10737803938 name='Higher Lane From Mill Lane' resource_state=2>\n",
      "<SegmentEffort id=10737803927 name='Higher Ln' resource_state=2>\n",
      "<SegmentEffort id=10737803924 name='All of Higher Lane' resource_state=2>\n",
      "<SegmentEffort id=10737803917 name=\"Cat to the 'Ian Pierce' incident\" resource_state=2>\n",
      "<SegmentEffort id=10737803933 name='Billinge to Rainford! ' resource_state=2>\n",
      "<SegmentEffort id=10737803898 name=\"Why don't strava segment police stop messing with perfectly safe sections???\" resource_state=2>\n",
      "<SegmentEffort id=13930227682 name=\"Bryn lights to billinge St Aidan's\" resource_state=2>\n",
      "<SegmentEffort id=10737803863 name='Drum & Monkey' resource_state=2>\n",
      "<SegmentEffort id=20533769377 name='chasing cars' resource_state=2>\n",
      "<SegmentEffort id=10737803849 name='Slag Lane to Bradwell' resource_state=2>\n",
      "<SegmentEffort id=10737803852 name='Lowton Road Dash' resource_state=2>\n",
      "<SegmentEffort id=10737803831 name='dam head -580' resource_state=2>\n",
      "<SegmentEffort id=10737803821 name='57 - 580' resource_state=2>\n",
      "<SegmentEffort id=11668229650 name='school lane' resource_state=2>\n",
      "<SegmentEffort id=11668289286 name='chapel/school lane' resource_state=2>\n",
      "<SegmentEffort id=15087910333 name='Bent Lane to Park Road' resource_state=2>\n",
      "<SegmentEffort id=10737803674 name='TPT Mill Lane to A57' resource_state=2>\n",
      "<SegmentEffort id=15096538091 name='mill lane to black swan' resource_state=2>\n",
      "<SegmentEffort id=10737803573 name='My Own little bit of the TOB (part of stage 2)' resource_state=2>\n",
      "<SegmentEffort id=10737803434 name='Woodhouse End Road' resource_state=2>\n",
      "<SegmentEffort id=10737803402 name='Fools Nook Descent' resource_state=2>\n",
      "<SegmentEffort id=10737803448 name='davesbasher5' resource_state=2>\n",
      "<SegmentEffort id=10737803408 name='Bosley Lights to Oakgrove' resource_state=2>\n",
      "<SegmentEffort id=12398859572 name='Dash to the Flash' resource_state=2>\n",
      "<SegmentEffort id=10737803312 name='Roll On' resource_state=2>\n",
      "<SegmentEffort id=10737803221 name='Descent to Hulme End' resource_state=2>\n",
      "<SegmentEffort id=10737803206 name='Gratton Ln Climb' resource_state=2>\n",
      "<SegmentEffort id=10737803190 name='Fenny Bentley to Tissington x-roads' resource_state=2>\n",
      "<SegmentEffort id=10737803195 name='A515 Climb' resource_state=2>\n",
      "<SegmentEffort id=10737803186 name='Horses to Bluebell A515' resource_state=2>\n",
      "<SegmentEffort id=13794471643 name='Campsite escape' resource_state=2>\n",
      "<SegmentEffort id=10737803176 name='A517 Hulland Ward to Ashbourne lights' resource_state=2>\n",
      "<SegmentEffort id=14727694486 name='Cowers Lane to Ashbourne' resource_state=2>\n",
      "<SegmentEffort id=13857586536 name='Cowers Lane to Hulland Ward Climb' resource_state=2>\n",
      "<SegmentEffort id=10737803139 name='Cowers Lane lights to the top of Hulland Ward' resource_state=2>\n",
      "<SegmentEffort id=18653654574 name='Duff Wirksworth Rd' resource_state=2>\n",
      "<SegmentEffort id=10737803085 name='Little Eaton to Derby Road Junction' resource_state=2>\n",
      "<SegmentEffort id=10737802981 name='Stanley Common to A608' resource_state=2>\n",
      "<SegmentEffort id=10737802940 name='Climb To Tansley Avenue' resource_state=2>\n",
      "<SegmentEffort id=13881813455 name='St Wilf to Millhouse' resource_state=2>\n",
      "<SegmentEffort id=10737802935 name='Climb up to Stanley Common' resource_state=2>\n",
      "<SegmentEffort id=10737802960 name='Thursday Thighs: Lactic Drive From Swan Lake to Belper Road Top' resource_state=2>\n",
      "<SegmentEffort id=10737802973 name='swan lake to smalley cross' resource_state=2>\n",
      "<SegmentEffort id=10737802926 name='Swan Lake to Kiln Close' resource_state=2>\n",
      "<SegmentEffort id=10737802953 name='Climb up to the top of Stanley Common' resource_state=2>\n",
      "<SegmentEffort id=18752684343 name='Head for the hills ' resource_state=2>\n",
      "<SegmentEffort id=10737802931 name='Island to Station Road' resource_state=2>\n",
      "<SegmentEffort id=10737802966 name='circuit stage 2' resource_state=2>\n",
      "<SegmentEffort id=10737802891 name='Asda to Littlewick climb' resource_state=2>\n",
      "<SegmentEffort id=10737802908 name='out 4' resource_state=2>\n",
      "<SegmentEffort id=10737802918 name='toms climb' resource_state=2>\n",
      "<SegmentEffort id=10737802900 name='Thursday Thighs: A Up Mi Duck To Ikeston Top' resource_state=2>\n",
      "<SegmentEffort id=10737802915 name='ilkeston climb' resource_state=2>\n",
      "<SegmentEffort id=10737802950 name='Climbs from Ilkeston to top of Stanley Common' resource_state=2>\n",
      "<SegmentEffort id=10737802913 name='Two pints of beer an a bag of chips' resource_state=2>\n",
      "<SegmentEffort id=10737802880 name='Festival to gallows bridge' resource_state=2>\n",
      "<SegmentEffort id=10737802854 name='Going Down' resource_state=2>\n",
      "<SegmentEffort id=10737802895 name='Ballon Woods to Ilkeston' resource_state=2>\n",
      "<SegmentEffort id=297571581 name='Gillow heath climb' resource_state=2>\n",
      "<SegmentEffort id=3819209636 name='Station to Wolf Lowe' resource_state=2>\n",
      "<SegmentEffort id=614597375 name='강상면 병산리 21 4 Climb' resource_state=2>\n",
      "<SegmentEffort id=1865597637 name='Segment' resource_state=2>\n",
      "<SegmentEffort id=2710923994 name='Geomam-->Gimpo' resource_state=2>\n",
      "<SegmentEffort id=9062568461 name='Tour de ARA.검암' resource_state=2>\n",
      "<SegmentEffort id=1348978760 name='up to the Ash' resource_state=2>\n",
      "<SegmentEffort id=129299908 name='Roe Park Climb' resource_state=2>\n",
      "<SegmentEffort id=171910774 name='Mow Cop Climb' resource_state=2>\n",
      "<SegmentEffort id=160519874 name='Mt Pleasant climb' resource_state=2>\n",
      "<SegmentEffort id=2204587757 name='Station Rd to Chapel Bank' resource_state=2>\n",
      "<SegmentEffort id=1554459551 name='Wharf Plumbing to Mow Cop church' resource_state=2>\n",
      "<SegmentEffort id=572847895 name='A34-PUB (MOW COP)' resource_state=2>\n",
      "<SegmentEffort id=109976813 name='Wincle with stop' resource_state=2>\n",
      "<SegmentEffort id=109398596 name='Wincle hill with hairpin' resource_state=2>\n",
      "<SegmentEffort id=1038882368 name='Wincle Roubaix' resource_state=2>\n",
      "<SegmentEffort id=8396792414 name='Meerbrook Rd Climb and Gun' resource_state=2>\n",
      "<SegmentEffort id=109793567 name='Cheshire Cat 76M including both feed stations' resource_state=2>\n",
      "<SegmentEffort id=759020193 name='Forge the Waldrons' resource_state=2>\n",
      "<SegmentEffort id=175854291 name='乙縣道 Climb' resource_state=2>\n",
      "<SegmentEffort id=11191596586 name='翁子派出所-東勢全家' resource_state=2>\n",
      "<SegmentEffort id=16196892807 name='紅樹林 -興華派出所2' resource_state=2>\n",
      "<SegmentEffort id=12964685012 name='紅樹林 - 興華派出所' resource_state=2>\n",
      "<SegmentEffort id=2745621827 name=\"Helen's Steep\" resource_state=2>\n",
      "<SegmentEffort id=2329988659 name=\"HARMon to home '14\" resource_state=2>\n",
      "<SegmentEffort id=63875497 name='Harmon' resource_state=2>\n",
      "<SegmentEffort id=63875480 name='Copperas Cove Lap' resource_state=2>\n",
      "<SegmentEffort id=12561759787 name='RR12 from 290W to Fitzhugh Rd' resource_state=2>\n",
      "<SegmentEffort id=12562786346 name='Texas Rube Hay' resource_state=2>\n",
      "<SegmentEffort id=12560769682 name='Cypress Mill and Hamilton Pool' resource_state=2>\n",
      "<SegmentEffort id=2138225217 name='West 33rd Street Climb' resource_state=2>\n",
      "<SegmentEffort id=72566385 name='Sign? What sign? or Up Blake-Manor' resource_state=2>\n",
      "<SegmentEffort id=6068150330 name='361 Short' resource_state=2>\n",
      "<SegmentEffort id=1145699518 name='To Port A Access rd 2 to Access rd 1' resource_state=2>\n",
      "<SegmentEffort id=19142664082 name='Hwy 361 North - SPID to Ave G' resource_state=2>\n",
      "<SegmentEffort id=2785574226 name='Brompton Road Rush (northbound)' resource_state=2>\n",
      "<SegmentEffort id=2785574221 name='The Royal Marsden am' resource_state=2>\n",
      "<SegmentEffort id=12281767420 name='Fulham Road Drayton to Old Church St' resource_state=2>\n",
      "<SegmentEffort id=2785574222 name='fulhaming' resource_state=2>\n",
      "<SegmentEffort id=2785574224 name='Stamford Bridge to Brompton Road' resource_state=2>\n",
      "<SegmentEffort id=4862847826 name='Broadway to Evelyn Gardens' resource_state=2>\n",
      "<SegmentEffort id=18722055168 name='Fulham high st' resource_state=2>\n",
      "<SegmentEffort id=2785573338 name='PP TT 1' resource_state=2>\n",
      "<SegmentEffort id=20477858070 name='Nathan Ride To Work ' resource_state=2>\n",
      "<SegmentEffort id=8918980154 name='Molesey - Weybridge Train Station' resource_state=2>\n",
      "<SegmentEffort id=2785573346 name='Olympic Course Surrey Loop Pt1 Hmpt.Ct-Byft' resource_state=2>\n",
      "<SegmentEffort id=6375896254 name='Full Gas Fountain to South Gate' resource_state=2>\n",
      "<SegmentEffort id=2949782350 name='40km TT Part 1' resource_state=2>\n",
      "<SegmentEffort id=6703176164 name='Richmond to Weybridge' resource_state=2>\n",
      "<SegmentEffort id=8386772431 name='Barnes to the bridge' resource_state=2>\n",
      "<SegmentEffort id=2785573017 name='Priory Lane to Roehampton Gate' resource_state=2>\n",
      "<SegmentEffort id=7405915287 name='SP1' resource_state=2>\n",
      "<SegmentEffort id=3885966188 name='URR Gwendolen to Priory' resource_state=2>\n",
      "<SegmentEffort id=2785572958 name='Upper Richmond Road - Putney to Roehampton Lane' resource_state=2>\n",
      "<SegmentEffort id=6435221715 name='Putney High Street Southwards' resource_state=2>\n",
      "<SegmentEffort id=6435273558 name='Putney Bound Stage3' resource_state=2>\n",
      "<SegmentEffort id=10896917640 name='Lolotri Eglise Villers / carrefour route de Malgenet.' resource_state=2>\n",
      "<SegmentEffort id=2785592693 name='descente catenoy' resource_state=2>\n",
      "<SegmentEffort id=2785592691 name='Côte de Béthencourt' resource_state=2>\n",
      "<SegmentEffort id=4323245437 name='Liancourt D29 climb' resource_state=2>\n",
      "<SegmentEffort id=4323136161 name='Liancout D29 full' resource_state=2>\n",
      "<SegmentEffort id=2785593267 name=\"Monté Forêt d'Ermenonville\" resource_state=2>\n",
      "<SegmentEffort id=2785593265 name='Lolotri côte Ducy' resource_state=2>\n",
      "<SegmentEffort id=2785593262 name='Lolotri cote Duvy direction Rocquemont' resource_state=2>\n",
      "<SegmentEffort id=11097243267 name=\"Lolotri Partie pentue cote d'Attichy.\" resource_state=2>\n",
      "<SegmentEffort id=3021839955 name='Attichy to D335 ~' resource_state=2>\n",
      "<SegmentEffort id=2785593242 name='BROSINI Côte de Pierrefonds' resource_state=2>\n",
      "<SegmentEffort id=2785593452 name='La descente du golf' resource_state=2>\n",
      "<SegmentEffort id=6699917714 name='cote Avrechy ' resource_state=2>\n",
      "<SegmentEffort id=2785593442 name='Côte Avrechy (vers Argenlieu)' resource_state=2>\n"
     ]
    }
   ],
   "source": [
    "print(len([k for k in koms]))\n",
    "for k in koms:\n",
    "    print(k)"
   ]
  },
  {
   "cell_type": "markdown",
   "metadata": {},
   "source": [
    "It is possible to select one of the efforts and download the associated effort_stream. This is a sneaky way around the not being able to download the activity_stream. Let's focus on a particular effort: SegmentEffort id=10843119613 name='Sean Connery villa > Villaricos first roundabout'. A SegmentEffort is in this class class stravalib.model.BaseEffort(bind_client=None, **kwargs)[source]\n",
    "name\n",
    "The name of the segment\n",
    "\n",
    "segment\n",
    "The associated stravalib.model.Segment for this effort\n",
    "\n",
    "activity\n",
    "The associated stravalib.model.Activity\n",
    "\n",
    "athlete\n",
    "The associated stravalib.model.Athlete\n",
    "\n",
    "kom_rank\n",
    "1-10 segment KOM ranking for athlete at time of upload\n",
    "\n",
    "pr_rank\n",
    "1-3 personal record ranking for athlete at time of upload\n",
    "\n",
    "moving_time\n",
    "datetime.timedelta\n",
    "\n",
    "elapsed_time\n",
    "datetime.timedelta\n",
    "\n",
    "start_date\n",
    "datetime.datetime when effort was started in GMT\n",
    "\n",
    "start_date_local\n",
    "datetime.datetime when effort was started in activity timezone for this effort\n",
    "\n",
    "distance\n",
    "The distance for this effort.\n",
    "\n",
    "average_watts\n",
    "Average power during effort\n",
    "\n",
    "device_watts\n",
    "True if the watts are from a power meter, false if estimated\n",
    "\n",
    "average_heartrate\n",
    "Average HR during effort\n",
    "\n",
    "max_heartrate\n",
    "Max HR during effort\n",
    "\n",
    "average_cadence\n",
    "Average cadence during effort\n",
    "\n",
    "start_index\n",
    "The activity stream index of the start of this effort\n",
    "\n",
    "end_index\n",
    "The activity stream index of the end of this effort\n",
    "\n",
    "achievements\n",
    "Undocumented attribute includes list of achievements for this effort.\n"
   ]
  },
  {
   "cell_type": "code",
   "execution_count": 16,
   "metadata": {
    "collapsed": false
   },
   "outputs": [
    {
     "name": "stdout",
     "output_type": "stream",
     "text": [
      "<SegmentEffort id=10843119613 name='Sean Connery villa > Villaricos first roundabout' resource_state=3>\n",
      "8223121\n",
      "348.9\n",
      "1\n"
     ]
    }
   ],
   "source": [
    "SE = client.get_segment_effort(10843119613)\n",
    "print(SE)\n",
    "print(SE.segment.id)\n",
    "print(SE.average_watts)\n",
    "print(SE.kom_rank)"
   ]
  },
  {
   "cell_type": "code",
   "execution_count": 17,
   "metadata": {
    "collapsed": false
   },
   "outputs": [
    {
     "data": {
      "text/plain": [
       "{'altitude': <Stream type=altitude resolution=high original_size=425>,\n",
       " 'cadence': <Stream type=cadence resolution=high original_size=425>,\n",
       " 'distance': <Stream type=distance resolution=high original_size=425>,\n",
       " 'grade_smooth': <Stream type=grade_smooth resolution=high original_size=425>,\n",
       " 'heartrate': <Stream type=heartrate resolution=high original_size=425>,\n",
       " 'latlng': <Stream type=latlng resolution=high original_size=425>,\n",
       " 'moving': <Stream type=moving resolution=high original_size=425>,\n",
       " 'temp': <Stream type=temp resolution=high original_size=425>,\n",
       " 'time': <Stream type=time resolution=high original_size=425>,\n",
       " 'velocity_smooth': <Stream type=velocity_smooth resolution=high original_size=425>,\n",
       " 'watts': <Stream type=watts resolution=high original_size=425>}"
      ]
     },
     "execution_count": 17,
     "metadata": {},
     "output_type": "execute_result"
    }
   ],
   "source": [
    "effort = client.get_effort_streams(10843119613,['time', 'latlng', 'distance', 'altitude', 'velocity_smooth',\n",
    "'heartrate', 'cadence', 'watts', 'temp', 'moving', 'grade_smooth'])\n",
    "effort"
   ]
  },
  {
   "cell_type": "code",
   "execution_count": 18,
   "metadata": {
    "collapsed": false
   },
   "outputs": [
    {
     "data": {
      "text/plain": [
       "[<matplotlib.lines.Line2D at 0x11bf25780>]"
      ]
     },
     "execution_count": 18,
     "metadata": {},
     "output_type": "execute_result"
    },
    {
     "data": {
      "image/png": "[encoded data removed]",
      "text/plain": [
       "<matplotlib.figure.Figure at 0x10a66f278>"
      ]
     },
     "metadata": {},
     "output_type": "display_data"
    }
   ],
   "source": [
    "plt.plot((np.array(effort['distance'].data)-effort['distance'].data[0])/1000, effort['watts'].data)"
   ]
  },
  {
   "cell_type": "code",
   "execution_count": null,
   "metadata": {
    "collapsed": false
   },
   "outputs": [],
   "source": []
  },
  {
   "cell_type": "markdown",
   "metadata": {},
   "source": [
    "# Creating a database of professional cyclists on Strava\n",
    "The first task was to use Beautifulsoup to scrape the page listing Strava's pros. "
   ]
  },
  {
   "cell_type": "code",
   "execution_count": 19,
   "metadata": {
    "collapsed": true
   },
   "outputs": [],
   "source": [
    "import urllib.request\n",
    "f = urllib.request.urlopen('https://www.strava.com/pros')\n",
    "myfile = f.read().decode(\"utf-8\")\n",
    "f.close()\n",
    "\n"
   ]
  },
  {
   "cell_type": "code",
   "execution_count": null,
   "metadata": {
    "collapsed": false
   },
   "outputs": [],
   "source": [
    "myfile[40000:40500]"
   ]
  },
  {
   "cell_type": "code",
   "execution_count": null,
   "metadata": {
    "collapsed": false,
    "scrolled": false
   },
   "outputs": [],
   "source": [
    "from bs4 import BeautifulSoup\n",
    "\n",
    "soup = BeautifulSoup(myfile, 'html.parser')\n"
   ]
  },
  {
   "cell_type": "code",
   "execution_count": null,
   "metadata": {
    "collapsed": false
   },
   "outputs": [],
   "source": [
    "Pros = []\n",
    "LIs = soup.find_all('li')\n",
    "for li in LIs:\n",
    "    if li.img:\n",
    "        id_ = [li.img['src'].split('/')[5],li.img['title']]\n",
    "        try:\n",
    "            team = [li.strong.string.encode('utf-8').decode()]\n",
    "        except:\n",
    "            team = [None]\n",
    "        try:\n",
    "            location = [li.find('div', 'location' ).string.encode('utf-8').decode().replace('\\n','')]\n",
    "        except:\n",
    "            location = [None]\n",
    "        try:\n",
    "            description = [li.find('div', 'description' ).string.encode('utf-8').decode()]\n",
    "        except:\n",
    "            description = [None]\n",
    "        Pros += [id_ +  team + location + description]\n",
    "    \n",
    "Pros[:10]"
   ]
  },
  {
   "cell_type": "markdown",
   "metadata": {},
   "source": [
    "Athlete_type and badge_type_id don't seem to be much use, but I should be able to get the Team if it exists. This will allow me to filter out the pro cyclists I'm after"
   ]
  },
  {
   "cell_type": "code",
   "execution_count": null,
   "metadata": {
    "collapsed": false
   },
   "outputs": [],
   "source": [
    "athlete = client.get_athlete(8309)\n",
    "print(athlete.athlete_type)"
   ]
  },
  {
   "cell_type": "markdown",
   "metadata": {},
   "source": [
    "The best course of action is to dump the results into a Pandas DataFrame, export to Excel, tidy up the data and read the cleaned-up data."
   ]
  },
  {
   "cell_type": "code",
   "execution_count": null,
   "metadata": {
    "collapsed": false
   },
   "outputs": [],
   "source": [
    "dfPros = pd.DataFrame(Pros, columns = ['id','Name','Team','Location','Description'])\n"
   ]
  },
  {
   "cell_type": "code",
   "execution_count": null,
   "metadata": {
    "collapsed": true
   },
   "outputs": [],
   "source": [
    "# Do this once\n",
    "#dfPros.to_excel('Pros.xlsx')"
   ]
  },
  {
   "cell_type": "markdown",
   "metadata": {},
   "source": [
    "## Cleaning up the data\n",
    "I loaded this file into Excel and manually selected professional cyclists, entering/correcting their teams where necessary. The trick to find the Strava id from the image did not work for all athetes, so the few missing ones were also completed manually. This resulted in a list of 209 cyclists from the original 1000+ professional athletes on Strava.  Now load the cleaned up file. "
   ]
  },
  {
   "cell_type": "code",
   "execution_count": 17,
   "metadata": {
    "collapsed": false
   },
   "outputs": [
    {
     "data": {
      "text/plain": [
       "209"
      ]
     },
     "execution_count": 17,
     "metadata": {},
     "output_type": "execute_result"
    }
   ],
   "source": [
    "PC= pd.read_excel('ProCyclists.xlsx')\n",
    "len(PC)"
   ]
  },
  {
   "cell_type": "code",
   "execution_count": 18,
   "metadata": {
    "collapsed": false
   },
   "outputs": [
    {
     "data": {
      "text/html": [
       "<div>\n",
       "<table border=\"1\" class=\"dataframe\">\n",
       "  <thead>\n",
       "    <tr style=\"text-align: right;\">\n",
       "      <th></th>\n",
       "      <th>id</th>\n",
       "      <th>Name</th>\n",
       "      <th>Team</th>\n",
       "      <th>Location</th>\n",
       "      <th>Description</th>\n",
       "    </tr>\n",
       "  </thead>\n",
       "  <tbody>\n",
       "    <tr>\n",
       "      <th>45</th>\n",
       "      <td>3943249</td>\n",
       "      <td>jan bakelants</td>\n",
       "      <td>AG2R</td>\n",
       "      <td>Scherpenheuvel Zichem, Flanders</td>\n",
       "      <td>NaN</td>\n",
       "    </tr>\n",
       "    <tr>\n",
       "      <th>47</th>\n",
       "      <td>1630132</td>\n",
       "      <td>Romain Bardet</td>\n",
       "      <td>AG2R</td>\n",
       "      <td>Clermont Ferrand, Auvergne</td>\n",
       "      <td>NaN</td>\n",
       "    </tr>\n",
       "    <tr>\n",
       "      <th>245</th>\n",
       "      <td>3114986</td>\n",
       "      <td>Samuel DUMOULIN</td>\n",
       "      <td>AG2R</td>\n",
       "      <td>Jacob-Bellecombette, Rhône-Alpes</td>\n",
       "      <td>Coureur cycliste professionnel depuis 2002</td>\n",
       "    </tr>\n",
       "    <tr>\n",
       "      <th>518</th>\n",
       "      <td>7347052</td>\n",
       "      <td>Pierre  Latour</td>\n",
       "      <td>AG2R</td>\n",
       "      <td>Romans-sur-Isère, Rhône-Alpes</td>\n",
       "      <td>Hey, what did you expect !?</td>\n",
       "    </tr>\n",
       "    <tr>\n",
       "      <th>943</th>\n",
       "      <td>1934385</td>\n",
       "      <td>Alexis Vuillermoz</td>\n",
       "      <td>AG2R</td>\n",
       "      <td>Chevry, Franche-Comté</td>\n",
       "      <td>NaN</td>\n",
       "    </tr>\n",
       "  </tbody>\n",
       "</table>\n",
       "</div>"
      ],
      "text/plain": [
       "          id               Name  Team                          Location  \\\n",
       "45   3943249      jan bakelants  AG2R   Scherpenheuvel Zichem, Flanders   \n",
       "47   1630132      Romain Bardet  AG2R        Clermont Ferrand, Auvergne   \n",
       "245  3114986    Samuel DUMOULIN  AG2R  Jacob-Bellecombette, Rhône-Alpes   \n",
       "518  7347052     Pierre  Latour  AG2R     Romans-sur-Isère, Rhône-Alpes   \n",
       "943  1934385  Alexis Vuillermoz  AG2R             Chevry, Franche-Comté   \n",
       "\n",
       "                                    Description  \n",
       "45                                          NaN  \n",
       "47                                          NaN  \n",
       "245  Coureur cycliste professionnel depuis 2002  \n",
       "518                 Hey, what did you expect !?  \n",
       "943                                         NaN  "
      ]
     },
     "execution_count": 18,
     "metadata": {},
     "output_type": "execute_result"
    }
   ],
   "source": [
    "PC.head()"
   ]
  },
  {
   "cell_type": "code",
   "execution_count": 19,
   "metadata": {
    "collapsed": false
   },
   "outputs": [
    {
     "data": {
      "text/plain": [
       "3943249"
      ]
     },
     "execution_count": 19,
     "metadata": {},
     "output_type": "execute_result"
    }
   ],
   "source": [
    "PC.loc[45].id"
   ]
  },
  {
   "cell_type": "code",
   "execution_count": 20,
   "metadata": {
    "collapsed": false
   },
   "outputs": [],
   "source": [
    "koms = client.get_athlete_koms(PC.loc[45].id)\n"
   ]
  },
  {
   "cell_type": "code",
   "execution_count": 21,
   "metadata": {
    "collapsed": false
   },
   "outputs": [
    {
     "data": {
      "text/plain": [
       "162"
      ]
     },
     "execution_count": 21,
     "metadata": {},
     "output_type": "execute_result"
    }
   ],
   "source": [
    "len([k for k in koms])"
   ]
  },
  {
   "cell_type": "code",
   "execution_count": 22,
   "metadata": {
    "collapsed": false
   },
   "outputs": [],
   "source": [
    "PC['KOMs'] = np.nan\n",
    "PC['nKOMs'] = np.nan\n"
   ]
  },
  {
   "cell_type": "code",
   "execution_count": 23,
   "metadata": {
    "collapsed": false
   },
   "outputs": [
    {
     "data": {
      "text/plain": [
       "162"
      ]
     },
     "execution_count": 23,
     "metadata": {},
     "output_type": "execute_result"
    }
   ],
   "source": [
    "PC.loc[45, 'KOMs'] = [koms]\n",
    "len([k for k in PC.loc[45, 'KOMs'][0]])"
   ]
  },
  {
   "cell_type": "code",
   "execution_count": 24,
   "metadata": {
    "collapsed": true
   },
   "outputs": [],
   "source": [
    "for i in PC.index:\n",
    "    koms = client.get_athlete_koms(PC.loc[i].id)\n",
    "    PC.loc[i, 'KOMs'] = [koms]\n",
    "    PC.loc[i, 'nKOMs'] = len([k for k in koms])"
   ]
  },
  {
   "cell_type": "code",
   "execution_count": 25,
   "metadata": {
    "collapsed": false
   },
   "outputs": [
    {
     "data": {
      "text/html": [
       "<div>\n",
       "<table border=\"1\" class=\"dataframe\">\n",
       "  <thead>\n",
       "    <tr style=\"text-align: right;\">\n",
       "      <th></th>\n",
       "      <th>id</th>\n",
       "      <th>Name</th>\n",
       "      <th>Team</th>\n",
       "      <th>Location</th>\n",
       "      <th>Description</th>\n",
       "      <th>KOMs</th>\n",
       "      <th>nKOMs</th>\n",
       "    </tr>\n",
       "  </thead>\n",
       "  <tbody>\n",
       "    <tr>\n",
       "      <th>45</th>\n",
       "      <td>3943249</td>\n",
       "      <td>jan bakelants</td>\n",
       "      <td>AG2R</td>\n",
       "      <td>Scherpenheuvel Zichem, Flanders</td>\n",
       "      <td>NaN</td>\n",
       "      <td>[&lt;BatchedResultsIterator entity=SegmentEffort&gt;]</td>\n",
       "      <td>162.0</td>\n",
       "    </tr>\n",
       "    <tr>\n",
       "      <th>47</th>\n",
       "      <td>1630132</td>\n",
       "      <td>Romain Bardet</td>\n",
       "      <td>AG2R</td>\n",
       "      <td>Clermont Ferrand, Auvergne</td>\n",
       "      <td>NaN</td>\n",
       "      <td>[&lt;BatchedResultsIterator entity=SegmentEffort&gt;]</td>\n",
       "      <td>978.0</td>\n",
       "    </tr>\n",
       "    <tr>\n",
       "      <th>245</th>\n",
       "      <td>3114986</td>\n",
       "      <td>Samuel DUMOULIN</td>\n",
       "      <td>AG2R</td>\n",
       "      <td>Jacob-Bellecombette, Rhône-Alpes</td>\n",
       "      <td>Coureur cycliste professionnel depuis 2002</td>\n",
       "      <td>[&lt;BatchedResultsIterator entity=SegmentEffort&gt;]</td>\n",
       "      <td>75.0</td>\n",
       "    </tr>\n",
       "    <tr>\n",
       "      <th>518</th>\n",
       "      <td>7347052</td>\n",
       "      <td>Pierre  Latour</td>\n",
       "      <td>AG2R</td>\n",
       "      <td>Romans-sur-Isère, Rhône-Alpes</td>\n",
       "      <td>Hey, what did you expect !?</td>\n",
       "      <td>[&lt;BatchedResultsIterator entity=SegmentEffort&gt;]</td>\n",
       "      <td>327.0</td>\n",
       "    </tr>\n",
       "    <tr>\n",
       "      <th>943</th>\n",
       "      <td>1934385</td>\n",
       "      <td>Alexis Vuillermoz</td>\n",
       "      <td>AG2R</td>\n",
       "      <td>Chevry, Franche-Comté</td>\n",
       "      <td>NaN</td>\n",
       "      <td>[&lt;BatchedResultsIterator entity=SegmentEffort&gt;]</td>\n",
       "      <td>130.0</td>\n",
       "    </tr>\n",
       "  </tbody>\n",
       "</table>\n",
       "</div>"
      ],
      "text/plain": [
       "          id               Name  Team                          Location  \\\n",
       "45   3943249      jan bakelants  AG2R   Scherpenheuvel Zichem, Flanders   \n",
       "47   1630132      Romain Bardet  AG2R        Clermont Ferrand, Auvergne   \n",
       "245  3114986    Samuel DUMOULIN  AG2R  Jacob-Bellecombette, Rhône-Alpes   \n",
       "518  7347052     Pierre  Latour  AG2R     Romans-sur-Isère, Rhône-Alpes   \n",
       "943  1934385  Alexis Vuillermoz  AG2R             Chevry, Franche-Comté   \n",
       "\n",
       "                                    Description  \\\n",
       "45                                          NaN   \n",
       "47                                          NaN   \n",
       "245  Coureur cycliste professionnel depuis 2002   \n",
       "518                 Hey, what did you expect !?   \n",
       "943                                         NaN   \n",
       "\n",
       "                                                KOMs  nKOMs  \n",
       "45   [<BatchedResultsIterator entity=SegmentEffort>]  162.0  \n",
       "47   [<BatchedResultsIterator entity=SegmentEffort>]  978.0  \n",
       "245  [<BatchedResultsIterator entity=SegmentEffort>]   75.0  \n",
       "518  [<BatchedResultsIterator entity=SegmentEffort>]  327.0  \n",
       "943  [<BatchedResultsIterator entity=SegmentEffort>]  130.0  "
      ]
     },
     "execution_count": 25,
     "metadata": {},
     "output_type": "execute_result"
    }
   ],
   "source": [
    "PC.head()"
   ]
  },
  {
   "cell_type": "markdown",
   "metadata": {},
   "source": [
    "Unfortunately, Pandas cannot pickle Stava's BatchedResultsIterator. Until there is a way around this, that data will be lost each time."
   ]
  },
  {
   "cell_type": "code",
   "execution_count": 28,
   "metadata": {
    "collapsed": false
   },
   "outputs": [],
   "source": [
    "df = PC[['id','Name','Team','Location','Description','nKOMs']]\n",
    "df.to_pickle('ProCyclistData.pkl')"
   ]
  },
  {
   "cell_type": "code",
   "execution_count": 36,
   "metadata": {
    "collapsed": false
   },
   "outputs": [
    {
     "data": {
      "text/html": [
       "<div>\n",
       "<table border=\"1\" class=\"dataframe\">\n",
       "  <thead>\n",
       "    <tr style=\"text-align: right;\">\n",
       "      <th></th>\n",
       "      <th>Name</th>\n",
       "      <th>Team</th>\n",
       "      <th>Location</th>\n",
       "      <th>nKOMs</th>\n",
       "    </tr>\n",
       "  </thead>\n",
       "  <tbody>\n",
       "    <tr>\n",
       "      <th>861</th>\n",
       "      <td>Laurens ten Dam</td>\n",
       "      <td>Team Sunweb</td>\n",
       "      <td>Oudorp , noord Holland.</td>\n",
       "      <td>1907.0</td>\n",
       "    </tr>\n",
       "    <tr>\n",
       "      <th>540</th>\n",
       "      <td>Elisa Longo Borghini</td>\n",
       "      <td>Wiggle Honda</td>\n",
       "      <td>Ornavasso, Piemonte</td>\n",
       "      <td>1381.0</td>\n",
       "    </tr>\n",
       "    <tr>\n",
       "      <th>918</th>\n",
       "      <td>Annemiek van Vleuten</td>\n",
       "      <td>Orica AIS</td>\n",
       "      <td>Wageningen, GE</td>\n",
       "      <td>1296.0</td>\n",
       "    </tr>\n",
       "    <tr>\n",
       "      <th>863</th>\n",
       "      <td>Niki Terpstra Racing</td>\n",
       "      <td>Quick-Step Floors</td>\n",
       "      <td>Noord-Holland</td>\n",
       "      <td>1230.0</td>\n",
       "    </tr>\n",
       "    <tr>\n",
       "      <th>358</th>\n",
       "      <td>James Gullen</td>\n",
       "      <td>JLT Condor</td>\n",
       "      <td>Lancaster, England</td>\n",
       "      <td>1162.0</td>\n",
       "    </tr>\n",
       "    <tr>\n",
       "      <th>698</th>\n",
       "      <td>Thibaut Pinot</td>\n",
       "      <td>FDJ</td>\n",
       "      <td>Mélisey, Franche-Comté</td>\n",
       "      <td>1070.0</td>\n",
       "    </tr>\n",
       "    <tr>\n",
       "      <th>265</th>\n",
       "      <td>Dan Evans</td>\n",
       "      <td>Cannodale-Drapac Pro Cycling Team</td>\n",
       "      <td>Wales</td>\n",
       "      <td>1035.0</td>\n",
       "    </tr>\n",
       "    <tr>\n",
       "      <th>47</th>\n",
       "      <td>Romain Bardet</td>\n",
       "      <td>AG2R</td>\n",
       "      <td>Clermont Ferrand, Auvergne</td>\n",
       "      <td>978.0</td>\n",
       "    </tr>\n",
       "    <tr>\n",
       "      <th>235</th>\n",
       "      <td>Joe Dombrowski</td>\n",
       "      <td>Cannodale-Drapac Pro Cycling Team</td>\n",
       "      <td>Nice, Provence-Alpes-Côte d'Azur</td>\n",
       "      <td>864.0</td>\n",
       "    </tr>\n",
       "    <tr>\n",
       "      <th>476</th>\n",
       "      <td>Dani King</td>\n",
       "      <td>Cylance</td>\n",
       "      <td>Wales</td>\n",
       "      <td>852.0</td>\n",
       "    </tr>\n",
       "  </tbody>\n",
       "</table>\n",
       "</div>"
      ],
      "text/plain": [
       "                     Name                               Team  \\\n",
       "861       Laurens ten Dam                        Team Sunweb   \n",
       "540  Elisa Longo Borghini                       Wiggle Honda   \n",
       "918  Annemiek van Vleuten                          Orica AIS   \n",
       "863  Niki Terpstra Racing                  Quick-Step Floors   \n",
       "358          James Gullen                         JLT Condor   \n",
       "698         Thibaut Pinot                                FDJ   \n",
       "265             Dan Evans  Cannodale-Drapac Pro Cycling Team   \n",
       "47          Romain Bardet                               AG2R   \n",
       "235        Joe Dombrowski  Cannodale-Drapac Pro Cycling Team   \n",
       "476             Dani King                            Cylance   \n",
       "\n",
       "                             Location   nKOMs  \n",
       "861          Oudorp , noord Holland.   1907.0  \n",
       "540               Ornavasso, Piemonte  1381.0  \n",
       "918                    Wageningen, GE  1296.0  \n",
       "863                     Noord-Holland  1230.0  \n",
       "358                Lancaster, England  1162.0  \n",
       "698            Mélisey, Franche-Comté  1070.0  \n",
       "265                             Wales  1035.0  \n",
       "47         Clermont Ferrand, Auvergne   978.0  \n",
       "235  Nice, Provence-Alpes-Côte d'Azur   864.0  \n",
       "476                             Wales   852.0  "
      ]
     },
     "execution_count": 36,
     "metadata": {},
     "output_type": "execute_result"
    }
   ],
   "source": [
    "PC.sort_values(by='nKOMs', ascending=False)[['Name','Team','Location','nKOMs']].iloc[:10]\n"
   ]
  },
  {
   "cell_type": "code",
   "execution_count": null,
   "metadata": {
    "collapsed": false
   },
   "outputs": [],
   "source": [
    "PC.head()"
   ]
  },
  {
   "cell_type": "code",
   "execution_count": 56,
   "metadata": {
    "collapsed": true
   },
   "outputs": [],
   "source": [
    "df.to_excel('ProCyclistKOMs.xlsx')"
   ]
  },
  {
   "cell_type": "code",
   "execution_count": null,
   "metadata": {
    "collapsed": false
   },
   "outputs": [],
   "source": []
  },
  {
   "cell_type": "code",
   "execution_count": null,
   "metadata": {
    "collapsed": true
   },
   "outputs": [],
   "source": []
  },
  {
   "cell_type": "code",
   "execution_count": null,
   "metadata": {
    "collapsed": false
   },
   "outputs": [],
   "source": []
  },
  {
   "cell_type": "code",
   "execution_count": null,
   "metadata": {
    "collapsed": true
   },
   "outputs": [],
   "source": []
  }
 ],
 "metadata": {
  "anaconda-cloud": {},
  "kernelspec": {
   "display_name": "Python [Root]",
   "language": "python",
   "name": "Python [Root]"
  },
  "language_info": {
   "codemirror_mode": {
    "name": "ipython",
    "version": 3
   },
   "file_extension": ".py",
   "mimetype": "text/x-python",
   "name": "python",
   "nbconvert_exporter": "python",
   "pygments_lexer": "ipython3",
   "version": "3.5.2"
  }
 },
 "nbformat": 4,
 "nbformat_minor": 0
}
