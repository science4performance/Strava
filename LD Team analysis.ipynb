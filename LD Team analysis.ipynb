{
 "cells": [
  {
   "cell_type": "markdown",
   "metadata": {},
   "source": [
    "# LD Team analysis"
   ]
  },
  {
   "cell_type": "code",
   "execution_count": 1,
   "metadata": {
    "collapsed": false
   },
   "outputs": [
    {
     "name": "stdout",
     "output_type": "stream",
     "text": [
      "Tobias Dahlhaus\n"
     ]
    }
   ],
   "source": [
    "%matplotlib inline\n",
    "\n",
    "import stravalib\n",
    "import Strava_Download\n",
    "import matplotlib.pylab as plt\n",
    "import pandas as pd\n",
    "import numpy as np\n",
    "\n",
    "try:\n",
    "    f = open( 'mytoken.txt', 'r' )\n",
    "    mytoken = f.read()\n",
    "    f.close()\n",
    "    client = stravalib.Client(access_token = mytoken) \n",
    "except:\n",
    "    print('access_token required')\n",
    "\n",
    "athlete = client.get_athlete(577039)\n",
    "print(athlete.firstname, athlete.lastname)"
   ]
  },
  {
   "cell_type": "code",
   "execution_count": 1,
   "metadata": {
    "collapsed": false
   },
   "outputs": [],
   "source": [
    "types = ['time', 'latlng', 'distance', 'altitude', 'velocity_smooth',\n",
    "'heartrate', 'cadence', 'watts', 'temp', 'moving', 'grade_smooth']\n",
    "activity_id = 896176320\n",
    "# Not authorised to download activities\n",
    "#Stream = client.get_activity_streams(activity_id,types)\n",
    "#Dictionary = {}\n",
    "#for i in ['distance']+types:\n",
    "#    Dictionary[i] = Stream[i].data"
   ]
  },
  {
   "cell_type": "code",
   "execution_count": 3,
   "metadata": {
    "collapsed": false
   },
   "outputs": [
    {
     "name": "stdout",
     "output_type": "stream",
     "text": [
      "614\n"
     ]
    }
   ],
   "source": [
    "members = client.get_club_members(477)\n",
    "print(len([i for i in members]))"
   ]
  },
  {
   "cell_type": "code",
   "execution_count": 4,
   "metadata": {
    "collapsed": false
   },
   "outputs": [
    {
     "name": "stdout",
     "output_type": "stream",
     "text": [
      "['Lee', 'Davies']\n"
     ]
    }
   ],
   "source": [
    "minid=9999999\n",
    "for i in members:\n",
    "    if i.id<minid:\n",
    "        minid = i.id\n",
    "        name = [i.firstname, i.lastname]\n",
    "print (name)"
   ]
  },
  {
   "cell_type": "code",
   "execution_count": 5,
   "metadata": {
    "collapsed": false
   },
   "outputs": [
    {
     "name": "stdout",
     "output_type": "stream",
     "text": [
      "73\n"
     ]
    }
   ],
   "source": [
    "activities = client.get_club_activities(477)\n",
    "print(len([i for i in activities]))"
   ]
  },
  {
   "cell_type": "code",
   "execution_count": 6,
   "metadata": {
    "collapsed": false
   },
   "outputs": [
    {
     "name": "stdout",
     "output_type": "stream",
     "text": [
      "<Activity id=908426563 name='Morning Ride' resource_state=2>\n",
      "<Activity id=908415484 name='Morning Ride' resource_state=2>\n",
      "<Activity id=908415664 name='Morning Ride' resource_state=2>\n",
      "<Activity id=908415525 name='Morning Ride' resource_state=2>\n",
      "<Activity id=908393088 name='Morning Ride' resource_state=2>\n",
      "<Activity id=908405208 name='Morning Ride' resource_state=2>\n",
      "<Activity id=908423667 name='Morning Ride' resource_state=2>\n",
      "<Activity id=908366741 name='Morning Ride' resource_state=2>\n",
      "<Activity id=908393009 name='Morning Ride' resource_state=2>\n",
      "<Activity id=908380145 name='Morning Ride' resource_state=2>\n",
      "<Activity id=908427131 name='Morning Ride' resource_state=2>\n",
      "<Activity id=908377341 name='Zwift - London, UK - 10-12wk FTP very simple' resource_state=2>\n",
      "<Activity id=908359386 name='Morning Ride' resource_state=2>\n",
      "<Activity id=908379866 name='Love an early morning smashfest - TrainerRoad' resource_state=2>\n",
      "<Activity id=908367443 name='Morning Ride' resource_state=2>\n",
      "<Activity id=908388037 name='8 laps on, 2 laps off. ' resource_state=2>\n",
      "<Activity id=908338691 name='Morning Ride' resource_state=2>\n",
      "<Activity id=908357164 name='Afternoon Ride' resource_state=2>\n",
      "<Activity id=908242986 name='ICE Morning Solo Ride' resource_state=2>\n",
      "<Activity id=908229822 name='Home to Sunda Kelapa' resource_state=2>\n",
      "<Activity id=908304557 name='Morning Ride' resource_state=2>\n",
      "<Activity id=908189977 name='Morning Ride' resource_state=2>\n",
      "<Activity id=908115902 name='Night Ride' resource_state=2>\n",
      "<Activity id=908049826 name='Gould - TrainerRoad' resource_state=2>\n",
      "<Activity id=908011006 name='Good wind and green lights' resource_state=2>\n",
      "<Activity id=908000706 name='Commutes ' resource_state=2>\n",
      "<Activity id=908006863 name='Evening Ride' resource_state=2>\n",
      "<Activity id=907970076 name='Volta de bicicleta ao entardecer' resource_state=2>\n",
      "<Activity id=907987761 name='Zwift - London, UK - 8x 4min @ 240W' resource_state=2>\n",
      "<Activity id=907911436 name='Evening Ride' resource_state=2>\n",
      "<Activity id=907945774 name='Turbo Session' resource_state=2>\n",
      "<Activity id=907932571 name='Wattbike - hill climbing intervals' resource_state=2>\n",
      "<Activity id=907888084 name='40sec zone 7 ⚡️ sprints' resource_state=2>\n",
      "<Activity id=907915417 name='Evening Ride' resource_state=2>\n",
      "<Activity id=908013321 name='Evening Ride' resource_state=2>\n",
      "<Activity id=907883284 name='Zwift - London, UK - Recovery Day' resource_state=2>\n",
      "<Activity id=908053753 name='Evening Ride' resource_state=2>\n",
      "<Activity id=907840478 name='Evening Ride' resource_state=2>\n",
      "<Activity id=907867747 name='Evening Ride' resource_state=2>\n",
      "<Activity id=907821872 name='Evening Ride' resource_state=2>\n",
      "<Activity id=907819547 name='Evening Ride' resource_state=2>\n",
      "<Activity id=908013295 name='Evening Ride' resource_state=2>\n",
      "<Activity id=907884440 name='Evening Ride' resource_state=2>\n",
      "<Activity id=907833701 name='Evening Ride' resource_state=2>\n",
      "<Activity id=907841905 name='Commute' resource_state=2>\n",
      "<Activity id=907791130 name='Evening Ride' resource_state=2>\n",
      "<Activity id=907816994 name='Afternoon Ride' resource_state=2>\n",
      "<Activity id=907779616 name='Afternoon Puncture ride' resource_state=2>\n",
      "<Activity id=907784192 name='Afternoon Ride' resource_state=2>\n",
      "<Activity id=907809526 name='Afternoon Ride' resource_state=2>\n",
      "<Activity id=907857987 name='The Pack - Virgin Active MS' resource_state=2>\n",
      "<Activity id=907815169 name='Afternoon Ride' resource_state=2>\n",
      "<Activity id=907825743 name='Afternoon Ride' resource_state=2>\n",
      "<Activity id=907774179 name='Afternoon Ride' resource_state=2>\n",
      "<Activity id=908097396 name='Afternoon Ride' resource_state=2>\n",
      "<Activity id=907859792 name='Afternoon Ride' resource_state=2>\n",
      "<Activity id=908074890 name='Garmin Messing ' resource_state=2>\n",
      "<Activity id=907845248 name='Wattbike 4 x 5' resource_state=2>\n",
      "<Activity id=907776818 name='Afternoon Ride' resource_state=2>\n",
      "<Activity id=907758069 name='Afternoon Ride' resource_state=2>\n",
      "<Activity id=907744268 name='Afternoon Ride' resource_state=2>\n",
      "<Activity id=907740542 name='The Sufferfest - (Mashup) Revolver is Easy' resource_state=2>\n",
      "<Activity id=907843035 name='Afternoon Ride' resource_state=2>\n",
      "<Activity id=907787560 name='Zwift - London - Monday - Again' resource_state=2>\n",
      "<Activity id=907650649 name='Afternoon Ride' resource_state=2>\n",
      "<Activity id=907941098 name='Afternoon Ride' resource_state=2>\n",
      "<Activity id=907714427 name='Zwift - Load Ups' resource_state=2>\n",
      "<Activity id=907628073 name='Afternoon Ride' resource_state=2>\n",
      "<Activity id=907647895 name='Afternoon Ride' resource_state=2>\n",
      "<Activity id=907672465 name='Afternoon Ride' resource_state=2>\n",
      "<Activity id=907582109 name='Punta del Este giro limpeza ' resource_state=2>\n",
      "<Activity id=908379104 name=\"That's how to get to a work meeting (thanks Sismic!)\" resource_state=2>\n",
      "<Activity id=907633694 name='Morning Ride' resource_state=2>\n"
     ]
    }
   ],
   "source": [
    "for i in activities:\n",
    "    print(i)"
   ]
  },
  {
   "cell_type": "code",
   "execution_count": 7,
   "metadata": {
    "collapsed": false
   },
   "outputs": [
    {
     "data": {
      "text/plain": [
       "<Activity id=905974360 name='🌬💨💨🚴🚴' resource_state=2>"
      ]
     },
     "execution_count": 7,
     "metadata": {},
     "output_type": "execute_result"
    }
   ],
   "source": [
    "activity = client.get_activity(905974360)\n",
    "activity"
   ]
  },
  {
   "cell_type": "code",
   "execution_count": 8,
   "metadata": {
    "collapsed": false
   },
   "outputs": [],
   "source": [
    "# Not authorised to get activity streams\n",
    "#AS = client.get_activity_streams(905974360)\n"
   ]
  },
  {
   "cell_type": "markdown",
   "metadata": {},
   "source": [
    "Get one of my activites - no problem as I am authenticated"
   ]
  },
  {
   "cell_type": "code",
   "execution_count": 9,
   "metadata": {
    "collapsed": false
   },
   "outputs": [
    {
     "data": {
      "text/plain": [
       "<Activity id=906242425 name='Short Surrey Hills solo' resource_state=3>"
      ]
     },
     "execution_count": 9,
     "metadata": {},
     "output_type": "execute_result"
    }
   ],
   "source": [
    "activity = client.get_activity(906242425)\n",
    "activity\n"
   ]
  },
  {
   "cell_type": "code",
   "execution_count": 10,
   "metadata": {
    "collapsed": false
   },
   "outputs": [
    {
     "data": {
      "text/plain": [
       "[<matplotlib.lines.Line2D at 0x10a6ad630>]"
      ]
     },
     "execution_count": 10,
     "metadata": {},
     "output_type": "execute_result"
    },
    {
     "data": {
      "image/png": "[encoded data removed]",
      "text/plain": [
       "<matplotlib.figure.Figure at 0x118ebc358>"
      ]
     },
     "metadata": {},
     "output_type": "display_data"
    }
   ],
   "source": [
    "AS = client.get_activity_streams(906242425,['time', 'latlng', 'distance', 'altitude', 'velocity_smooth',\n",
    "'heartrate', 'cadence', 'watts', 'temp', 'moving', 'grade_smooth'])\n",
    "plt.plot(AS['watts'].data)"
   ]
  }
 ],
 "metadata": {
  "anaconda-cloud": {},
  "kernelspec": {
   "display_name": "Python [Root]",
   "language": "python",
   "name": "Python [Root]"
  },
  "language_info": {
   "codemirror_mode": {
    "name": "ipython",
    "version": 3
   },
   "file_extension": ".py",
   "mimetype": "text/x-python",
   "name": "python",
   "nbconvert_exporter": "python",
   "pygments_lexer": "ipython3",
   "version": "3.5.2"
  }
 },
 "nbformat": 4,
 "nbformat_minor": 0
}
