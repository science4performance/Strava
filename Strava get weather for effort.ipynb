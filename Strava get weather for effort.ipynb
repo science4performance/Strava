{
 "cells": [
  {
   "cell_type": "markdown",
   "metadata": {},
   "source": [
    "# Get weather for effort or activity"
   ]
  },
  {
   "cell_type": "code",
   "execution_count": 1,
   "metadata": {},
   "outputs": [],
   "source": [
    "import stravalib \n",
    "\n",
    "import sys\n",
    "sys.path.append('/Users/Gavin/Gavin/Jupyter/Weather')\n",
    "from AirDensity import rhoCalc\n",
    "import HistoricWeather"
   ]
  },
  {
   "cell_type": "code",
   "execution_count": 2,
   "metadata": {},
   "outputs": [],
   "source": [
    "def get_token(tokenFile = '/Users/Gavin/Gavin/Tokens/stravaToken.txt'):\n",
    "    \"\"\"Retrieve API token from text file\"\"\"\n",
    "    try:\n",
    "        f = open( tokenFile, 'r' )\n",
    "        mytoken = f.read()\n",
    "        f.close()\n",
    "    except:\n",
    "        print('API access token not found')\n",
    "        mytoken = None\n",
    "    return mytoken\n"
   ]
  },
  {
   "cell_type": "code",
   "execution_count": 3,
   "metadata": {},
   "outputs": [],
   "source": [
    "mytoken = get_token()"
   ]
  },
  {
   "cell_type": "code",
   "execution_count": 4,
   "metadata": {},
   "outputs": [],
   "source": [
    "client = stravalib.Client(access_token = mytoken) "
   ]
  },
  {
   "cell_type": "code",
   "execution_count": 28,
   "metadata": {},
   "outputs": [],
   "source": [
    "xx = client.get_segment_efforts(610040)"
   ]
  },
  {
   "cell_type": "code",
   "execution_count": 29,
   "metadata": {},
   "outputs": [],
   "source": [
    "yy = [x for x in xx]"
   ]
  },
  {
   "cell_type": "code",
   "execution_count": 30,
   "metadata": {},
   "outputs": [],
   "source": [
    "effort = yy[0]"
   ]
  },
  {
   "cell_type": "code",
   "execution_count": 31,
   "metadata": {},
   "outputs": [
    {
     "data": {
      "text/plain": [
       "('Tour de Richmond Park',\n",
       " 51.453639,\n",
       " -0.257223,\n",
       " 25.35,\n",
       " datetime.datetime(2013, 8, 20, 19, 44, 51))"
      ]
     },
     "execution_count": 31,
     "metadata": {},
     "output_type": "execute_result"
    }
   ],
   "source": [
    "name = effort.name\n",
    "elat,elon = effort.segment.end_latlng\n",
    "lat = (effort.segment.start_latitude + elat) / 2\n",
    "lon = (effort.segment.start_longitude + elon) / 2\n",
    "elevation = float(stravalib.unithelper.meters(\n",
    "    (effort.segment.elevation_low + effort.segment.elevation_high) / 2))\n",
    "t = effort.start_date_local + effort.elapsed_time / 2\n",
    "\n",
    "name, lat, lon, elevation, t"
   ]
  },
  {
   "cell_type": "code",
   "execution_count": 104,
   "metadata": {},
   "outputs": [],
   "source": [
    "weather = HistoricWeather.weatherObs(t.day, t.month, t.year, t.hour, t.minute, t.second, lat=lat, lon=lon)"
   ]
  },
  {
   "cell_type": "code",
   "execution_count": 39,
   "metadata": {},
   "outputs": [],
   "source": [
    "weather['AirDensity'] = rhoCalc(weather.Pressure, weather.Temp, weather.Humidity, elevation)\n",
    "weather['Name'] = name\n",
    "weather['Longitude'] = lon\n",
    "weather['Latitude'] = lat\n",
    "weather['Elevation'] = elevation\n"
   ]
  },
  {
   "cell_type": "code",
   "execution_count": 40,
   "metadata": {},
   "outputs": [
    {
     "data": {
      "text/plain": [
       "Pressure                                                   1012\n",
       "Humidity                                                     61\n",
       "Temp                                                         14\n",
       "WindDirn                                                    250\n",
       "Wind                                                          4\n",
       "AirDensity                                              1.13204\n",
       "Name          Ridgeway Spring Classic - break on last lap, b...\n",
       "Longitude                                                -1.475\n",
       "Latitude                                                  51.48\n",
       "Elevation                                                 143.8\n",
       "Name: 2018-05-12 14:42:24, dtype: object"
      ]
     },
     "execution_count": 40,
     "metadata": {},
     "output_type": "execute_result"
    }
   ],
   "source": [
    "weather"
   ]
  },
  {
   "cell_type": "code",
   "execution_count": 23,
   "metadata": {},
   "outputs": [
    {
     "name": "stderr",
     "output_type": "stream",
     "text": [
      "No such attribute leaderboard_opt_out on entity <Activity id=1567745926 name='Ridgeway Spring Classic - break on last lap, but caught with 100m to go' resource_state=None>\n"
     ]
    }
   ],
   "source": [
    "activity = client.get_activity(1567745926)"
   ]
  },
  {
   "cell_type": "code",
   "execution_count": 33,
   "metadata": {},
   "outputs": [
    {
     "data": {
      "text/plain": [
       "('Ridgeway Spring Classic - break on last lap, but caught with 100m to go',\n",
       " 51.480000000000004,\n",
       " -1.475,\n",
       " 143.8,\n",
       " datetime.datetime(2018, 5, 12, 14, 42, 24))"
      ]
     },
     "execution_count": 33,
     "metadata": {},
     "output_type": "execute_result"
    }
   ],
   "source": [
    "name = activity.name\n",
    "elat,elon = activity.end_latlng\n",
    "lat = (activity.start_latitude + elat) / 2\n",
    "lon = (activity.start_longitude + elon) / 2\n",
    "elevation = float(stravalib.unithelper.meters(\n",
    "    (activity.elev_low + activity.elev_high) / 2))\n",
    "t = activity.start_date_local + activity.elapsed_time / 2\n",
    "\n",
    "name, lat, lon, elevation, t"
   ]
  },
  {
   "cell_type": "code",
   "execution_count": 41,
   "metadata": {},
   "outputs": [
    {
     "data": {
      "text/plain": [
       "Pressure                                                   1012\n",
       "Humidity                                                     61\n",
       "Temp                                                         14\n",
       "WindDirn                                                    250\n",
       "Wind                                                          4\n",
       "AirDensity                                              1.13204\n",
       "Name          Ridgeway Spring Classic - break on last lap, b...\n",
       "Activity                                             1567745926\n",
       "Longitude                                                -1.475\n",
       "Latitude                                                  51.48\n",
       "Elevation                                                 143.8\n",
       "Name: 2018-05-12 14:42:24, dtype: object"
      ]
     },
     "execution_count": 41,
     "metadata": {},
     "output_type": "execute_result"
    }
   ],
   "source": [
    "weather = HistoricWeather.weatherObs(t.day, t.month, t.year, t.hour, t.minute, t.second, lat=lat, lon=lon)\n",
    "weather['AirDensity'] = rhoCalc(weather.Pressure, weather.Temp, weather.Humidity, elevation)\n",
    "weather['Name'] = name\n",
    "weather['Activity'] = activity.id\n",
    "weather['Longitude'] = lon\n",
    "weather['Latitude'] = lat\n",
    "weather['Elevation'] = elevation\n",
    "weather"
   ]
  },
  {
   "cell_type": "code",
   "execution_count": 43,
   "metadata": {},
   "outputs": [],
   "source": [
    "import Strava_Download as strava"
   ]
  },
  {
   "cell_type": "code",
   "execution_count": 45,
   "metadata": {},
   "outputs": [
    {
     "name": "stderr",
     "output_type": "stream",
     "text": [
      "No such attribute leaderboard_opt_out on entity <Activity id=1567745926 name='Ridgeway Spring Classic - break on last lap, but caught with 100m to go' resource_state=None>\n"
     ]
    },
    {
     "data": {
      "text/plain": [
       "Pressure                                                   1012\n",
       "Humidity                                                     61\n",
       "Temp                                                         14\n",
       "WindDirn                                                    250\n",
       "Wind                                                          4\n",
       "AirDensity                                              1.13204\n",
       "Name          Ridgeway Spring Classic - break on last lap, b...\n",
       "ID                                                   1567745926\n",
       "Longitude                                                -1.475\n",
       "Latitude                                                  51.48\n",
       "Elevation                                                 143.8\n",
       "Name: 2018-05-12 14:42:24, dtype: object"
      ]
     },
     "execution_count": 45,
     "metadata": {},
     "output_type": "execute_result"
    }
   ],
   "source": [
    "strava.get_activity_weather(1567745926)"
   ]
  },
  {
   "cell_type": "code",
   "execution_count": null,
   "metadata": {},
   "outputs": [],
   "source": []
  }
 ],
 "metadata": {
  "kernelspec": {
   "display_name": "Python [conda env:py35]",
   "language": "python",
   "name": "conda-env-py35-py"
  },
  "language_info": {
   "codemirror_mode": {
    "name": "ipython",
    "version": 3
   },
   "file_extension": ".py",
   "mimetype": "text/x-python",
   "name": "python",
   "nbconvert_exporter": "python",
   "pygments_lexer": "ipython3",
   "version": "3.5.4"
  }
 },
 "nbformat": 4,
 "nbformat_minor": 2
}
