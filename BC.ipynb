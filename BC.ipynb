{
 "cells": [
  {
   "cell_type": "markdown",
   "metadata": {},
   "source": [
    "# Scrape British Cycling\n",
    "\n",
    "First get rider ids from ranking lists\n",
    "https://www.britishcycling.org.uk/ranking/regional/?rank_type=regional&hc=&region=4&choice=rider&year=2017&gender=M&rider_cat=16&resultsperpage=100\n",
    "\n",
    "regions up to 30 or more (some tables are missing)\n",
    "- SE: 4\n",
    "- Yorkshire: 12\n",
    "- South: 1\n",
    "- Scotland HQ: 15\n",
    "\n",
    "categories\n",
    "- cat 2 - 16\n",
    "- cat 3 - 28"
   ]
  },
  {
   "cell_type": "code",
   "execution_count": 1,
   "metadata": {},
   "outputs": [],
   "source": [
    "import requests\n",
    "from bs4 import BeautifulSoup\n",
    "import pandas as pd\n",
    "import sys\n",
    "\n"
   ]
  },
  {
   "cell_type": "code",
   "execution_count": 2,
   "metadata": {},
   "outputs": [],
   "source": [
    "def BCRankings(year=2017, gender = 'M'):\n",
    "    regions = [1, 4, 7, 9, 11, 12, 13, 16, 17, 23, 24, 26, 27, 28, 29, 30]\n",
    "    categories = [16, 28]\n",
    "    dfRank = pd.DataFrame(columns=['Rank', 'Rider', 'Club Name', 'Points', 'RiderID', 'ClubID', 'Region',\n",
    "           'Year', 'Sex', 'Cat','Page'])\n",
    "\n",
    "    for category in categories:\n",
    "\n",
    "        for region in regions:\n",
    "            url = 'https://www.britishcycling.org.uk/ranking/regional/?rank_type=regional&hc=&region={}&choice=rider&year={}&gender={}&rider_cat={}&resultsperpage=999'.format(region, year, gender, category)\n",
    "            r = requests.get(url)\n",
    "            soup = BeautifulSoup(r.text, \"lxml\")\n",
    "            options = soup.find_all('option',selected='selected')\n",
    "            selected = [o.text for o in options]\n",
    "            info = [selected[s] for s in [1,3,4,5]]\n",
    "\n",
    "            table = soup.find_all('tr', \"events--desktop__row\")\n",
    "            if len(table) > 0:   \n",
    "                headers = [t.text for t in table[0].find_all('th')]\n",
    "                headers += ['RiderID', 'ClubID', 'Region','Year', 'Sex', 'Cat','Page']\n",
    "                print(info)\n",
    "                ranking = []\n",
    "                for t in table[1:]:\n",
    "                    recs = t.find_all('td') \n",
    "                    p = recs[1].a['href']\n",
    "                    person_id = p[(1+p.find('=')):p.find('&')]\n",
    "                    p = recs[2].a['href']\n",
    "                    club_id = p[(1+p.find('=')):p.find('&')]\n",
    "                    page = 'https://www.britishcycling.org.uk/points?person_id={}&year={}&d=4'.format(person_id,year)\n",
    "                    ranking += [[r.text.replace(u'\\xa0', u' ') for r in recs]+[person_id,club_id]+info+[page]]\n",
    "                df = pd.DataFrame(ranking, columns=headers)\n",
    "                dfRank = pd.concat([dfRank,df], ignore_index=True)\n",
    "\n",
    "    dfRank.to_excel('BCRankings'+str(year)+gender+'.xlsx',index=False)\n"
   ]
  },
  {
   "cell_type": "code",
   "execution_count": 3,
   "metadata": {},
   "outputs": [
    {
     "name": "stdout",
     "output_type": "stream",
     "text": [
      "['South', '2018', 'Male', '2nd']\n",
      "['South East', '2018', 'Male', '2nd']\n",
      "['Wales', '2018', 'Male', '2nd']\n",
      "['North East', '2018', 'Male', '2nd']\n",
      "['South West', '2018', 'Male', '2nd']\n",
      "['Yorkshire', '2018', 'Male', '2nd']\n",
      "['West Midlands', '2018', 'Male', '2nd']\n",
      "['Eastern', '2018', 'Male', '2nd']\n",
      "['North West', '2018', 'Male', '2nd']\n",
      "['Central', '2018', 'Male', '2nd']\n",
      "['East Midlands', '2018', 'Male', '2nd']\n",
      "['North East Scotland', '2018', 'Male', '2nd']\n",
      "['South West Scotland', '2018', 'Male', '2nd']\n",
      "['East and Central Scotland', '2018', 'Male', '2nd']\n",
      "['West of Scotland', '2018', 'Male', '2nd']\n",
      "['North Scotland', '2018', 'Male', '2nd']\n",
      "['South', '2018', 'Male', '3rd']\n",
      "['South East', '2018', 'Male', '3rd']\n",
      "['Wales', '2018', 'Male', '3rd']\n",
      "['North East', '2018', 'Male', '3rd']\n",
      "['South West', '2018', 'Male', '3rd']\n",
      "['Yorkshire', '2018', 'Male', '3rd']\n",
      "['West Midlands', '2018', 'Male', '3rd']\n",
      "['Eastern', '2018', 'Male', '3rd']\n",
      "['North West', '2018', 'Male', '3rd']\n",
      "['Central', '2018', 'Male', '3rd']\n",
      "['East Midlands', '2018', 'Male', '3rd']\n",
      "['North East Scotland', '2018', 'Male', '3rd']\n",
      "['South West Scotland', '2018', 'Male', '3rd']\n",
      "['East and Central Scotland', '2018', 'Male', '3rd']\n",
      "['West of Scotland', '2018', 'Male', '3rd']\n",
      "['North Scotland', '2018', 'Male', '3rd']\n"
     ]
    }
   ],
   "source": [
    "BCRankings(year=2018, gender = 'M')"
   ]
  },
  {
   "cell_type": "code",
   "execution_count": 30,
   "metadata": {
    "collapsed": true
   },
   "outputs": [],
   "source": []
  },
  {
   "cell_type": "code",
   "execution_count": null,
   "metadata": {
    "collapsed": true
   },
   "outputs": [],
   "source": []
  }
 ],
 "metadata": {
  "kernelspec": {
   "display_name": "Python [conda env:anaconda]",
   "language": "python",
   "name": "conda-env-anaconda-py"
  },
  "language_info": {
   "codemirror_mode": {
    "name": "ipython",
    "version": 3
   },
   "file_extension": ".py",
   "mimetype": "text/x-python",
   "name": "python",
   "nbconvert_exporter": "python",
   "pygments_lexer": "ipython3",
   "version": "3.6.5"
  }
 },
 "nbformat": 4,
 "nbformat_minor": 2
}
