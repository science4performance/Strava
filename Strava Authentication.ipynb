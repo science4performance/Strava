{
 "cells": [
  {
   "cell_type": "markdown",
   "metadata": {},
   "source": [
    "# Strava Authentication\n",
    "Experimenting with strava authentication. Looks like you need a Python WebService to receive back the code appended to the redirect_uri"
   ]
  },
  {
   "cell_type": "code",
   "execution_count": 8,
   "metadata": {},
   "outputs": [],
   "source": [
    "MY_STRAVA_CLIENT_ID  = 16219\n",
    "MY_STRAVA_CLIENT_SECRET = '01b63d632bd0a20cc25617c3049d432b1164d506'\n",
    "\n",
    "\n",
    "from stravalib import Client\n",
    "client = Client()\n",
    "#url = client.authorization_url(client_id=MY_STRAVA_CLIENT_ID, redirect_uri='localhost')\n",
    "\n"
   ]
  },
  {
   "cell_type": "code",
   "execution_count": 27,
   "metadata": {},
   "outputs": [
    {
     "name": "stdout",
     "output_type": "stream",
     "text": [
      "https://www.strava.com/oauth/authorize?redirect_uri=http%3A%2F%2Flocalhost%3A8282%2Fauthorized&client_id=16219&scope=write&approval_prompt=auto&response_type=code\n"
     ]
    }
   ],
   "source": [
    "url = client.authorization_url(client_id=MY_STRAVA_CLIENT_ID,\n",
    "                               redirect_uri='http://localhost:8282/authorized', scope='write')\n",
    "\n",
    "print(url)"
   ]
  },
  {
   "cell_type": "code",
   "execution_count": 15,
   "metadata": {},
   "outputs": [],
   "source": [
    "#print(request.text)"
   ]
  },
  {
   "cell_type": "code",
   "execution_count": 31,
   "metadata": {},
   "outputs": [],
   "source": [
    "#code = request.args.get('code') # e.g.\n",
    "code = '5e0667465763b17af2abcf2fa05cc68b4208bdc3'\n",
    "client = Client()\n",
    "access_token = client.exchange_code_for_token(client_id=MY_STRAVA_CLIENT_ID,\n",
    "                                              client_secret=MY_STRAVA_CLIENT_SECRET,\n",
    "                                              code=code)\n",
    "STORED_ACCESS_TOKEN = access_token"
   ]
  },
  {
   "cell_type": "code",
   "execution_count": 32,
   "metadata": {},
   "outputs": [
    {
     "name": "stdout",
     "output_type": "stream",
     "text": [
      "<Athlete id=351706 firstname=Gavin lastname=Francis>\n"
     ]
    }
   ],
   "source": [
    "client = Client(access_token=STORED_ACCESS_TOKEN)\n",
    "x = client.get_athlete() # Get current athlete details\n",
    "print(x)"
   ]
  },
  {
   "cell_type": "code",
   "execution_count": 35,
   "metadata": {},
   "outputs": [
    {
     "data": {
      "text/plain": [
       "datetime.timedelta(0, 1800)"
      ]
     },
     "execution_count": 35,
     "metadata": {},
     "output_type": "execute_result"
    }
   ],
   "source": [
    "import datetime as dt\n",
    "start = dt.datetime(2017,5,17,15,0,0)\n",
    "end = dt.datetime(2017,5,17,15,30,0)\n",
    "elapsed = end-start\n",
    "elapsed"
   ]
  },
  {
   "cell_type": "code",
   "execution_count": 36,
   "metadata": {},
   "outputs": [
    {
     "name": "stderr",
     "output_type": "stream",
     "text": [
      "No such attribute utc_offset on entity <Activity id=992370408 name=None resource_state=None>\n"
     ]
    },
    {
     "data": {
      "text/plain": [
       "<Activity id=992370408 name='Testing' resource_state=3>"
      ]
     },
     "execution_count": 36,
     "metadata": {},
     "output_type": "execute_result"
    }
   ],
   "source": [
    "client.create_activity(name='Testing', activity_type='ride', start_date_local=start, elapsed_time=elapsed, description='Description of event', distance=10000.0)\n",
    "\n"
   ]
  },
  {
   "cell_type": "code",
   "execution_count": null,
   "metadata": {
    "collapsed": true
   },
   "outputs": [],
   "source": []
  }
 ],
 "metadata": {
  "kernelspec": {
   "display_name": "Python [Root]",
   "language": "python",
   "name": "Python [Root]"
  },
  "language_info": {
   "codemirror_mode": {
    "name": "ipython",
    "version": 3
   },
   "file_extension": ".py",
   "mimetype": "text/x-python",
   "name": "python",
   "nbconvert_exporter": "python",
   "pygments_lexer": "ipython3",
   "version": "3.5.2"
  }
 },
 "nbformat": 4,
 "nbformat_minor": 2
}
