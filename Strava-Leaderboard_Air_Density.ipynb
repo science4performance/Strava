{
 "cells": [
  {
   "cell_type": "markdown",
   "metadata": {},
   "source": [
    "# Best weather conditions for a KOM on Strava\n",
    "This blog considers the impact of variations in air density. To start, \n",
    "load a previously pickled geographic coordinates, leaderboard and weather observations."
   ]
  },
  {
   "cell_type": "code",
   "execution_count": 1,
   "metadata": {
    "collapsed": false
   },
   "outputs": [],
   "source": [
    "%matplotlib inline\n",
    "import matplotlib.pylab as plt\n",
    "import pandas as pd\n",
    "import numpy as np\n",
    "\n",
    "import sys\n",
    "sys.path.append('/Users/Gavin/Gavin/Jupyter/Weather')\n",
    "from AirDensity import rhoCalc\n",
    "\n",
    "segment = 610040\n",
    "geo = pd.read_pickle('/Users/Gavin/Gavin/jupyter/Strava/'+str(segment)+'_geo.pkl')\n",
    "\n",
    "LB = pd.read_pickle('/Users/Gavin/Gavin/jupyter/Strava/'+str(segment)+'_LB.pkl')\n",
    "observations = pd.read_pickle('/Users/Gavin/Gavin/jupyter/Strava/'+str(segment)+'_observations.pkl')\n",
    "\n",
    "annualStats = pd.read_pickle('/Users/Gavin/Gavin/jupyter/Strava/'+str(segment)+'_AnnualStats.pkl')"
   ]
  },
  {
   "cell_type": "markdown",
   "metadata": {},
   "source": [
    "Calculate the air density using the mean elevation from the geographic coordinates of the segment. Then merge this into the leaderboard."
   ]
  },
  {
   "cell_type": "code",
   "execution_count": 2,
   "metadata": {
    "collapsed": false
   },
   "outputs": [],
   "source": [
    "observations['AirDensity'] = observations.apply(lambda row: rhoCalc(Pressure=row['Pressure'],Temp=row['Temp'],Humidity=row['Humidity'],Elevation=geo.altitude.mean()), axis=1)\n",
    "LB = pd.merge(LB,observations,left_on=['start_date_local'], right_index=True).drop_duplicates().sort_index()\n",
    "annualStats['meanAirDensity'] = annualStats.apply(lambda row: rhoCalc(Pressure=row['meanP'],Temp=row['meanT'],Humidity=row['meanH'],Elevation=geo.altitude.mean()), axis=1)\n"
   ]
  },
  {
   "cell_type": "markdown",
   "metadata": {},
   "source": [
    "In a previous blog we noted that that most records were set between June and September. The following chart shows the mean air density in London for each month."
   ]
  },
  {
   "cell_type": "code",
   "execution_count": 3,
   "metadata": {
    "collapsed": false
   },
   "outputs": [
    {
     "data": {
      "image/png": "[encoded data removed]",
      "text/plain": [
       "<matplotlib.figure.Figure at 0x114877780>"
      ]
     },
     "metadata": {},
     "output_type": "display_data"
    }
   ],
   "source": [
    "# The month in which PBs are set\n",
    "\n",
    "fig, ax1 = plt.subplots()\n",
    "ax2 = ax1.twinx()\n",
    "annualStats.meanAirDensity.shift(-1).plot(ax=ax2,c='r',marker='o')\n",
    "LB.start_date_local.dt.month.value_counts().reindex(np.arange(1,13)).plot(kind='bar', xlim=(1,12), title='Month when PB set with Mean Air Density', width=1,ax=ax1)\n",
    "ax1.set_xticklabels( ['J','F','M','A','M','J','J','A','S','O','N','D'],rotation='horizontal')\n",
    "ax1.set_ylabel('Frequency')\n",
    "ax2.set_ylabel(r'$Air Density kg/m^3$')\n",
    "fig.savefig('MonthPlotRho.png')\n",
    "\n",
    "plt.show()\n",
    "\n"
   ]
  },
  {
   "cell_type": "markdown",
   "metadata": {},
   "source": [
    "Calculate the time saving for min v max monthly average air density. Convert this into a time to complete RP assuming 40kph in high air density."
   ]
  },
  {
   "cell_type": "code",
   "execution_count": 4,
   "metadata": {
    "collapsed": false
   },
   "outputs": [
    {
     "name": "stdout",
     "output_type": "stream",
     "text": [
      "Winter time =  0 days 00:16:12  Summer time =  0 days 00:15:56.596889\n"
     ]
    }
   ],
   "source": [
    "tDelta = (annualStats.meanAirDensity.shift(-1).min()/annualStats.meanAirDensity.shift(-1).max())**(1/3)\n",
    "print('Winter time = ', pd.Timedelta(hours=10.8/40), ' Summer time = ', pd.Timedelta(hours=10.8/40*tDelta))"
   ]
  },
  {
   "cell_type": "code",
   "execution_count": 5,
   "metadata": {
    "collapsed": false
   },
   "outputs": [
    {
     "data": {
      "text/html": [
       "<div>\n",
       "<table border=\"1\" class=\"dataframe\">\n",
       "  <thead>\n",
       "    <tr style=\"text-align: right;\">\n",
       "      <th></th>\n",
       "      <th>meanT</th>\n",
       "      <th>meanP</th>\n",
       "      <th>meanH</th>\n",
       "      <th>meanAirDensity</th>\n",
       "    </tr>\n",
       "  </thead>\n",
       "  <tbody>\n",
       "    <tr>\n",
       "      <th>0</th>\n",
       "      <td>12</td>\n",
       "      <td>1015</td>\n",
       "      <td>73</td>\n",
       "      <td>1.231281</td>\n",
       "    </tr>\n",
       "    <tr>\n",
       "      <th>1</th>\n",
       "      <td>6</td>\n",
       "      <td>1015</td>\n",
       "      <td>80</td>\n",
       "      <td>1.258959</td>\n",
       "    </tr>\n",
       "    <tr>\n",
       "      <th>2</th>\n",
       "      <td>6</td>\n",
       "      <td>1014</td>\n",
       "      <td>77</td>\n",
       "      <td>1.257847</td>\n",
       "    </tr>\n",
       "    <tr>\n",
       "      <th>3</th>\n",
       "      <td>8</td>\n",
       "      <td>1016</td>\n",
       "      <td>70</td>\n",
       "      <td>1.251254</td>\n",
       "    </tr>\n",
       "    <tr>\n",
       "      <th>4</th>\n",
       "      <td>11</td>\n",
       "      <td>1016</td>\n",
       "      <td>65</td>\n",
       "      <td>1.237613</td>\n",
       "    </tr>\n",
       "    <tr>\n",
       "      <th>5</th>\n",
       "      <td>14</td>\n",
       "      <td>1015</td>\n",
       "      <td>67</td>\n",
       "      <td>1.222517</td>\n",
       "    </tr>\n",
       "    <tr>\n",
       "      <th>6</th>\n",
       "      <td>17</td>\n",
       "      <td>1017</td>\n",
       "      <td>65</td>\n",
       "      <td>1.211456</td>\n",
       "    </tr>\n",
       "    <tr>\n",
       "      <th>7</th>\n",
       "      <td>19</td>\n",
       "      <td>1015</td>\n",
       "      <td>65</td>\n",
       "      <td>1.200051</td>\n",
       "    </tr>\n",
       "    <tr>\n",
       "      <th>8</th>\n",
       "      <td>18</td>\n",
       "      <td>1014</td>\n",
       "      <td>69</td>\n",
       "      <td>1.202985</td>\n",
       "    </tr>\n",
       "    <tr>\n",
       "      <th>9</th>\n",
       "      <td>16</td>\n",
       "      <td>1017</td>\n",
       "      <td>73</td>\n",
       "      <td>1.215323</td>\n",
       "    </tr>\n",
       "    <tr>\n",
       "      <th>10</th>\n",
       "      <td>13</td>\n",
       "      <td>1015</td>\n",
       "      <td>78</td>\n",
       "      <td>1.226328</td>\n",
       "    </tr>\n",
       "    <tr>\n",
       "      <th>11</th>\n",
       "      <td>9</td>\n",
       "      <td>1012</td>\n",
       "      <td>81</td>\n",
       "      <td>1.241076</td>\n",
       "    </tr>\n",
       "    <tr>\n",
       "      <th>12</th>\n",
       "      <td>6</td>\n",
       "      <td>1015</td>\n",
       "      <td>81</td>\n",
       "      <td>1.258915</td>\n",
       "    </tr>\n",
       "  </tbody>\n",
       "</table>\n",
       "</div>"
      ],
      "text/plain": [
       "    meanT  meanP  meanH  meanAirDensity\n",
       "0      12   1015     73        1.231281\n",
       "1       6   1015     80        1.258959\n",
       "2       6   1014     77        1.257847\n",
       "3       8   1016     70        1.251254\n",
       "4      11   1016     65        1.237613\n",
       "5      14   1015     67        1.222517\n",
       "6      17   1017     65        1.211456\n",
       "7      19   1015     65        1.200051\n",
       "8      18   1014     69        1.202985\n",
       "9      16   1017     73        1.215323\n",
       "10     13   1015     78        1.226328\n",
       "11      9   1012     81        1.241076\n",
       "12      6   1015     81        1.258915"
      ]
     },
     "execution_count": 5,
     "metadata": {},
     "output_type": "execute_result"
    }
   ],
   "source": [
    "annualStats"
   ]
  },
  {
   "cell_type": "markdown",
   "metadata": {},
   "source": [
    "Calculate the variation of air density due to annual changes in Temperature, Pressure and Humidity"
   ]
  },
  {
   "cell_type": "code",
   "execution_count": 6,
   "metadata": {
    "collapsed": false
   },
   "outputs": [
    {
     "data": {
      "image/png": "[encoded data removed]",
      "text/plain": [
       "<matplotlib.figure.Figure at 0x11748cba8>"
      ]
     },
     "metadata": {},
     "output_type": "display_data"
    }
   ],
   "source": [
    "annualStats['dRhoBydT'] = annualStats.apply(lambda row: rhoCalc(Pressure=annualStats.meanP[0],Temp=row['meanT'],Humidity=annualStats.meanH[0],Elevation=geo.altitude.mean()), axis=1)\n",
    "annualStats['dRhoBydP'] = annualStats.apply(lambda row: rhoCalc(Pressure=row['meanP'],Temp=annualStats.meanT[0],Humidity=annualStats.meanH[0],Elevation=geo.altitude.mean()), axis=1)\n",
    "annualStats['dRhoBydH'] = annualStats.apply(lambda row: rhoCalc(Pressure=annualStats.meanP[0],Temp=annualStats.meanT[0],Humidity=row['meanH'],Elevation=geo.altitude.mean()), axis=1)\n",
    "\n",
    "ax = annualStats[['dRhoBydT','dRhoBydP','dRhoBydH']].loc[1:].plot(title='Variations in air density due to seasonal changes\\n in Temperature, Pressure and Humidity')\n",
    "ax.legend(labels=['Temperature', 'Pressure', 'Humidity'],loc=3)\n",
    "ax.set_xticks(np.arange(1,12))\n",
    "ax.set_xticklabels( ['J','F','M','A','M','J','J','A','S','O','N','D'],rotation='horizontal')\n",
    "ax.set_ylabel(r'$Air Density kg/m^3$')\n",
    "plt.savefig('dRhodTPH.png')\n"
   ]
  },
  {
   "cell_type": "markdown",
   "metadata": {},
   "source": [
    "Although temperature is the primary determinant of seasonal variations in air density, both atmospheric pressure and humidity can vary significantly from day to day, so it is important to consider these factors when aiming for a KOM. The next chart shows the variability of air density, measured on a particular day, for a range temperatures, pressures and humidities."
   ]
  },
  {
   "cell_type": "code",
   "execution_count": 7,
   "metadata": {
    "collapsed": true
   },
   "outputs": [],
   "source": [
    "rangeT = [-10,40]\n",
    "rangeP = [950, 1050]\n",
    "rangeH = [0, 100]"
   ]
  },
  {
   "cell_type": "code",
   "execution_count": 8,
   "metadata": {
    "collapsed": false
   },
   "outputs": [
    {
     "data": {
      "image/png": "[encoded data removed]",
      "text/plain": [
       "<matplotlib.figure.Figure at 0x1179ca400>"
      ]
     },
     "metadata": {},
     "output_type": "display_data"
    }
   ],
   "source": [
    "rangeX = pd.DataFrame()\n",
    "for i in range(2):\n",
    "    rangeX[i] = [\\\n",
    "                 rhoCalc(Pressure=annualStats.meanP[0],Temp=rangeT[i],Humidity=annualStats.meanH[0],Elevation=geo.altitude.mean()),\\\n",
    "                 rhoCalc(Pressure=rangeP[i],Temp=annualStats.meanT[0],Humidity=annualStats.meanH[0],Elevation=geo.altitude.mean()),\\\n",
    "                 rhoCalc(Pressure=annualStats.meanP[0],Temp=annualStats.meanT[0],Humidity=rangeH[i],Elevation=geo.altitude.mean())\\\n",
    "                  ]\n",
    "\n",
    "    \n",
    "ax = rangeX[1].subtract(rangeX[0]).plot.bar(bottom=rangeX[0], ylim=(1.0,1.4))\n",
    "\n",
    "ax.set_xticklabels( ['Temperature','Pressure','Humidity'],rotation=0)\n",
    "ax.set_ylabel(r'$Air Density kg/m^3$')\n",
    "ax.set_title('Sensitivity of air density to changes in\\nTemperature, Pressure and Humidity')\n",
    "\n",
    "rects = ax.patches\n",
    "\n",
    "# Now make some labels\n",
    "labels = [str(rangeT[0])+'C', str(rangeP[1])+'hPa', str(rangeH[0])+'%']\n",
    "for rect, label in zip(rects, labels):\n",
    "    height = rect.get_height()\n",
    "    ax.text(rect.get_x() + rect.get_width()/2, (height*.5 + 1.24), label, ha='center', va='bottom')\n",
    "\n",
    "labels = [str(rangeT[1])+'C', str(rangeP[0])+'hPa', str(rangeH[1])+'%']\n",
    "for rect, label in zip(rects, labels):\n",
    "    height = rect.get_height()\n",
    "    ax.text(rect.get_x() + rect.get_width()/2, (-height*.6 + 1.20), label, ha='center', va='bottom')\n",
    "M = rhoCalc(Pressure=annualStats.meanP[0],Temp=annualStats.meanT[0],Humidity=annualStats.meanH[0],Elevation=geo.altitude.mean())\n",
    "plt.plot([M]*3,c='r');\n",
    "plt.savefig('rangeRho.png')\n"
   ]
  },
  {
   "cell_type": "code",
   "execution_count": 9,
   "metadata": {
    "collapsed": false
   },
   "outputs": [
    {
     "data": {
      "text/html": [
       "<div>\n",
       "<table border=\"1\" class=\"dataframe\">\n",
       "  <thead>\n",
       "    <tr style=\"text-align: right;\">\n",
       "      <th></th>\n",
       "      <th>0</th>\n",
       "      <th>1</th>\n",
       "    </tr>\n",
       "  </thead>\n",
       "  <tbody>\n",
       "    <tr>\n",
       "      <th>0</th>\n",
       "      <td>1.337935</td>\n",
       "      <td>1.103182</td>\n",
       "    </tr>\n",
       "    <tr>\n",
       "      <th>1</th>\n",
       "      <td>1.152128</td>\n",
       "      <td>1.273902</td>\n",
       "    </tr>\n",
       "    <tr>\n",
       "      <th>2</th>\n",
       "      <td>1.236009</td>\n",
       "      <td>1.229533</td>\n",
       "    </tr>\n",
       "  </tbody>\n",
       "</table>\n",
       "</div>"
      ],
      "text/plain": [
       "          0         1\n",
       "0  1.337935  1.103182\n",
       "1  1.152128  1.273902\n",
       "2  1.236009  1.229533"
      ]
     },
     "execution_count": 9,
     "metadata": {},
     "output_type": "execute_result"
    }
   ],
   "source": [
    "rangeX"
   ]
  },
  {
   "cell_type": "code",
   "execution_count": 10,
   "metadata": {
    "collapsed": false
   },
   "outputs": [
    {
     "data": {
      "text/html": [
       "<div>\n",
       "<table border=\"1\" class=\"dataframe\">\n",
       "  <thead>\n",
       "    <tr style=\"text-align: right;\">\n",
       "      <th></th>\n",
       "      <th>activity_id</th>\n",
       "      <th>athlete_gender</th>\n",
       "      <th>athlete_id</th>\n",
       "      <th>athlete_name</th>\n",
       "      <th>athlete_profile</th>\n",
       "      <th>average_hr</th>\n",
       "      <th>average_watts</th>\n",
       "      <th>distance</th>\n",
       "      <th>effort_id</th>\n",
       "      <th>elapsed_time</th>\n",
       "      <th>moving_time</th>\n",
       "      <th>rank</th>\n",
       "      <th>start_date_local</th>\n",
       "      <th>Humidity</th>\n",
       "      <th>Pressure</th>\n",
       "      <th>Temp</th>\n",
       "      <th>Wind</th>\n",
       "      <th>WindDirn</th>\n",
       "      <th>AirDensity</th>\n",
       "    </tr>\n",
       "  </thead>\n",
       "  <tbody>\n",
       "    <tr>\n",
       "      <th>168</th>\n",
       "      <td>1186007</td>\n",
       "      <td>M</td>\n",
       "      <td>112655</td>\n",
       "      <td>James Hansell</td>\n",
       "      <td>https://dgalywyr863hv.cloudfront.net/pictures/...</td>\n",
       "      <td>180.6</td>\n",
       "      <td>285.7</td>\n",
       "      <td>10779.5</td>\n",
       "      <td>17902981</td>\n",
       "      <td>00:16:10</td>\n",
       "      <td>00:16:10</td>\n",
       "      <td>168</td>\n",
       "      <td>2011-08-10 19:17:06</td>\n",
       "      <td>57.0</td>\n",
       "      <td>920.0</td>\n",
       "      <td>21.0</td>\n",
       "      <td>14.0</td>\n",
       "      <td>236.0</td>\n",
       "      <td>1.079808</td>\n",
       "    </tr>\n",
       "    <tr>\n",
       "      <th>687</th>\n",
       "      <td>342054579</td>\n",
       "      <td>M</td>\n",
       "      <td>1471819</td>\n",
       "      <td>Max Maggioni</td>\n",
       "      <td>https://graph.facebook.com/v2.2/592093694/pict...</td>\n",
       "      <td>NaN</td>\n",
       "      <td>275.9</td>\n",
       "      <td>10810.8</td>\n",
       "      <td>8120532241</td>\n",
       "      <td>00:17:23</td>\n",
       "      <td>00:17:23</td>\n",
       "      <td>681</td>\n",
       "      <td>2015-07-06 19:24:05</td>\n",
       "      <td>56.0</td>\n",
       "      <td>971.0</td>\n",
       "      <td>22.0</td>\n",
       "      <td>10.0</td>\n",
       "      <td>223.0</td>\n",
       "      <td>1.135887</td>\n",
       "    </tr>\n",
       "    <tr>\n",
       "      <th>699</th>\n",
       "      <td>341250719</td>\n",
       "      <td>M</td>\n",
       "      <td>1814759</td>\n",
       "      <td>Juan Casasbuenas</td>\n",
       "      <td>https://dgalywyr863hv.cloudfront.net/pictures/...</td>\n",
       "      <td>NaN</td>\n",
       "      <td>278.2</td>\n",
       "      <td>10799.1</td>\n",
       "      <td>8102099754</td>\n",
       "      <td>00:17:24</td>\n",
       "      <td>00:17:24</td>\n",
       "      <td>693</td>\n",
       "      <td>2015-07-06 19:24:02</td>\n",
       "      <td>56.0</td>\n",
       "      <td>970.0</td>\n",
       "      <td>22.0</td>\n",
       "      <td>10.0</td>\n",
       "      <td>223.0</td>\n",
       "      <td>1.134711</td>\n",
       "    </tr>\n",
       "    <tr>\n",
       "      <th>715</th>\n",
       "      <td>340554362</td>\n",
       "      <td>M</td>\n",
       "      <td>1786842</td>\n",
       "      <td>Pablo Casasbuenas</td>\n",
       "      <td>https://dgalywyr863hv.cloudfront.net/pictures/...</td>\n",
       "      <td>NaN</td>\n",
       "      <td>94.6</td>\n",
       "      <td>10812.8</td>\n",
       "      <td>8086209241</td>\n",
       "      <td>00:17:25</td>\n",
       "      <td>00:17:25</td>\n",
       "      <td>708</td>\n",
       "      <td>2015-07-06 19:24:03</td>\n",
       "      <td>56.0</td>\n",
       "      <td>970.0</td>\n",
       "      <td>22.0</td>\n",
       "      <td>10.0</td>\n",
       "      <td>223.0</td>\n",
       "      <td>1.134711</td>\n",
       "    </tr>\n",
       "    <tr>\n",
       "      <th>859</th>\n",
       "      <td>168011838</td>\n",
       "      <td>M</td>\n",
       "      <td>3211957</td>\n",
       "      <td>Dan Jacobs</td>\n",
       "      <td>https://dgalywyr863hv.cloudfront.net/pictures/...</td>\n",
       "      <td>78.0</td>\n",
       "      <td>269.7</td>\n",
       "      <td>10783.5</td>\n",
       "      <td>3908924994</td>\n",
       "      <td>00:17:34</td>\n",
       "      <td>00:17:34</td>\n",
       "      <td>851</td>\n",
       "      <td>2014-07-05 09:13:22</td>\n",
       "      <td>93.0</td>\n",
       "      <td>962.0</td>\n",
       "      <td>NaN</td>\n",
       "      <td>10.0</td>\n",
       "      <td>189.0</td>\n",
       "      <td>NaN</td>\n",
       "    </tr>\n",
       "  </tbody>\n",
       "</table>\n",
       "</div>"
      ],
      "text/plain": [
       "     activity_id athlete_gender  athlete_id       athlete_name  \\\n",
       "168      1186007              M      112655      James Hansell   \n",
       "687    342054579              M     1471819       Max Maggioni   \n",
       "699    341250719              M     1814759   Juan Casasbuenas   \n",
       "715    340554362              M     1786842  Pablo Casasbuenas   \n",
       "859    168011838              M     3211957         Dan Jacobs   \n",
       "\n",
       "                                       athlete_profile  average_hr  \\\n",
       "168  https://dgalywyr863hv.cloudfront.net/pictures/...       180.6   \n",
       "687  https://graph.facebook.com/v2.2/592093694/pict...         NaN   \n",
       "699  https://dgalywyr863hv.cloudfront.net/pictures/...         NaN   \n",
       "715  https://dgalywyr863hv.cloudfront.net/pictures/...         NaN   \n",
       "859  https://dgalywyr863hv.cloudfront.net/pictures/...        78.0   \n",
       "\n",
       "     average_watts  distance   effort_id  elapsed_time  moving_time  rank  \\\n",
       "168          285.7   10779.5    17902981      00:16:10     00:16:10   168   \n",
       "687          275.9   10810.8  8120532241      00:17:23     00:17:23   681   \n",
       "699          278.2   10799.1  8102099754      00:17:24     00:17:24   693   \n",
       "715           94.6   10812.8  8086209241      00:17:25     00:17:25   708   \n",
       "859          269.7   10783.5  3908924994      00:17:34     00:17:34   851   \n",
       "\n",
       "       start_date_local  Humidity  Pressure  Temp  Wind  WindDirn  AirDensity  \n",
       "168 2011-08-10 19:17:06      57.0     920.0  21.0  14.0     236.0    1.079808  \n",
       "687 2015-07-06 19:24:05      56.0     971.0  22.0  10.0     223.0    1.135887  \n",
       "699 2015-07-06 19:24:02      56.0     970.0  22.0  10.0     223.0    1.134711  \n",
       "715 2015-07-06 19:24:03      56.0     970.0  22.0  10.0     223.0    1.134711  \n",
       "859 2014-07-05 09:13:22      93.0     962.0   NaN  10.0     189.0         NaN  "
      ]
     },
     "execution_count": 10,
     "metadata": {},
     "output_type": "execute_result"
    }
   ],
   "source": [
    "LB[LB.Pressure<980]"
   ]
  },
  {
   "cell_type": "code",
   "execution_count": null,
   "metadata": {
    "collapsed": true
   },
   "outputs": [],
   "source": []
  },
  {
   "cell_type": "code",
   "execution_count": 11,
   "metadata": {
    "collapsed": false
   },
   "outputs": [
    {
     "data": {
      "image/png": "[encoded data removed]",
      "text/plain": [
       "<matplotlib.figure.Figure at 0x117eb56d8>"
      ]
     },
     "metadata": {},
     "output_type": "display_data"
    }
   ],
   "source": [
    "from matplotlib.pyplot import cm \n",
    "fig, ax = plt.subplots();\n",
    "for label, df in LB.groupby((LB.index-1)//250):\n",
    "    df.plot.scatter(x='Temp',y='Pressure',ax=ax,color=cm.rainbow(label/4),label='Q'+str(label+1),s=50-label*10,xlim=(0,35),ylim=(980,1050));\n",
    "ax.legend(loc=3);\n",
    "ax.set_title('Pressure v Temperature - by leaderboard quartile');\n",
    "ax.set_ylabel('Pressure (hPa)');\n",
    "ax.set_xlabel('Temperature (C)');\n",
    "ax.text(2,1045,'High air density');\n",
    "ax.text(25,990,'Low air density');\n",
    "plt.plot((0,35),(annualStats.meanP[0], annualStats.meanP[0]), 'r-');\n",
    "plt.plot((annualStats.meanT[0], annualStats.meanT[0]), (980, 1050), 'r-');\n",
    "plt.savefig('PvT.png')"
   ]
  },
  {
   "cell_type": "code",
   "execution_count": 12,
   "metadata": {
    "collapsed": false
   },
   "outputs": [
    {
     "data": {
      "text/plain": [
       "0    1.196534\n",
       "1    1.199373\n",
       "2    1.200857\n",
       "3    1.197362\n",
       "Name: AirDensity, dtype: float64"
      ]
     },
     "execution_count": 12,
     "metadata": {},
     "output_type": "execute_result"
    }
   ],
   "source": [
    "LB.AirDensity.groupby((LB.index-1)//250).mean()"
   ]
  },
  {
   "cell_type": "code",
   "execution_count": 13,
   "metadata": {
    "collapsed": false
   },
   "outputs": [
    {
     "data": {
      "text/plain": [
       "605"
      ]
     },
     "execution_count": 13,
     "metadata": {},
     "output_type": "execute_result"
    }
   ],
   "source": [
    "LB.Pressure[LB.Pressure>annualStats.meanP[0]].count()"
   ]
  },
  {
   "cell_type": "code",
   "execution_count": 14,
   "metadata": {
    "collapsed": false
   },
   "outputs": [
    {
     "name": "stderr",
     "output_type": "stream",
     "text": [
      "/Users/Gavin/anaconda/lib/python3.5/site-packages/numpy/lib/function_base.py:3834: RuntimeWarning: Invalid value encountered in percentile\n",
      "  RuntimeWarning)\n"
     ]
    },
    {
     "data": {
      "text/html": [
       "<div>\n",
       "<table border=\"1\" class=\"dataframe\">\n",
       "  <thead>\n",
       "    <tr style=\"text-align: right;\">\n",
       "      <th></th>\n",
       "      <th>Humidity</th>\n",
       "      <th>Pressure</th>\n",
       "      <th>Temp</th>\n",
       "      <th>Wind</th>\n",
       "      <th>WindDirn</th>\n",
       "      <th>AirDensity</th>\n",
       "    </tr>\n",
       "  </thead>\n",
       "  <tbody>\n",
       "    <tr>\n",
       "      <th>count</th>\n",
       "      <td>1000.000000</td>\n",
       "      <td>1000.000000</td>\n",
       "      <td>999.000000</td>\n",
       "      <td>1000.000000</td>\n",
       "      <td>1000.000000</td>\n",
       "      <td>999.000000</td>\n",
       "    </tr>\n",
       "    <tr>\n",
       "      <th>mean</th>\n",
       "      <td>68.043000</td>\n",
       "      <td>1017.075000</td>\n",
       "      <td>19.879880</td>\n",
       "      <td>7.481562</td>\n",
       "      <td>177.750000</td>\n",
       "      <td>1.198532</td>\n",
       "    </tr>\n",
       "    <tr>\n",
       "      <th>std</th>\n",
       "      <td>12.610638</td>\n",
       "      <td>8.243017</td>\n",
       "      <td>4.384294</td>\n",
       "      <td>3.258863</td>\n",
       "      <td>99.895408</td>\n",
       "      <td>0.022347</td>\n",
       "    </tr>\n",
       "    <tr>\n",
       "      <th>min</th>\n",
       "      <td>40.000000</td>\n",
       "      <td>920.000000</td>\n",
       "      <td>5.000000</td>\n",
       "      <td>1.000000</td>\n",
       "      <td>1.000000</td>\n",
       "      <td>1.079808</td>\n",
       "    </tr>\n",
       "    <tr>\n",
       "      <th>25%</th>\n",
       "      <td>58.000000</td>\n",
       "      <td>1013.000000</td>\n",
       "      <td>NaN</td>\n",
       "      <td>5.000000</td>\n",
       "      <td>87.000000</td>\n",
       "      <td>NaN</td>\n",
       "    </tr>\n",
       "    <tr>\n",
       "      <th>50%</th>\n",
       "      <td>68.000000</td>\n",
       "      <td>1018.000000</td>\n",
       "      <td>NaN</td>\n",
       "      <td>7.000000</td>\n",
       "      <td>189.500000</td>\n",
       "      <td>NaN</td>\n",
       "    </tr>\n",
       "    <tr>\n",
       "      <th>75%</th>\n",
       "      <td>78.000000</td>\n",
       "      <td>1022.000000</td>\n",
       "      <td>NaN</td>\n",
       "      <td>10.000000</td>\n",
       "      <td>260.000000</td>\n",
       "      <td>NaN</td>\n",
       "    </tr>\n",
       "    <tr>\n",
       "      <th>max</th>\n",
       "      <td>100.000000</td>\n",
       "      <td>1039.000000</td>\n",
       "      <td>31.000000</td>\n",
       "      <td>19.000000</td>\n",
       "      <td>360.000000</td>\n",
       "      <td>1.286685</td>\n",
       "    </tr>\n",
       "  </tbody>\n",
       "</table>\n",
       "</div>"
      ],
      "text/plain": [
       "          Humidity     Pressure        Temp         Wind     WindDirn  \\\n",
       "count  1000.000000  1000.000000  999.000000  1000.000000  1000.000000   \n",
       "mean     68.043000  1017.075000   19.879880     7.481562   177.750000   \n",
       "std      12.610638     8.243017    4.384294     3.258863    99.895408   \n",
       "min      40.000000   920.000000    5.000000     1.000000     1.000000   \n",
       "25%      58.000000  1013.000000         NaN     5.000000    87.000000   \n",
       "50%      68.000000  1018.000000         NaN     7.000000   189.500000   \n",
       "75%      78.000000  1022.000000         NaN    10.000000   260.000000   \n",
       "max     100.000000  1039.000000   31.000000    19.000000   360.000000   \n",
       "\n",
       "       AirDensity  \n",
       "count  999.000000  \n",
       "mean     1.198532  \n",
       "std      0.022347  \n",
       "min      1.079808  \n",
       "25%           NaN  \n",
       "50%           NaN  \n",
       "75%           NaN  \n",
       "max      1.286685  "
      ]
     },
     "execution_count": 14,
     "metadata": {},
     "output_type": "execute_result"
    }
   ],
   "source": [
    "observations.describe()"
   ]
  },
  {
   "cell_type": "code",
   "execution_count": 15,
   "metadata": {
    "collapsed": false
   },
   "outputs": [
    {
     "data": {
      "text/plain": [
       "activity_id                                                 367579592\n",
       "athlete_gender                                                      M\n",
       "athlete_id                                                     148510\n",
       "athlete_name                                             Rob Sharland\n",
       "athlete_profile     https://dgalywyr863hv.cloudfront.net/pictures/...\n",
       "average_hr                                                        NaN\n",
       "average_watts                                                   392.9\n",
       "distance                                                      10807.4\n",
       "effort_id                                                  8778121649\n",
       "elapsed_time                                          0 days 00:13:57\n",
       "moving_time                                           0 days 00:13:57\n",
       "rank                                                                1\n",
       "start_date_local                                  2015-08-12 20:31:06\n",
       "Humidity                                                           62\n",
       "Pressure                                                         1022\n",
       "Temp                                                               21\n",
       "Wind                                                               11\n",
       "WindDirn                                                           80\n",
       "AirDensity                                                    1.19967\n",
       "Name: 1, dtype: object"
      ]
     },
     "execution_count": 15,
     "metadata": {},
     "output_type": "execute_result"
    }
   ],
   "source": [
    "LB.loc[1]"
   ]
  },
  {
   "cell_type": "code",
   "execution_count": null,
   "metadata": {
    "collapsed": false
   },
   "outputs": [],
   "source": []
  }
 ],
 "metadata": {
  "anaconda-cloud": {},
  "kernelspec": {
   "display_name": "Python [Root]",
   "language": "python",
   "name": "Python [Root]"
  },
  "language_info": {
   "codemirror_mode": {
    "name": "ipython",
    "version": 3
   },
   "file_extension": ".py",
   "mimetype": "text/x-python",
   "name": "python",
   "nbconvert_exporter": "python",
   "pygments_lexer": "ipython3",
   "version": "3.5.2"
  }
 },
 "nbformat": 4,
 "nbformat_minor": 0
}
