{
 "cells": [
  {
   "cell_type": "markdown",
   "metadata": {},
   "source": [
    "# The best rider and bike for a KOM on Strava\n",
    "\n",
    "The structure of this blog is as follows.<br>\n",
    "Recap and intro: power, mass and cdA<br>\n",
    "Power versus V cubed<br>\n",
    "Power to weight ratio Watts per kilo, alometry<br>\n",
    "Mass versus gradient<br>\n",
    "cd A rider, wheels, frame<br>\n",
    "\n",
    "\n",
    "\n",
    "So far this series of articles has explored how seasonal variations in the weather affect the ability riders to post fast times on a Strava leaderboard. But in the end, is it not simply the strongest rider who holds the KOM? This blog looks at how the time to complete a segment is affected by three determinants relating specifically to the bike and rider: power, body mass and aerodynamic drag factors.<br>\n",
    "It is helpful to bear in mind the following equation relating power, P, required to ride at velocity, V.<br>\n",
    "Power = Drag_Factors x V<sup>3</sup> + Mechanical_Factors x V<br>\n",
    "Aerodynamic drag factors include frontal area and drag coefficient of the rider and frame plus the drag of the wheels. The mechancial factors are due to rider weight, the gradient of the road and rolling resistance.  "
   ]
  },
  {
   "cell_type": "code",
   "execution_count": 195,
   "metadata": {},
   "outputs": [
    {
     "ename": "NameError",
     "evalue": "name 'init_notebook_mode' is not defined",
     "output_type": "error",
     "traceback": [
      "\u001b[0;31m---------------------------------------------------------------------------\u001b[0m",
      "\u001b[0;31mNameError\u001b[0m                                 Traceback (most recent call last)",
      "\u001b[0;32m<ipython-input-195-4b56ccec6b30>\u001b[0m in \u001b[0;36m<module>\u001b[0;34m()\u001b[0m\n\u001b[0;32m----> 1\u001b[0;31m \u001b[0minit_notebook_mode\u001b[0m\u001b[0;34m(\u001b[0m\u001b[0mconnected\u001b[0m\u001b[0;34m=\u001b[0m\u001b[0;32mTrue\u001b[0m\u001b[0;34m)\u001b[0m\u001b[0;34m\u001b[0m\u001b[0m\n\u001b[0m\u001b[1;32m      2\u001b[0m \u001b[0;34m\u001b[0m\u001b[0m\n\u001b[1;32m      3\u001b[0m \u001b[0;34m\u001b[0m\u001b[0m\n\u001b[1;32m      4\u001b[0m \u001b[0;31m# Calculate constant velocity for set of parameters\u001b[0m\u001b[0;34m\u001b[0m\u001b[0;34m\u001b[0m\u001b[0m\n\u001b[1;32m      5\u001b[0m \u001b[0;32mimport\u001b[0m \u001b[0mnumpy\u001b[0m \u001b[0;32mas\u001b[0m \u001b[0mnp\u001b[0m\u001b[0;34m\u001b[0m\u001b[0m\n",
      "\u001b[0;31mNameError\u001b[0m: name 'init_notebook_mode' is not defined"
     ]
    }
   ],
   "source": [
    "# Calculate constant velocity for set of parameters\n",
    "import numpy as np\n",
    "import pandas as pd\n",
    "import matplotlib.pylab as plt\n",
    "%matplotlib inline\n",
    "import sys\n",
    "sys.path.append('/Users/Gavin/Gavin/Jupyter/Weather')\n",
    "from AirDensity import rhoCalc\n",
    "\n",
    "\n",
    "# Better model of V accounting for wind\n",
    "def solveV(Power=286, Grade=0.018, mr=74, Cd=0.5,  A=0.5, Br=0, Vw=4, Bw=90, Pressure=1020, Temp=15, DP=False, Humidity=False, Crr=0.005, Cxf=0.0491, df=0.337*2, Cxr=0.0491, dr=0.337*2, RS=0.25, mb=8, mfw=1.264, mrw=1.364, g=9.81, plotIt=False):\n",
    "    rho = rhoCalc(Pressure=Pressure, Temp=Temp, DP=DP, Humidity=Humidity)\n",
    "    theta = np.arctan(Grade)\n",
    "    Drag_frontal = rho * A * Cd / 2\n",
    "    Drag_fw = rho * np.pi * (Cxf * df**2) / 8\n",
    "    Drag_rw = rho * np.pi * Cxr * dr**2 * (1-RS) / 8\n",
    "    Drag = Drag_frontal + Drag_fw + Drag_rw\n",
    "    Mech_g = (mr + mb + mfw + mrw) * g * np.sin(theta)\n",
    "    Mech_rr = (mr + mb + mfw + mrw) * g * np.cos(theta) * Crr\n",
    "    Mech = Mech_g + Mech_rr\n",
    "    Ahw = Vw * np.cos((Bw-Br)*np.pi/180) # Apparent headwind\n",
    "\n",
    "    coef = [0,0,0,0]\n",
    "    coef[0] = Drag\n",
    "    coef[1] = 3 * Drag * Ahw\n",
    "    coef[2] = (3 * Drag * Ahw **2) + Mech\n",
    "    coef[3] = Drag * Ahw **3 - Power\n",
    "    if plotIt:\n",
    "        plt.plot(np.arange(-50,50,0.1),np.polyval(coef,np.arange(-50,50,0.1)))\n",
    "        plt.axhline(linewidth=1, color='r')\n",
    "\n",
    "    # Solve for velocity V by taking the real root\n",
    "    roots = np.roots(coef)\n",
    "    v = max(roots[abs(roots.imag)<1e-3].real) # velocity an m / s\n",
    "    return v, Drag_frontal, Drag_fw, Drag_rw, Mech_g, Mech_rr, rho\n",
    "\n"
   ]
  },
  {
   "cell_type": "markdown",
   "metadata": {},
   "source": [
    "Comparison against http://analyticcycling.com/ForcesSource_Page.html\n",
    "He is measuring forces in gmf whereas I am calculating power in Watts. At 10m/s the conversion is g * v / 10000. If I just wanted to display my results in Newtons, I'd just multiply/divide by velocity, v."
   ]
  },
  {
   "cell_type": "code",
   "execution_count": 143,
   "metadata": {},
   "outputs": [
    {
     "name": "stdout",
     "output_type": "stream",
     "text": [
      "Everything expressed in gmf units to cross check versus website link\n",
      "Grade = 5.00% \n",
      "V = 10.00 m/s, \n",
      "Drag_frontal = 1563.4 \n",
      "Drag_fw = 109.6 \n",
      "Drag_rw = 82.2 \n",
      "Mech_g = 3798.7 \n",
      "Mech_rr = 303.9 \n",
      "rho = 1.2260\n"
     ]
    }
   ],
   "source": [
    "g=9.81\n",
    "Grade = 0.05\n",
    "v, Drag_frontal, Drag_fw, Drag_rw, Mech_g, Mech_rr, rho = solveV(Power=5866*9.8*10/1000, Grade=Grade, mr=65, Cd=0.5,  A=0.5, Br=0, Vw=0, Bw=90, Pressure=1019.25, Temp=15, DP=False, Humidity=False, Crr=0.004, Cxf=0.0491, df=0.337*2, Cxr=0.0491, dr=0.337*2, RS=0.25, mb=8, mfw=1.264, mrw=1.804, g=9.81, plotIt=False)\n",
    "print ('Everything expressed in gmf units to cross check versus website link')\n",
    "print ('Grade = {:.2f}% \\nV = {:.2f} m/s, \\nDrag_frontal = {:0.1f} \\nDrag_fw = {:0.1f} \\nDrag_rw = {:0.1f} \\nMech_g = {:0.1f} \\nMech_rr = {:0.1f} \\nrho = {:.4f}'.format (Grade*100, v, Drag_frontal*v**3*(1000/g/v), Drag_fw*v**3*(1000/g/v), Drag_rw*v**3*(1000/g/v), Mech_g*v*(1000/g/v), Mech_rr*v*(1000/g/v), rho))"
   ]
  },
  {
   "cell_type": "code",
   "execution_count": 144,
   "metadata": {},
   "outputs": [
    {
     "name": "stdout",
     "output_type": "stream",
     "text": [
      "Everything expressed in Watts\n",
      "Grade = 5.00% \n",
      "V = 36.02 kph, \n",
      "Drag_frontal = 153.5 \n",
      "Drag_fw = 10.8 \n",
      "Drag_rw = 8.1 \n",
      "Mech_g = 372.8 \n",
      "Mech_rr = 29.8 \n",
      "rho = 1.2260\n"
     ]
    }
   ],
   "source": [
    "Grade = 0.05\n",
    "v, Drag_frontal, Drag_fw, Drag_rw, Mech_g, Mech_rr, rho = solveV(Power=575, Grade=Grade, mr=65, Cd=0.5,  A=0.5, Br=0, Vw=0, Bw=90, Pressure=1019.25, Temp=15, DP=False, Humidity=False, Crr=0.004, Cxf=0.0491, df=0.337*2, Cxr=0.0491, dr=0.337*2, RS=0.25, mb=8, mfw=1.264, mrw=1.804, g=9.81, plotIt=False)\n",
    "print ('Everything expressed in Watts')\n",
    "print ('Grade = {:.2f}% \\nV = {:.2f} kph, \\nDrag_frontal = {:0.1f} \\nDrag_fw = {:0.1f} \\nDrag_rw = {:0.1f} \\nMech_g = {:0.1f} \\nMech_rr = {:0.1f} \\nrho = {:.4f}'.format (Grade*100, v*3.6, Drag_frontal*v**3, Drag_fw*v**3, Drag_rw*v**3, Mech_g*v, Mech_rr*v, rho))"
   ]
  },
  {
   "cell_type": "markdown",
   "metadata": {},
   "source": [
    "All this is much easier if we enter v as a known variable, rather than power. But the problem is that power now becomes a variable in the output. These calculations are all cross checked against this spreadsheet /Users/Gavin/Gavin/Jupyter/Strava/PowerBreakdown.xlsx and the http://analyticcycling.com/ForcesSource_Page.html website.I also looked at https://www.gribble.org/cycling/power_v_speed.html#physics"
   ]
  },
  {
   "cell_type": "code",
   "execution_count": 145,
   "metadata": {
    "collapsed": true
   },
   "outputs": [],
   "source": [
    "v = 10\n",
    "\n",
    "def powerBreakdown(v=10, Grade=0.0, mr=65, Cd=0.5,  A=0.5, rho=1.226,  Crr=0.004, Cxf=0.0491, df=0.337*2, Cxr=0.0491, dr=0.337*2, RS=0.25, mb=8, mfw=1.264, mrw=1.804, g=9.81):\n",
    "    theta = np.arctan(Grade)\n",
    "    Drag_frontal = rho * A * Cd / 2 * v**3\n",
    "    Drag_fw = rho * np.pi * (Cxf * df**2) / 8 * v**3\n",
    "    Drag_rw = rho * np.pi * Cxr * dr**2 * (1-RS) / 8 * v**3\n",
    "    Drag = Drag_frontal + Drag_fw + Drag_rw \n",
    "    Mech_g = (mr + mb + mfw + mrw) * g * np.sin(theta) * v\n",
    "    Mech_rr = (mr + mb + mfw + mrw) * g * np.cos(theta) * Crr * v\n",
    "    Mech = Mech_g + Mech_rr\n",
    "    Power = Drag + Mech\n",
    "    x = np.array([Power, Drag_frontal, Drag_fw, Drag_rw, Mech_g, Mech_rr])\n",
    "    return x\n",
    "\n",
    "\n"
   ]
  },
  {
   "cell_type": "markdown",
   "metadata": {},
   "source": [
    "Compare 60kg climber v 80kg TT on the flat and uphill"
   ]
  },
  {
   "cell_type": "code",
   "execution_count": 171,
   "metadata": {},
   "outputs": [
    {
     "name": "stdout",
     "output_type": "stream",
     "text": [
      "Powers for equivalent speeds on flat\n",
      "39.9994629071\n",
      "39.9998752152\n",
      "275.7 3.44625 230.3 3.8383333333333334\n",
      "Equivalent powers up 5%\n",
      "18.5785688751\n",
      "19.5730820948\n",
      "Equivalent powers* 1.5  up 5%\n",
      "25.8083010311\n",
      "26.9226835351\n",
      "413.54999999999995 5.169375 345.45000000000005 5.757500000000001\n",
      "Equivalent powers* 1.66  up 10%\n",
      "17.0307985908\n",
      "18.0939494015\n",
      "457.662 5.720775 382.298 6.3716333333333335\n",
      "Equivalent powers* 1.5  back on flat\n",
      "45.9004582621\n",
      "45.8949112371\n",
      "413.54999999999995 5.169375 345.45000000000005 5.757500000000001\n",
      "Wiggins\n",
      "[ 454.85056505  340.30040166   37.25921028   27.94440771    0.           49.3465454 ] [ 100.           74.81586873    8.19152775    6.14364582    0.           10.8489577 ] 6.31736895897\n"
     ]
    }
   ],
   "source": [
    "mrF = 80\n",
    "mrN = 60\n",
    "AF = 0.5\n",
    "AN = 0.5 * (mrN/mrF)**(2/3)\n",
    "\n",
    "\n",
    "print('Powers for equivalent speeds on flat')\n",
    "Grade = 0.0\n",
    "f=1\n",
    "[mr, A, P] = [mrF, AF, 275.7]\n",
    "print(solveV(Power=P, Grade=Grade, mr=mr, Cd=0.5,  A=A, Br=0, Vw=0, Bw=90, Pressure=1019.25, Temp=15, DP=False, Humidity=False, Crr=0.004, Cxf=0.0491, df=0.337*2, Cxr=0.0491, dr=0.337*2, RS=0.25, mb=8, mfw=1.264, mrw=1.804, g=9.81, plotIt=False)[0]*3.6)\n",
    "[mr, A, P] = [mrN, AN, 230.3]\n",
    "print(solveV(Power=P, Grade=Grade, mr=mr, Cd=0.5,  A=A, Br=0, Vw=0, Bw=90, Pressure=1019.25, Temp=15, DP=False, Humidity=False, Crr=0.004, Cxf=0.0491, df=0.337*2, Cxr=0.0491, dr=0.337*2, RS=0.25, mb=8, mfw=1.264, mrw=1.804, g=9.81, plotIt=False)[0]*3.6)\n",
    "print(275.7*f,275.7*f/80,230.3*f,230.3*f/60 )\n",
    "\n",
    "print('Equivalent powers up 5%')\n",
    "Grade = 0.05\n",
    "[mr, A, P] = [mrF, AF, 275.7]\n",
    "print(solveV(Power=P, Grade=Grade, mr=mr, Cd=0.5,  A=A)[0]*3.6)\n",
    "[mr, A, P] = [mrN, AN, 230.3]\n",
    "print(solveV(Power=P, Grade=Grade, mr=mr, Cd=0.5,  A=A)[0]*3.6)\n",
    "\n",
    "f=1.5\n",
    "print('Equivalent powers*',f,' up 5%')\n",
    "Grade = 0.05\n",
    "[mr, A, P] = [mrF, AF, 275.7*f]\n",
    "print(solveV(Power=P, Grade=Grade, mr=mr, Cd=0.5,  A=A)[0]*3.6)\n",
    "[mr, A, P] = [mrN, AN, 230.3*f]\n",
    "print(solveV(Power=P, Grade=Grade, mr=mr, Cd=0.5,  A=A)[0]*3.6)\n",
    "print(275.7*f,275.7*f/80,230.3*f,230.3*f/60 )\n",
    "\n",
    "f=1.66\n",
    "print('Equivalent powers*',f,' up 10%')\n",
    "Grade = 0.1\n",
    "[mr, A, P] = [mrF, AF, 275.7*f]\n",
    "print(solveV(Power=P, Grade=Grade, mr=mr, Cd=0.5,  A=A)[0]*3.6)\n",
    "[mr, A, P] = [mrN, AN, 230.3*f]\n",
    "print(solveV(Power=P, Grade=Grade, mr=mr, Cd=0.5,  A=A)[0]*3.6)\n",
    "print(275.7*f,275.7*f/80,230.3*f,230.3*f/60 )\n",
    "\n",
    "f=1.5\n",
    "print('Equivalent powers*',f,' back on flat')\n",
    "Grade = 0.0\n",
    "[mr, A, P] = [mrF, AF, 275.7*f]\n",
    "print(solveV(Power=P, Grade=Grade, mr=mr, Cd=0.5,  A=A)[0]*3.6)\n",
    "[mr, A, P] = [mrN, AN, 230.3*f]\n",
    "print(solveV(Power=P, Grade=Grade, mr=mr, Cd=0.5,  A=A)[0]*3.6)\n",
    "print(275.7*f,275.7*f/80,230.3*f,230.3*f/60 )\n",
    "\n",
    "\n",
    "print('Wiggins')\n",
    "[mr, A, v, Grade] = [72, .32, 54.5/3.6, 0]\n",
    "pB = powerBreakdown(v=v, Grade=Grade, mr=mr, A=A)\n",
    "print(pB,pB/sum(pB[1:])*100, pB[0]/mr)\n",
    "\n",
    "    "
   ]
  },
  {
   "cell_type": "markdown",
   "metadata": {},
   "source": [
    "Compare their speeds on flat and uphill, both doing 5Watts/kg. Bigger rider always does better if riding at equivalent Watt/kg, but not as a percentage of cruising speed. Hypthesis is that some cruising speed is FTP and riding at 57% over FTP is much harder than riding at 50% over FTP, due to exponential accumulation of lactate. "
   ]
  },
  {
   "cell_type": "code",
   "execution_count": 147,
   "metadata": {},
   "outputs": [
    {
     "name": "stdout",
     "output_type": "stream",
     "text": [
      "45.8092053812\n",
      "44.0339205848\n",
      "8.05779673017\n",
      "7.75452833899\n"
     ]
    }
   ],
   "source": [
    "Grade=0\n",
    "[mr, A] = [mrF, AF]\n",
    "print(solveV(Power=mr*5, Grade=Grade, mr=mr, A=A, Crr=0.004)[0]*3.6)\n",
    "[mr, A] = [mrN, AN]\n",
    "print(solveV(Power=mr*5, Grade=Grade, mr=mr, A=A, Crr=0.004)[0]*3.6)\n",
    "Grade=0.2\n",
    "[mr, A] = [mrF, AF]\n",
    "print(solveV(Power=mr*5, Grade=Grade, mr=mr, A=A, Crr=0.004)[0]*3.6)\n",
    "[mr, A] = [mrN, AN]\n",
    "print(solveV(Power=mr*5, Grade=Grade, mr=mr, A=A, Crr=0.004)[0]*3.6)\n"
   ]
  },
  {
   "cell_type": "code",
   "execution_count": null,
   "metadata": {},
   "outputs": [],
   "source": []
  },
  {
   "cell_type": "code",
   "execution_count": 177,
   "metadata": {
    "collapsed": true
   },
   "outputs": [],
   "source": []
  },
  {
   "cell_type": "code",
   "execution_count": 135,
   "metadata": {},
   "outputs": [
    {
     "data": {
      "text/html": [
       "<div>\n",
       "<table border=\"1\" class=\"dataframe\">\n",
       "  <thead>\n",
       "    <tr style=\"text-align: right;\">\n",
       "      <th></th>\n",
       "      <th>v</th>\n",
       "      <th>Power</th>\n",
       "      <th>Drag_frontal</th>\n",
       "      <th>Drag_fw</th>\n",
       "      <th>Drag_rw</th>\n",
       "      <th>Mech_g</th>\n",
       "      <th>Mech_rr</th>\n",
       "    </tr>\n",
       "  </thead>\n",
       "  <tbody>\n",
       "    <tr>\n",
       "      <th>-0.10</th>\n",
       "      <td>1.190253</td>\n",
       "      <td>250.0</td>\n",
       "      <td>0.005539</td>\n",
       "      <td>0.000388</td>\n",
       "      <td>0.000291</td>\n",
       "      <td>-27.777087</td>\n",
       "      <td>277.770869</td>\n",
       "    </tr>\n",
       "    <tr>\n",
       "      <th>-0.09</th>\n",
       "      <td>1.176066</td>\n",
       "      <td>250.0</td>\n",
       "      <td>0.005343</td>\n",
       "      <td>0.000374</td>\n",
       "      <td>0.000281</td>\n",
       "      <td>-24.724681</td>\n",
       "      <td>274.718683</td>\n",
       "    </tr>\n",
       "    <tr>\n",
       "      <th>-0.08</th>\n",
       "      <td>1.162303</td>\n",
       "      <td>250.0</td>\n",
       "      <td>0.005158</td>\n",
       "      <td>0.000361</td>\n",
       "      <td>0.000271</td>\n",
       "      <td>-21.738627</td>\n",
       "      <td>271.732837</td>\n",
       "    </tr>\n",
       "    <tr>\n",
       "      <th>-0.07</th>\n",
       "      <td>1.148948</td>\n",
       "      <td>250.0</td>\n",
       "      <td>0.004982</td>\n",
       "      <td>0.000349</td>\n",
       "      <td>0.000262</td>\n",
       "      <td>-18.816783</td>\n",
       "      <td>268.811190</td>\n",
       "    </tr>\n",
       "    <tr>\n",
       "      <th>-0.06</th>\n",
       "      <td>1.135991</td>\n",
       "      <td>250.0</td>\n",
       "      <td>0.004815</td>\n",
       "      <td>0.000337</td>\n",
       "      <td>0.000253</td>\n",
       "      <td>-15.957102</td>\n",
       "      <td>265.951696</td>\n",
       "    </tr>\n",
       "  </tbody>\n",
       "</table>\n",
       "</div>"
      ],
      "text/plain": [
       "              v  Power  Drag_frontal   Drag_fw   Drag_rw     Mech_g  \\\n",
       "-0.10  1.190253  250.0      0.005539  0.000388  0.000291 -27.777087   \n",
       "-0.09  1.176066  250.0      0.005343  0.000374  0.000281 -24.724681   \n",
       "-0.08  1.162303  250.0      0.005158  0.000361  0.000271 -21.738627   \n",
       "-0.07  1.148948  250.0      0.004982  0.000349  0.000262 -18.816783   \n",
       "-0.06  1.135991  250.0      0.004815  0.000337  0.000253 -15.957102   \n",
       "\n",
       "          Mech_rr  \n",
       "-0.10  277.770869  \n",
       "-0.09  274.718683  \n",
       "-0.08  271.732837  \n",
       "-0.07  268.811190  \n",
       "-0.06  265.951696  "
      ]
     },
     "execution_count": 135,
     "metadata": {},
     "output_type": "execute_result"
    }
   ],
   "source": [
    "powerDict = {}\n",
    "power = 250\n",
    "for gr in np.arange(-0.1,0.11,0.01):\n",
    "    v, Drag_frontal, Drag_fw, Drag_rw, Mech_g, Mech_rr, rho = solveV(Power=power, Grade=gr, mr=75, Cd=0.5,  A=0.5, Br=0, Vw=0, Bw=90, Pressure=1019.25, Temp=15, DP=False, Humidity=False, Crr=0.004, Cxf=0.0491, df=0.337*2, Cxr=0.0491, dr=0.337*2, RS=0.25, mb=8, mfw=1.264, mrw=1.804, g=9.81, plotIt=False)\n",
    "    powerDict[gr] = [v*3.6, power, Drag_frontal*v**3, Drag_fw*v**3, Drag_rw*v**3, Mech_g*v, Mech_rr*v]\n",
    "    \n",
    "powerComp = pd.DataFrame(powerDict).T\n",
    "powerComp.columns = ['v', 'Power', 'Drag_frontal', 'Drag_fw', 'Drag_rw', 'Mech_g', 'Mech_rr']\n",
    "powerComp.head()"
   ]
  },
  {
   "cell_type": "code",
   "execution_count": 136,
   "metadata": {},
   "outputs": [
    {
     "data": {
      "image/png": "[encoded data removed]",
      "text/plain": [
       "<matplotlib.figure.Figure at 0x121c2d048>"
      ]
     },
     "metadata": {},
     "output_type": "display_data"
    },
    {
     "ename": "AttributeError",
     "evalue": "'function' object has no attribute 'v'",
     "output_type": "error",
     "traceback": [
      "\u001b[0;31m---------------------------------------------------------------------------\u001b[0m",
      "\u001b[0;31mAttributeError\u001b[0m                            Traceback (most recent call last)",
      "\u001b[0;32m<ipython-input-136-cc34b00d954d>\u001b[0m in \u001b[0;36m<module>\u001b[0;34m()\u001b[0m\n\u001b[1;32m      1\u001b[0m \u001b[0mpowerComp\u001b[0m\u001b[0;34m[\u001b[0m\u001b[0;34m(\u001b[0m\u001b[0mpowerComp\u001b[0m\u001b[0;34m.\u001b[0m\u001b[0mindex\u001b[0m\u001b[0;34m>\u001b[0m\u001b[0;34m-\u001b[0m\u001b[0;36m0.01\u001b[0m\u001b[0;34m)\u001b[0m \u001b[0;34m]\u001b[0m\u001b[0;34m[\u001b[0m\u001b[0;34m[\u001b[0m\u001b[0;34m'Drag_frontal'\u001b[0m\u001b[0;34m,\u001b[0m \u001b[0;34m'Drag_fw'\u001b[0m\u001b[0;34m,\u001b[0m \u001b[0;34m'Drag_rw'\u001b[0m\u001b[0;34m,\u001b[0m \u001b[0;34m'Mech_g'\u001b[0m\u001b[0;34m,\u001b[0m \u001b[0;34m'Mech_rr'\u001b[0m\u001b[0;34m]\u001b[0m\u001b[0;34m]\u001b[0m\u001b[0;34m.\u001b[0m\u001b[0mplot\u001b[0m\u001b[0;34m.\u001b[0m\u001b[0mbar\u001b[0m\u001b[0;34m(\u001b[0m\u001b[0mylim\u001b[0m\u001b[0;34m=\u001b[0m\u001b[0;34m(\u001b[0m\u001b[0;36m0\u001b[0m\u001b[0;34m,\u001b[0m\u001b[0mpower\u001b[0m\u001b[0;34m)\u001b[0m\u001b[0;34m,\u001b[0m\u001b[0mstacked\u001b[0m\u001b[0;34m=\u001b[0m\u001b[0;32mTrue\u001b[0m\u001b[0;34m,\u001b[0m \u001b[0;34m)\u001b[0m\u001b[0;34m\u001b[0m\u001b[0m\n\u001b[1;32m      2\u001b[0m \u001b[0mplt\u001b[0m\u001b[0;34m.\u001b[0m\u001b[0mshow\u001b[0m\u001b[0;34m(\u001b[0m\u001b[0;34m)\u001b[0m\u001b[0;34m\u001b[0m\u001b[0m\n\u001b[0;32m----> 3\u001b[0;31m \u001b[0mpowerBreakdown\u001b[0m\u001b[0;34m.\u001b[0m\u001b[0mv\u001b[0m\u001b[0;34m[\u001b[0m\u001b[0;34m(\u001b[0m\u001b[0mpowerComp\u001b[0m\u001b[0;34m.\u001b[0m\u001b[0mindex\u001b[0m\u001b[0;34m>\u001b[0m\u001b[0;34m-\u001b[0m\u001b[0;36m0.01\u001b[0m\u001b[0;34m)\u001b[0m \u001b[0;34m]\u001b[0m\u001b[0;34m.\u001b[0m\u001b[0mplot\u001b[0m\u001b[0;34m(\u001b[0m\u001b[0;34m)\u001b[0m\u001b[0;34m\u001b[0m\u001b[0m\n\u001b[0m",
      "\u001b[0;31mAttributeError\u001b[0m: 'function' object has no attribute 'v'"
     ]
    }
   ],
   "source": [
    "powerComp[(powerComp.index>-0.01) ][['Drag_frontal', 'Drag_fw', 'Drag_rw', 'Mech_g', 'Mech_rr']].plot.bar(ylim=(0,power),stacked=True, )\n",
    "plt.show()\n",
    "powerBreakdown.v[(powerComp.index>-0.01) ].plot()"
   ]
  },
  {
   "cell_type": "code",
   "execution_count": null,
   "metadata": {},
   "outputs": [],
   "source": [
    "ax = powerComp[['Drag_frontal', 'Drag_fw', 'Drag_rw', 'Mech_g', 'Mech_rr']].plot.bar()\n",
    "#powerBreakdown.v.plot(secondary_y=True,linestyle='-', marker='o',ax=ax)\n"
   ]
  },
  {
   "cell_type": "code",
   "execution_count": null,
   "metadata": {},
   "outputs": [],
   "source": [
    "30/3.6"
   ]
  },
  {
   "cell_type": "markdown",
   "metadata": {
    "collapsed": true
   },
   "source": [
    "Sample segment <a href=\"https://www.strava.com/segments/610040\" target=\"_blank\">Tour de Richmond Park</a>"
   ]
  },
  {
   "cell_type": "markdown",
   "metadata": {},
   "source": [
    "## Analyse a selection of Strava segments across the UK\n",
    "\n",
    "Draw a box around England, Wales and some of Scotland (50,-6) to (56,+2). Divide this up into smaller boxes and pull in data from popular segments in each box. Run the code once and pickle the results.\n"
   ]
  },
  {
   "cell_type": "code",
   "execution_count": 179,
   "metadata": {},
   "outputs": [],
   "source": [
    "#from Strava_Download import get_strava_explore_segments\n",
    "\n",
    "#import numpy as np\n",
    "#segment_data = pd.DataFrame()\n",
    "#for lat in np.arange(50,56,0.5):\n",
    "#    for lon in np.arange(-6,2,0.5):\n",
    "#        print(lat,lon)\n",
    "#        df = get_strava_explore_segments(coords=[(lat,lon),(lat+0.5,lon+0.5)])\n",
    "#        segment_data = segment_data.append(df,ignore_index=True)\n",
    "#segment_data\n",
    "#segment_data.to_pickle('PopularSegmentsUK.pkl')\n",
    "\n",
    "segment_data = pd.read_pickle('PopularSegmentsUK.pkl')"
   ]
  },
  {
   "cell_type": "code",
   "execution_count": 185,
   "metadata": {},
   "outputs": [
    {
     "data": {
      "text/plain": [
       "<matplotlib.axes._subplots.AxesSubplot at 0x123a849b0>"
      ]
     },
     "execution_count": 185,
     "metadata": {},
     "output_type": "execute_result"
    },
    {
     "data": {
      "image/png": "[encoded data removed]",
      "text/plain": [
       "<matplotlib.figure.Figure at 0x123a9fda0>"
      ]
     },
     "metadata": {},
     "output_type": "display_data"
    }
   ],
   "source": [
    "segment_data.plot.scatter(x='distance', y='avg_grade')"
   ]
  },
  {
   "cell_type": "code",
   "execution_count": 186,
   "metadata": {},
   "outputs": [
    {
     "data": {
      "text/html": [
       "<div>\n",
       "<table border=\"1\" class=\"dataframe\">\n",
       "  <thead>\n",
       "    <tr style=\"text-align: right;\">\n",
       "      <th></th>\n",
       "      <th>id</th>\n",
       "      <th>climb_category</th>\n",
       "      <th>avg_grade</th>\n",
       "      <th>elev_difference</th>\n",
       "      <th>distance</th>\n",
       "    </tr>\n",
       "  </thead>\n",
       "  <tbody>\n",
       "    <tr>\n",
       "      <th>count</th>\n",
       "      <td>1.364000e+03</td>\n",
       "      <td>1364.000000</td>\n",
       "      <td>1364.000000</td>\n",
       "      <td>1364.000000</td>\n",
       "      <td>1364.000000</td>\n",
       "    </tr>\n",
       "    <tr>\n",
       "      <th>mean</th>\n",
       "      <td>4.633195e+06</td>\n",
       "      <td>0.450880</td>\n",
       "      <td>3.174267</td>\n",
       "      <td>71.434677</td>\n",
       "      <td>2344.678299</td>\n",
       "    </tr>\n",
       "    <tr>\n",
       "      <th>std</th>\n",
       "      <td>3.489383e+06</td>\n",
       "      <td>0.750499</td>\n",
       "      <td>4.818399</td>\n",
       "      <td>80.254849</td>\n",
       "      <td>4405.181101</td>\n",
       "    </tr>\n",
       "    <tr>\n",
       "      <th>min</th>\n",
       "      <td>2.575050e+05</td>\n",
       "      <td>0.000000</td>\n",
       "      <td>-21.200000</td>\n",
       "      <td>0.000000</td>\n",
       "      <td>93.400000</td>\n",
       "    </tr>\n",
       "    <tr>\n",
       "      <th>25%</th>\n",
       "      <td>1.324762e+06</td>\n",
       "      <td>0.000000</td>\n",
       "      <td>0.000000</td>\n",
       "      <td>13.375000</td>\n",
       "      <td>713.900000</td>\n",
       "    </tr>\n",
       "    <tr>\n",
       "      <th>50%</th>\n",
       "      <td>4.110420e+06</td>\n",
       "      <td>0.000000</td>\n",
       "      <td>3.100000</td>\n",
       "      <td>41.800000</td>\n",
       "      <td>1368.750000</td>\n",
       "    </tr>\n",
       "    <tr>\n",
       "      <th>75%</th>\n",
       "      <td>6.973239e+06</td>\n",
       "      <td>1.000000</td>\n",
       "      <td>5.900000</td>\n",
       "      <td>102.725000</td>\n",
       "      <td>2722.975000</td>\n",
       "    </tr>\n",
       "    <tr>\n",
       "      <th>max</th>\n",
       "      <td>1.370206e+07</td>\n",
       "      <td>4.000000</td>\n",
       "      <td>31.900000</td>\n",
       "      <td>645.400000</td>\n",
       "      <td>93324.700000</td>\n",
       "    </tr>\n",
       "  </tbody>\n",
       "</table>\n",
       "</div>"
      ],
      "text/plain": [
       "                 id  climb_category    avg_grade  elev_difference  \\\n",
       "count  1.364000e+03     1364.000000  1364.000000      1364.000000   \n",
       "mean   4.633195e+06        0.450880     3.174267        71.434677   \n",
       "std    3.489383e+06        0.750499     4.818399        80.254849   \n",
       "min    2.575050e+05        0.000000   -21.200000         0.000000   \n",
       "25%    1.324762e+06        0.000000     0.000000        13.375000   \n",
       "50%    4.110420e+06        0.000000     3.100000        41.800000   \n",
       "75%    6.973239e+06        1.000000     5.900000       102.725000   \n",
       "max    1.370206e+07        4.000000    31.900000       645.400000   \n",
       "\n",
       "           distance  \n",
       "count   1364.000000  \n",
       "mean    2344.678299  \n",
       "std     4405.181101  \n",
       "min       93.400000  \n",
       "25%      713.900000  \n",
       "50%     1368.750000  \n",
       "75%     2722.975000  \n",
       "max    93324.700000  "
      ]
     },
     "execution_count": 186,
     "metadata": {},
     "output_type": "execute_result"
    }
   ],
   "source": [
    "segment_data.describe()"
   ]
  },
  {
   "cell_type": "code",
   "execution_count": 191,
   "metadata": {},
   "outputs": [
    {
     "data": {
      "image/png": "[encoded data removed]",
      "text/plain": [
       "<matplotlib.figure.Figure at 0x12102dfd0>"
      ]
     },
     "metadata": {},
     "output_type": "display_data"
    }
   ],
   "source": [
    "ax = segment_data.plot.scatter(x='distance', y='avg_grade')\n",
    "ax.set_xscale(\"log\", nonposx='clip')\n",
    "ax.set_ylim(-25,35);\n",
    "ax.set_xlim(100,100000);\n"
   ]
  },
  {
   "cell_type": "code",
   "execution_count": 193,
   "metadata": {},
   "outputs": [
    {
     "data": {
      "text/html": [
       "<div>\n",
       "<table border=\"1\" class=\"dataframe\">\n",
       "  <thead>\n",
       "    <tr style=\"text-align: right;\">\n",
       "      <th></th>\n",
       "      <th>id</th>\n",
       "      <th>name</th>\n",
       "      <th>climb_category</th>\n",
       "      <th>climb_category_desc</th>\n",
       "      <th>avg_grade</th>\n",
       "      <th>elev_difference</th>\n",
       "      <th>distance</th>\n",
       "    </tr>\n",
       "  </thead>\n",
       "  <tbody>\n",
       "    <tr>\n",
       "      <th>0</th>\n",
       "      <td>5432521.0</td>\n",
       "      <td>Segment</td>\n",
       "      <td>1.0</td>\n",
       "      <td>4</td>\n",
       "      <td>24.7</td>\n",
       "      <td>118.2</td>\n",
       "      <td>478.2</td>\n",
       "    </tr>\n",
       "    <tr>\n",
       "      <th>1</th>\n",
       "      <td>4782364.0</td>\n",
       "      <td>Three Tunnel Dash</td>\n",
       "      <td>0.0</td>\n",
       "      <td>NC</td>\n",
       "      <td>3.7</td>\n",
       "      <td>7.1</td>\n",
       "      <td>193.6</td>\n",
       "    </tr>\n",
       "    <tr>\n",
       "      <th>2</th>\n",
       "      <td>1060760.0</td>\n",
       "      <td>Eagles Nest Slog</td>\n",
       "      <td>1.0</td>\n",
       "      <td>4</td>\n",
       "      <td>4.4</td>\n",
       "      <td>84.1</td>\n",
       "      <td>1842.7</td>\n",
       "    </tr>\n",
       "    <tr>\n",
       "      <th>3</th>\n",
       "      <td>11756862.0</td>\n",
       "      <td>Up and away from Lands End</td>\n",
       "      <td>0.0</td>\n",
       "      <td>NC</td>\n",
       "      <td>4.2</td>\n",
       "      <td>17.8</td>\n",
       "      <td>427.9</td>\n",
       "    </tr>\n",
       "    <tr>\n",
       "      <th>4</th>\n",
       "      <td>1077299.0</td>\n",
       "      <td>Rosewall Hill</td>\n",
       "      <td>0.0</td>\n",
       "      <td>NC</td>\n",
       "      <td>3.9</td>\n",
       "      <td>76.5</td>\n",
       "      <td>1774.9</td>\n",
       "    </tr>\n",
       "  </tbody>\n",
       "</table>\n",
       "</div>"
      ],
      "text/plain": [
       "           id                        name  climb_category climb_category_desc  \\\n",
       "0   5432521.0                     Segment             1.0                   4   \n",
       "1   4782364.0           Three Tunnel Dash             0.0                  NC   \n",
       "2   1060760.0            Eagles Nest Slog             1.0                   4   \n",
       "3  11756862.0  Up and away from Lands End             0.0                  NC   \n",
       "4   1077299.0               Rosewall Hill             0.0                  NC   \n",
       "\n",
       "   avg_grade  elev_difference  distance  \n",
       "0       24.7            118.2     478.2  \n",
       "1        3.7              7.1     193.6  \n",
       "2        4.4             84.1    1842.7  \n",
       "3        4.2             17.8     427.9  \n",
       "4        3.9             76.5    1774.9  "
      ]
     },
     "execution_count": 193,
     "metadata": {},
     "output_type": "execute_result"
    }
   ],
   "source": [
    "segment_data.head()"
   ]
  },
  {
   "cell_type": "markdown",
   "metadata": {},
   "source": [
    "Let's try to produce a nice Plotly scatter"
   ]
  },
  {
   "cell_type": "code",
   "execution_count": 242,
   "metadata": {},
   "outputs": [
    {
     "data": {
      "text/plain": [
       "1364"
      ]
     },
     "execution_count": 242,
     "metadata": {},
     "output_type": "execute_result"
    }
   ],
   "source": [
    "len(segment_data)"
   ]
  },
  {
   "cell_type": "code",
   "execution_count": 205,
   "metadata": {},
   "outputs": [
    {
     "data": {
      "text/html": [
       "<script>requirejs.config({paths: { 'plotly': ['https://cdn.plot.ly/plotly-latest.min']},});if(!window.Plotly) {{require(['plotly'],function(plotly) {window.Plotly=plotly;});}}</script>"
      ],
      "text/plain": [
       "<IPython.core.display.HTML object>"
      ]
     },
     "metadata": {},
     "output_type": "display_data"
    }
   ],
   "source": [
    "from plotly.offline import download_plotlyjs, init_notebook_mode, plot, iplot\n",
    "from plotly.graph_objs import *\n",
    "init_notebook_mode(connected=True)\n"
   ]
  },
  {
   "cell_type": "code",
   "execution_count": 241,
   "metadata": {},
   "outputs": [
    {
     "data": {
      "text/html": [
       "<div id=\"b7ddf64d-0cf5-4048-87e7-350f7c9c102b\" style=\"height: 525px; width: 100%;\" class=\"plotly-graph-div\"></div><script type=\"text/javascript\">require([\"plotly\"], function(Plotly) { window.PLOTLYENV=window.PLOTLYENV || {};window.PLOTLYENV.BASE_URL=\"https://plot.ly\";Plotly.newPlot(\"b7ddf64d-0cf5-4048-87e7-350f7c9c102b\", [{\"text\": [\"Segment\", \"Three Tunnel Dash\", \"Eagles Nest Slog\", \"Up and away from Lands End\", \"Rosewall Hill\", \"St Just Hill (Steep bit)\", \"Sainsbury's sprint\", \"Promenade to wharf sprint\", \"Proper Treen climb.\", \"Treverven climb\", \"Portreath Wall\", \"Windy Sprint\", \"Opie and Lampier Hill Effort\", \"Sandsifter to Hells Mouth Cafe\", \"Julian Foye Climb\", \"Bissoe Climb, Cornwall\", \"Black Rock (long)\", \"The Maenporth Murderer\", \"Budnic Hill Climb\", \"Mawgan Porth climb to jctn\", \"Full Cardinham Blue Trail\", \"Hart Attack\", \"Ladock Valley TT home\", \"bishops hill\", \"Mr big\", \"talland hill climb\", \"Greensplat Rd Climb\", \"Business Park to Truck Hill\", \"Long Ln Climb\", \"Orchards Drag\", \"PCCC Hill Climb\", \"Yelverton to roborough full\", \"Duex Alps\", \"pemros road  climb\", \"Plymbridge to top of Clearbrook ramp\", \"Princess Yachts to Devonport\", \"Alp D'huez complete from newnham to wotter\", \"Tregunnus Ln Climb\", \"Ramp before the dam\", \"Redgate Council Houses Climb\", \"Gas works sprint\", \"Upper Ferry to Hillhead Roundabout\", \"Descente la vall\\u00e9e du Ermington\", \"Ermington-Kitterford Cross\", \"Blast under Hamelin Way Cycle Lane\", \"Street Gate Climb\", \"Wrangaton to Ivybridge Complete\", \"Dean Prior all the way up\", \"Leemill Stinger\", \"Dean Prior\", \"Berry Head Beast\", \"Ilsham Marine Drive\", \"Inside the belly of the beast\", \"Segment\", \"Mur de Ault\", \"Rue de Saint Val\\u00e9ry bis\", \"Ault-Cayeux\", \"Rue de St-Valery\", \"eu st quentin ...\", \"Rampe du Musoir\", \"montee du bisgaret\", \"cotes de Blengue Meilleur grimpeur\", \"Criel Climb to Tocqueville\", \"Tour Tri M Cayeux-sur-Mer\", \"Ronde Picarde (Abbeville - Le Hourdel)\", \"Bellifontaine\", \"Cote de long en arrivant de l Etoile\", \"Ca roule fort\", \"Cayeux Hourdel Digue\", \"Le Village (D173), Limeux, Picardie\", \"+/_ laatste 50 km\", \"Embreville-Dargnies\", \"Eu - Vijve (VS)\", \"Mont\\u00e9e d'Estr\\u00e9e\", \"gay little climb\", \"B3267 Climb\", \"Pad to Wade\", \"Camel Trail - Wade to Pad\", \"Climb out of Millook\", \"Port Quin - East\", \"Bude to Widemouth\", \"Widemouth to manor\", \"Boscastle Initial Climb\", \"Airfield sprint\", \"Camel to St Breward\", \"OFFICIAL 100Climbs No11 Rundlestone\", \"Your Max speed is ???\", \"The Final Push! (Rundlestone)\", \"Ambrosia Sprint\", \"Polson bridge climb\", \"B3237 Climb\", \"POWLERS LOOP\", \"Old A30 Combe Bow\", \"station road b\", \"Caradon Hill\", \"Stoke Hill Hillclimb Course\", \"Moor 2 Sea KOM\", \"OFFICIAL 100Climbs No10 Widecombe\", \"OFFICIAL 100Climbs No8 Dartmeet\", \"Longdown Climb\", \"Doccombe\", \"Haytor 2013 HC minus start section\", \"Double Flat\", \"Haldon Red Run - 1st DH section\", \"Huxbeare honk-up\", \"OFFICIAL 100Climbs No12 Salcombe Hill\", \"Peak Hill, Sidmouth\", \"Corfe Hillclimb (official version)\", \"Chineway Hill from 20% sign\", \"The Powderham Sprint\", \"Chineway ascent \", \"Climb To Broadclyst\", \"willand hill\", \"Exeter Inn to Bolham lay-by\", \"Yarcombe Hill climb\", \"The Full Eggardon Hill Climb\", \"Col de Hardy's Monument\", \"Abbotsbury Hill Climb\", \"Mudford Climb\", \"Sherborne Hill Climb\", \"lovely ham hill\", \"Leeeeeeroy jennnnnnnnnn kins\", \"Cemetry Hill\", \"B3261 Climb\", \"drimpton-broadwinsor\", \"ZigZag Hill (no 102, Greatest Climbs)\", \"Ridgeway Hill Climb: Gate to Bridge centre (CC Weymouth Hill Climb Time Trial Course)\", \"White Horse Hill\", \"hub - Alpe d'Huez Climb\", \"Whiteways\", \"Wareham to Stoborough Sprint\", \"Chequers Hill\", \"New Road\", \"tarrant rawston\", \"Bulbarrow hill to lay by\", \"Bolderwood Climb\", \"Braggers Hill\", \"Airfield (East)\", \"Runway Dash\", \"Hill Sprint: evening hill\", \"GCN takes on the pro's\", \"stoney cross\", \"avon causeway to the traffic calming \", \"Moors Valley SIngletrack\", \"brave!\", \"Southwick Hill (roundabout to roundabout)\", \"Climb out of Niton *S*\", \"Posbrook - Osbourne TT\", \"Itchen Bridge - Eastbound\", \"Compton Bay climb *S*\", \"Can't drop me on your TT bikes.\", \"Steep part of Beacon Hill\", \"Chilworth - Baddesly Descent\", \"Bat & Ball up to SDW (Hyden Farm La) *S*\", \"St. Helens to Bembridge\", \"Sculpture at Goodwood Climb\", \"Whiteway - Arundel turn to highest point\", \"Harvesting Lane Climb - The Steep Bit\", \"Turkey Island Climb\", \"Knights Hill Uphill\", \"Mega Meon the VERY fast bit\", \"S Harting Cat4, B2146 Junc - SDW dir Compton\", \"Forestside Steepish Bit\", \"Duncton Hill from Dye House Ln\", \"Horsebridge Hill\", \"Ditchling Beacon\", \"OFFICIAL 100Climbs No21 Steyning Bostal\", \"Top of Ditchling - A27\", \"Devil's Dyke (Proper)\", \"TheWholeDitchlingClimb\", \"Pavilion Blast\", \"\\\"You're a big man but you're out of shape, to me it's a full time job.\\\"\", \"Stan's Sprint!\", \"Coombes Road TT-North (The Drive to Maudlin Lane)\", \"Littlehampton Rd - Rbout to Rbout\", \"Butts Brow\", \"Holywell Zig-zag\", \"Firle Beacon (Road)\", \"Birling Gap - Beachy Head\", \"pevensey to cooden\", \"Cooden to Pevensey\", \"High'n'Over\", \"ECF2013#6\", \"Newick lane (final climb)\", \"Isfield Hill climb\", \"Battery Hill\", \"BottleAlleyEastward\", \"Harley to Filsham\", \"Rye to Camber turn off straight\", \"Jury's Gap Dash\", \"littlestone sprint\", \"camber turn into rye\", \"Dungeness Rd\", \"Race the train \", \"Staplecross Hill\", \"Climb Cap-Blanc-Nez\", \"Final sprint for the Ferry\", \"La Berg\\u00e8re\", \"Pre Bonk\", \"Le Ventu d'Alembon\", \"Escault Climb\", \"Climb into Landrethun-Le-Nord\", \"Bl\\u00e9riot-Sangatte\", \"La c\\u00e9dule\", \"Cote de Mont Violette\", \"Bideford - Lundy Island Climb\", \"Lundy South to North Run\", \"OFFICIAL 100Climbs No7 Challacombe\", \"Barnstaple to Bideford\", \"Roundabout to Roundabout\", \"yell and scream\", \"the whole climb!!!!!\", \"Croyde to the top of Cemetery Hill\", \"Newport Half Climb \", \"Mullacott x to Lee turnoff\", \"s12 dig in its only a mile.\", \"Combe Martin Climb\", \"OFFICIAL 100Climbs No5 Dunkery Beacon\", \"OFFICIAL 100Climbs No6 Exmoor Forest\", \"Ogmore Climb\", \"Ewenny-Ogmore by Sea\", \"Toll Road 2nd half Climb\", \"porthcawl sea front west\", \"Climb from Simonsbath\", \"Dulverton on to Exmoor\", \"Kerscott Hill Climb\", \"Brayford to top of Kinsford Hill\", \"OFFICIAL 100Climbs No3 Crowcombe Combe\", \"Penarth Hill\", \"Gwern y Steeple\", \"Lamby Way - Flexi Sprint\", \"Up the Taff Trail after bridge\", \"Enmore Hill\", \"Devils elbow\", \"Green Lane Climb\", \"Dunster to Ellicombe\", \"Timewell Hill\", \"OFFICIAL 100Climbs No1 Cheddar Gorge\", \"Belmont Hill Junction to Junction\", \"Burrington Combe\", \"Bridge Valley RD Bristol\", \"Brockley Combe\", \"2 mile Hill\", \"Park Street\", \"Morrisons to Greenbank TT\", \"Stoke Hill B3114\", \"Ham Hill Climb\", \"5 Hills 3/5 Widcombe\", \"New tarmac\", \"OFFICIAL 100Climbs No2 Weston Hill\", \"grid to grid\", \"saltford to bath (cycle path)\", \"Bannerdown from V Bottom to Top\", \"Bowden Hill Climb \", \"OFFICIAL 100Climbs No 101 Gold Hill\", \"Alfreds Tower, Entire\", \"Westbury White Horse Hill\", \"Milk Hill\", \"Conholt Hill\", \"Dean Hill\", \"Hackpen white horse climb\", \"Blackland Hill\", \"Beech Tree Walk launchpad\", \"Snakey\", \"Broadchalke to Fifield climb\", \"Thruxton lap\", \"Corner to grill\", \"OFFICIAL 100Climbs No25 Combe Gibbet\", \"Whitchurch Hill\", \"Herriard Steep\", \"Mortimer Hill\", \"Hayden Ln to the Railway line\", \"Poles lane, 2 mile between signposts downhill\", \"New Alresford Sprint Finish\", \"White Hill Climb\", \"Stockbridge High Street Dash.\", \"Bend it like Beckham.\", \"Newlands Corner from West Clandon/A246\", \"Red Section 15\", \"Run into windsor\", \"Breakheart Hill \", \"Little Switzerland\", \"Pride of the Valley - Hindhead\", \"Drift Road\", \"Quell Lane\", \"Playhatch - Dunsden Green\", \"Bidden Road New Tarmac\", \"Box Hill (Zig Zag Rd)\", \"Tour de Richmond Park\", \"Full Sawyers Uphill\", \"OFFICIAL 100Climbs No18 White Down\", \"OFFICIAL 100Climbs No17 Leith Hill\", \"Combe Lane (100 Climbs)\", \"Staple Lane\", \"Bunch sprint away from the lights!\", \"College Road to Fountain Drive\", \"Chalkpit Lane\", \"OFFICIAL 100Climbs No19 The Wall\", \"Toys Hill (Brasted Chart)\", \"Beddlestead (Full)\", \"The Cake Run (Quench Cycles Official)\", \"Ide Hill Road to village hall\", \"Star Hill - from waiting point at bottom to factory\", \"White Lane (Bec CC Hill Climb)\", \"Groombridge Hill\", \"Birling Hill (full)\", \"Shooters Hill (Real climb only)\", \"Hollingbourne Hill\", \"White Hill, Challock\", \"Boxley Hill (full length)\", \"Charing Hill\", \"Warren Road\", \"Linton\", \"Military Canal to Appledore\", \"The Bilsington Monument\", \"Seasalter Dash\", \"Pandoras Peak\", \"Lympne Hill\", \"Ancient Highway Deal to Sandwich\", \"Longage Hill\", \"Hythe Sainsburys Sprint\", \"Sandgate Hill, Folkestone\", \"Official St Margarets Bay\", \"Bridge Hill\", \"Ferry Hill\", \"Minnis Bay to Reculver - gate to gate\", \"Joss Gap climb\", \"Freshwater West Hill (North) to the monument\", \"Escape from Angle\", \"Newgale Climb\", \"Trefin Climb KLCC\", \"New Tiers Cross road\", \"Middle Mill to Whitchurch climb\", \"S bends Dash\", \"Iinterval1 (uphill)\", \"Priskilly pain point\", \"Haroldston Hill (long version)\", \"TLC to Lamphey\", \"Wiseman's Bridge Climb\", \"Blast out of Jameston\", \"St Daniels hill to Kingsfold\", \"Ridgeway Full Climb\", \"Narberth Hill\", \"Waterloo Hill\", \"Llandorrow to Red Roses\", \"Preseli Climb Official \", \"Freemens Way (North)\", \"Bobby's Blast\", \"crazy bike path segments\", \"\\u25b2Kittle\", \"Full Abergorlech Final Descent\", \"Loughor to Llanelli Sprint\", \"Cefn Bryn Broad Pool to Top...\", \"LAN: WAUNWYLLT - CYNHEIDRE\", \"Nantgaredig to Llangynnwr.\", \"Garnswilt long Climb\", \"B4300 jnct - Stag & Pheasant\", \"OFFICIAL 100Climbs No98 Rhigos\", \"OFFICIAL 100Climbs No95 Black Mountain\", \"The Bwlch from Treorchy\", \"Bwlch (from Cymer)\", \"Jim Crow\", \"Bwlch from Princetown Clocktower\", \"Energy downhill\", \"Devil's Elbow Climb - Junction to Viewpoint\", \"S Works Sprint\", \"OFFICIAL 100Climbs No100 Constitution Hill\", \"Velothon Wales, Tumble KOM/QOM\", \"DM - Sixapod\", \"Caerphilly Mountain (Caerphilly Side)\", \"K-Jam\", \"OFFICIAL 100Climbs No94 Llangynidr Mountain\", \"Tonteg Hill\", \"Tongwynlais Climb\", \"Peterstone Golf Club Intermediate Eastbound\", \"Newport interval training\", \"Down Down Down\", \"Verderer's Full Loop\", \"Seven Bridge (E) Gate to Gate\", \"Severn Bridge Westbound (northside)\", \"Llantrisant little b***ard hill I hate!!\", \"Going Down\", \"Tintern-St Arvans Climb\", \"SDR Bridge\", \"Llangwm to Gaer-Fawr\", \"From usk to Chainbridge\", \"Llancayo to chainbridge\", \"Frocester Hill\", \"Cleeve Hill\", \"The \\\"W\\\"\", \"Bushcombe Ln Climb\", \"Selsley Hill - Full Climb\", \"Full climb from Wotton\", \"Fiddlers\", \"Leckhampton Road Climb\", \"Just the Fosse...!!!\", \"The Pocock Spoke Brexit\", \"Official 100 Climbs #121 Dragon Hill Road\", \"stanway hill\", \"Winchcombe hill climb\", \"Down Ampney Road sprint\", \"Climb from Bourton - Rissington (Speed signs to speed signs)\", \"The Whiteway Sprint\", \"Clanfield to Bampton\", \"BrimbleHill\", \"Sprint for Cake\", \"Nell Hill - Steep Part\", \"Streatley Hill (HCC005 TT course)\", \"Britwell Hill Club challenge\", \"Brill Hill\", \"Swyncombe Climb - Full\", \"Plain - Longwall St\", \"Flint Hill TT Course (HCC/012)\", \"Brill\", \"Great Copse Climb\", \"Chain Hill\", \"Radclive to A421 RAB\", \"Bison Hill\", \"OFFICIAL 100Climbs No23 Whiteleaf\", \"Aston Hill\", \"Toms Hill, Aldbury\", \"Pishill\", \"Quarry Wood Climb\", \"Pishill - Short climb HHC015\", \"VC10 Kop Hill KOM Challenge\", \"Hill Road, Watlington\", \"Aston Hill Climb\", \"OFFICIAL 100Climbs No27 Swains Lane\", \"Hexton Hill 13\", \"Barnet Hill\", \"Bayswater hill sprint\", \"Hillingdon cycle circuit\", \"Robins Nest Hill\", \"Totteridge to Barnet A1000 \", \"Gaddesden Lane down to M1\", \"Redbourn Road\", \"The Hill, Wheathampstead\", \"Mott Street\", \"Diagonal to lights\", \"Junction to Junction - Crown Hill to Bell Common\", \"Resi sprint\", \"Fyfield (sprint)\", \"Little Climb In Finchingfield\", \"Langdon Hill Climb\", \"Thaxted Church Climb No 1\", \"b/more rd sprint , from school rd to quacks \", \"Tennis club to Roundabout\", \"N Hill Climb\", \"Main Road to Woodham\", \"Essex Way Uphill\", \"Race to the winkle wagon\", \"Eastwards climb to Althorne, B1010\", \"Threshold Attack 1\", \"Hawk Hill\", \"Castle Climb\", \"Abberton Causeway to the water pumping station\", \"Hammertime\", \"Sausage Shop Warmup\", \"Cox's Hill\", \"Cox Hill ~ Descent\", \"Trimley High Road Drag\", \"Windy white bridge\", \"The Women's Tour QOM - Primrose Hill\", \"Hill Beaumont\", \"Marsh Blast\", \"Maltings downhill\", \"Pump Hill\", \"Grosvenor hill\", \"Powering through Cenarth.\", \"Newport Flats\", \"Llechryd North West\", \"Blaenporth to Gogerddan climb\", \"Over the bridge and up\", \"MOD Bus Stop Sprint\", \"Bont to Brian\", \"Moylegrove to garden center\", \"bridge to bridge split 2\", \"Gorlach 1st downhill\", \"Ystwyth CC Llangorwen Hill Climb\", \"Penglais \", \"Emlyn to Henllan Bridge\", \"Y Cawr - Talsarn Climb\", \"Squeezing one out\", \"B4340 Climb\", \"Hilltop to Llanilar 30mph sign\", \"Brynhoffnant to Sarnau sprint\", \"New Quay over the bump\", \"OFFICIAL 100Climbs No93 Devil's Staircase\", \"Hippity Hop\", \"All of the Italian Job!\", \"Elan Valley\", \"Cwm Rhaeadr (Full Lap)\", \"Devil's Staircase warm up\", \"Hafod Inn to the Arch climb\", \"Top of Elan Hairpins to the top\", \"Pontrhydfendigaid to Ffair Rhos climb\", \"Weeeeeee\", \"100 Greatest Climbs - Gospel Pass\", \"Gospel Pass from Hay\", \"Glascwm\", \"Sprint into Newbridge\", \"B4368 Climb\", \"Climb out of Llyswen\", \"Little London Climb\", \"Llanelwedd SPRINT\", \"Abbey-Cwm-Hir\", \"Autumn Epic first full climb\", \"Dhustone Lane to Radar Station\", \"Hopton SS1\", \"Bay Horse to Huntington Lane\", \"Killhorse lane new and improved\", \"Haugh Wood Climb\", \"Walter Jones to Eyton turn\", \"Golf Course Climb\", \"Diddlebury Junction to the Crown\", \"clee hill 1st half\", \"Stanbroughs Wood Climb\", \"St Kenelms Pass Climb\", \"Beacon RCC hill climb (KH12)\", \"Wyche Rd climb\", \"Rose Hill\", \"Stourport Cycle Racing Circuit SSC\", \"Ankerdine Hill timed hill climb course\", \"Romsley - all the way up\", \"Conderton Bends\", \"St Johns Sprint\", \"Church Road\", \"OFFICIAL 100Climbs No13 Dover's Hill\", \"Larkstoke Hill\", \"OFFICIAL Maxstoke Challenge\", \"Snowshill Climb Section 1\", \"Weatheroak Hill\", \"Buckle Street Full Climb\", \"Castle Hill Cranker\", \"Charlecote to Hampton Lucy sprint\", \"Welford Climb\", \"Cycle Studio - GSR 2015 Hill Climb\", \"Edgehill (Actual)\", \"Navigation Hill\", \"Burton Dassett Hill Climb\", \"The Full Windmill\", \"cubbington bridge full climb\", \"*BUTT HILL NAPTON\", \"Priors Marston Hill\", \"Silverstone Straight\", \"Sibbertoft Steep Side\", \"Sprint up to the church \", \"NBRC Bow Brickhill Hill Climb\", \"Cranfield Hill climb\", \"Dungee Hill after Junction\", \"The Women's Tour QOM - Brixworth Climb\", \"Salcey Blitz\", \"final climb\", \"Col de Cogenhoe\", \"Yielden Hill East\", \"The Bojko Sprint!!!\", \"Firmyn Hill small\", \"My giddy AARGH\", \"Alconbury Hill\", \"Guided bus to Swavesey\", \"Walton Drop\", \"Perry Wood \", \"Tempsford Road Everton Hill\", \"Hill above Swineshead\", \"Dual Slalom\", \"Toft Climb\", \"Therfield Climb (Steep Bit)\", \"Chapel Hill\", \"Nirvana Northbound\", \"Busway:Westwick to Longstanton\", \"Busway Park Lane to Westwick\", \"EHC/13 (CCC Hill Climb)\", \"Rainbow Road\", \"E2/10\", \"Sewards End KOM\", \"Barley to Barkway steep part\", \"Twenty Pence Road (southbound)\", \"New Red Descent\", \"Sick n Twisted \", \"Watsons Hill\", \"Hartest Hill Climb\", \"lights to the bridge\", \"Garner straight towards Clare\", \"Dalham Hill\", \"Snetterton 300 Circuit\", \"Great Finborough Drop\", \"Fortress\", \"Tunstall Viking Trail\", \"RDR\", \"What power can you push?\", \"Bus Hill\", \"Red Lion to Crown Point\", \"Melton Road Sprint  - Lights to Lights\", \"Bunny Rabbit Alley Rewind.!!\", \"Framsden Frash\", \"Flixton > Bungay\", \"Climb to Old Buckenham\", \"Cous Cous Pinnacle\", \"Dun Run Done\", \"Please God, let it be sunny.\", \"Southwold or Kessingland climb\", \"Finishing straight\", \"Be patient.\", \"Bash the 'bout\", \"Westleton KOM\", \"Dolphin to Parrot and Punchbowl\", \"Coop to Cut\", \"Rhiw Hill - FULL climb\", \"Edern stinger\", \"Steep Aberdaron Climb\", \"Rhydolion Sprint\", \"Tudweiliog i Edern\", \"Bryn Chwilog Climb\", \"Cae Hen i Capel Uwchmynydd\", \"surfers path\", \"Lon Uwchmynydd Climb\", \"Caegromlech Climb\", \"OFFICIAL 100Climbs No92 Ffordd Penllech\", \"Prenteg Hill to first cattle grid\", \"Alan Crews : Safle Bws i 30 Arwydd - Sprint\", \"Barmouth Bridge - North\", \"Get me out of this place!\", \"Bryncrug - Tywyn\", \"1.5 mile sprint to the new bridge\", \"Nantmor hill, bottom of corner to bend\", \"Cardiac hill\", \"Fyny ag allan o Cric\", \"Uncle Fester\", \"Bwlch y Groes \", \"Morticia\", \"Stwlan Damn\", \"3-in-1/Dicko's\", \"Aber Himant hard part\", \"Beefy\", \"Climachx first climb to head of first trail\", \"Machynlleth Mountain Road - Bridge to Summit\", \"Abergynolwyn climb\", \"(DC) llangollen gwernant\", \"Llangynog climb\", \"long mountain welshpool 100 climbs no.187\", \"Back Racecourse climb.\", \"Jewson hill sprint\", \"Mont de Bulthy\", \"dam sprint\", \"Leisure Centre to A5\", \"B4368 Climb\", \"Tynyrwtra to Foxes Pitch \", \"OFFICIAL 100Climbs No39 The Burway\", \"Wrekinsport Hill Climb (2013 & 2014)\", \"Asterton Bank\", \"Climb out of Audlem\", \"Haughmond Hill - from Shrewsbury side\", \"Topography\", \"Five Chimneys\", \"Montfort Bridge Sprint\", \"The Plassey Pass\", \"Hill out of Wem\", \"OFFICIAL 100Climbs No38 Jiggers Bank\", \"The Hermitage, Bridgnorth\", \"The Clive, Pattingham\", \"Heart attack hill\", \"Piccolos up blast\", \"Burnhill Green climb\", \"Bar Hill Climb\", \"Aldersley Lap\", \"Hixon to Haywood\", \"Teddersley Road II\", \"Lower Cliff Descent!\", \"Rock 'N' Rollers \", \"Hicks Lodge\", \"Hanbury Hill climb\", \"Cumberhills Road climb\", \"Little Hay Little Climb\", \"Tamworth RMCC Boot Hill challenge.\", \"Repton to willington\", \"A513 to Arboretum \", \"Blithfield res climb towards Rugeley\", \"Beacon Hill (LFCC)\", \"Full Polly Botts Lane Climb... (LFCC)\", \"DMRC chain gang\", \"DMRC Hill Climb - Pistern Hill\", \"Plank to Kegworth\", \"Bus lane climb\", \"Alpe D'A46 Climb\", \"Heart Attack Hill\", \"Wymeswold to Wysall\", \"Higham Fields Ln Climb\", \"OFFICIAL 100Climbs No29 Terrace Hill\", \"Harby Hill...Full Length LFCC\", \"Burrough Hill\", \"The Full Uphill Gradient Climb into Uppingham\", \"DAM BUSTERS\\u2122\", \"Lights Out in Southwick\", \"Mini Ventoux\", \"Trent Lane Climb\", \"The Ave (Full Climb)\", \"Windmill for a Coffee\", \"Alwalton to Bullock Rd\", \"Chesterton Drag.\", \"Southwick Race finish\", \"Billing Brook Sprint\", \"Up Church Street Hill - Yaxley\", \"Morborne Hill\", \"Pondersbridge Wright's one way\", \"Benwick Road run\", \"Whittlesey Dike Sprint\", \"Witham Hill steep bit\", \"Babingley Sprint\", \"The Denver Up\", \"Runcton - Watlington 3k\", \"DENVER MILL STRETCH (ap)\", \"NBR Corner to Corner Sprint\", \"Gravel Bank East\", \"redgate hill\", \"Wildfield Rd to Hall Rd r'about\", \"Friday Bridge to the Bridge snappygear.co.uk\", \"To the Church\", \"Holkham gate to obelisk tt\", \"West Street\", \"Sandringham Sawmill bump\", \"Tri-Harder Bradenham KOM\", \"Gunning it to the Kiln!\", \"Bircham to Anmer\", \"Thornham - Briarfields\", \"ws2 16/17 lap\", \"into the drops\", \"Cadgers hilltop\", \"OFFICIAL 100 Climbs #125 Beacon Hill\", \"Gas Hill\", \"Skeets Hill\", \"Out of Frettenham climb.\", \"Bard Hill\", \"Out of Wroxham Drag\", \"Scrapyard Scrap\", \"Time trial coming through!\", \"Gas Blast\", \"Bridge to Market Place\", \"Escaping Acle\", \"Lound Hill Sprint\", \"Front to North walsham cross roads\", \"Gitcha Motor Runnin'\", \"Hopton to Corton\", \"Kinky Cows\", \"Hems to Wint\", \"Sea Palling Sprint...\", \"Jellicoe Bridge\", \"All or Norton\", \"Get your wheels wet\", \"South Stack\", \"Four Mile Bridge\", \"B4545 Climb\", \"As Fast As You Can\", \"Cymyran Hotel corner to Spotters Corner\", \"Porth Dafarch Hill East\", \"Sprint for Valley\", \"Llanrhyddlad - Llanfaethlu Uphill\", \"Ger Eglwys Climb\", \"Ger Eglwys Climb\", \"CRM pen-y-pss hill climb\", \"Nant Gwynant CRM HC\", \"Pen-Y-Pass\", \"Drws y Coed Hill Climb\", \"Bethesda to Llyn Ogwen\", \"Newborough hill to phone box\", \"Beddgelert-pen y gwryd\", \"climb out of Beddgelert\", \"Ceunant HC\", \"Up to Moelfre roundabout\", \"Great Orme\", \"Marin Descent From Bench\", \"Final Marin Descent Including New Gravel Bits\", \"Great Orme Toll House to Cafe car park entrance\", \"Little Orme (Road)\", \"The Purist's Descent - All downhill\", \"Black Powder\", \"Engine Hill Climb\", \"full hill\", \"Neverending pain\", \"3 mile climb\", \"First red Descent\", \"OFFICIAL 100Climbs No88 Penbarra\", \"The horseshoe\", \"graham weigh challenge\", \"OFFICIAL 100Climbs No87 Moel Arthur\", \"Denhall Lane\", \"sunspot climb\", \"Thurstaston Hill\", \"New Brighton to Seacombe\", \"Marford Hill\", \"Chapel Lane, Kelsall\", \"Hospital Hill !\", \"Sandy Lane Hill Climb\", \"Jennys on the block\", \"sefton lap - start at bridge\", \"Route 56 Sprint Climb\", \"Short Harthill\", \"Arley Road\", \"Acton ripple to lights\", \"The Brickworks\", \"Wizard Hill\", \"OFFICIAL 100Climbs No36 Mow Cop\", \"Start of Cat and Fiddle\", \"Gun Hill\", \"Windgather KotH\", \"Tatton Wall\", \"Cat & Fiddle Hill Climb - Proper Version\", \"Dean Row East Climb\", \"Manchester sign sprint - 200m\", \"Froggatt\", \"Bank Road Hill Climb\", \"Long Hill\", \"Mam Tor Hill Climb\", \"OFFICIAL 100Climbs No30 Monsal Head\", \"Hell Bank\", \"Hathersage to Surpirse Climb\", \"Strines Climb Ewden Bank (AKA Deliverence)\", \"Snake Pass\", \"Roper Hill Ascent\", \"28/03/16 undiverted red\", \"Bib Lane Hill Climb\", \"DMRC Chaingang Ripley Hill Attack\", \"Morrisons to Milford\", \"Official B&DCC Hardwick Hillclimb (standing start !)\", \"bank hill\", \"OHC/12 B&DCC Carr Lane HillClimb\", \"Carburton Lakes Chase\", \"Wilsic Lane\", \"Blyth Sign\", \"Gringley Hill\", \"Scampton Hill\", \"Slope to Bleasby\", \"Parrot's Olympic Road Race Finish\", \"River Trent to Owston Ferry\", \"Prison Sprint\", \"Thorpe North Face\", \"Leadenham Hill\", \"Kirton Hill\", \"Egmanton Climb........big ring only!!\", \"Mansgate Hill\", \"Tetford Climb from the village\", \"Walesby Climb to Crossroads\", \"Ashby Hill Climb\", \"Cotton Hill\", \"Kirkstead bridge to roundabout\", \"Short Ferry Sprint\", \"Belmont Climb\", \"Poverty Lump\", \"blox down to the royal oak\", \"Climb out of Hundleby\", \"Hole Gate Holeshot\", \"Yarburgh Road - Alvingham TT\", \"harrington hill north\", \"old bolingbroke climb\", \"Tetney Lock to Mablethorpe Rd Junction\", \"Flatbush Zombie Corner!!!\", \"The Bends\", \"Corner house to the flag makers\", \"Huttoft Golf Course\", \"Just like Jesus\", \"East Irish soggy-ness\", \"Daddy of 'em All -Sprint!\", \"Manchester to Blackpool Sprint Finish \", \"Prom carnage\", \"Birkdale to Plaza\", \"Big Gear Sprint Reverse\", \"Marine Drive Roundabout to Roundabout\", \"Slip 'n' Slide\", \"Golf Sprint\", \"BP to coastal road\", \"Fleetwod Tri - Back\", \"Bottom of Sheep House to Top\", \"Shaley Brow\", \"OFFICIAL 100Climbs No75 Trough of Bowland\", \"Hunters Hill (Pub To Pub)\", \"Parbold Hill Climb (Lancaster Lane to pub)\", \"Anglezarke climb\", \"Belmont Rd Climb\", \"ribchester to longridge\", \"Scorton World Champs\", \"Shard sprint\", \"OFFICIAL 100Climbs No72 The Rake\", \"OFFICIAL 100Climbs No74 Nick of Pendle\", \"Blackstone Edge\", \"Real Waddington Fell Climb\", \"The Snake\", \"Cragg Vale (top half)\", \"Birdy Brow\", \"OFFICIAL 100Climbs No139 Mytholm Steeps\", \"Heart rate hill\", \"Grassington Road Climb\", \"OFFICIAL 100Climbs No53 Norwood Edge\", \"OFFICIAL 100Climbs No43 Holme Moss\", \"Holme Moss\", \"Otley A660 Chevin Climb\", \"Creskeld Lane\", \"OFFICIAL 100Climbs No42 Jackson Bridge\", \"Sky Road - Holmfirth Road\", \"Ilkley Measured Mile\", \"OFFICIAL 100Climbs No40 Shibden Wall\", \"Proper Langbar\", \"Wakefield Cycle Circuit\", \"Church Hill\", \"Sicklinghall Main Street Climb\", \"Sicklinghall Road climb\", \"A162 Climb\", \"York Sport Cycle Circuit\", \"Cawood to Ryther\", \"TEAM eggs cafe sprint\", \"Holiday Inn (full climb)\", \"Levithagg hairpin\", \"V718 10 mile TT course\", \"Trundlegate full\", \"Nunburnholme Hill\", \"Elloughton Dale Climb\", \"Woodgates Hill\", \"Northgate Lane Climb East\", \"Trundlegate steep\", \"Etton / Dalton Ramp\", \"Flixborough Climb\", \"Scawby To Greetwell Segment\", \"Gravel Pit Road Drag\", \"Fire station - Tollbar \", \"Grimsby to Healing\", \"Lil Weighton Full Drag\", \"Howsham Rise.\", \"white gate to gate sprint\", \"Westwood Climb\", \"Up and over the 180\", \"swiss to diadem (before the lights)\", \"Hutton Howl to Skerne turn\", \"Easington straight Full\", \"Easington Straight North\", \"The Biggest Hill in England\", \"Bluebell to Spurn entrance\", \"Easington to Withernsea\", \"Holmpton Straight \", \"Easington straight\", \"Kilnsea Straight to Crown Pub\", \"Centrica Mile\", \"Cyclocross back from Spurn\", \"Segment\", \"Segment\", \"Segment\", \"Segment\", \"Blue Lagoon\", \"The Moorish Whips\", \"The Great Escarpe (Black Only)\", \"Whiterock Bay Sprint to Daft Eddies\", \"The pheasant climb\", \"New Tarmac 2016 Outward\", \"Jacob's 2\", \"Mallard Plantation\", \"Church Road Climb\", \"annalong to ballymartin\", \"Wee climb out of Ballyhalbert\", \"Kirkistown Golf Club to Kircubbin Rd Turn\", \"Portavogie School To Kircubbin Road Junction\", \"Warnocks Road (Away from Sea)\", \"Cloughey (2.9m) Mile TT to Portavogie\", \"Main Road (Warnocks Road to New Road)\", \"30s Ballyhalbert to Roundabout (North)\", \"Portavogie to Ballyhalbert\", \"Bog Rd to Ballyeasborough COI\", \"Main Road Portavogie (Bog Rd to Warnocks Rd)\", \"Killer Hill\", \"Barnell climb\", \"S.F.R. The Riddler\", \"Ballakillowey & Sloc\", \"Ballahutchin\", \"Crogga\", \"climb to archallagan\", \"Ballaugh to Kirk Michael\", \"Rhencullen and Bishopscourt\", \"Prison to the Cronk\", \"The Roc's\", \"100 Hills Ride 200 Snaefell Mountain\", \"Tree Hugger\", \"A14 Climb\", \"HoneyHill\", \"Peel Road Brown Bobby Climb\", \" Up sky hill to 1st gate\", \"Summer Hill Climb\", \"Bride Hill North\", \"The Lhen\", \"Clints\", \"CRB-ERRB\", \"The Thornhill Drag\", \"Black beck roundabout northbound hill\", \"Yottenfuse to Clints\", \"Sting in the tail !\", \"bus stop to bus stop thornhill style\", \"The Great Escape\", \"Baa Baa Blackbeck\", \"Race from main gate\", \"Hardknott's Pass\", \"OFFICIAL 100Climbs No85 Wrynose Pass\", \"Wrynose Pass\", \"North Face 1st climb\", \"Eskdale & Hardknott\", \"Wrynose Pass Full Cat 2 Climb\", \"Pass Of Dunmail Raise Climb\", \"Cold Fell\", \"Roose to Rampside\", \"no pain, no gain!\", \"The full kirkstone/Struggle climb\", \"Official Jubilee Tower Hill Climb TT route\", \"natland to k shoes\", \"Greyhound Climb\", \"Low Wood Bay S\", \"\\u2655 Arnside Bridge To Dallam Towers\", \"Quernmore Road Climb\", \"Borwick Hill Pure Climb\", \"Gummers How climb\", \"Over 50mph Sprint\", \"Hully Gully\", \"OFFICIAL 100Climbs No45 Park Rash\", \"OFFICIAL 100Climbs No79 Cross of Greet\", \"OFFICIAL 100Climbs No47 Malham Cove\", \"OFFICIAL 100Climbs No50 Fleet Moss\", \"OFFICIAL 100Climbs No73 Garsdale Head\", \"OFFICIAL 100Climbs No51 Tan Hill\", \"OFFICIAL 100Climbs No48 Langcliffe Scar\", \"OFFICIAL 100Climbs No78 Lamps Moss\", \"OFFICIAL 100Climbs No46 Oxnop Scar\", \"OFFICIAL 100Climbs No52 Greenhow Hill\", \"Burnsall B6160 Climb\", \"C\\u00f4te de Grinton Moor\", \"Trapping Hill\", \"Hartwith Bank, Climb (max 21% grad)\", \"Croft Circuit Lap\", \"Trapping Hill Climb\", \"Kill Killer Short\", \"Leighton to Lofthouse climb\", \"Bunkhouse to West Burton\", \"OFFICIAL 100Climbs No56 White Horse Bank\", \"Carlton Bank\", \"OFFICIAL 100Climbs No54 Boltby Bank\", \"Clay Bank just the hill\", \"Hutton Bank - Just The Bank\", \"mother shipton to golf club\", \"Newgate Bank Climb\", \"Aldwark Bridge\", \"Neasham Hill\", \"Strensall Barracks Flyby\", \"Dalby First Switchbacks\", \"Rosedale Chimney - LVG\", \"Dalby Rock Drops into Berms\", \"Caper Hill\", \"Blakey Bank Stream to T Junction\", \"Hanging Grimston summit\", \"Another 100 Greatest Climbs No 150 Egton High Moor\", \"Sandhill Bank Climb\", \"bulmer hill\", \"Hawsker-RHB\", \"Hay Lane + Hay Brow\", \"Steep climb to Ravenscar\", \"Lodge Hill\", \"TDY sprint finish\", \"V491 Flixton Brow Hill Climb\", \"CG Sprint!\", \"Burton Agnes to Woldgate\", \"Foxholes to Butterwick\", \"Col de Spellowgate (steep bit)\", \"Crofts Hill West\", \"King of the waves!\", \"Cycopath\", \"Airport road full- Country bound\", \"Knockagh Rd Climb\", \"Full Scrabo climb to left turn at Scrabo Rd\", \"Titanic Time Trial\", \"Lizard\", \"Glenarm - Carnlough (Bmena Rd)\", \"The Bairds Nest\", \"Ballydrain Road\", \"Ballyboley climb\", \"Ballyhalbert Sprint to 30s (From Ballywalter)\", \"The B'Walter Coffee Sprint - Goan ye boyee!!\", \"A77 into Stranraer\", \"a LIDL sprinteroo\", \"London Rd Sprint \", \"Soleburn to Kirkcolm\", \"Climb out of kirkcolm\", \"dinvin climb\", \"Blast down the coast to Portpatrick\", \"High Milton sprint\", \"Craigcaffie Full Climb\", \"floor it to tarff valley\", \"Auchmantle climb\", \"New Luce Climb\", \"Drumantrae Bay decent\", \"Ardwell to Sandhead\", \"PUSH IT\", \"Tarbet to Damnaglaur\", \"Barr caravan park to pink house\", \"River Bladnoch to Challoch Church\", \"The new little bitsy witsy bermy bit\", \"Rivendell\", \"Stairway to Heaven\", \"Sprint to 30s\", \"Barhill Climb\", \"Mutehill Bridge to Castledykes\", \"Cairnsmore top gate to bottom gate\", \"Dismtd Rly straight - westbound\", \"Martyr's stake car park  to County Buildings\", \"Laurieston climb all ascending\", \"Keekle\", \"dalbeattiebluesecondsingletrack\", \"Smithland hill\", \"Honister92/Team XIII Roundabout Sprint\", \"Flimby to Eastman Sprint\", \"Stainburn Road Climb\", \"Turn 2 Turn\", \"Chasing cars\", \"Downhill cruise\", \"The Castle Hill\", \"Whinlatter (100 Greatest Cycling Climbs)\", \"OFFICIAL 100Climbs No81 Newlands Hause\", \"OFFICIAL 100Climbs No80 Honister Pass\", \"DP Honister climb\", \"High Lorton - Whinlatter Visitors center\", \"Honister Pass\", \"Warnell \", \"A66 to cars\", \"Allonby to Silloth\", \"Up and out of Eastriggs\", \"Melmerby - Hartside (Cafe)\", \"Hartside Cafe from Renwick C2C\", \"Strawberry Hill\", \"Ullswater-Matterdale climb\", \"Hartsop to Glenridding\", \"Stanwix Bank Climb\", \"Coombs wood hill climb\", \"Crown Inn to Durdar\", \"Troutbeck A66 descent...\", \"Up the Banks\", \"OFFICIAL 100Climbs No62 Chapel Fell\", \"Crawleyside Bank 230m Incline \", \"Cuthbert's Hill\", \"Great Dunn Fell \", \"Prospect Hill\", \"Great Dun Fell - The Final Push\", \"OFFICIAL 100Climbs No152 Yad Moss\", \"Killhope Cross\", \"Brough North up Swindale\", \"Uncle Micks to the Haunted House.\", \"Transmission\", \"New Pike's Teeth Downhil 2014\", \"Latte\", \"OFFICIAL 100Climbs No60 Peth Bank\", \"MH11 - Hedley Hill Climb course\", \"Quayside Sprint 50-30\", \"Official Silverhills Hill Climb Course\", \"Chopwell power line trail - first section\", \"Up Bridge Road\", \"A68 to Parkhead cafe. (Waskerly Way)\", \"Les's 3\", \"One Full Lap Of Prissick\", \"Aislaby Bank\", \"The Riddler\", \"IBWFCC Ingleby Low Ln roundabout to Fox Covert\", \"Sadberge Bank (from the rumble strip to the top)\", \"Seaburn Swoosh --------------- RVCC \\u263c\\u263a\\u263c\", \"Team Gorgeous Weekend Velo Club TT West\", \"Sherburn Hill - Climb\", \"A1018 New Tarmac S to N\", \"Saltburn Bank Burn\", \"Saltburn Bank (DOWN)\", \"Lythe Bank\", \"Easington Escape\", \"Quick and watch the traffic\", \"Car-crash dip\", \"Staithes-Hinderwell \", \"Bunch Of Grapes to Bunnyland turn-off\", \"Loftus sign to Easington sign\", \"Garron Tower Road Due North!\", \"Peninver Penance\", \"Stewarton Bazooka\", \"Ballochgair Climb\", \"MoK Lighthouse climb\", \"MoK Tri TT Out\", \"West Road - Moss to 30 Limits\", \"Outer Southend to Stewarton\", \"30 to 30 Machrihanish - Campbeltown\", \"Full climb to Lighthouse\", \"A841 Climb\", \"Kilmory sprint\", \"drop to kildonnan\", \"Grouse Lodge Climb\", \"Blackwater Blast!\", \"Sliddery Blast\", \"Smash It\", \"Levencorroch Rise\", \"Some wee bridges \", \"Coffee Pot to Easter House\", \"Pennyglen To Co-Op\", \"netherauchendrane climb\", \"Nic O'Balloch proper\", \"setting off the 30mph sign\", \"electric brae\", \"Roselle climb\", \"Kwik Fit to Tam's Brig Sprint\", \"Mile Rep South\", \"Straiton hill\", \"Galloway Gallop - The Midge Monster\", \"Heartbreak Hill\", \"Black Craig final decent\", \"Sorn Rd Climb\", \"Blaclwood Brae Downhill\", \"Tour of Britain: Stage 1 KOM 2\", \"loch doon mob run next to road \", \"B742 Climb\", \"Big DH 2 GG Mini  \", \"B741 descent towards Dalmellington\", \"New Galloway-Mossdale\", \"omega man last downhill section\", \"OFFICIAL 100Climbs No63 Mennock Pass\", \"Zig Zag Hill\", \"Granny Green Luv\", \"Descender Bender Climb\", \"Mabie - Descender Bender Bottom\", \"Up to the big golf ball\", \"A701 Climb\", \"Glentaggart Steep downhill\", \"Speddoch Climb North Side\", \"Wall of Talla\", \"Greenhillstairs Climb\", \"Wyseby Hill Climb\", \"Berrybush to Crosslee\", \"Gretna Green - Kirkpatrick Flemming\", \"Talla Reservoir\", \"B709 Climb\", \"Bridge Sprint out of Megget\", \"lorry park to JB\", \"Cogrie  Cottages climb\", \"Castle climb\", \"Big Legs Big Lungs (BL-BL)\", \"Warm up along the Lakeside Way, because you're going to need your climbing legs today\", \"Hidden Valley\", \"Devil's Staircase\", \"Cogsmill Climb\", \"c**t of a climb\", \"Chester burn climb\", \"Flat out to Longtown\", \"Askerton to Bewcastle Ascent\", \"OFFICIAL 100Climbs No61 Winters Gibbet\", \"Bilsmoor Bank Climb\", \"Another 100 Climbs 156 High Knowles\", \"Kielder Dam Sprint\", \"Vomit full climb river to A68 junction\", \"Dam to the Coffee Shop\", \"Knowesgate - B6342 Climb\", \"Newbrough - North Road climb\", \"A68 Drop in to England\", \"Heading for Crailinghall\", \"Berwick Hill - Bottom to Top\", \"Berwick Hill to Horton Grange\", \"Limestone speedway\", \"Jets Over Head!\", \"Matfen to Stamfordham Sprint\", \"Middleton Bank\", \"Kirkley to Ponteland\", \"sprint!!!!!\", \"Pin it to Win it\", \"STORM THE CASTLE\", \"Sluice climb\", \"Seaton Burn Climb\", \"BOOM!\", \"Sea Banks\", \"Get on the drops and hit it!!!!!!!!!!!!\", \"Delaval to Constable \", \"Pray for a tailwind\", \"Links Road Roundabout to Blyth Road Roundabout\", \"Spanish City to Top of Promenade Hill\", \"Blyth Road short pull\", \"Out of the Saddell\", \"Call the Coastguard\", \"Craighouse Hill Road DH\", \"Kilberry Head\", \"Larach na Gaibhre\", \"Castle Sween Hill\", \"descent\", \"'Clachbreck' (and other expletives)\", \"3  arch to viewpoint\", \"Tarbert Brae\", \"Lochranza climb\", \"Brodick Climb\", \"Bealach An Drain Climb\", \"Bogoullie climb\", \"Lochranza Doonhill!\", \"The String Climb\", \"Imachar SurpRISE\", \"Cooked Meat\", \"Serpentine Hill Climb\", \"last climb to tarbet\", \"Dundonald Hill Front Side\", \"Airport Uphill Sprint\", \"A770 Climb\", \"fairlie moor climb\", \"Clune Brae\", \"Bridge of Weir to Kilmacolm (no gps drift)\", \"Fast past the petrol station\", \"Bridge 41 to Lochwinnoch\", \"Brisbane Glen Descent\", \"Ardrossan to Waterside\", \"Crow Road Car Park\", \"Col de Muirheid\", \"Stobocross Sprint\", \"VCGS Hillclimb\", \"Over the moor\", \"Ardochrig Climb\", \"The Tak Wall\", \"Braveheart Long Route 2016\", \"Dalgain brae\", \"SSSSSmooth Tarmac\", \"Kingscavil Hill Climb\", \"Linlithgow to Cemetetery\", \"The Vu Climb\", \"rooty tooty\", \"The Lang Whang\", \"HOC Thursday Sprint\", \"Carmichael Hill\", \"Truck Stop Finish Sprint\", \"Clime to Plains\", \"Carlisle Rise\", \"Spooky Wood\", \"Arthur's Seat Climb\", \"The Angry Sheep\", \"Arthur's Seat clockwise\", \"Crammond Leg Checker\", \"Darkness awaits The Great...\", \"Granites B7007 South\", \"The Exponential\", \"Climb to Dalmeny Gate\", \"Winchburgh to Kirkliston Sprint\", \"Garleton Hills (The Yak)\", \"High-Definition\", \"Chris Hoy challenge\", \"Rigg 17% section\", \"Col de Longniddry Bents\", \"Redstone Rig\", \"Col du Saltoun Est\", \"Longniddry Golf Course Sprint\", \"Off the saddle\", \"A199 final straight near East Links\", \"Hardens Hill\", \"Crookham Climb\", \"3K through Nesbit sprint\", \"The Bastard\", \"baileys bridge straight\", \"Pressen Hill Climb\", \"Skateraw sprint\", \"Crailing Tofts Straight\", \"Up towards Yetholm\", \"The Old-Bridge Sprint\", \"Lyham Hill\", \"Start As You Mean To Go On!\", \"Up we go again\", \"Straight Down To Chillingham\", \"Cause you can ~~~~\", \"Belford Climb\", \"Bundle bay climb\", \"Commited to the Cause\", \"Seahouses to Beadnell \", \"Left a bit. Down a bit. Right a bit. Up a bit.  I'm Bob Monkhouse!\"], \"x\": [478.2, 193.6, 1842.7, 427.9, 1774.9, 209.6, 536.4, 1255.1, 526.7, 481.0, 891.9, 394.7, 4539.0, 1893.6, 1790.3, 1424.5, 4745.9, 741.9, 1317.1, 667.1, 9137.3, 853.9, 7606.9, 318.9, 4641.7, 1209.4, 1203.4, 1249.7, 1590.2, 1786.9, 1031.5, 5927.2, 1005.4, 762.2, 7533.4, 777.7, 5726.5, 1677.1, 635.4, 1114.4, 357.0, 3201.8, 5774.8, 6334.8, 315.0, 1987.0, 4962.5, 3855.8, 1134.0, 1882.1, 796.5, 2035.2, 272.1, 3264.2, 721.6, 195.0, 11717.3, 312.7, 3608.2, 93.4, 334.7, 796.9, 2547.3, 19209.4, 93324.7, 621.1, 1098.4, 2655.8, 5466.1, 1523.7, 51442.7, 698.3, 8747.8, 358.9, 492.7, 1546.0, 8160.1, 8029.2, 870.1, 2060.6, 948.4, 904.9, 919.1, 2081.0, 2508.4, 8708.7, 673.7, 1595.4, 1218.1, 470.9, 646.7, 31452.3, 1090.9, 414.6, 2036.6, 1926.7, 2418.8, 1382.9, 1100.8, 3702.8, 4743.6, 2444.8, 407.3, 573.4, 265.2, 1206.6, 1504.8, 3547.9, 1010.2, 1861.0, 2400.2, 852.7, 291.3, 7818.2, 2174.9, 2847.5, 3261.0, 1620.0, 1951.1, 1791.2, 633.2, 336.2, 1331.2, 2097.3, 2595.3, 1622.2, 1012.7, 1855.9, 631.6, 3518.3, 821.8, 755.8, 650.4, 655.1, 5356.9, 3587.1, 1314.1, 3915.0, 1671.2, 288.2, 2096.0, 4070.2, 2161.4, 7234.5, 122.8, 2774.2, 1417.7, 4814.0, 863.0, 963.9, 1151.1, 931.8, 1490.7, 2373.0, 1272.7, 3227.2, 2947.1, 589.2, 1380.8, 1968.0, 627.6, 1202.6, 1631.3, 974.7, 1942.4, 1466.8, 1570.2, 3473.7, 3021.1, 8430.9, 411.9, 2289.0, 609.2, 5439.2, 2170.4, 1085.7, 1659.8, 1341.0, 4157.0, 6437.3, 6686.4, 849.8, 2542.2, 3060.6, 1025.2, 1651.5, 457.3, 440.0, 1436.4, 4493.5, 1764.2, 1150.2, 3882.5, 3443.4, 2629.3, 981.8, 234.1, 1856.1, 1002.2, 1156.6, 620.8, 1682.4, 5736.6, 2093.2, 1028.7, 792.1, 4103.5, 1310.7, 11459.2, 10168.6, 615.7, 6050.1, 4845.0, 1037.4, 2273.7, 1609.2, 4318.6, 3116.5, 11141.1, 3974.7, 4237.3, 3451.0, 1930.0, 2271.2, 5481.2, 1882.0, 6130.5, 1260.7, 204.0, 1647.7, 490.1, 826.1, 3406.5, 1253.2, 577.6, 1264.0, 873.1, 4165.7, 1444.5, 4019.1, 693.2, 4046.4, 3193.8, 332.6, 2352.5, 608.4, 1066.1, 1562.6, 1517.2, 1583.3, 637.0, 4292.1, 2699.4, 1103.6, 148.2, 2384.0, 1774.7, 1656.4, 1291.9, 761.9, 740.8, 2208.8, 234.2, 749.0, 2265.8, 3740.1, 813.3, 857.0, 1174.7, 1357.4, 1168.5, 883.3, 3248.0, 524.0, 1112.9, 571.2, 1085.3, 1768.6, 533.8, 2179.3, 562.9, 2424.3, 3318.6, 2910.8, 970.0, 857.1, 1836.2, 2504.0, 10818.3, 1799.7, 1978.5, 2032.8, 1457.5, 2491.4, 405.0, 1334.4, 1165.5, 1503.6, 2948.8, 3092.8, 913.8, 1613.9, 1209.6, 549.7, 1247.8, 2548.9, 968.3, 1351.4, 2563.6, 2733.2, 1568.1, 714.0, 1609.4, 2789.7, 396.9, 4212.3, 495.8, 879.6, 3388.9, 913.5, 518.3, 734.2, 769.0, 982.7, 393.8, 4367.8, 544.2, 969.0, 1078.5, 1062.5, 502.7, 2692.3, 869.2, 744.9, 1527.5, 1394.9, 1334.7, 12917.3, 591.5, 1299.4, 1716.6, 2971.1, 637.2, 610.7, 6451.7, 4500.3, 1680.6, 2928.0, 4267.1, 453.0, 1094.2, 312.5, 2270.0, 1740.2, 7017.4, 2387.0, 7329.1, 5595.8, 7227.1, 4358.9, 6763.5, 664.3, 4499.1, 1369.0, 1839.9, 4426.6, 289.0, 4317.1, 1856.9, 1427.3, 645.4, 5860.4, 2264.3, 583.3, 3905.0, 4277.9, 5644.0, 9231.6, 2916.7, 2919.0, 252.6, 997.4, 4313.7, 583.7, 3527.1, 5409.5, 2588.0, 2055.5, 2380.3, 957.8, 1355.2, 1998.8, 3337.0, 3112.2, 1248.9, 2836.8, 133.9, 1028.6, 2876.7, 2816.7, 2019.6, 2338.5, 751.5, 2629.1, 1294.9, 1657.5, 366.4, 757.1, 916.7, 1993.9, 4112.5, 370.5, 2721.8, 2581.1, 904.8, 2890.0, 345.9, 1032.6, 1355.7, 2800.0, 851.7, 9453.7, 1084.3, 2743.1, 1068.8, 1931.7, 1013.1, 928.5, 1213.1, 551.6, 287.3, 1485.3, 1567.7, 1809.7, 3358.6, 5037.6, 537.4, 2127.4, 599.4, 1528.5, 567.9, 299.8, 148.6, 1127.2, 231.8, 631.6, 866.9, 1605.1, 4632.5, 864.5, 4547.7, 1461.6, 614.9, 478.7, 424.5, 2949.7, 907.1, 1091.9, 927.7, 590.0, 2363.5, 1132.4, 694.9, 1453.7, 2485.6, 504.8, 1009.8, 173.8, 726.7, 978.6, 1736.3, 820.5, 1025.1, 1394.2, 1007.5, 578.2, 3899.8, 672.0, 1495.3, 992.9, 5263.8, 4203.1, 391.0, 1170.0, 3116.3, 1100.9, 207.2, 1126.4, 508.7, 1363.5, 5339.0, 6264.9, 418.4, 3019.7, 2045.5, 1574.1, 870.5, 4711.6, 8799.1, 753.0, 1074.6, 3505.1, 850.9, 2479.4, 634.7, 2548.0, 19112.7, 3353.0, 715.1, 535.2, 554.9, 2184.6, 916.0, 3017.9, 2782.3, 4213.5, 1115.6, 1951.3, 977.7, 1534.7, 1009.6, 1358.3, 937.8, 3333.8, 1780.5, 355.2, 776.9, 1735.1, 2007.6, 1993.6, 3073.2, 500.5, 2172.1, 164.0, 722.3, 1161.4, 1467.2, 834.7, 2819.0, 665.6, 841.0, 700.3, 310.3, 564.6, 472.8, 399.5, 419.1, 653.5, 1637.6, 3327.3, 1046.6, 2258.1, 790.8, 1248.1, 835.3, 256.1, 473.6, 630.2, 1300.0, 4930.2, 671.6, 1001.2, 430.3, 530.5, 217.1, 429.4, 491.1, 770.6, 794.1, 3928.8, 1489.6, 926.5, 1544.7, 16063.1, 1262.4, 235.7, 6993.7, 735.2, 683.5, 623.3, 452.1, 412.3, 846.1, 2403.7, 4765.6, 900.5, 1440.5, 11975.0, 428.1, 265.2, 1032.4, 477.2, 1248.6, 1887.9, 1866.3, 2726.5, 1001.1, 530.9, 982.0, 2444.9, 226.4, 512.8, 377.3, 331.5, 759.3, 2931.2, 732.3, 2200.0, 345.6, 273.2, 309.1, 3952.0, 953.2, 286.4, 381.4, 1246.6, 667.4, 333.2, 1451.8, 502.6, 761.2, 152.8, 2456.9, 2149.6, 345.0, 2528.3, 734.3, 800.5, 2635.7, 437.1, 2763.3, 941.3, 1821.3, 575.5, 1833.5, 10551.4, 470.1, 1758.8, 6020.3, 2982.3, 1983.8, 417.1, 2098.9, 348.4, 767.7, 1948.2, 1149.6, 3080.9, 1578.8, 1003.6, 755.5, 1768.5, 320.5, 1405.9, 814.6, 1352.8, 330.0, 2698.7, 934.5, 356.1, 279.4, 318.8, 907.0, 2192.4, 466.6, 891.2, 6656.7, 928.0, 445.7, 6774.4, 929.1, 1087.2, 2007.5, 1471.6, 1893.0, 947.9, 641.0, 1874.2, 1348.2, 28701.0, 1771.0, 5440.3, 347.5, 1956.6, 390.3, 3503.5, 657.7, 1064.8, 3577.7, 3708.3, 1742.6, 1106.0, 5007.5, 2843.5, 631.8, 1353.9, 477.2, 3458.7, 2836.7, 630.0, 809.4, 562.4, 471.8, 2591.8, 4223.8, 1668.1, 230.4, 515.0, 472.1, 3197.8, 2817.9, 1599.2, 2928.6, 518.0, 849.4, 7221.0, 2039.6, 2121.3, 960.5, 1279.3, 1238.6, 1500.2, 3340.3, 1726.8, 7664.7, 1513.5, 750.2, 1418.7, 205.3, 448.8, 423.4, 957.8, 1341.0, 418.5, 911.9, 2478.8, 919.7, 1108.5, 245.1, 1617.4, 1138.2, 2437.9, 137.4, 1215.5, 717.9, 544.8, 411.7, 2756.0, 1001.8, 105.1, 763.2, 1035.5, 903.3, 424.0, 525.5, 2319.4, 3313.9, 3044.2, 4987.9, 6346.0, 1722.0, 1438.8, 6402.2, 2479.6, 11229.1, 3424.2, 1177.7, 681.4, 7236.0, 336.1, 1173.0, 3412.7, 393.3, 2563.2, 1244.5, 1345.4, 435.9, 1860.3, 4868.9, 409.0, 2288.1, 2585.7, 270.6, 2271.6, 756.9, 5899.0, 1667.4, 3497.4, 1375.0, 1065.4, 1188.3, 390.8, 1224.5, 3694.2, 443.0, 558.6, 1889.1, 809.5, 2641.6, 1167.2, 1474.9, 6108.5, 2269.7, 3197.6, 1730.5, 10233.2, 288.5, 276.0, 4723.2, 1062.0, 7526.8, 2137.1, 466.3, 2597.6, 2878.7, 988.2, 6094.8, 380.6, 13208.4, 496.3, 1984.1, 2078.5, 605.0, 2409.3, 1479.6, 3734.2, 3597.6, 341.0, 2025.3, 438.0, 495.9, 232.2, 8015.6, 730.1, 424.2, 604.5, 691.6, 929.7, 1507.5, 1435.6, 1692.1, 262.0, 882.4, 1880.6, 839.0, 582.9, 1099.4, 445.3, 1015.5, 386.3, 1881.0, 835.9, 850.3, 2192.8, 252.9, 731.4, 795.3, 7993.8, 1288.2, 21090.5, 934.9, 530.4, 651.9, 1008.9, 510.0, 921.4, 589.6, 423.1, 2310.7, 3332.6, 3382.1, 1628.7, 2083.0, 1797.8, 1232.4, 1301.6, 1600.2, 3804.9, 3613.6, 866.3, 975.8, 1321.8, 4456.8, 3979.2, 663.6, 4087.5, 1956.2, 3367.4, 370.9, 931.6, 1883.2, 2237.4, 4680.6, 2758.7, 1764.8, 1504.4, 6348.5, 1643.8, 889.5, 2045.3, 999.2, 281.9, 656.4, 1044.3, 481.8, 1051.3, 2034.3, 168.5, 903.9, 657.5, 16091.4, 1687.1, 1433.9, 2112.0, 977.3, 296.7, 648.2, 436.5, 816.5, 2164.9, 1457.6, 1205.6, 1712.3, 1936.7, 336.5, 330.3, 2027.4, 1543.3, 672.4, 2437.8, 2599.8, 1189.3, 406.5, 724.4, 11283.6, 3153.5, 1284.8, 2952.0, 1608.8, 2115.2, 1502.1, 1777.4, 2289.0, 1368.5, 1629.6, 362.0, 1036.0, 1022.1, 344.4, 307.5, 3947.3, 769.3, 526.4, 4421.0, 2015.3, 716.4, 2130.6, 561.2, 4782.0, 649.0, 898.8, 3663.2, 2709.7, 1067.3, 2219.2, 1855.0, 713.6, 6343.7, 1117.0, 295.8, 1364.6, 3158.8, 1150.0, 3423.6, 4117.3, 12637.5, 724.8, 4277.2, 735.1, 244.2, 1340.4, 2324.9, 694.5, 420.8, 1016.6, 577.8, 1114.6, 515.0, 7029.5, 1010.6, 954.0, 1796.0, 5148.1, 3699.8, 2603.7, 2544.3, 1798.5, 2147.7, 8360.3, 6099.8, 2005.6, 6014.8, 3797.9, 1789.7, 4549.3, 3013.3, 1743.9, 1165.6, 1390.4, 4042.4, 440.8, 1260.9, 1497.7, 301.2, 450.9, 2181.2, 2929.1, 3314.1, 5395.2, 2794.4, 9999.7, 2038.5, 3842.8, 4029.1, 4047.0, 1240.5, 2983.6, 1700.1, 1509.3, 3272.4, 1193.8, 483.5, 7658.6, 1857.5, 1683.2, 1886.1, 1237.0, 1061.1, 154.6, 1074.7, 1563.6, 183.4, 282.1, 703.5, 284.8, 1430.9, 337.3, 1261.9, 1822.4, 1582.5, 7207.7, 589.5, 737.8, 3596.7, 2024.0, 201.1, 125.4, 270.9, 992.1, 320.6, 2433.5, 2687.8, 338.7, 473.3, 6499.9, 2977.5, 4829.2, 2489.8, 2670.9, 4121.9, 1821.3, 3330.8, 738.2, 4882.4, 1050.8, 251.5, 590.8, 2610.3, 647.4, 276.6, 4315.2, 2713.1, 1509.9, 9595.2, 290.9, 3813.1, 3511.9, 3836.7, 4339.3, 852.6, 3950.9, 438.9, 4601.3, 5884.5, 6278.7, 212.6, 515.8, 492.6, 1000.8, 601.9, 2164.1, 2370.7, 655.0, 435.9, 5731.6, 1143.1, 507.1, 333.0, 711.3, 2260.3, 381.4, 3755.1, 579.8, 1378.3, 744.6, 2967.6, 1938.9, 3750.8, 2457.6, 5196.0, 7313.8, 1645.7, 986.8, 10634.4, 439.8, 7573.1, 7107.4, 2338.3, 5542.2, 4666.5, 327.2, 1053.4, 4663.2, 2717.7, 1804.5, 3957.6, 3080.0, 2702.7, 6902.8, 1555.3, 984.4, 15612.2, 5271.4, 6449.8, 972.0, 740.3, 627.8, 343.2, 1664.1, 1711.9, 308.2, 2735.3, 647.5, 383.2, 12252.4, 182.5, 1016.5, 330.1, 180.6, 368.6, 225.4, 939.1, 1529.4, 1349.1, 1469.1, 285.3, 308.6, 1490.2, 1062.7, 894.2, 567.5, 1745.8, 2065.8, 917.9, 1758.1, 1121.1, 1446.1, 832.3, 2002.4, 10542.6, 3310.8, 9841.2, 7041.8, 7057.2, 1707.6, 913.9, 627.4, 664.7, 587.8, 1290.1, 1431.1, 3555.0, 3177.1, 158.2, 13545.5, 3121.4, 3200.6, 205.4, 591.6, 1147.2, 1132.8, 1562.2, 1116.7, 7732.4, 611.9, 954.0, 526.0, 587.0, 1140.7, 1300.0, 447.7, 326.2, 5740.5, 8057.2, 752.0, 11440.5, 1501.7, 1139.1, 1973.3, 928.4, 3811.2, 1050.9, 735.3, 3718.1, 1796.0, 3160.2, 833.5, 3670.9, 4831.3, 3723.1, 2069.7, 1329.1, 4833.0, 936.9, 151.0, 1158.3, 4027.9, 3165.7, 242.7, 1996.0, 4508.8, 578.3, 861.0, 3318.3, 3356.3, 4970.0, 3755.0, 1000.9, 5226.4, 1124.1, 828.6, 3829.4, 4292.5, 559.1, 1306.5, 1890.6, 3249.0, 2147.0, 5274.8, 1010.9, 3529.1, 914.2, 156.0, 188.3, 1127.3, 1120.7, 812.4, 537.8, 284.2, 1185.1, 1949.0, 2872.0, 1034.8, 369.2, 1003.1, 3572.8, 784.4, 1681.0, 1144.4, 1808.2, 4305.2, 1832.1, 1396.6, 998.2, 4033.3, 2903.9, 4004.8, 5390.5, 3342.8, 2833.7, 138.7, 116.0, 703.0, 150.4, 1621.3, 725.4, 1760.0, 3424.9, 1349.7, 4873.4, 523.3, 2509.8, 7850.4, 2598.5, 2318.4, 673.3, 587.0, 1828.0, 8336.6, 1353.6, 176.7, 84719.5, 704.1, 377.1, 814.0, 833.8, 2220.6, 171.1, 5777.4, 603.0, 1614.0, 336.1, 1157.4, 807.3, 1135.3, 1435.1, 484.8, 5275.8, 128.0, 541.9, 3488.3, 451.4, 1240.9, 2433.0, 1719.4, 369.7, 397.7, 503.8, 1193.7, 8729.8, 2332.4, 2081.7, 283.9, 2314.2, 2254.0, 463.8, 3329.9, 653.3, 2639.6, 1688.9, 966.4, 1473.0, 1977.9, 236.2, 2126.7, 579.6, 4063.1, 842.7, 1715.3, 307.5, 536.0, 4650.5, 2686.0, 979.9], \"type\": \"scatter\", \"mode\": \"markers\", \"y\": [24.7, 3.7, 4.4, 4.2, 3.9, 13.6, -0.3, 0.6, 9.6, 5.3, 8.4, 0.4, 4.0, 2.7, 1.8, 6.1, 2.8, 7.2, 6.3, 2.9, 0.1, -5.5, -0.6, 19.7, 4.8, 7.7, 6.7, 0.5, 5.7, 3.6, 7.1, -0.6, 7.7, 2.6, 1.8, 2.3, 3.1, 7.0, 1.6, 8.3, 0.0, 4.5, -2.1, 2.0, -1.0, 5.2, -1.6, 3.5, 1.9, 4.8, 3.1, 0.5, 9.7, 3.3, 2.4, 11.0, -0.2, 5.3, 2.5, 1.2, 5.6, 6.3, 2.6, 0.1, 0.0, 7.4, 2.6, 0.0, 0.0, 3.8, -0.1, 5.5, 0.1, 2.6, 4.9, 5.9, -0.0, 0.0, 12.3, 4.6, -2.8, 3.3, 5.9, 0.5, 5.3, 4.0, -4.8, 5.5, -3.8, 5.1, 13.4, -0.0, 4.7, 7.3, 6.2, 6.3, 6.8, 11.7, 11.1, 4.0, 4.9, 7.5, 2.5, -3.4, 6.6, 12.8, 10.1, 5.9, 11.3, -0.1, 5.5, 1.6, 5.2, -0.4, 6.2, 6.7, 4.4, 8.5, 3.1, 4.8, 6.2, 4.9, 2.7, 5.9, 1.6, 5.5, 6.6, 4.7, 6.3, 3.9, 0.3, 6.4, 8.5, 6.0, 3.2, 1.9, 3.7, 0.3, 0.3, 4.6, 0.8, -0.3, -0.2, 0.1, -6.0, 3.2, 4.4, -0.3, 0.9, 4.6, -0.1, 7.8, -2.9, 3.5, 0.5, 3.2, 4.0, 10.2, 8.0, 4.8, -6.1, 6.7, 3.7, 9.2, 4.6, 9.1, 7.9, -2.2, 4.4, 2.3, 0.0, 0.3, -0.4, 0.4, -0.2, 13.1, 4.9, 9.8, 3.3, 0.1, -0.0, 9.9, 4.1, 3.5, 2.4, 7.7, 0.5, 0.0, -0.3, 0.0, -0.0, -0.1, 0.0, -0.0, 3.1, 6.3, 1.1, 5.7, 6.1, 5.6, 4.5, 4.1, 0.0, 0.1, 10.5, 13.5, -0.7, 12.6, -0.3, 0.4, 0.2, 2.8, 3.4, 4.1, -0.2, 0.5, 5.2, 10.3, 3.8, 0.5, 0.3, 5.0, 0.8, 5.7, 4.3, 5.6, 5.3, 14.8, 7.8, 6.0, 0.3, 0.1, 5.5, 7.1, 25.0, -1.8, 10.5, 4.2, 7.0, 5.3, 8.5, 3.2, 3.9, 6.8, -1.2, 2.8, 8.1, 9.2, -0.6, 10.3, 1.5, 0.0, 6.3, 8.5, 21.5, 6.6, 7.7, 5.0, 7.4, 9.3, 8.7, 4.9, 4.4, 6.3, 1.0, -0.0, 0.9, 9.2, 7.6, 4.6, 3.5, 3.0, -0.3, 1.8, 7.7, -0.2, -0.1, 4.6, -6.5, -0.8, 4.5, 4.4, 4.7, 0.0, 8.8, 4.3, 0.7, 5.0, 0.0, 2.2, 5.8, 6.6, 7.2, 3.8, -0.3, 4.4, 10.6, 8.5, 4.9, 3.8, -3.0, 5.9, 8.1, 13.0, 6.9, 5.9, 5.8, 7.8, 6.6, 5.2, 5.8, 10.4, 5.4, 0.1, 4.3, -0.2, 4.0, 10.0, 0.0, 5.2, 0.3, 5.3, 9.7, 4.5, 4.1, -0.0, 2.8, 5.1, 5.1, 8.8, 5.0, -0.4, 5.8, -1.0, 1.0, 4.8, 5.3, 0.1, 9.4, -2.5, 3.7, 2.6, 6.8, 5.7, 2.3, 6.3, -0.3, 0.1, 0.1, 5.6, -9.9, 0.3, 3.6, 1.8, -0.5, 3.7, 2.5, 5.1, 5.3, 5.8, 5.0, -0.1, 5.8, -3.5, 10.0, -0.2, 19.3, 8.1, -6.0, 9.2, -8.2, 6.8, 2.3, -0.8, 0.0, -0.0, -3.5, -0.2, 0.3, -0.1, 6.5, -1.5, 3.0, -0.3, 4.7, 0.4, 0.1, 9.0, 5.6, 8.5, 11.6, 7.7, 5.0, 4.1, 7.0, -0.7, 0.7, 8.8, 4.9, 7.2, 0.1, 5.0, -2.7, -0.0, 4.9, -0.1, 8.9, 13.0, 9.4, 5.1, 3.4, -1.1, 3.7, 3.6, 2.8, 4.1, 5.5, 8.2, 9.4, 4.4, 7.4, 1.9, 6.5, 3.6, 9.5, 6.3, 8.4, 7.3, 6.2, 3.9, -0.5, 0.0, 3.9, -0.4, -1.5, 0.1, 5.3, 4.0, -0.1, -0.4, -0.2, -2.2, 6.3, 7.2, 5.4, -0.3, 0.4, 5.3, -0.9, 5.8, -0.1, 3.0, -0.2, 3.6, 5.1, 0.7, -0.9, 0.5, 3.2, -4.8, -0.0, 0.3, 3.1, 1.9, 0.6, -3.3, 0.5, 5.3, 0.1, -0.6, 3.5, 4.9, 5.6, -1.9, 4.1, 10.6, 0.0, -4.7, 7.7, 8.1, 0.1, 5.9, 1.2, 7.7, -0.0, -2.4, 4.5, 12.3, -5.7, -5.3, 5.0, -0.2, 7.5, 6.1, 6.6, 6.8, -7.5, 5.8, 5.0, 12.7, 0.8, 6.6, 6.2, 8.0, -1.0, 5.5, 1.4, 5.0, -6.9, -0.2, 5.2, 6.2, 0.1, 3.2, 0.1, 0.6, 17.8, 5.2, 11.2, 4.3, 6.5, 0.0, 11.1, 3.5, -2.1, -2.2, 2.6, 8.1, 7.5, 4.0, 4.8, 7.9, 11.3, 6.6, -0.3, 2.6, 6.0, 10.8, 2.7, 8.9, 4.0, 3.7, 9.0, 8.6, -0.6, 8.6, 5.1, 9.0, 3.3, 1.4, 4.1, -1.5, 3.7, 3.4, 3.2, -1.7, 3.3, -3.3, 3.4, -0.0, -1.0, 2.4, 7.7, 3.5, -6.9, 2.5, 9.1, 5.1, -0.2, 0.1, 0.0, 4.2, 0.1, -0.0, 3.4, 7.3, -0.2, -2.4, -1.6, 4.2, 7.6, -0.6, 0.0, 2.6, 0.0, -2.6, -0.0, 0.0, -0.5, -4.1, 2.1, 4.1, -0.0, -0.0, -0.9, -0.1, 1.1, 1.5, -1.3, -0.1, 0.9, -2.5, 2.1, 0.4, 0.7, 0.3, -1.3, 7.3, 3.8, 5.7, -0.8, -0.0, 8.4, 2.8, -14.1, 12.3, 13.8, 16.3, 11.8, 0.3, -0.1, 6.3, -0.2, -0.2, 7.7, 4.2, 4.3, -5.1, 13.5, -6.9, 9.7, -12.7, 8.4, 3.3, 7.8, 4.3, 4.9, 13.9, 5.4, 9.2, 6.4, 2.3, 7.0, -1.5, -1.4, 6.6, 1.5, 9.2, 5.9, 17.1, 1.4, 3.1, -20.2, 7.8, -3.9, -2.2, 5.0, 4.5, 7.9, 8.1, 4.7, 1.4, 1.2, 1.8, 0.0, -0.2, 0.5, -4.4, -1.5, 0.0, 7.0, 6.5, 1.7, 5.0, -0.4, -0.1, 4.5, 6.1, 5.1, 0.0, 4.9, 0.0, 4.4, 2.1, 9.4, -0.2, 14.9, 7.5, 2.9, 2.4, 5.1, -0.2, -1.1, -0.1, 3.7, 4.2, 5.1, 0.2, -0.3, 4.5, -0.2, 3.2, 5.3, -0.0, 0.0, -0.0, 6.1, 0.9, 2.3, 0.1, 0.5, -0.4, 0.0, 3.0, 0.0, -0.0, 0.0, -1.2, 3.8, -0.4, 3.3, -0.5, 0.2, -0.0, 0.0, 0.4, 1.1, 4.2, 14.7, 4.2, 1.7, 5.6, 0.9, 1.0, -1.4, -0.7, 1.3, 0.3, 1.7, 0.4, -0.7, 0.0, 1.2, 0.2, -0.2, 0.6, 0.5, -0.6, 6.0, 4.0, 0.1, -0.2, -0.4, 3.3, -1.4, -0.9, 11.9, 6.2, 4.9, 4.4, 5.1, 7.0, 2.4, 1.5, 2.0, 4.3, 5.2, 2.0, -0.0, -1.8, -8.2, 3.1, 8.6, -4.6, -15.1, 5.4, 4.5, 2.0, 3.2, -5.5, 11.2, 4.5, 2.5, 9.6, 5.4, 3.2, 2.5, -0.1, 3.8, 7.6, 3.7, 1.9, 0.3, 0.0, 5.1, 9.3, 0.5, -1.6, 5.7, 7.2, 11.1, 4.4, 6.7, 6.1, -1.4, 3.3, 5.0, -1.2, 4.5, 10.6, 3.2, 10.0, 12.4, 7.0, 6.0, 13.1, 5.7, 10.4, -0.0, 9.5, 2.7, 0.2, 8.8, 1.7, 6.6, 0.3, 1.4, 0.1, 1.7, 5.8, 0.6, 1.1, -0.0, -1.8, 2.7, 8.3, 5.4, 2.9, 6.9, 5.9, 5.5, 7.2, 0.2, 0.3, 0.0, 6.9, 1.0, -1.9, 3.4, 3.6, 0.1, 4.8, 6.1, -0.1, 0.6, -0.2, 0.0, 0.0, 0.0, 0.0, -0.0, 0.0, 0.0, 1.7, 0.3, 0.1, 0.4, -0.5, 0.1, -0.0, 5.3, 6.7, 6.2, 4.9, 6.8, 7.2, 5.7, 2.1, 0.0, 0.5, 9.9, 11.0, 5.4, 6.3, -3.4, 2.3, 8.6, 6.7, 7.6, -0.2, 9.2, 9.5, 7.3, 2.5, 5.1, 10.6, 5.4, -0.2, 14.6, 7.8, -0.1, 7.5, 3.8, 1.8, 1.1, 0.0, 0.0, -1.5, 2.7, 3.2, -0.2, 5.2, 7.6, 4.8, 6.5, 3.8, 9.3, 3.3, 4.0, 1.5, 4.2, -0.7, 0.4, 2.2, 4.3, -0.3, 1.8, -0.1, 0.0, 0.0, 0.0, 0.2, 0.0, 0.5, -0.0, -0.2, -0.2, -0.1, -0.3, -0.0, 8.1, 8.7, 6.3, 12.0, -0.5, -10.3, -7.4, 0.8, 5.1, -0.7, 2.1, -1.0, 20.1, 0.7, 0.1, 0.2, -0.1, 0.4, 0.2, -0.4, -0.1, -0.3, 0.4, 0.2, 11.0, 9.2, -10.1, 5.2, 3.3, 9.3, 5.0, 0.1, -0.2, -0.5, 3.4, 3.3, -19.5, 6.9, 8.1, 4.5, 10.4, 4.2, 4.7, 5.1, 3.8, -1.1, 1.5, 4.3, 0.3, 1.0, -1.7, -0.4, -0.5, 0.5, 12.1, 11.0, 8.1, 2.2, 4.3, 5.3, 6.1, 3.6, 0.1, 11.4, 8.3, 5.9, -0.7, 9.7, 0.1, 0.1, 20.8, 7.1, 11.3, -11.7, -10.5, 10.7, 6.3, 6.1, 5.9, 8.0, 1.9, 8.4, 8.1, 5.9, 7.1, 6.5, 6.7, 11.7, 9.6, 0.0, 9.4, 3.4, 3.6, -0.8, 10.3, 10.1, 13.0, 8.2, 7.5, 3.9, 7.0, 0.0, 9.4, -0.2, 3.9, 12.6, -8.7, 14.2, 12.4, 8.9, 3.9, 10.3, 6.6, -1.4, 5.6, 7.1, 10.4, -1.5, 9.9, 1.4, 2.2, 0.3, 6.8, 3.0, 0.3, 0.0, 0.1, 5.8, 1.4, -0.0, 4.4, -0.1, 0.5, 0.1, 2.5, -1.4, 0.1, -0.3, -0.7, 0.2, 0.1, 2.7, 3.7, -0.3, 2.3, 5.1, -2.7, 2.1, 2.4, -0.6, 0.4, 3.1, 2.2, -0.0, -0.7, -6.0, -6.2, 9.0, -0.4, 4.1, 0.1, -12.0, -1.0, 6.0, 2.5, 4.1, -3.5, 9.2, -2.4, -0.0, 3.4, -0.9, 0.1, -1.9, 1.4, 7.1, 10.7, 6.6, 9.9, 4.3, 0.3, 7.3, 3.2, 0.2, -0.6, 5.2, 5.5, 5.7, 3.5, -0.2, 31.9, 7.4, -1.5, -3.5, 5.6, 8.3, 7.4, 5.9, 9.3, 7.5, 7.1, 2.0, 5.0, 4.4, 0.1, -5.9, -7.5, -1.0, 8.2, 7.5, 0.3, 7.7, -7.4, 4.8, 1.5, -9.1, -0.2, 4.5, -1.1, 0.9, 7.8, -1.6, -0.8, 4.8, -0.4, 14.7, -8.2, 8.8, -2.8, 2.2, -1.9, 2.2, 1.5, 3.0, 3.6, 4.5, 0.0, 3.0, 13.3, 0.2, 0.1, 0.0, 0.2, 4.9, 5.1, -5.0, -1.1, 4.1, -2.4, 5.3, -0.8, 1.9, -1.2, 8.3, -0.7, 2.4, 7.0, -2.4, -1.9, 1.3, -0.4, 0.3, 4.0, 0.6, 10.2, -5.3, 3.9, -4.7, 4.6, -6.6, 28.3, -11.9, -2.0, -0.0, -10.4, 2.9, 6.1, -3.8, 2.2, -5.0, 7.3, 0.7, -7.0, 3.8, 8.3, 3.8, 10.5, -3.9, 0.3, -0.2, 3.9, 1.5, 0.2, 2.2, 2.5, 4.0, 0.3, -2.5, 9.1, 4.1, 2.9, 3.1, -0.3, 1.7, 4.6, 3.3, 5.1, 0.3, 3.4, 0.7, 2.7, 3.4, -4.0, 3.2, 2.8, -1.1, -1.2, 0.1, -0.3, 4.5, -0.1, -1.9, 6.0, 7.3, 2.0, 0.3, -0.0, 2.2, 1.0, -1.5, -0.0, 0.7, 0.6, 1.1, 8.1, -1.3, -2.9, 4.5, 5.7, 2.3, -3.9, 3.0, 4.7, 5.0, 4.8, 3.6, 6.8, 3.6, -5.5, 5.3, 14.6, 8.8, 9.8, 0.5, 6.4, 0.3, 7.5, 7.2, 6.0, 0.7, -0.1, -0.8, -3.2, -0.1, 5.5, 2.4, 0.1, 5.4, 0.1, 3.0, 8.7, 0.0, 9.0, 0.8, 8.3, 1.7, 3.6, 0.1, 1.6, -1.7, 5.2, 1.2, 0.7, 2.1, -6.2, 5.8, -18.4, 0.6, 8.0, 0.2, 3.7, 10.3, 2.4, -0.1, 5.8, -21.2, -0.2, 11.3, -0.2, 3.6, 3.0, 0.1, -15.6, -0.5, 7.2, 19.9, 0.1, 4.7, 0.2, 2.8, -0.2, -0.7, 2.3, 1.1, 5.8, 7.7, 1.1, -3.3, 0.4, 9.0, 5.0, 0.1, -0.4, -0.9], \"marker\": {\"size\": 5, \"opacity\": 0.8, \"color\": \"blue\"}}, {\"text\": [\"Climber\", \"TTer\", \"Sprinter\"], \"x\": [1500, 20000, 100], \"textfont\": {\"size\": 20, \"color\": \"red\"}, \"type\": \"scatter\", \"mode\": \"text\", \"y\": [20, 2, -3]}], {\"xaxis\": {\"title\": \"Distance in metres\", \"type\": \"log\"}, \"showlegend\": false, \"yaxis\": {\"title\": \"Downhill        Grade %            Uphill\"}, \"title\": \"Popular Strava Segments in the UK: Gradient v Distance\"}, {\"linkText\": \"Export to plot.ly\", \"showLink\": false})});</script>"
      ],
      "text/plain": [
       "<IPython.core.display.HTML object>"
      ]
     },
     "metadata": {},
     "output_type": "display_data"
    }
   ],
   "source": [
    "iplot({\n",
    "    'data':[Scatter(x=segment_data.distance, y=segment_data.avg_grade, text=segment_data.name, \n",
    "               mode='markers', marker=Marker(color='blue', size=5, opacity=0.8)),\n",
    "           Scatter(x=[1500,20000,100],y=[20,2,-3],mode='text',text=['Climber', 'TTer', 'Sprinter'],\n",
    "                   textfont=dict(size=20,color='red'))],\n",
    "    'layout':Layout(title='Popular Strava Segments in the UK: Gradient v Distance',\n",
    "                    xaxis=XAxis(title='Distance in metres', type='log'), \n",
    "                    yaxis=YAxis(title='Downhill        Grade %            Uphill'),\n",
    "                   showlegend=False)\n",
    "        },\n",
    "      show_link=False)\n"
   ]
  },
  {
   "cell_type": "code",
   "execution_count": null,
   "metadata": {},
   "outputs": [],
   "source": []
  },
  {
   "cell_type": "code",
   "execution_count": null,
   "metadata": {},
   "outputs": [],
   "source": []
  },
  {
   "cell_type": "code",
   "execution_count": null,
   "metadata": {},
   "outputs": [],
   "source": []
  },
  {
   "cell_type": "code",
   "execution_count": null,
   "metadata": {
    "collapsed": true
   },
   "outputs": [],
   "source": []
  }
 ],
 "metadata": {
  "anaconda-cloud": {},
  "kernelspec": {
   "display_name": "Python [Root]",
   "language": "python",
   "name": "Python [Root]"
  },
  "language_info": {
   "codemirror_mode": {
    "name": "ipython",
    "version": 3
   },
   "file_extension": ".py",
   "mimetype": "text/x-python",
   "name": "python",
   "nbconvert_exporter": "python",
   "pygments_lexer": "ipython3",
   "version": "3.5.3"
  }
 },
 "nbformat": 4,
 "nbformat_minor": 1
}
