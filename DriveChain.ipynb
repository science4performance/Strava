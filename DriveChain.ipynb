{
 "cells": [
  {
   "cell_type": "markdown",
   "metadata": {},
   "source": [
    "# Drive chains\n",
    "\n",
    "Interior angle of a regular polygon"
   ]
  },
  {
   "cell_type": "code",
   "execution_count": 1,
   "metadata": {
    "collapsed": true
   },
   "outputs": [],
   "source": [
    "def intAng(n=6):\n",
    "    return (n-2) * 180 / n"
   ]
  },
  {
   "cell_type": "code",
   "execution_count": 3,
   "metadata": {},
   "outputs": [
    {
     "name": "stdout",
     "output_type": "stream",
     "text": [
      "3 60.0\n",
      "4 90.0\n",
      "5 108.0\n",
      "6 120.0\n",
      "7 128.57142857142858\n",
      "8 135.0\n",
      "9 140.0\n",
      "10 144.0\n",
      "11 147.27272727272728\n",
      "12 150.0\n",
      "13 152.30769230769232\n",
      "14 154.28571428571428\n",
      "15 156.0\n",
      "16 157.5\n",
      "17 158.8235294117647\n",
      "18 160.0\n",
      "19 161.05263157894737\n",
      "20 162.0\n",
      "21 162.85714285714286\n",
      "22 163.63636363636363\n",
      "23 164.34782608695653\n",
      "24 165.0\n",
      "25 165.6\n",
      "26 166.15384615384616\n",
      "27 166.66666666666666\n"
     ]
    }
   ],
   "source": [
    "for i in range(3,28):\n",
    "    print(i, intAng(i))"
   ]
  },
  {
   "cell_type": "code",
   "execution_count": null,
   "metadata": {
    "collapsed": true
   },
   "outputs": [],
   "source": []
  }
 ],
 "metadata": {
  "kernelspec": {
   "display_name": "Python [Root]",
   "language": "python",
   "name": "Python [Root]"
  },
  "language_info": {
   "codemirror_mode": {
    "name": "ipython",
    "version": 3
   },
   "file_extension": ".py",
   "mimetype": "text/x-python",
   "name": "python",
   "nbconvert_exporter": "python",
   "pygments_lexer": "ipython3",
   "version": "3.5.2"
  }
 },
 "nbformat": 4,
 "nbformat_minor": 2
}
