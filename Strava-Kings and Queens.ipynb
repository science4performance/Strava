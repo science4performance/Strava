{
 "cells": [
  {
   "cell_type": "markdown",
   "metadata": {},
   "source": [
    "# Stava Kings and Queens\n",
    "\n",
    "The structure of this blog is as follows.<br>\n",
    "Review of women's versus men's records<br>\n",
    "Comparison with Strava QOMs versus KOMs. Probably best to take average of top 10<br>\n"
   ]
  },
  {
   "cell_type": "code",
   "execution_count": 3,
   "metadata": {
    "collapsed": true
   },
   "outputs": [],
   "source": [
    "%matplotlib inline\n",
    "import stravalib\n",
    "import Strava_Download\n",
    "import matplotlib.pylab as plt\n",
    "import pandas as pd\n",
    "import numpy as np\n",
    "import warnings\n",
    "\n",
    "try:\n",
    "    f = open( 'mytoken.txt', 'r' )\n",
    "    mytoken = f.read()\n",
    "    f.close()\n",
    "    client = stravalib.Client(access_token = mytoken) \n",
    "except:\n",
    "    print('access_token required')\n"
   ]
  },
  {
   "cell_type": "code",
   "execution_count": 97,
   "metadata": {},
   "outputs": [
    {
     "name": "stdout",
     "output_type": "stream",
     "text": [
      "Michal Kwiatkowski\n"
     ]
    }
   ],
   "source": [
    "strava_id=1905161       # Michal Kwiatkowski\n",
    "athlete = client.get_athlete(strava_id)\n",
    "print(athlete.firstname, athlete.lastname)"
   ]
  },
  {
   "cell_type": "markdown",
   "metadata": {},
   "source": [
    "## Analyse a selection of Strava segments across the UK\n",
    "\n",
    "Draw a box around England, Wales and some of Scotland (50,-6) to (56,+2). Divide this up into smaller boxes and pull in data from popular segments in each box. Run the code once and pickle the results.\n"
   ]
  },
  {
   "cell_type": "code",
   "execution_count": 4,
   "metadata": {
    "collapsed": true
   },
   "outputs": [],
   "source": [
    "#from Strava_Download import get_strava_explore_segments\n",
    "\n",
    "#import numpy as np\n",
    "#segment_data = pd.DataFrame()\n",
    "#for lat in np.arange(50,56,0.5):\n",
    "#    for lon in np.arange(-6,2,0.5):\n",
    "#        print(lat,lon)\n",
    "#        df = get_strava_explore_segments(coords=[(lat,lon),(lat+0.5,lon+0.5)])\n",
    "#        segment_data = segment_data.append(df,ignore_index=True)\n",
    "#segment_data\n",
    "#segment_data.to_pickle('PopularSegmentsUK.pkl')\n",
    "\n",
    "segment_data = pd.read_pickle('PopularSegmentsUK.pkl')"
   ]
  },
  {
   "cell_type": "code",
   "execution_count": 5,
   "metadata": {},
   "outputs": [
    {
     "data": {
      "text/html": [
       "<div>\n",
       "<style>\n",
       "    .dataframe thead tr:only-child th {\n",
       "        text-align: right;\n",
       "    }\n",
       "\n",
       "    .dataframe thead th {\n",
       "        text-align: left;\n",
       "    }\n",
       "\n",
       "    .dataframe tbody tr th {\n",
       "        vertical-align: top;\n",
       "    }\n",
       "</style>\n",
       "<table border=\"1\" class=\"dataframe\">\n",
       "  <thead>\n",
       "    <tr style=\"text-align: right;\">\n",
       "      <th></th>\n",
       "      <th>name</th>\n",
       "      <th>climb_category</th>\n",
       "      <th>climb_category_desc</th>\n",
       "      <th>avg_grade</th>\n",
       "      <th>elev_difference</th>\n",
       "      <th>distance</th>\n",
       "      <th>segment_id</th>\n",
       "      <th>KOM</th>\n",
       "      <th>KOMavg</th>\n",
       "      <th>QOM</th>\n",
       "      <th>QOMavg</th>\n",
       "      <th>KOM_s</th>\n",
       "      <th>KOMavg_s</th>\n",
       "      <th>QOM_s</th>\n",
       "      <th>QOMavg_s</th>\n",
       "      <th>avgRatio</th>\n",
       "      <th>Ratio</th>\n",
       "    </tr>\n",
       "  </thead>\n",
       "  <tbody>\n",
       "    <tr>\n",
       "      <th>0</th>\n",
       "      <td>Segment</td>\n",
       "      <td>1.0</td>\n",
       "      <td>4</td>\n",
       "      <td>24.7</td>\n",
       "      <td>118.2</td>\n",
       "      <td>478.2</td>\n",
       "      <td>5432521</td>\n",
       "      <td>0 days 00:00:35</td>\n",
       "      <td>0 days 00:00:37</td>\n",
       "      <td>0 days 00:00:48</td>\n",
       "      <td>0 days 00:00:48.800000</td>\n",
       "      <td>35.0</td>\n",
       "      <td>37.0</td>\n",
       "      <td>48.0</td>\n",
       "      <td>48.8</td>\n",
       "      <td>1.318919</td>\n",
       "      <td>1.371429</td>\n",
       "    </tr>\n",
       "    <tr>\n",
       "      <th>1</th>\n",
       "      <td>Three Tunnel Dash</td>\n",
       "      <td>0.0</td>\n",
       "      <td>NC</td>\n",
       "      <td>3.7</td>\n",
       "      <td>7.1</td>\n",
       "      <td>193.6</td>\n",
       "      <td>4782364</td>\n",
       "      <td>0 days 00:00:14</td>\n",
       "      <td>0 days 00:00:14.400000</td>\n",
       "      <td>0 days 00:00:15</td>\n",
       "      <td>0 days 00:00:17.600000</td>\n",
       "      <td>14.0</td>\n",
       "      <td>14.4</td>\n",
       "      <td>15.0</td>\n",
       "      <td>17.6</td>\n",
       "      <td>1.222222</td>\n",
       "      <td>1.071429</td>\n",
       "    </tr>\n",
       "    <tr>\n",
       "      <th>2</th>\n",
       "      <td>Eagles Nest Slog</td>\n",
       "      <td>1.0</td>\n",
       "      <td>4</td>\n",
       "      <td>4.4</td>\n",
       "      <td>84.1</td>\n",
       "      <td>1842.7</td>\n",
       "      <td>1060760</td>\n",
       "      <td>0 days 00:03:40</td>\n",
       "      <td>0 days 00:03:48.200000</td>\n",
       "      <td>0 days 00:04:53</td>\n",
       "      <td>0 days 00:05:04</td>\n",
       "      <td>220.0</td>\n",
       "      <td>228.2</td>\n",
       "      <td>293.0</td>\n",
       "      <td>304.0</td>\n",
       "      <td>1.332165</td>\n",
       "      <td>1.331818</td>\n",
       "    </tr>\n",
       "    <tr>\n",
       "      <th>3</th>\n",
       "      <td>Up and away from Lands End</td>\n",
       "      <td>0.0</td>\n",
       "      <td>NC</td>\n",
       "      <td>4.2</td>\n",
       "      <td>17.8</td>\n",
       "      <td>427.9</td>\n",
       "      <td>11756862</td>\n",
       "      <td>0 days 00:00:32</td>\n",
       "      <td>0 days 00:00:34.400000</td>\n",
       "      <td>0 days 00:00:51</td>\n",
       "      <td>0 days 00:00:55.800000</td>\n",
       "      <td>32.0</td>\n",
       "      <td>34.4</td>\n",
       "      <td>51.0</td>\n",
       "      <td>55.8</td>\n",
       "      <td>1.622093</td>\n",
       "      <td>1.593750</td>\n",
       "    </tr>\n",
       "    <tr>\n",
       "      <th>4</th>\n",
       "      <td>Rosewall Hill</td>\n",
       "      <td>0.0</td>\n",
       "      <td>NC</td>\n",
       "      <td>3.9</td>\n",
       "      <td>76.5</td>\n",
       "      <td>1774.9</td>\n",
       "      <td>1077299</td>\n",
       "      <td>0 days 00:04:01</td>\n",
       "      <td>0 days 00:04:05</td>\n",
       "      <td>0 days 00:04:44</td>\n",
       "      <td>0 days 00:04:59.400000</td>\n",
       "      <td>241.0</td>\n",
       "      <td>245.0</td>\n",
       "      <td>284.0</td>\n",
       "      <td>299.4</td>\n",
       "      <td>1.222041</td>\n",
       "      <td>1.178423</td>\n",
       "    </tr>\n",
       "  </tbody>\n",
       "</table>\n",
       "</div>"
      ],
      "text/plain": [
       "                         name  climb_category climb_category_desc  avg_grade  \\\n",
       "0                     Segment             1.0                   4       24.7   \n",
       "1           Three Tunnel Dash             0.0                  NC        3.7   \n",
       "2            Eagles Nest Slog             1.0                   4        4.4   \n",
       "3  Up and away from Lands End             0.0                  NC        4.2   \n",
       "4               Rosewall Hill             0.0                  NC        3.9   \n",
       "\n",
       "   elev_difference  distance  segment_id              KOM  \\\n",
       "0            118.2     478.2     5432521  0 days 00:00:35   \n",
       "1              7.1     193.6     4782364  0 days 00:00:14   \n",
       "2             84.1    1842.7     1060760  0 days 00:03:40   \n",
       "3             17.8     427.9    11756862  0 days 00:00:32   \n",
       "4             76.5    1774.9     1077299  0 days 00:04:01   \n",
       "\n",
       "                   KOMavg              QOM                  QOMavg  KOM_s  \\\n",
       "0         0 days 00:00:37  0 days 00:00:48  0 days 00:00:48.800000   35.0   \n",
       "1  0 days 00:00:14.400000  0 days 00:00:15  0 days 00:00:17.600000   14.0   \n",
       "2  0 days 00:03:48.200000  0 days 00:04:53         0 days 00:05:04  220.0   \n",
       "3  0 days 00:00:34.400000  0 days 00:00:51  0 days 00:00:55.800000   32.0   \n",
       "4         0 days 00:04:05  0 days 00:04:44  0 days 00:04:59.400000  241.0   \n",
       "\n",
       "   KOMavg_s  QOM_s  QOMavg_s  avgRatio     Ratio  \n",
       "0      37.0   48.0      48.8  1.318919  1.371429  \n",
       "1      14.4   15.0      17.6  1.222222  1.071429  \n",
       "2     228.2  293.0     304.0  1.332165  1.331818  \n",
       "3      34.4   51.0      55.8  1.622093  1.593750  \n",
       "4     245.0  284.0     299.4  1.222041  1.178423  "
      ]
     },
     "execution_count": 5,
     "metadata": {},
     "output_type": "execute_result"
    }
   ],
   "source": [
    "segment_data.head()"
   ]
  },
  {
   "cell_type": "code",
   "execution_count": 6,
   "metadata": {},
   "outputs": [
    {
     "data": {
      "text/plain": [
       "<matplotlib.axes._subplots.AxesSubplot at 0x111d7d128>"
      ]
     },
     "execution_count": 6,
     "metadata": {},
     "output_type": "execute_result"
    },
    {
     "data": {
      "image/png": "[encoded data removed]",
      "text/plain": [
       "<matplotlib.figure.Figure at 0x111c62588>"
      ]
     },
     "metadata": {},
     "output_type": "display_data"
    }
   ],
   "source": [
    "segment_data.plot.scatter(x='distance', y='avg_grade')"
   ]
  },
  {
   "cell_type": "code",
   "execution_count": 7,
   "metadata": {},
   "outputs": [
    {
     "data": {
      "text/html": [
       "<div>\n",
       "<style>\n",
       "    .dataframe thead tr:only-child th {\n",
       "        text-align: right;\n",
       "    }\n",
       "\n",
       "    .dataframe thead th {\n",
       "        text-align: left;\n",
       "    }\n",
       "\n",
       "    .dataframe tbody tr th {\n",
       "        vertical-align: top;\n",
       "    }\n",
       "</style>\n",
       "<table border=\"1\" class=\"dataframe\">\n",
       "  <thead>\n",
       "    <tr style=\"text-align: right;\">\n",
       "      <th></th>\n",
       "      <th>climb_category</th>\n",
       "      <th>avg_grade</th>\n",
       "      <th>elev_difference</th>\n",
       "      <th>distance</th>\n",
       "      <th>segment_id</th>\n",
       "      <th>KOM_s</th>\n",
       "      <th>KOMavg_s</th>\n",
       "      <th>QOM_s</th>\n",
       "      <th>QOMavg_s</th>\n",
       "      <th>avgRatio</th>\n",
       "      <th>Ratio</th>\n",
       "    </tr>\n",
       "  </thead>\n",
       "  <tbody>\n",
       "    <tr>\n",
       "      <th>count</th>\n",
       "      <td>1339.000000</td>\n",
       "      <td>1339.000000</td>\n",
       "      <td>1339.000000</td>\n",
       "      <td>1339.000000</td>\n",
       "      <td>1.339000e+03</td>\n",
       "      <td>1339.000000</td>\n",
       "      <td>1339.000000</td>\n",
       "      <td>1339.000000</td>\n",
       "      <td>1339.000000</td>\n",
       "      <td>1339.000000</td>\n",
       "      <td>1339.000000</td>\n",
       "    </tr>\n",
       "    <tr>\n",
       "      <th>mean</th>\n",
       "      <td>0.447349</td>\n",
       "      <td>3.159597</td>\n",
       "      <td>71.087155</td>\n",
       "      <td>2334.520015</td>\n",
       "      <td>4.590704e+06</td>\n",
       "      <td>255.792382</td>\n",
       "      <td>271.204406</td>\n",
       "      <td>328.894698</td>\n",
       "      <td>354.843739</td>\n",
       "      <td>1.340962</td>\n",
       "      <td>1.355909</td>\n",
       "    </tr>\n",
       "    <tr>\n",
       "      <th>std</th>\n",
       "      <td>0.749209</td>\n",
       "      <td>4.804865</td>\n",
       "      <td>80.100311</td>\n",
       "      <td>4412.257596</td>\n",
       "      <td>3.466517e+06</td>\n",
       "      <td>442.790842</td>\n",
       "      <td>457.281765</td>\n",
       "      <td>520.714702</td>\n",
       "      <td>550.661563</td>\n",
       "      <td>0.201043</td>\n",
       "      <td>0.615847</td>\n",
       "    </tr>\n",
       "    <tr>\n",
       "      <th>min</th>\n",
       "      <td>0.000000</td>\n",
       "      <td>-21.200000</td>\n",
       "      <td>0.000000</td>\n",
       "      <td>93.400000</td>\n",
       "      <td>2.575050e+05</td>\n",
       "      <td>4.000000</td>\n",
       "      <td>5.000000</td>\n",
       "      <td>5.000000</td>\n",
       "      <td>6.200000</td>\n",
       "      <td>0.910577</td>\n",
       "      <td>0.395722</td>\n",
       "    </tr>\n",
       "    <tr>\n",
       "      <th>25%</th>\n",
       "      <td>0.000000</td>\n",
       "      <td>0.000000</td>\n",
       "      <td>13.350000</td>\n",
       "      <td>703.800000</td>\n",
       "      <td>1.292550e+06</td>\n",
       "      <td>62.500000</td>\n",
       "      <td>66.900000</td>\n",
       "      <td>82.000000</td>\n",
       "      <td>89.700000</td>\n",
       "      <td>1.227345</td>\n",
       "      <td>1.196995</td>\n",
       "    </tr>\n",
       "    <tr>\n",
       "      <th>50%</th>\n",
       "      <td>0.000000</td>\n",
       "      <td>3.100000</td>\n",
       "      <td>41.300000</td>\n",
       "      <td>1358.300000</td>\n",
       "      <td>4.031689e+06</td>\n",
       "      <td>155.000000</td>\n",
       "      <td>164.800000</td>\n",
       "      <td>205.000000</td>\n",
       "      <td>225.200000</td>\n",
       "      <td>1.313785</td>\n",
       "      <td>1.290503</td>\n",
       "    </tr>\n",
       "    <tr>\n",
       "      <th>75%</th>\n",
       "      <td>1.000000</td>\n",
       "      <td>5.900000</td>\n",
       "      <td>101.100000</td>\n",
       "      <td>2711.400000</td>\n",
       "      <td>6.968905e+06</td>\n",
       "      <td>308.500000</td>\n",
       "      <td>327.900000</td>\n",
       "      <td>403.000000</td>\n",
       "      <td>427.500000</td>\n",
       "      <td>1.410547</td>\n",
       "      <td>1.408931</td>\n",
       "    </tr>\n",
       "    <tr>\n",
       "      <th>max</th>\n",
       "      <td>4.000000</td>\n",
       "      <td>31.900000</td>\n",
       "      <td>645.400000</td>\n",
       "      <td>93324.700000</td>\n",
       "      <td>1.370206e+07</td>\n",
       "      <td>9166.000000</td>\n",
       "      <td>9187.500000</td>\n",
       "      <td>10104.000000</td>\n",
       "      <td>10148.500000</td>\n",
       "      <td>4.737037</td>\n",
       "      <td>16.500000</td>\n",
       "    </tr>\n",
       "  </tbody>\n",
       "</table>\n",
       "</div>"
      ],
      "text/plain": [
       "       climb_category    avg_grade  elev_difference      distance  \\\n",
       "count     1339.000000  1339.000000      1339.000000   1339.000000   \n",
       "mean         0.447349     3.159597        71.087155   2334.520015   \n",
       "std          0.749209     4.804865        80.100311   4412.257596   \n",
       "min          0.000000   -21.200000         0.000000     93.400000   \n",
       "25%          0.000000     0.000000        13.350000    703.800000   \n",
       "50%          0.000000     3.100000        41.300000   1358.300000   \n",
       "75%          1.000000     5.900000       101.100000   2711.400000   \n",
       "max          4.000000    31.900000       645.400000  93324.700000   \n",
       "\n",
       "         segment_id        KOM_s     KOMavg_s         QOM_s      QOMavg_s  \\\n",
       "count  1.339000e+03  1339.000000  1339.000000   1339.000000   1339.000000   \n",
       "mean   4.590704e+06   255.792382   271.204406    328.894698    354.843739   \n",
       "std    3.466517e+06   442.790842   457.281765    520.714702    550.661563   \n",
       "min    2.575050e+05     4.000000     5.000000      5.000000      6.200000   \n",
       "25%    1.292550e+06    62.500000    66.900000     82.000000     89.700000   \n",
       "50%    4.031689e+06   155.000000   164.800000    205.000000    225.200000   \n",
       "75%    6.968905e+06   308.500000   327.900000    403.000000    427.500000   \n",
       "max    1.370206e+07  9166.000000  9187.500000  10104.000000  10148.500000   \n",
       "\n",
       "          avgRatio        Ratio  \n",
       "count  1339.000000  1339.000000  \n",
       "mean      1.340962     1.355909  \n",
       "std       0.201043     0.615847  \n",
       "min       0.910577     0.395722  \n",
       "25%       1.227345     1.196995  \n",
       "50%       1.313785     1.290503  \n",
       "75%       1.410547     1.408931  \n",
       "max       4.737037    16.500000  "
      ]
     },
     "execution_count": 7,
     "metadata": {},
     "output_type": "execute_result"
    }
   ],
   "source": [
    "segment_data.describe()"
   ]
  },
  {
   "cell_type": "code",
   "execution_count": 8,
   "metadata": {},
   "outputs": [
    {
     "data": {
      "image/png": "[encoded data removed]",
      "text/plain": [
       "<matplotlib.figure.Figure at 0x111d116d8>"
      ]
     },
     "metadata": {},
     "output_type": "display_data"
    }
   ],
   "source": [
    "ax = segment_data.plot.scatter(x='distance', y='avg_grade')\n",
    "ax.set_xscale(\"log\", nonposx='clip')\n",
    "ax.set_ylim(-25,35);\n",
    "ax.set_xlim(100,100000);\n"
   ]
  },
  {
   "cell_type": "code",
   "execution_count": 9,
   "metadata": {},
   "outputs": [
    {
     "data": {
      "text/html": [
       "<div>\n",
       "<style>\n",
       "    .dataframe thead tr:only-child th {\n",
       "        text-align: right;\n",
       "    }\n",
       "\n",
       "    .dataframe thead th {\n",
       "        text-align: left;\n",
       "    }\n",
       "\n",
       "    .dataframe tbody tr th {\n",
       "        vertical-align: top;\n",
       "    }\n",
       "</style>\n",
       "<table border=\"1\" class=\"dataframe\">\n",
       "  <thead>\n",
       "    <tr style=\"text-align: right;\">\n",
       "      <th></th>\n",
       "      <th>name</th>\n",
       "      <th>climb_category</th>\n",
       "      <th>climb_category_desc</th>\n",
       "      <th>avg_grade</th>\n",
       "      <th>elev_difference</th>\n",
       "      <th>distance</th>\n",
       "      <th>segment_id</th>\n",
       "      <th>KOM</th>\n",
       "      <th>KOMavg</th>\n",
       "      <th>QOM</th>\n",
       "      <th>QOMavg</th>\n",
       "      <th>KOM_s</th>\n",
       "      <th>KOMavg_s</th>\n",
       "      <th>QOM_s</th>\n",
       "      <th>QOMavg_s</th>\n",
       "      <th>avgRatio</th>\n",
       "      <th>Ratio</th>\n",
       "    </tr>\n",
       "  </thead>\n",
       "  <tbody>\n",
       "    <tr>\n",
       "      <th>0</th>\n",
       "      <td>Segment</td>\n",
       "      <td>1.0</td>\n",
       "      <td>4</td>\n",
       "      <td>24.7</td>\n",
       "      <td>118.2</td>\n",
       "      <td>478.2</td>\n",
       "      <td>5432521</td>\n",
       "      <td>0 days 00:00:35</td>\n",
       "      <td>0 days 00:00:37</td>\n",
       "      <td>0 days 00:00:48</td>\n",
       "      <td>0 days 00:00:48.800000</td>\n",
       "      <td>35.0</td>\n",
       "      <td>37.0</td>\n",
       "      <td>48.0</td>\n",
       "      <td>48.8</td>\n",
       "      <td>1.318919</td>\n",
       "      <td>1.371429</td>\n",
       "    </tr>\n",
       "    <tr>\n",
       "      <th>1</th>\n",
       "      <td>Three Tunnel Dash</td>\n",
       "      <td>0.0</td>\n",
       "      <td>NC</td>\n",
       "      <td>3.7</td>\n",
       "      <td>7.1</td>\n",
       "      <td>193.6</td>\n",
       "      <td>4782364</td>\n",
       "      <td>0 days 00:00:14</td>\n",
       "      <td>0 days 00:00:14.400000</td>\n",
       "      <td>0 days 00:00:15</td>\n",
       "      <td>0 days 00:00:17.600000</td>\n",
       "      <td>14.0</td>\n",
       "      <td>14.4</td>\n",
       "      <td>15.0</td>\n",
       "      <td>17.6</td>\n",
       "      <td>1.222222</td>\n",
       "      <td>1.071429</td>\n",
       "    </tr>\n",
       "    <tr>\n",
       "      <th>2</th>\n",
       "      <td>Eagles Nest Slog</td>\n",
       "      <td>1.0</td>\n",
       "      <td>4</td>\n",
       "      <td>4.4</td>\n",
       "      <td>84.1</td>\n",
       "      <td>1842.7</td>\n",
       "      <td>1060760</td>\n",
       "      <td>0 days 00:03:40</td>\n",
       "      <td>0 days 00:03:48.200000</td>\n",
       "      <td>0 days 00:04:53</td>\n",
       "      <td>0 days 00:05:04</td>\n",
       "      <td>220.0</td>\n",
       "      <td>228.2</td>\n",
       "      <td>293.0</td>\n",
       "      <td>304.0</td>\n",
       "      <td>1.332165</td>\n",
       "      <td>1.331818</td>\n",
       "    </tr>\n",
       "    <tr>\n",
       "      <th>3</th>\n",
       "      <td>Up and away from Lands End</td>\n",
       "      <td>0.0</td>\n",
       "      <td>NC</td>\n",
       "      <td>4.2</td>\n",
       "      <td>17.8</td>\n",
       "      <td>427.9</td>\n",
       "      <td>11756862</td>\n",
       "      <td>0 days 00:00:32</td>\n",
       "      <td>0 days 00:00:34.400000</td>\n",
       "      <td>0 days 00:00:51</td>\n",
       "      <td>0 days 00:00:55.800000</td>\n",
       "      <td>32.0</td>\n",
       "      <td>34.4</td>\n",
       "      <td>51.0</td>\n",
       "      <td>55.8</td>\n",
       "      <td>1.622093</td>\n",
       "      <td>1.593750</td>\n",
       "    </tr>\n",
       "    <tr>\n",
       "      <th>4</th>\n",
       "      <td>Rosewall Hill</td>\n",
       "      <td>0.0</td>\n",
       "      <td>NC</td>\n",
       "      <td>3.9</td>\n",
       "      <td>76.5</td>\n",
       "      <td>1774.9</td>\n",
       "      <td>1077299</td>\n",
       "      <td>0 days 00:04:01</td>\n",
       "      <td>0 days 00:04:05</td>\n",
       "      <td>0 days 00:04:44</td>\n",
       "      <td>0 days 00:04:59.400000</td>\n",
       "      <td>241.0</td>\n",
       "      <td>245.0</td>\n",
       "      <td>284.0</td>\n",
       "      <td>299.4</td>\n",
       "      <td>1.222041</td>\n",
       "      <td>1.178423</td>\n",
       "    </tr>\n",
       "  </tbody>\n",
       "</table>\n",
       "</div>"
      ],
      "text/plain": [
       "                         name  climb_category climb_category_desc  avg_grade  \\\n",
       "0                     Segment             1.0                   4       24.7   \n",
       "1           Three Tunnel Dash             0.0                  NC        3.7   \n",
       "2            Eagles Nest Slog             1.0                   4        4.4   \n",
       "3  Up and away from Lands End             0.0                  NC        4.2   \n",
       "4               Rosewall Hill             0.0                  NC        3.9   \n",
       "\n",
       "   elev_difference  distance  segment_id              KOM  \\\n",
       "0            118.2     478.2     5432521  0 days 00:00:35   \n",
       "1              7.1     193.6     4782364  0 days 00:00:14   \n",
       "2             84.1    1842.7     1060760  0 days 00:03:40   \n",
       "3             17.8     427.9    11756862  0 days 00:00:32   \n",
       "4             76.5    1774.9     1077299  0 days 00:04:01   \n",
       "\n",
       "                   KOMavg              QOM                  QOMavg  KOM_s  \\\n",
       "0         0 days 00:00:37  0 days 00:00:48  0 days 00:00:48.800000   35.0   \n",
       "1  0 days 00:00:14.400000  0 days 00:00:15  0 days 00:00:17.600000   14.0   \n",
       "2  0 days 00:03:48.200000  0 days 00:04:53         0 days 00:05:04  220.0   \n",
       "3  0 days 00:00:34.400000  0 days 00:00:51  0 days 00:00:55.800000   32.0   \n",
       "4         0 days 00:04:05  0 days 00:04:44  0 days 00:04:59.400000  241.0   \n",
       "\n",
       "   KOMavg_s  QOM_s  QOMavg_s  avgRatio     Ratio  \n",
       "0      37.0   48.0      48.8  1.318919  1.371429  \n",
       "1      14.4   15.0      17.6  1.222222  1.071429  \n",
       "2     228.2  293.0     304.0  1.332165  1.331818  \n",
       "3      34.4   51.0      55.8  1.622093  1.593750  \n",
       "4     245.0  284.0     299.4  1.222041  1.178423  "
      ]
     },
     "execution_count": 9,
     "metadata": {},
     "output_type": "execute_result"
    }
   ],
   "source": [
    "\n",
    "segment_data.head()"
   ]
  },
  {
   "cell_type": "markdown",
   "metadata": {},
   "source": [
    "## Grabbing extra data missed the first time around"
   ]
  },
  {
   "cell_type": "markdown",
   "metadata": {},
   "source": [
    "It is simple enough to obtain the male and female leaderboards. However, there are two problems with simply taking the KOM and the QOM. Firstly, the fastest male time might have been set by a pro in a race or a drafting group. Secondly, the QOM could have been set by drafting with men. One way to address this is to take the average of the fastest times set on, say, 5 different dates. "
   ]
  },
  {
   "cell_type": "code",
   "execution_count": 29,
   "metadata": {},
   "outputs": [
    {
     "data": {
      "text/plain": [
       "1364"
      ]
     },
     "execution_count": 29,
     "metadata": {},
     "output_type": "execute_result"
    }
   ],
   "source": [
    "len(segment_data)"
   ]
  },
  {
   "cell_type": "code",
   "execution_count": 30,
   "metadata": {
    "collapsed": true
   },
   "outputs": [],
   "source": [
    "def segmentTopN(segment_id = 30880724954, gender='M', N=5):\n",
    "    # Return the fastest time and the average elapsed time for the quickest times set on N unique dates\n",
    "    LB = Strava_Download.get_strava_leaderboard(top = 200, segment_id=segment_id,gender=gender)\n",
    "    try:\n",
    "        LB['Date'] = LB.start_date_local.dt.date\n",
    "        return LB.elapsed_time[1], LB.groupby('Date').min().sort_values('rank', ascending=True)[:N].mean()['elapsed_time']\n",
    "    except:\n",
    "        return 0,0\n",
    "\n"
   ]
  },
  {
   "cell_type": "code",
   "execution_count": 101,
   "metadata": {
    "collapsed": true
   },
   "outputs": [],
   "source": [
    "def LBnriders(segment_id = 30880724954, gender='M'):\n",
    "    # Return the fastest time and the average elapsed time for the quickest times set on N unique dates\n",
    "    try:\n",
    "        LB = client.get_segment_leaderboard(segment_id=segment_id, gender=gender, top_results_limit=10,page=1)\n",
    "        return LB.entry_count\n",
    "    except:\n",
    "        return 0\n"
   ]
  },
  {
   "cell_type": "code",
   "execution_count": 104,
   "metadata": {},
   "outputs": [
    {
     "data": {
      "text/html": [
       "<div>\n",
       "<style>\n",
       "    .dataframe thead tr:only-child th {\n",
       "        text-align: right;\n",
       "    }\n",
       "\n",
       "    .dataframe thead th {\n",
       "        text-align: left;\n",
       "    }\n",
       "\n",
       "    .dataframe tbody tr th {\n",
       "        vertical-align: top;\n",
       "    }\n",
       "</style>\n",
       "<table border=\"1\" class=\"dataframe\">\n",
       "  <thead>\n",
       "    <tr style=\"text-align: right;\">\n",
       "      <th></th>\n",
       "      <th>segment_id</th>\n",
       "      <th>fRiders</th>\n",
       "      <th>mRiders</th>\n",
       "    </tr>\n",
       "  </thead>\n",
       "  <tbody>\n",
       "    <tr>\n",
       "      <th>0</th>\n",
       "      <td>5432521</td>\n",
       "      <td>683</td>\n",
       "      <td>4742</td>\n",
       "    </tr>\n",
       "    <tr>\n",
       "      <th>1</th>\n",
       "      <td>4782364</td>\n",
       "      <td>613</td>\n",
       "      <td>4203</td>\n",
       "    </tr>\n",
       "    <tr>\n",
       "      <th>2</th>\n",
       "      <td>1060760</td>\n",
       "      <td>399</td>\n",
       "      <td>3055</td>\n",
       "    </tr>\n",
       "    <tr>\n",
       "      <th>3</th>\n",
       "      <td>11756862</td>\n",
       "      <td>1200</td>\n",
       "      <td>8876</td>\n",
       "    </tr>\n",
       "    <tr>\n",
       "      <th>4</th>\n",
       "      <td>1077299</td>\n",
       "      <td>533</td>\n",
       "      <td>3710</td>\n",
       "    </tr>\n",
       "  </tbody>\n",
       "</table>\n",
       "</div>"
      ],
      "text/plain": [
       "   segment_id  fRiders  mRiders\n",
       "0     5432521      683     4742\n",
       "1     4782364      613     4203\n",
       "2     1060760      399     3055\n",
       "3    11756862     1200     8876\n",
       "4     1077299      533     3710"
      ]
     },
     "execution_count": 104,
     "metadata": {},
     "output_type": "execute_result"
    }
   ],
   "source": [
    "#entryCounts = []\n",
    "\n",
    "#for segment_id in segment_data.segment_id:\n",
    "#    fRiders = LBnriders(segment_id, 'F')\n",
    "#    mRiders = LBnriders(segment_id, 'M')\n",
    "#    entryCounts += [[segment_id, fRiders, mRiders]]\n",
    "#df = pd.DataFrame(entryCounts, columns = ['segment_id', 'fRiders', 'mRiders']); df.head()\n"
   ]
  },
  {
   "cell_type": "markdown",
   "metadata": {},
   "source": [
    "Needed to stop warning messages before running the next cell"
   ]
  },
  {
   "cell_type": "code",
   "execution_count": 10,
   "metadata": {},
   "outputs": [],
   "source": [
    "#segmentTimes = []\n",
    "\n",
    "#for segment_id in segment_data.segment_id:\n",
    "#    QOM, QOMavg = segmentTopN(segment_id, 'F', 5)\n",
    "#    KOM, KOMavg = segmentTopN(segment_id, 'M', 5)\n",
    "#    segmentTimes += [[segment_id, KOM, KOMavg,QOM, QOMavg ]]\n",
    "#    print(segment_id)\n",
    "\n"
   ]
  },
  {
   "cell_type": "code",
   "execution_count": 105,
   "metadata": {},
   "outputs": [
    {
     "data": {
      "text/html": [
       "<div>\n",
       "<style>\n",
       "    .dataframe thead tr:only-child th {\n",
       "        text-align: right;\n",
       "    }\n",
       "\n",
       "    .dataframe thead th {\n",
       "        text-align: left;\n",
       "    }\n",
       "\n",
       "    .dataframe tbody tr th {\n",
       "        vertical-align: top;\n",
       "    }\n",
       "</style>\n",
       "<table border=\"1\" class=\"dataframe\">\n",
       "  <thead>\n",
       "    <tr style=\"text-align: right;\">\n",
       "      <th></th>\n",
       "      <th>name</th>\n",
       "      <th>climb_category</th>\n",
       "      <th>climb_category_desc</th>\n",
       "      <th>avg_grade</th>\n",
       "      <th>elev_difference</th>\n",
       "      <th>distance</th>\n",
       "      <th>segment_id</th>\n",
       "      <th>KOM</th>\n",
       "      <th>KOMavg</th>\n",
       "      <th>QOM</th>\n",
       "      <th>...</th>\n",
       "      <th>KOMavg_s</th>\n",
       "      <th>QOM_s</th>\n",
       "      <th>QOMavg_s</th>\n",
       "      <th>avgRatio</th>\n",
       "      <th>Ratio</th>\n",
       "      <th>athlete_count</th>\n",
       "      <th>start_latlng</th>\n",
       "      <th>end_latlng</th>\n",
       "      <th>fRiders</th>\n",
       "      <th>mRiders</th>\n",
       "    </tr>\n",
       "  </thead>\n",
       "  <tbody>\n",
       "    <tr>\n",
       "      <th>0</th>\n",
       "      <td>Segment</td>\n",
       "      <td>1.0</td>\n",
       "      <td>4</td>\n",
       "      <td>24.7</td>\n",
       "      <td>118.2</td>\n",
       "      <td>478.2</td>\n",
       "      <td>5432521</td>\n",
       "      <td>0 days 00:00:35</td>\n",
       "      <td>0 days 00:00:37</td>\n",
       "      <td>0 days 00:00:48</td>\n",
       "      <td>...</td>\n",
       "      <td>37.0</td>\n",
       "      <td>48.0</td>\n",
       "      <td>48.8</td>\n",
       "      <td>1.318919</td>\n",
       "      <td>1.371429</td>\n",
       "      <td>5426</td>\n",
       "      <td>(50.121014, -5.534)</td>\n",
       "      <td>(50.124452, -5.530033)</td>\n",
       "      <td>683</td>\n",
       "      <td>4742</td>\n",
       "    </tr>\n",
       "    <tr>\n",
       "      <th>1</th>\n",
       "      <td>Three Tunnel Dash</td>\n",
       "      <td>0.0</td>\n",
       "      <td>NC</td>\n",
       "      <td>3.7</td>\n",
       "      <td>7.1</td>\n",
       "      <td>193.6</td>\n",
       "      <td>4782364</td>\n",
       "      <td>0 days 00:00:14</td>\n",
       "      <td>0 days 00:00:14.400000</td>\n",
       "      <td>0 days 00:00:15</td>\n",
       "      <td>...</td>\n",
       "      <td>14.4</td>\n",
       "      <td>15.0</td>\n",
       "      <td>17.6</td>\n",
       "      <td>1.222222</td>\n",
       "      <td>1.071429</td>\n",
       "      <td>4816</td>\n",
       "      <td>(50.125557, -5.527822)</td>\n",
       "      <td>(50.12448, -5.529887)</td>\n",
       "      <td>613</td>\n",
       "      <td>4203</td>\n",
       "    </tr>\n",
       "    <tr>\n",
       "      <th>2</th>\n",
       "      <td>Eagles Nest Slog</td>\n",
       "      <td>1.0</td>\n",
       "      <td>4</td>\n",
       "      <td>4.4</td>\n",
       "      <td>84.1</td>\n",
       "      <td>1842.7</td>\n",
       "      <td>1060760</td>\n",
       "      <td>0 days 00:03:40</td>\n",
       "      <td>0 days 00:03:48.200000</td>\n",
       "      <td>0 days 00:04:53</td>\n",
       "      <td>...</td>\n",
       "      <td>228.2</td>\n",
       "      <td>293.0</td>\n",
       "      <td>304.0</td>\n",
       "      <td>1.332165</td>\n",
       "      <td>1.331818</td>\n",
       "      <td>3454</td>\n",
       "      <td>(50.190325, -5.567424)</td>\n",
       "      <td>(50.194661, -5.546019)</td>\n",
       "      <td>399</td>\n",
       "      <td>3055</td>\n",
       "    </tr>\n",
       "    <tr>\n",
       "      <th>3</th>\n",
       "      <td>Up and away from Lands End</td>\n",
       "      <td>0.0</td>\n",
       "      <td>NC</td>\n",
       "      <td>4.2</td>\n",
       "      <td>17.8</td>\n",
       "      <td>427.9</td>\n",
       "      <td>11756862</td>\n",
       "      <td>0 days 00:00:32</td>\n",
       "      <td>0 days 00:00:34.400000</td>\n",
       "      <td>0 days 00:00:51</td>\n",
       "      <td>...</td>\n",
       "      <td>34.4</td>\n",
       "      <td>51.0</td>\n",
       "      <td>55.8</td>\n",
       "      <td>1.622093</td>\n",
       "      <td>1.593750</td>\n",
       "      <td>10076</td>\n",
       "      <td>(50.066153, -5.706905)</td>\n",
       "      <td>(50.066163, -5.700921)</td>\n",
       "      <td>1200</td>\n",
       "      <td>8876</td>\n",
       "    </tr>\n",
       "    <tr>\n",
       "      <th>4</th>\n",
       "      <td>Rosewall Hill</td>\n",
       "      <td>0.0</td>\n",
       "      <td>NC</td>\n",
       "      <td>3.9</td>\n",
       "      <td>76.5</td>\n",
       "      <td>1774.9</td>\n",
       "      <td>1077299</td>\n",
       "      <td>0 days 00:04:01</td>\n",
       "      <td>0 days 00:04:05</td>\n",
       "      <td>0 days 00:04:44</td>\n",
       "      <td>...</td>\n",
       "      <td>245.0</td>\n",
       "      <td>284.0</td>\n",
       "      <td>299.4</td>\n",
       "      <td>1.222041</td>\n",
       "      <td>1.178423</td>\n",
       "      <td>4243</td>\n",
       "      <td>(50.20575000588689, -5.500071745238906)</td>\n",
       "      <td>(50.20169275564262, -5.522975269099717)</td>\n",
       "      <td>533</td>\n",
       "      <td>3710</td>\n",
       "    </tr>\n",
       "  </tbody>\n",
       "</table>\n",
       "<p>5 rows × 22 columns</p>\n",
       "</div>"
      ],
      "text/plain": [
       "                         name  climb_category climb_category_desc  avg_grade  \\\n",
       "0                     Segment             1.0                   4       24.7   \n",
       "1           Three Tunnel Dash             0.0                  NC        3.7   \n",
       "2            Eagles Nest Slog             1.0                   4        4.4   \n",
       "3  Up and away from Lands End             0.0                  NC        4.2   \n",
       "4               Rosewall Hill             0.0                  NC        3.9   \n",
       "\n",
       "   elev_difference  distance  segment_id              KOM  \\\n",
       "0            118.2     478.2     5432521  0 days 00:00:35   \n",
       "1              7.1     193.6     4782364  0 days 00:00:14   \n",
       "2             84.1    1842.7     1060760  0 days 00:03:40   \n",
       "3             17.8     427.9    11756862  0 days 00:00:32   \n",
       "4             76.5    1774.9     1077299  0 days 00:04:01   \n",
       "\n",
       "                   KOMavg              QOM   ...   KOMavg_s  QOM_s  QOMavg_s  \\\n",
       "0         0 days 00:00:37  0 days 00:00:48   ...       37.0   48.0      48.8   \n",
       "1  0 days 00:00:14.400000  0 days 00:00:15   ...       14.4   15.0      17.6   \n",
       "2  0 days 00:03:48.200000  0 days 00:04:53   ...      228.2  293.0     304.0   \n",
       "3  0 days 00:00:34.400000  0 days 00:00:51   ...       34.4   51.0      55.8   \n",
       "4         0 days 00:04:05  0 days 00:04:44   ...      245.0  284.0     299.4   \n",
       "\n",
       "   avgRatio     Ratio  athlete_count                             start_latlng  \\\n",
       "0  1.318919  1.371429           5426                      (50.121014, -5.534)   \n",
       "1  1.222222  1.071429           4816                   (50.125557, -5.527822)   \n",
       "2  1.332165  1.331818           3454                   (50.190325, -5.567424)   \n",
       "3  1.622093  1.593750          10076                   (50.066153, -5.706905)   \n",
       "4  1.222041  1.178423           4243  (50.20575000588689, -5.500071745238906)   \n",
       "\n",
       "                                end_latlng fRiders mRiders  \n",
       "0                   (50.124452, -5.530033)     683    4742  \n",
       "1                    (50.12448, -5.529887)     613    4203  \n",
       "2                   (50.194661, -5.546019)     399    3055  \n",
       "3                   (50.066163, -5.700921)    1200    8876  \n",
       "4  (50.20169275564262, -5.522975269099717)     533    3710  \n",
       "\n",
       "[5 rows x 22 columns]"
      ]
     },
     "execution_count": 105,
     "metadata": {},
     "output_type": "execute_result"
    }
   ],
   "source": [
    "segment_data = pd.merge(segment_data, df, on='segment_id', how='outer')\n",
    "segment_data.head()\n"
   ]
  },
  {
   "cell_type": "code",
   "execution_count": 106,
   "metadata": {
    "collapsed": true
   },
   "outputs": [],
   "source": [
    "segment_data.to_pickle('PopularSegmentsUK.pkl')"
   ]
  },
  {
   "cell_type": "markdown",
   "metadata": {
    "heading_collapsed": true
   },
   "source": [
    "## Cleaning up the data"
   ]
  },
  {
   "cell_type": "code",
   "execution_count": 47,
   "metadata": {
    "collapsed": true,
    "hidden": true
   },
   "outputs": [],
   "source": [
    "#segment_data = segment_data[segment_data.KOM!=0]"
   ]
  },
  {
   "cell_type": "code",
   "execution_count": 49,
   "metadata": {
    "hidden": true
   },
   "outputs": [
    {
     "data": {
      "text/plain": [
       "1350"
      ]
     },
     "execution_count": 49,
     "metadata": {},
     "output_type": "execute_result"
    }
   ],
   "source": [
    "#len(segment_data)"
   ]
  },
  {
   "cell_type": "code",
   "execution_count": 12,
   "metadata": {
    "hidden": true
   },
   "outputs": [],
   "source": [
    "#segment_data['KOM s'] = segment_data.KOM / np.timedelta64(1,'s')\n",
    "#segment_data['KOMavg s'] = segment_data.KOMavg / np.timedelta64(1,'s')\n",
    "#segment_data['QOM s'] = segment_data.QOM / np.timedelta64(1,'s')\n",
    "#segment_data['QOMavg s'] = segment_data.QOMavg / np.timedelta64(1,'s')"
   ]
  },
  {
   "cell_type": "code",
   "execution_count": 60,
   "metadata": {
    "collapsed": true,
    "hidden": true
   },
   "outputs": [],
   "source": [
    "#segment_data['QT'] = [type(i) for i in segment_data.QOM]"
   ]
  },
  {
   "cell_type": "code",
   "execution_count": 76,
   "metadata": {
    "collapsed": true,
    "hidden": true
   },
   "outputs": [],
   "source": [
    "#segment_data = segment_data[segment_data.QOM != 0]"
   ]
  },
  {
   "cell_type": "code",
   "execution_count": 77,
   "metadata": {
    "collapsed": true,
    "hidden": true
   },
   "outputs": [],
   "source": [
    "#segment_data['QOM s'] = segment_data.QOM / np.timedelta64(1,'s')\n",
    "#segment_data['QOMavg s'] = segment_data.QOMavg / np.timedelta64(1,'s')"
   ]
  },
  {
   "cell_type": "code",
   "execution_count": 95,
   "metadata": {
    "collapsed": true,
    "hidden": true
   },
   "outputs": [],
   "source": [
    "#del segment_data['QT']"
   ]
  },
  {
   "cell_type": "code",
   "execution_count": 131,
   "metadata": {
    "collapsed": true,
    "hidden": true
   },
   "outputs": [],
   "source": [
    "#segment_data.to_pickle('PopularSegmentsUK.pkl')"
   ]
  },
  {
   "cell_type": "code",
   "execution_count": 57,
   "metadata": {
    "hidden": true
   },
   "outputs": [
    {
     "data": {
      "text/html": [
       "<div>\n",
       "<style>\n",
       "    .dataframe thead tr:only-child th {\n",
       "        text-align: right;\n",
       "    }\n",
       "\n",
       "    .dataframe thead th {\n",
       "        text-align: left;\n",
       "    }\n",
       "\n",
       "    .dataframe tbody tr th {\n",
       "        vertical-align: top;\n",
       "    }\n",
       "</style>\n",
       "<table border=\"1\" class=\"dataframe\">\n",
       "  <thead>\n",
       "    <tr style=\"text-align: right;\">\n",
       "      <th></th>\n",
       "      <th>segment_id</th>\n",
       "      <th>athlete_count</th>\n",
       "      <th>start_latlng</th>\n",
       "      <th>end_latlng</th>\n",
       "    </tr>\n",
       "  </thead>\n",
       "  <tbody>\n",
       "    <tr>\n",
       "      <th>0</th>\n",
       "      <td>5432521</td>\n",
       "      <td>5426</td>\n",
       "      <td>(50.121014, -5.534)</td>\n",
       "      <td>(50.124452, -5.530033)</td>\n",
       "    </tr>\n",
       "    <tr>\n",
       "      <th>1</th>\n",
       "      <td>4782364</td>\n",
       "      <td>4816</td>\n",
       "      <td>(50.125557, -5.527822)</td>\n",
       "      <td>(50.12448, -5.529887)</td>\n",
       "    </tr>\n",
       "    <tr>\n",
       "      <th>2</th>\n",
       "      <td>1060760</td>\n",
       "      <td>3454</td>\n",
       "      <td>(50.190325, -5.567424)</td>\n",
       "      <td>(50.194661, -5.546019)</td>\n",
       "    </tr>\n",
       "    <tr>\n",
       "      <th>3</th>\n",
       "      <td>11756862</td>\n",
       "      <td>10076</td>\n",
       "      <td>(50.066153, -5.706905)</td>\n",
       "      <td>(50.066163, -5.700921)</td>\n",
       "    </tr>\n",
       "    <tr>\n",
       "      <th>4</th>\n",
       "      <td>1077299</td>\n",
       "      <td>4243</td>\n",
       "      <td>(50.20575000588689, -5.500071745238906)</td>\n",
       "      <td>(50.20169275564262, -5.522975269099717)</td>\n",
       "    </tr>\n",
       "  </tbody>\n",
       "</table>\n",
       "</div>"
      ],
      "text/plain": [
       "   segment_id  athlete_count                             start_latlng  \\\n",
       "0     5432521           5426                      (50.121014, -5.534)   \n",
       "1     4782364           4816                   (50.125557, -5.527822)   \n",
       "2     1060760           3454                   (50.190325, -5.567424)   \n",
       "3    11756862          10076                   (50.066153, -5.706905)   \n",
       "4     1077299           4243  (50.20575000588689, -5.500071745238906)   \n",
       "\n",
       "                                end_latlng  \n",
       "0                   (50.124452, -5.530033)  \n",
       "1                    (50.12448, -5.529887)  \n",
       "2                   (50.194661, -5.546019)  \n",
       "3                   (50.066163, -5.700921)  \n",
       "4  (50.20169275564262, -5.522975269099717)  "
      ]
     },
     "execution_count": 57,
     "metadata": {},
     "output_type": "execute_result"
    }
   ],
   "source": [
    "#aths = []\n",
    "#for s in segment_data.segment_id:\n",
    "#    ss = client.get_segment(s)\n",
    "#    aths += [[ss.id, ss.athlete_count, ss.start_latlng, ss.end_latlng]]\n",
    "#aths\n",
    "#df = pd.DataFrame(aths, columns=['segment_id', 'athlete_count', 'start_latlng', 'end_latlng']);df.head()"
   ]
  },
  {
   "cell_type": "code",
   "execution_count": 59,
   "metadata": {
    "hidden": true
   },
   "outputs": [
    {
     "data": {
      "text/html": [
       "<div>\n",
       "<style>\n",
       "    .dataframe thead tr:only-child th {\n",
       "        text-align: right;\n",
       "    }\n",
       "\n",
       "    .dataframe thead th {\n",
       "        text-align: left;\n",
       "    }\n",
       "\n",
       "    .dataframe tbody tr th {\n",
       "        vertical-align: top;\n",
       "    }\n",
       "</style>\n",
       "<table border=\"1\" class=\"dataframe\">\n",
       "  <thead>\n",
       "    <tr style=\"text-align: right;\">\n",
       "      <th></th>\n",
       "      <th>name</th>\n",
       "      <th>climb_category</th>\n",
       "      <th>climb_category_desc</th>\n",
       "      <th>avg_grade</th>\n",
       "      <th>elev_difference</th>\n",
       "      <th>distance</th>\n",
       "      <th>segment_id</th>\n",
       "      <th>KOM</th>\n",
       "      <th>KOMavg</th>\n",
       "      <th>QOM</th>\n",
       "      <th>QOMavg</th>\n",
       "      <th>KOM_s</th>\n",
       "      <th>KOMavg_s</th>\n",
       "      <th>QOM_s</th>\n",
       "      <th>QOMavg_s</th>\n",
       "      <th>avgRatio</th>\n",
       "      <th>Ratio</th>\n",
       "      <th>athlete_count</th>\n",
       "      <th>start_latlng</th>\n",
       "      <th>end_latlng</th>\n",
       "    </tr>\n",
       "  </thead>\n",
       "  <tbody>\n",
       "    <tr>\n",
       "      <th>0</th>\n",
       "      <td>Segment</td>\n",
       "      <td>1.0</td>\n",
       "      <td>4</td>\n",
       "      <td>24.7</td>\n",
       "      <td>118.2</td>\n",
       "      <td>478.2</td>\n",
       "      <td>5432521</td>\n",
       "      <td>0 days 00:00:35</td>\n",
       "      <td>0 days 00:00:37</td>\n",
       "      <td>0 days 00:00:48</td>\n",
       "      <td>0 days 00:00:48.800000</td>\n",
       "      <td>35.0</td>\n",
       "      <td>37.0</td>\n",
       "      <td>48.0</td>\n",
       "      <td>48.8</td>\n",
       "      <td>1.318919</td>\n",
       "      <td>1.371429</td>\n",
       "      <td>5426</td>\n",
       "      <td>(50.121014, -5.534)</td>\n",
       "      <td>(50.124452, -5.530033)</td>\n",
       "    </tr>\n",
       "    <tr>\n",
       "      <th>1</th>\n",
       "      <td>Three Tunnel Dash</td>\n",
       "      <td>0.0</td>\n",
       "      <td>NC</td>\n",
       "      <td>3.7</td>\n",
       "      <td>7.1</td>\n",
       "      <td>193.6</td>\n",
       "      <td>4782364</td>\n",
       "      <td>0 days 00:00:14</td>\n",
       "      <td>0 days 00:00:14.400000</td>\n",
       "      <td>0 days 00:00:15</td>\n",
       "      <td>0 days 00:00:17.600000</td>\n",
       "      <td>14.0</td>\n",
       "      <td>14.4</td>\n",
       "      <td>15.0</td>\n",
       "      <td>17.6</td>\n",
       "      <td>1.222222</td>\n",
       "      <td>1.071429</td>\n",
       "      <td>4816</td>\n",
       "      <td>(50.125557, -5.527822)</td>\n",
       "      <td>(50.12448, -5.529887)</td>\n",
       "    </tr>\n",
       "    <tr>\n",
       "      <th>2</th>\n",
       "      <td>Eagles Nest Slog</td>\n",
       "      <td>1.0</td>\n",
       "      <td>4</td>\n",
       "      <td>4.4</td>\n",
       "      <td>84.1</td>\n",
       "      <td>1842.7</td>\n",
       "      <td>1060760</td>\n",
       "      <td>0 days 00:03:40</td>\n",
       "      <td>0 days 00:03:48.200000</td>\n",
       "      <td>0 days 00:04:53</td>\n",
       "      <td>0 days 00:05:04</td>\n",
       "      <td>220.0</td>\n",
       "      <td>228.2</td>\n",
       "      <td>293.0</td>\n",
       "      <td>304.0</td>\n",
       "      <td>1.332165</td>\n",
       "      <td>1.331818</td>\n",
       "      <td>3454</td>\n",
       "      <td>(50.190325, -5.567424)</td>\n",
       "      <td>(50.194661, -5.546019)</td>\n",
       "    </tr>\n",
       "    <tr>\n",
       "      <th>3</th>\n",
       "      <td>Up and away from Lands End</td>\n",
       "      <td>0.0</td>\n",
       "      <td>NC</td>\n",
       "      <td>4.2</td>\n",
       "      <td>17.8</td>\n",
       "      <td>427.9</td>\n",
       "      <td>11756862</td>\n",
       "      <td>0 days 00:00:32</td>\n",
       "      <td>0 days 00:00:34.400000</td>\n",
       "      <td>0 days 00:00:51</td>\n",
       "      <td>0 days 00:00:55.800000</td>\n",
       "      <td>32.0</td>\n",
       "      <td>34.4</td>\n",
       "      <td>51.0</td>\n",
       "      <td>55.8</td>\n",
       "      <td>1.622093</td>\n",
       "      <td>1.593750</td>\n",
       "      <td>10076</td>\n",
       "      <td>(50.066153, -5.706905)</td>\n",
       "      <td>(50.066163, -5.700921)</td>\n",
       "    </tr>\n",
       "    <tr>\n",
       "      <th>4</th>\n",
       "      <td>Rosewall Hill</td>\n",
       "      <td>0.0</td>\n",
       "      <td>NC</td>\n",
       "      <td>3.9</td>\n",
       "      <td>76.5</td>\n",
       "      <td>1774.9</td>\n",
       "      <td>1077299</td>\n",
       "      <td>0 days 00:04:01</td>\n",
       "      <td>0 days 00:04:05</td>\n",
       "      <td>0 days 00:04:44</td>\n",
       "      <td>0 days 00:04:59.400000</td>\n",
       "      <td>241.0</td>\n",
       "      <td>245.0</td>\n",
       "      <td>284.0</td>\n",
       "      <td>299.4</td>\n",
       "      <td>1.222041</td>\n",
       "      <td>1.178423</td>\n",
       "      <td>4243</td>\n",
       "      <td>(50.20575000588689, -5.500071745238906)</td>\n",
       "      <td>(50.20169275564262, -5.522975269099717)</td>\n",
       "    </tr>\n",
       "  </tbody>\n",
       "</table>\n",
       "</div>"
      ],
      "text/plain": [
       "                         name  climb_category climb_category_desc  avg_grade  \\\n",
       "0                     Segment             1.0                   4       24.7   \n",
       "1           Three Tunnel Dash             0.0                  NC        3.7   \n",
       "2            Eagles Nest Slog             1.0                   4        4.4   \n",
       "3  Up and away from Lands End             0.0                  NC        4.2   \n",
       "4               Rosewall Hill             0.0                  NC        3.9   \n",
       "\n",
       "   elev_difference  distance  segment_id              KOM  \\\n",
       "0            118.2     478.2     5432521  0 days 00:00:35   \n",
       "1              7.1     193.6     4782364  0 days 00:00:14   \n",
       "2             84.1    1842.7     1060760  0 days 00:03:40   \n",
       "3             17.8     427.9    11756862  0 days 00:00:32   \n",
       "4             76.5    1774.9     1077299  0 days 00:04:01   \n",
       "\n",
       "                   KOMavg              QOM                  QOMavg  KOM_s  \\\n",
       "0         0 days 00:00:37  0 days 00:00:48  0 days 00:00:48.800000   35.0   \n",
       "1  0 days 00:00:14.400000  0 days 00:00:15  0 days 00:00:17.600000   14.0   \n",
       "2  0 days 00:03:48.200000  0 days 00:04:53         0 days 00:05:04  220.0   \n",
       "3  0 days 00:00:34.400000  0 days 00:00:51  0 days 00:00:55.800000   32.0   \n",
       "4         0 days 00:04:05  0 days 00:04:44  0 days 00:04:59.400000  241.0   \n",
       "\n",
       "   KOMavg_s  QOM_s  QOMavg_s  avgRatio     Ratio  athlete_count  \\\n",
       "0      37.0   48.0      48.8  1.318919  1.371429           5426   \n",
       "1      14.4   15.0      17.6  1.222222  1.071429           4816   \n",
       "2     228.2  293.0     304.0  1.332165  1.331818           3454   \n",
       "3      34.4   51.0      55.8  1.622093  1.593750          10076   \n",
       "4     245.0  284.0     299.4  1.222041  1.178423           4243   \n",
       "\n",
       "                              start_latlng  \\\n",
       "0                      (50.121014, -5.534)   \n",
       "1                   (50.125557, -5.527822)   \n",
       "2                   (50.190325, -5.567424)   \n",
       "3                   (50.066153, -5.706905)   \n",
       "4  (50.20575000588689, -5.500071745238906)   \n",
       "\n",
       "                                end_latlng  \n",
       "0                   (50.124452, -5.530033)  \n",
       "1                    (50.12448, -5.529887)  \n",
       "2                   (50.194661, -5.546019)  \n",
       "3                   (50.066163, -5.700921)  \n",
       "4  (50.20169275564262, -5.522975269099717)  "
      ]
     },
     "execution_count": 59,
     "metadata": {},
     "output_type": "execute_result"
    }
   ],
   "source": [
    "#segment_data = pd.merge(segment_data, df, on='segment_id', how='outer');segment_data.head()"
   ]
  },
  {
   "cell_type": "code",
   "execution_count": 60,
   "metadata": {
    "collapsed": true,
    "hidden": true
   },
   "outputs": [],
   "source": [
    "segment_data.to_pickle('PopularSegmentsUK.pkl')"
   ]
  },
  {
   "cell_type": "markdown",
   "metadata": {},
   "source": [
    "## Working with the clean data set"
   ]
  },
  {
   "cell_type": "code",
   "execution_count": 151,
   "metadata": {},
   "outputs": [],
   "source": [
    "segment_data = pd.read_pickle('PopularSegmentsUK.pkl')"
   ]
  },
  {
   "cell_type": "code",
   "execution_count": 152,
   "metadata": {},
   "outputs": [
    {
     "data": {
      "text/html": [
       "<div>\n",
       "<style>\n",
       "    .dataframe thead tr:only-child th {\n",
       "        text-align: right;\n",
       "    }\n",
       "\n",
       "    .dataframe thead th {\n",
       "        text-align: left;\n",
       "    }\n",
       "\n",
       "    .dataframe tbody tr th {\n",
       "        vertical-align: top;\n",
       "    }\n",
       "</style>\n",
       "<table border=\"1\" class=\"dataframe\">\n",
       "  <thead>\n",
       "    <tr style=\"text-align: right;\">\n",
       "      <th></th>\n",
       "      <th>name</th>\n",
       "      <th>climb_category</th>\n",
       "      <th>climb_category_desc</th>\n",
       "      <th>avg_grade</th>\n",
       "      <th>elev_difference</th>\n",
       "      <th>distance</th>\n",
       "      <th>segment_id</th>\n",
       "      <th>KOM</th>\n",
       "      <th>KOMavg</th>\n",
       "      <th>QOM</th>\n",
       "      <th>...</th>\n",
       "      <th>KOMavg_s</th>\n",
       "      <th>QOM_s</th>\n",
       "      <th>QOMavg_s</th>\n",
       "      <th>avgRatio</th>\n",
       "      <th>Ratio</th>\n",
       "      <th>athlete_count</th>\n",
       "      <th>start_latlng</th>\n",
       "      <th>end_latlng</th>\n",
       "      <th>fRiders</th>\n",
       "      <th>mRiders</th>\n",
       "    </tr>\n",
       "  </thead>\n",
       "  <tbody>\n",
       "    <tr>\n",
       "      <th>0</th>\n",
       "      <td>Segment</td>\n",
       "      <td>1.0</td>\n",
       "      <td>4</td>\n",
       "      <td>24.7</td>\n",
       "      <td>118.2</td>\n",
       "      <td>478.2</td>\n",
       "      <td>5432521</td>\n",
       "      <td>0 days 00:00:35</td>\n",
       "      <td>0 days 00:00:37</td>\n",
       "      <td>0 days 00:00:48</td>\n",
       "      <td>...</td>\n",
       "      <td>37.0</td>\n",
       "      <td>48.0</td>\n",
       "      <td>48.8</td>\n",
       "      <td>1.318919</td>\n",
       "      <td>1.371429</td>\n",
       "      <td>5425</td>\n",
       "      <td>(50.121014, -5.534)</td>\n",
       "      <td>(50.124452, -5.530033)</td>\n",
       "      <td>683</td>\n",
       "      <td>4742</td>\n",
       "    </tr>\n",
       "    <tr>\n",
       "      <th>1</th>\n",
       "      <td>Three Tunnel Dash</td>\n",
       "      <td>0.0</td>\n",
       "      <td>NC</td>\n",
       "      <td>3.7</td>\n",
       "      <td>7.1</td>\n",
       "      <td>193.6</td>\n",
       "      <td>4782364</td>\n",
       "      <td>0 days 00:00:14</td>\n",
       "      <td>0 days 00:00:14.400000</td>\n",
       "      <td>0 days 00:00:15</td>\n",
       "      <td>...</td>\n",
       "      <td>14.4</td>\n",
       "      <td>15.0</td>\n",
       "      <td>17.6</td>\n",
       "      <td>1.222222</td>\n",
       "      <td>1.071429</td>\n",
       "      <td>4816</td>\n",
       "      <td>(50.125557, -5.527822)</td>\n",
       "      <td>(50.12448, -5.529887)</td>\n",
       "      <td>613</td>\n",
       "      <td>4203</td>\n",
       "    </tr>\n",
       "    <tr>\n",
       "      <th>2</th>\n",
       "      <td>Eagles Nest Slog</td>\n",
       "      <td>1.0</td>\n",
       "      <td>4</td>\n",
       "      <td>4.4</td>\n",
       "      <td>84.1</td>\n",
       "      <td>1842.7</td>\n",
       "      <td>1060760</td>\n",
       "      <td>0 days 00:03:40</td>\n",
       "      <td>0 days 00:03:48.200000</td>\n",
       "      <td>0 days 00:04:53</td>\n",
       "      <td>...</td>\n",
       "      <td>228.2</td>\n",
       "      <td>293.0</td>\n",
       "      <td>304.0</td>\n",
       "      <td>1.332165</td>\n",
       "      <td>1.331818</td>\n",
       "      <td>3454</td>\n",
       "      <td>(50.190325, -5.567424)</td>\n",
       "      <td>(50.194661, -5.546019)</td>\n",
       "      <td>399</td>\n",
       "      <td>3055</td>\n",
       "    </tr>\n",
       "    <tr>\n",
       "      <th>3</th>\n",
       "      <td>Up and away from Lands End</td>\n",
       "      <td>0.0</td>\n",
       "      <td>NC</td>\n",
       "      <td>4.2</td>\n",
       "      <td>17.8</td>\n",
       "      <td>427.9</td>\n",
       "      <td>11756862</td>\n",
       "      <td>0 days 00:00:32</td>\n",
       "      <td>0 days 00:00:34.400000</td>\n",
       "      <td>0 days 00:00:51</td>\n",
       "      <td>...</td>\n",
       "      <td>34.4</td>\n",
       "      <td>51.0</td>\n",
       "      <td>55.8</td>\n",
       "      <td>1.622093</td>\n",
       "      <td>1.593750</td>\n",
       "      <td>10076</td>\n",
       "      <td>(50.066153, -5.706905)</td>\n",
       "      <td>(50.066163, -5.700921)</td>\n",
       "      <td>1200</td>\n",
       "      <td>8876</td>\n",
       "    </tr>\n",
       "    <tr>\n",
       "      <th>4</th>\n",
       "      <td>Rosewall Hill</td>\n",
       "      <td>0.0</td>\n",
       "      <td>NC</td>\n",
       "      <td>3.9</td>\n",
       "      <td>76.5</td>\n",
       "      <td>1774.9</td>\n",
       "      <td>1077299</td>\n",
       "      <td>0 days 00:04:01</td>\n",
       "      <td>0 days 00:04:05</td>\n",
       "      <td>0 days 00:04:44</td>\n",
       "      <td>...</td>\n",
       "      <td>245.0</td>\n",
       "      <td>284.0</td>\n",
       "      <td>299.4</td>\n",
       "      <td>1.222041</td>\n",
       "      <td>1.178423</td>\n",
       "      <td>4243</td>\n",
       "      <td>(50.20575000588689, -5.500071745238906)</td>\n",
       "      <td>(50.20169275564262, -5.522975269099717)</td>\n",
       "      <td>533</td>\n",
       "      <td>3710</td>\n",
       "    </tr>\n",
       "  </tbody>\n",
       "</table>\n",
       "<p>5 rows × 22 columns</p>\n",
       "</div>"
      ],
      "text/plain": [
       "                         name  climb_category climb_category_desc  avg_grade  \\\n",
       "0                     Segment             1.0                   4       24.7   \n",
       "1           Three Tunnel Dash             0.0                  NC        3.7   \n",
       "2            Eagles Nest Slog             1.0                   4        4.4   \n",
       "3  Up and away from Lands End             0.0                  NC        4.2   \n",
       "4               Rosewall Hill             0.0                  NC        3.9   \n",
       "\n",
       "   elev_difference  distance  segment_id              KOM  \\\n",
       "0            118.2     478.2     5432521  0 days 00:00:35   \n",
       "1              7.1     193.6     4782364  0 days 00:00:14   \n",
       "2             84.1    1842.7     1060760  0 days 00:03:40   \n",
       "3             17.8     427.9    11756862  0 days 00:00:32   \n",
       "4             76.5    1774.9     1077299  0 days 00:04:01   \n",
       "\n",
       "                   KOMavg              QOM   ...   KOMavg_s  QOM_s  QOMavg_s  \\\n",
       "0         0 days 00:00:37  0 days 00:00:48   ...       37.0   48.0      48.8   \n",
       "1  0 days 00:00:14.400000  0 days 00:00:15   ...       14.4   15.0      17.6   \n",
       "2  0 days 00:03:48.200000  0 days 00:04:53   ...      228.2  293.0     304.0   \n",
       "3  0 days 00:00:34.400000  0 days 00:00:51   ...       34.4   51.0      55.8   \n",
       "4         0 days 00:04:05  0 days 00:04:44   ...      245.0  284.0     299.4   \n",
       "\n",
       "   avgRatio     Ratio  athlete_count                             start_latlng  \\\n",
       "0  1.318919  1.371429           5425                      (50.121014, -5.534)   \n",
       "1  1.222222  1.071429           4816                   (50.125557, -5.527822)   \n",
       "2  1.332165  1.331818           3454                   (50.190325, -5.567424)   \n",
       "3  1.622093  1.593750          10076                   (50.066153, -5.706905)   \n",
       "4  1.222041  1.178423           4243  (50.20575000588689, -5.500071745238906)   \n",
       "\n",
       "                                end_latlng fRiders mRiders  \n",
       "0                   (50.124452, -5.530033)     683    4742  \n",
       "1                    (50.12448, -5.529887)     613    4203  \n",
       "2                   (50.194661, -5.546019)     399    3055  \n",
       "3                   (50.066163, -5.700921)    1200    8876  \n",
       "4  (50.20169275564262, -5.522975269099717)     533    3710  \n",
       "\n",
       "[5 rows x 22 columns]"
      ]
     },
     "execution_count": 152,
     "metadata": {},
     "output_type": "execute_result"
    }
   ],
   "source": [
    "segment_data.head()"
   ]
  },
  {
   "cell_type": "code",
   "execution_count": 153,
   "metadata": {},
   "outputs": [
    {
     "data": {
      "text/html": [
       "<div>\n",
       "<style>\n",
       "    .dataframe thead tr:only-child th {\n",
       "        text-align: right;\n",
       "    }\n",
       "\n",
       "    .dataframe thead th {\n",
       "        text-align: left;\n",
       "    }\n",
       "\n",
       "    .dataframe tbody tr th {\n",
       "        vertical-align: top;\n",
       "    }\n",
       "</style>\n",
       "<table border=\"1\" class=\"dataframe\">\n",
       "  <thead>\n",
       "    <tr style=\"text-align: right;\">\n",
       "      <th></th>\n",
       "      <th>climb_category</th>\n",
       "      <th>avg_grade</th>\n",
       "      <th>elev_difference</th>\n",
       "      <th>distance</th>\n",
       "      <th>segment_id</th>\n",
       "      <th>KOM_s</th>\n",
       "      <th>KOMavg_s</th>\n",
       "      <th>QOM_s</th>\n",
       "      <th>QOMavg_s</th>\n",
       "      <th>avgRatio</th>\n",
       "      <th>Ratio</th>\n",
       "      <th>athlete_count</th>\n",
       "      <th>fRiders</th>\n",
       "      <th>mRiders</th>\n",
       "    </tr>\n",
       "  </thead>\n",
       "  <tbody>\n",
       "    <tr>\n",
       "      <th>count</th>\n",
       "      <td>1339.000000</td>\n",
       "      <td>1339.000000</td>\n",
       "      <td>1339.000000</td>\n",
       "      <td>1339.000000</td>\n",
       "      <td>1.339000e+03</td>\n",
       "      <td>1339.000000</td>\n",
       "      <td>1339.000000</td>\n",
       "      <td>1339.000000</td>\n",
       "      <td>1339.000000</td>\n",
       "      <td>1339.000000</td>\n",
       "      <td>1339.000000</td>\n",
       "      <td>1339.000000</td>\n",
       "      <td>1339.000000</td>\n",
       "      <td>1339.000000</td>\n",
       "    </tr>\n",
       "    <tr>\n",
       "      <th>mean</th>\n",
       "      <td>0.447349</td>\n",
       "      <td>3.159597</td>\n",
       "      <td>71.087155</td>\n",
       "      <td>2334.520015</td>\n",
       "      <td>4.590704e+06</td>\n",
       "      <td>255.792382</td>\n",
       "      <td>271.204406</td>\n",
       "      <td>328.894698</td>\n",
       "      <td>354.843739</td>\n",
       "      <td>1.340962</td>\n",
       "      <td>1.355909</td>\n",
       "      <td>4473.043316</td>\n",
       "      <td>499.876027</td>\n",
       "      <td>3973.167289</td>\n",
       "    </tr>\n",
       "    <tr>\n",
       "      <th>std</th>\n",
       "      <td>0.749209</td>\n",
       "      <td>4.804865</td>\n",
       "      <td>80.100311</td>\n",
       "      <td>4412.257596</td>\n",
       "      <td>3.466517e+06</td>\n",
       "      <td>442.790842</td>\n",
       "      <td>457.281765</td>\n",
       "      <td>520.714702</td>\n",
       "      <td>550.661563</td>\n",
       "      <td>0.201043</td>\n",
       "      <td>0.615847</td>\n",
       "      <td>5590.007253</td>\n",
       "      <td>733.121447</td>\n",
       "      <td>4890.721581</td>\n",
       "    </tr>\n",
       "    <tr>\n",
       "      <th>min</th>\n",
       "      <td>0.000000</td>\n",
       "      <td>-21.200000</td>\n",
       "      <td>0.000000</td>\n",
       "      <td>93.400000</td>\n",
       "      <td>2.575050e+05</td>\n",
       "      <td>4.000000</td>\n",
       "      <td>5.000000</td>\n",
       "      <td>5.000000</td>\n",
       "      <td>6.200000</td>\n",
       "      <td>0.910577</td>\n",
       "      <td>0.395722</td>\n",
       "      <td>39.000000</td>\n",
       "      <td>2.000000</td>\n",
       "      <td>34.000000</td>\n",
       "    </tr>\n",
       "    <tr>\n",
       "      <th>25%</th>\n",
       "      <td>0.000000</td>\n",
       "      <td>0.000000</td>\n",
       "      <td>13.350000</td>\n",
       "      <td>703.800000</td>\n",
       "      <td>1.292550e+06</td>\n",
       "      <td>62.500000</td>\n",
       "      <td>66.900000</td>\n",
       "      <td>82.000000</td>\n",
       "      <td>89.700000</td>\n",
       "      <td>1.227345</td>\n",
       "      <td>1.196995</td>\n",
       "      <td>1649.500000</td>\n",
       "      <td>161.500000</td>\n",
       "      <td>1498.000000</td>\n",
       "    </tr>\n",
       "    <tr>\n",
       "      <th>50%</th>\n",
       "      <td>0.000000</td>\n",
       "      <td>3.100000</td>\n",
       "      <td>41.300000</td>\n",
       "      <td>1358.300000</td>\n",
       "      <td>4.031689e+06</td>\n",
       "      <td>155.000000</td>\n",
       "      <td>164.800000</td>\n",
       "      <td>205.000000</td>\n",
       "      <td>225.200000</td>\n",
       "      <td>1.313785</td>\n",
       "      <td>1.290503</td>\n",
       "      <td>3172.000000</td>\n",
       "      <td>330.000000</td>\n",
       "      <td>2817.000000</td>\n",
       "    </tr>\n",
       "    <tr>\n",
       "      <th>75%</th>\n",
       "      <td>1.000000</td>\n",
       "      <td>5.900000</td>\n",
       "      <td>101.100000</td>\n",
       "      <td>2711.400000</td>\n",
       "      <td>6.968905e+06</td>\n",
       "      <td>308.500000</td>\n",
       "      <td>327.900000</td>\n",
       "      <td>403.000000</td>\n",
       "      <td>427.500000</td>\n",
       "      <td>1.410547</td>\n",
       "      <td>1.408931</td>\n",
       "      <td>5359.500000</td>\n",
       "      <td>613.000000</td>\n",
       "      <td>4751.500000</td>\n",
       "    </tr>\n",
       "    <tr>\n",
       "      <th>max</th>\n",
       "      <td>4.000000</td>\n",
       "      <td>31.900000</td>\n",
       "      <td>645.400000</td>\n",
       "      <td>93324.700000</td>\n",
       "      <td>1.370206e+07</td>\n",
       "      <td>9166.000000</td>\n",
       "      <td>9187.500000</td>\n",
       "      <td>10104.000000</td>\n",
       "      <td>10148.500000</td>\n",
       "      <td>4.737037</td>\n",
       "      <td>16.500000</td>\n",
       "      <td>93142.000000</td>\n",
       "      <td>13816.000000</td>\n",
       "      <td>79326.000000</td>\n",
       "    </tr>\n",
       "  </tbody>\n",
       "</table>\n",
       "</div>"
      ],
      "text/plain": [
       "       climb_category    avg_grade  elev_difference      distance  \\\n",
       "count     1339.000000  1339.000000      1339.000000   1339.000000   \n",
       "mean         0.447349     3.159597        71.087155   2334.520015   \n",
       "std          0.749209     4.804865        80.100311   4412.257596   \n",
       "min          0.000000   -21.200000         0.000000     93.400000   \n",
       "25%          0.000000     0.000000        13.350000    703.800000   \n",
       "50%          0.000000     3.100000        41.300000   1358.300000   \n",
       "75%          1.000000     5.900000       101.100000   2711.400000   \n",
       "max          4.000000    31.900000       645.400000  93324.700000   \n",
       "\n",
       "         segment_id        KOM_s     KOMavg_s         QOM_s      QOMavg_s  \\\n",
       "count  1.339000e+03  1339.000000  1339.000000   1339.000000   1339.000000   \n",
       "mean   4.590704e+06   255.792382   271.204406    328.894698    354.843739   \n",
       "std    3.466517e+06   442.790842   457.281765    520.714702    550.661563   \n",
       "min    2.575050e+05     4.000000     5.000000      5.000000      6.200000   \n",
       "25%    1.292550e+06    62.500000    66.900000     82.000000     89.700000   \n",
       "50%    4.031689e+06   155.000000   164.800000    205.000000    225.200000   \n",
       "75%    6.968905e+06   308.500000   327.900000    403.000000    427.500000   \n",
       "max    1.370206e+07  9166.000000  9187.500000  10104.000000  10148.500000   \n",
       "\n",
       "          avgRatio        Ratio  athlete_count       fRiders       mRiders  \n",
       "count  1339.000000  1339.000000    1339.000000   1339.000000   1339.000000  \n",
       "mean      1.340962     1.355909    4473.043316    499.876027   3973.167289  \n",
       "std       0.201043     0.615847    5590.007253    733.121447   4890.721581  \n",
       "min       0.910577     0.395722      39.000000      2.000000     34.000000  \n",
       "25%       1.227345     1.196995    1649.500000    161.500000   1498.000000  \n",
       "50%       1.313785     1.290503    3172.000000    330.000000   2817.000000  \n",
       "75%       1.410547     1.408931    5359.500000    613.000000   4751.500000  \n",
       "max       4.737037    16.500000   93142.000000  13816.000000  79326.000000  "
      ]
     },
     "execution_count": 153,
     "metadata": {},
     "output_type": "execute_result"
    }
   ],
   "source": [
    "segment_data.describe()"
   ]
  },
  {
   "cell_type": "markdown",
   "metadata": {},
   "source": [
    "The most popular segement in the data set"
   ]
  },
  {
   "cell_type": "code",
   "execution_count": 154,
   "metadata": {},
   "outputs": [
    {
     "data": {
      "text/html": [
       "<div>\n",
       "<style>\n",
       "    .dataframe thead tr:only-child th {\n",
       "        text-align: right;\n",
       "    }\n",
       "\n",
       "    .dataframe thead th {\n",
       "        text-align: left;\n",
       "    }\n",
       "\n",
       "    .dataframe tbody tr th {\n",
       "        vertical-align: top;\n",
       "    }\n",
       "</style>\n",
       "<table border=\"1\" class=\"dataframe\">\n",
       "  <thead>\n",
       "    <tr style=\"text-align: right;\">\n",
       "      <th></th>\n",
       "      <th>name</th>\n",
       "      <th>climb_category</th>\n",
       "      <th>climb_category_desc</th>\n",
       "      <th>avg_grade</th>\n",
       "      <th>elev_difference</th>\n",
       "      <th>distance</th>\n",
       "      <th>segment_id</th>\n",
       "      <th>KOM</th>\n",
       "      <th>KOMavg</th>\n",
       "      <th>QOM</th>\n",
       "      <th>...</th>\n",
       "      <th>KOMavg_s</th>\n",
       "      <th>QOM_s</th>\n",
       "      <th>QOMavg_s</th>\n",
       "      <th>avgRatio</th>\n",
       "      <th>Ratio</th>\n",
       "      <th>athlete_count</th>\n",
       "      <th>start_latlng</th>\n",
       "      <th>end_latlng</th>\n",
       "      <th>fRiders</th>\n",
       "      <th>mRiders</th>\n",
       "    </tr>\n",
       "  </thead>\n",
       "  <tbody>\n",
       "    <tr>\n",
       "      <th>279</th>\n",
       "      <td>Full Sawyers Uphill</td>\n",
       "      <td>0.0</td>\n",
       "      <td>NC</td>\n",
       "      <td>2.2</td>\n",
       "      <td>41.0</td>\n",
       "      <td>1799.7</td>\n",
       "      <td>3970089</td>\n",
       "      <td>0 days 00:02:23</td>\n",
       "      <td>0 days 00:02:26.400000</td>\n",
       "      <td>0 days 00:02:50</td>\n",
       "      <td>...</td>\n",
       "      <td>146.4</td>\n",
       "      <td>170.0</td>\n",
       "      <td>173.2</td>\n",
       "      <td>1.18306</td>\n",
       "      <td>1.188811</td>\n",
       "      <td>93142</td>\n",
       "      <td>(51.45183, -0.268831)</td>\n",
       "      <td>(51.449423, -0.293531)</td>\n",
       "      <td>13816</td>\n",
       "      <td>79326</td>\n",
       "    </tr>\n",
       "  </tbody>\n",
       "</table>\n",
       "<p>1 rows × 22 columns</p>\n",
       "</div>"
      ],
      "text/plain": [
       "                    name  climb_category climb_category_desc  avg_grade  \\\n",
       "279  Full Sawyers Uphill             0.0                  NC        2.2   \n",
       "\n",
       "     elev_difference  distance  segment_id              KOM  \\\n",
       "279             41.0    1799.7     3970089  0 days 00:02:23   \n",
       "\n",
       "                     KOMavg              QOM   ...   KOMavg_s  QOM_s  \\\n",
       "279  0 days 00:02:26.400000  0 days 00:02:50   ...      146.4  170.0   \n",
       "\n",
       "     QOMavg_s  avgRatio     Ratio  athlete_count           start_latlng  \\\n",
       "279     173.2   1.18306  1.188811          93142  (51.45183, -0.268831)   \n",
       "\n",
       "                 end_latlng fRiders mRiders  \n",
       "279  (51.449423, -0.293531)   13816   79326  \n",
       "\n",
       "[1 rows x 22 columns]"
      ]
     },
     "execution_count": 154,
     "metadata": {},
     "output_type": "execute_result"
    }
   ],
   "source": [
    "segment_data[segment_data.athlete_count == segment_data.athlete_count.max() ]"
   ]
  },
  {
   "cell_type": "code",
   "execution_count": 160,
   "metadata": {},
   "outputs": [
    {
     "data": {
      "text/html": [
       "<div>\n",
       "<style>\n",
       "    .dataframe thead tr:only-child th {\n",
       "        text-align: right;\n",
       "    }\n",
       "\n",
       "    .dataframe thead th {\n",
       "        text-align: left;\n",
       "    }\n",
       "\n",
       "    .dataframe tbody tr th {\n",
       "        vertical-align: top;\n",
       "    }\n",
       "</style>\n",
       "<table border=\"1\" class=\"dataframe\">\n",
       "  <thead>\n",
       "    <tr style=\"text-align: right;\">\n",
       "      <th></th>\n",
       "      <th>climb_category</th>\n",
       "      <th>avg_grade</th>\n",
       "      <th>elev_difference</th>\n",
       "      <th>distance</th>\n",
       "      <th>segment_id</th>\n",
       "      <th>KOM_s</th>\n",
       "      <th>KOMavg_s</th>\n",
       "      <th>QOM_s</th>\n",
       "      <th>QOMavg_s</th>\n",
       "      <th>avgRatio</th>\n",
       "      <th>Ratio</th>\n",
       "      <th>athlete_count</th>\n",
       "      <th>fRiders</th>\n",
       "      <th>mRiders</th>\n",
       "    </tr>\n",
       "  </thead>\n",
       "  <tbody>\n",
       "    <tr>\n",
       "      <th>count</th>\n",
       "      <td>1000.000000</td>\n",
       "      <td>1000.000000</td>\n",
       "      <td>1000.000000</td>\n",
       "      <td>1000.000000</td>\n",
       "      <td>1.000000e+03</td>\n",
       "      <td>1000.000000</td>\n",
       "      <td>1000.000000</td>\n",
       "      <td>1000.000000</td>\n",
       "      <td>1000.000000</td>\n",
       "      <td>1000.000000</td>\n",
       "      <td>1000.000000</td>\n",
       "      <td>1000.00000</td>\n",
       "      <td>1000.000000</td>\n",
       "      <td>1000.000000</td>\n",
       "    </tr>\n",
       "    <tr>\n",
       "      <th>mean</th>\n",
       "      <td>0.426000</td>\n",
       "      <td>3.036300</td>\n",
       "      <td>66.911900</td>\n",
       "      <td>1958.322500</td>\n",
       "      <td>4.408498e+06</td>\n",
       "      <td>214.318000</td>\n",
       "      <td>226.351400</td>\n",
       "      <td>274.382000</td>\n",
       "      <td>293.043800</td>\n",
       "      <td>1.316447</td>\n",
       "      <td>1.318024</td>\n",
       "      <td>5667.35600</td>\n",
       "      <td>637.396000</td>\n",
       "      <td>5029.960000</td>\n",
       "    </tr>\n",
       "    <tr>\n",
       "      <th>std</th>\n",
       "      <td>0.732844</td>\n",
       "      <td>4.509635</td>\n",
       "      <td>78.218748</td>\n",
       "      <td>1937.396786</td>\n",
       "      <td>3.383121e+06</td>\n",
       "      <td>233.822163</td>\n",
       "      <td>244.445156</td>\n",
       "      <td>299.828904</td>\n",
       "      <td>317.321202</td>\n",
       "      <td>0.141849</td>\n",
       "      <td>0.324041</td>\n",
       "      <td>6011.51913</td>\n",
       "      <td>802.558372</td>\n",
       "      <td>5249.634327</td>\n",
       "    </tr>\n",
       "    <tr>\n",
       "      <th>min</th>\n",
       "      <td>0.000000</td>\n",
       "      <td>-18.400000</td>\n",
       "      <td>0.000000</td>\n",
       "      <td>105.100000</td>\n",
       "      <td>2.575050e+05</td>\n",
       "      <td>5.000000</td>\n",
       "      <td>5.000000</td>\n",
       "      <td>5.000000</td>\n",
       "      <td>6.200000</td>\n",
       "      <td>0.910577</td>\n",
       "      <td>0.459016</td>\n",
       "      <td>1666.00000</td>\n",
       "      <td>62.000000</td>\n",
       "      <td>1403.000000</td>\n",
       "    </tr>\n",
       "    <tr>\n",
       "      <th>25%</th>\n",
       "      <td>0.000000</td>\n",
       "      <td>-0.000000</td>\n",
       "      <td>12.575000</td>\n",
       "      <td>656.075000</td>\n",
       "      <td>1.210602e+06</td>\n",
       "      <td>57.000000</td>\n",
       "      <td>61.450000</td>\n",
       "      <td>75.000000</td>\n",
       "      <td>81.900000</td>\n",
       "      <td>1.217239</td>\n",
       "      <td>1.188483</td>\n",
       "      <td>2687.75000</td>\n",
       "      <td>287.000000</td>\n",
       "      <td>2413.250000</td>\n",
       "    </tr>\n",
       "    <tr>\n",
       "      <th>50%</th>\n",
       "      <td>0.000000</td>\n",
       "      <td>2.850000</td>\n",
       "      <td>36.150000</td>\n",
       "      <td>1297.150000</td>\n",
       "      <td>3.872938e+06</td>\n",
       "      <td>143.500000</td>\n",
       "      <td>151.700000</td>\n",
       "      <td>178.000000</td>\n",
       "      <td>193.000000</td>\n",
       "      <td>1.298414</td>\n",
       "      <td>1.277778</td>\n",
       "      <td>4119.00000</td>\n",
       "      <td>459.000000</td>\n",
       "      <td>3632.000000</td>\n",
       "    </tr>\n",
       "    <tr>\n",
       "      <th>75%</th>\n",
       "      <td>1.000000</td>\n",
       "      <td>5.800000</td>\n",
       "      <td>94.125000</td>\n",
       "      <td>2542.725000</td>\n",
       "      <td>6.691040e+06</td>\n",
       "      <td>281.000000</td>\n",
       "      <td>295.800000</td>\n",
       "      <td>357.000000</td>\n",
       "      <td>381.350000</td>\n",
       "      <td>1.385869</td>\n",
       "      <td>1.388889</td>\n",
       "      <td>6454.75000</td>\n",
       "      <td>709.750000</td>\n",
       "      <td>5731.750000</td>\n",
       "    </tr>\n",
       "    <tr>\n",
       "      <th>max</th>\n",
       "      <td>4.000000</td>\n",
       "      <td>31.900000</td>\n",
       "      <td>645.400000</td>\n",
       "      <td>13208.400000</td>\n",
       "      <td>1.333740e+07</td>\n",
       "      <td>2000.000000</td>\n",
       "      <td>2064.400000</td>\n",
       "      <td>2467.000000</td>\n",
       "      <td>2547.200000</td>\n",
       "      <td>2.334951</td>\n",
       "      <td>7.000000</td>\n",
       "      <td>93142.00000</td>\n",
       "      <td>13816.000000</td>\n",
       "      <td>79326.000000</td>\n",
       "    </tr>\n",
       "  </tbody>\n",
       "</table>\n",
       "</div>"
      ],
      "text/plain": [
       "       climb_category    avg_grade  elev_difference      distance  \\\n",
       "count     1000.000000  1000.000000      1000.000000   1000.000000   \n",
       "mean         0.426000     3.036300        66.911900   1958.322500   \n",
       "std          0.732844     4.509635        78.218748   1937.396786   \n",
       "min          0.000000   -18.400000         0.000000    105.100000   \n",
       "25%          0.000000    -0.000000        12.575000    656.075000   \n",
       "50%          0.000000     2.850000        36.150000   1297.150000   \n",
       "75%          1.000000     5.800000        94.125000   2542.725000   \n",
       "max          4.000000    31.900000       645.400000  13208.400000   \n",
       "\n",
       "         segment_id        KOM_s     KOMavg_s        QOM_s     QOMavg_s  \\\n",
       "count  1.000000e+03  1000.000000  1000.000000  1000.000000  1000.000000   \n",
       "mean   4.408498e+06   214.318000   226.351400   274.382000   293.043800   \n",
       "std    3.383121e+06   233.822163   244.445156   299.828904   317.321202   \n",
       "min    2.575050e+05     5.000000     5.000000     5.000000     6.200000   \n",
       "25%    1.210602e+06    57.000000    61.450000    75.000000    81.900000   \n",
       "50%    3.872938e+06   143.500000   151.700000   178.000000   193.000000   \n",
       "75%    6.691040e+06   281.000000   295.800000   357.000000   381.350000   \n",
       "max    1.333740e+07  2000.000000  2064.400000  2467.000000  2547.200000   \n",
       "\n",
       "          avgRatio        Ratio  athlete_count       fRiders       mRiders  \n",
       "count  1000.000000  1000.000000     1000.00000   1000.000000   1000.000000  \n",
       "mean      1.316447     1.318024     5667.35600    637.396000   5029.960000  \n",
       "std       0.141849     0.324041     6011.51913    802.558372   5249.634327  \n",
       "min       0.910577     0.459016     1666.00000     62.000000   1403.000000  \n",
       "25%       1.217239     1.188483     2687.75000    287.000000   2413.250000  \n",
       "50%       1.298414     1.277778     4119.00000    459.000000   3632.000000  \n",
       "75%       1.385869     1.388889     6454.75000    709.750000   5731.750000  \n",
       "max       2.334951     7.000000    93142.00000  13816.000000  79326.000000  "
      ]
     },
     "execution_count": 160,
     "metadata": {},
     "output_type": "execute_result"
    }
   ],
   "source": [
    "seg = segment_data.sort_values(['athlete_count'], ascending=False)[:1000]\n",
    "seg.describe()"
   ]
  },
  {
   "cell_type": "code",
   "execution_count": 162,
   "metadata": {},
   "outputs": [
    {
     "data": {
      "text/plain": [
       "7.891420718046552"
      ]
     },
     "execution_count": 162,
     "metadata": {},
     "output_type": "execute_result"
    }
   ],
   "source": [
    "seg.mRiders.sum()/seg.fRiders.sum()"
   ]
  },
  {
   "cell_type": "code",
   "execution_count": 65,
   "metadata": {},
   "outputs": [
    {
     "data": {
      "text/plain": [
       "<matplotlib.axes._subplots.AxesSubplot at 0x115ad2240>"
      ]
     },
     "execution_count": 65,
     "metadata": {},
     "output_type": "execute_result"
    },
    {
     "data": {
      "image/png": "[encoded data removed]",
      "text/plain": [
       "<matplotlib.figure.Figure at 0x116757908>"
      ]
     },
     "metadata": {},
     "output_type": "display_data"
    }
   ],
   "source": [
    "seg.avgRatio.plot(kind='hist', bins=50)"
   ]
  },
  {
   "cell_type": "code",
   "execution_count": 67,
   "metadata": {},
   "outputs": [
    {
     "data": {
      "text/plain": [
       "<matplotlib.axes._subplots.AxesSubplot at 0x1163614e0>"
      ]
     },
     "execution_count": 67,
     "metadata": {},
     "output_type": "execute_result"
    },
    {
     "data": {
      "image/png": "[encoded data removed]",
      "text/plain": [
       "<matplotlib.figure.Figure at 0x116351320>"
      ]
     },
     "metadata": {},
     "output_type": "display_data"
    }
   ],
   "source": [
    "seg.plot.scatter('avg_grade','avgRatio')\n",
    "#plt.ylim((0.9,2.0));"
   ]
  },
  {
   "cell_type": "code",
   "execution_count": 84,
   "metadata": {},
   "outputs": [
    {
     "data": {
      "text/plain": [
       "(1.4288377902876708, 1.2295753738376938)"
      ]
     },
     "execution_count": 84,
     "metadata": {},
     "output_type": "execute_result"
    }
   ],
   "source": [
    "seg.avgRatio[seg.avg_grade>10].mean(), seg.avgRatio[(seg.avg_grade>-1) & (seg.avg_grade<1)].mean()"
   ]
  },
  {
   "cell_type": "code",
   "execution_count": 216,
   "metadata": {
    "collapsed": true
   },
   "outputs": [],
   "source": [
    "seg.columns = ['name', 'climb_category', 'climb_category_desc', 'avg_grade',\n",
    "       'elev_difference', 'distance', 'segment_id', 'KOM', 'KOMavg', 'QOM',\n",
    "       'QOMavg', 'KOM_s', 'KOMavg_s', 'QOM_s', 'QOMavg_s', 'avgRatio',\n",
    "       'Ratio']"
   ]
  },
  {
   "cell_type": "code",
   "execution_count": 217,
   "metadata": {
    "collapsed": true
   },
   "outputs": [],
   "source": [
    "import xgboost\n",
    "import random, operator\n",
    "xgb_parms = {'learning_rate': 0.1, 'subsample': 0.6, \n",
    "             'colsample_bylevel': 0.6, 'silent': True, 'objective': 'reg:linear'}"
   ]
  },
  {
   "cell_type": "code",
   "execution_count": 242,
   "metadata": {
    "collapsed": true
   },
   "outputs": [],
   "source": [
    "X = seg[ ['avg_grade','elev_difference', 'distance', 'segment_id', 'KOM_s']]\n",
    "Y =  seg[ 'QOM_s']\n",
    "all_vars = ['avg_grade','elev_difference', 'distance', 'segment_id', 'KOM_s']"
   ]
  },
  {
   "cell_type": "code",
   "execution_count": 228,
   "metadata": {
    "collapsed": true
   },
   "outputs": [],
   "source": [
    "xdata = xgboost.DMatrix(X, Y, feature_names=all_vars)\n"
   ]
  },
  {
   "cell_type": "code",
   "execution_count": 229,
   "metadata": {
    "collapsed": true
   },
   "outputs": [],
   "source": [
    "xgb_parms['seed'] = random.randint(0,1e9)\n",
    "model = xgboost.train(xgb_parms, xdata)"
   ]
  },
  {
   "cell_type": "code",
   "execution_count": 230,
   "metadata": {},
   "outputs": [
    {
     "data": {
      "image/png": "[encoded data removed]",
      "text/plain": [
       "<matplotlib.figure.Figure at 0x1168fe9b0>"
      ]
     },
     "metadata": {},
     "output_type": "display_data"
    }
   ],
   "source": [
    "importance = model.get_fscore()\n",
    "importance = sorted(importance.items(), key=operator.itemgetter(1))\n",
    "\n",
    "df = pd.DataFrame(importance, columns=['feature', 'fscore'])\n",
    "df['fscore'] = df['fscore'] / df['fscore'].sum()\n",
    "\n",
    "df.plot(kind='barh', x='feature', y='fscore', legend=False, figsize=(6, 10))\n",
    "plt.title('XGBoost Feature Importance')\n",
    "plt.xlabel('relative importance');"
   ]
  },
  {
   "cell_type": "code",
   "execution_count": 231,
   "metadata": {},
   "outputs": [
    {
     "data": {
      "text/plain": [
       "b'[0]\\teval-rmse:1.706086'"
      ]
     },
     "execution_count": 231,
     "metadata": {},
     "output_type": "execute_result"
    }
   ],
   "source": [
    "model.eval(xdata)"
   ]
  },
  {
   "cell_type": "code",
   "execution_count": 232,
   "metadata": {
    "collapsed": true
   },
   "outputs": [],
   "source": [
    "predX = model.predict(xdata)"
   ]
  },
  {
   "cell_type": "code",
   "execution_count": 233,
   "metadata": {},
   "outputs": [
    {
     "data": {
      "text/plain": [
       "<matplotlib.collections.PathCollection at 0x116f19f60>"
      ]
     },
     "execution_count": 233,
     "metadata": {},
     "output_type": "execute_result"
    },
    {
     "data": {
      "image/png": "[encoded data removed]",
      "text/plain": [
       "<matplotlib.figure.Figure at 0x116bb0518>"
      ]
     },
     "metadata": {},
     "output_type": "display_data"
    }
   ],
   "source": [
    "plt.scatter(Y,predX)"
   ]
  },
  {
   "cell_type": "code",
   "execution_count": 234,
   "metadata": {},
   "outputs": [
    {
     "data": {
      "text/plain": [
       "<matplotlib.axes._subplots.AxesSubplot at 0x116eee6a0>"
      ]
     },
     "execution_count": 234,
     "metadata": {},
     "output_type": "execute_result"
    },
    {
     "data": {
      "image/png": "[encoded data removed]",
      "text/plain": [
       "<matplotlib.figure.Figure at 0x116faec50>"
      ]
     },
     "metadata": {},
     "output_type": "display_data"
    }
   ],
   "source": [
    "df = pd.DataFrame({'QOMs':Y.values, 'Prediction':predX}).sort_values(['QOMs'])\n",
    "df.index = range(len(df))\n",
    "df.plot()\n",
    "#plt.plot(predX,c='r')\n",
    "#plt.ylim((0,2000))\n",
    "#plt.show()"
   ]
  },
  {
   "cell_type": "code",
   "execution_count": 241,
   "metadata": {},
   "outputs": [
    {
     "data": {
      "text/plain": [
       "<matplotlib.axes._subplots.AxesSubplot at 0x11746d128>"
      ]
     },
     "execution_count": 241,
     "metadata": {},
     "output_type": "execute_result"
    },
    {
     "data": {
      "image/png": "[encoded data removed]",
      "text/plain": [
       "<matplotlib.figure.Figure at 0x11749b240>"
      ]
     },
     "metadata": {},
     "output_type": "display_data"
    }
   ],
   "source": [
    "seg.plot.scatter(x='KOM_s', y='QOM_s')"
   ]
  },
  {
   "cell_type": "code",
   "execution_count": 245,
   "metadata": {
    "collapsed": true
   },
   "outputs": [],
   "source": [
    "from sklearn import linear_model\n",
    "lrModel = linear_model.LinearRegression(fit_intercept=True, normalize=False, copy_X=True, n_jobs=1)\n"
   ]
  },
  {
   "cell_type": "code",
   "execution_count": 246,
   "metadata": {},
   "outputs": [
    {
     "data": {
      "text/plain": [
       "LinearRegression(copy_X=True, fit_intercept=True, n_jobs=1, normalize=False)"
      ]
     },
     "execution_count": 246,
     "metadata": {},
     "output_type": "execute_result"
    }
   ],
   "source": [
    "lrModel.fit(X,Y)"
   ]
  },
  {
   "cell_type": "code",
   "execution_count": 248,
   "metadata": {},
   "outputs": [
    {
     "data": {
      "text/plain": [
       "{'copy_X': True, 'fit_intercept': True, 'n_jobs': 1, 'normalize': False}"
      ]
     },
     "execution_count": 248,
     "metadata": {},
     "output_type": "execute_result"
    }
   ],
   "source": [
    "predX = lrModel.predict(X)\n"
   ]
  },
  {
   "cell_type": "code",
   "execution_count": 254,
   "metadata": {},
   "outputs": [
    {
     "data": {
      "image/png": "[encoded data removed]",
      "text/plain": [
       "<matplotlib.figure.Figure at 0x11b2c9a58>"
      ]
     },
     "metadata": {},
     "output_type": "display_data"
    }
   ],
   "source": [
    "plt.plot(np.array([Y,predX]).T);"
   ]
  },
  {
   "cell_type": "code",
   "execution_count": 23,
   "metadata": {},
   "outputs": [
    {
     "data": {
      "application/vnd.jupyter.widget-view+json": {
       "model_id": "f963e6038e4a461b8b6483d5e751085f"
      }
     },
     "metadata": {},
     "output_type": "display_data"
    },
    {
     "name": "stdout",
     "output_type": "stream",
     "text": [
      "42.06222219197641\n",
      "1382.2555153916178\n",
      "0.9576453697056713\n"
     ]
    },
    {
     "data": {
      "image/png": "[encoded data removed]",
      "text/plain": [
       "<matplotlib.figure.Figure at 0x116aa3588>"
      ]
     },
     "metadata": {},
     "output_type": "display_data"
    }
   ],
   "source": [
    "import BikeTimeAuto as bta"
   ]
  },
  {
   "cell_type": "markdown",
   "metadata": {},
   "source": [
    "## Theoretical model\n"
   ]
  },
  {
   "cell_type": "code",
   "execution_count": 163,
   "metadata": {},
   "outputs": [],
   "source": [
    "def QOMKOM(mr=72, pw=4.0, mrRel=1.2, pwRel=1.13, g=0):\n",
    "    \"\"\"\n",
    "    mr is mass of male rider\n",
    "    pw is power weight ratio of male rider\n",
    "    rmRel is relative mass of male versus female rider\n",
    "    pwRel is relative power to weight ratio\n",
    "    g is grade of segment\n",
    "    \"\"\"\n",
    "    a=bta.solveV(Power=mr*pw, Grade=g, mr=mr, Cd=0.5,  A=0.5, Br=0, Vw=0, Bw=90, Pressure=1020, Temp=15, DP=False, Humidity=False, Crr=0.00, Cxf=0.0, df=0.337*2, Cxr=0.0, dr=0.337*2, RS=0.25, mb=0, mfw=0, mrw=0, g=9.81, plotIt=False)\n",
    "    b=bta.solveV(Power=mr*pw/pwRel, Grade=g, mr=mr, Cd=0.5,  A=0.5, Br=0, Vw=0, Bw=90, Pressure=1020, Temp=15, DP=False, Humidity=False, Crr=0.00, Cxf=0.0, df=0.337*2, Cxr=0.0, dr=0.337*2, RS=0.25, mb=0, mfw=0, mrw=0, g=9.81, plotIt=False)\n",
    "    c=bta.solveV(Power=mr/mrRel*pw/pwRel, Grade=g, mr=mr/mrRel, Cd=0.5,  A=0.5, Br=0, Vw=0, Bw=90, Pressure=1020, Temp=15, DP=False, Humidity=False, Crr=0.00, Cxf=0.0, df=0.337*2, Cxr=0.0, dr=0.337*2, RS=0.25, mb=0, mfw=0, mrw=0, g=9.81, plotIt=False)\n",
    "    d=bta.solveV(Power=mr/mrRel*pw/pwRel, Grade=g, mr=mr/mrRel, Cd=0.5,  A=0.5/mrRel**(1/3), Br=0, Vw=0, Bw=90, Pressure=1020, Temp=15, DP=False, Humidity=False, Crr=0.00, Cxf=0.0, df=0.337*2, Cxr=0.0, dr=0.337*2, RS=0.25, mb=0, mfw=0, mrw=0, g=9.81, plotIt=False)\n",
    "    e=bta.solveV(Power=mr*pw, Grade=g, mr=mr, Cd=0.5,  A=0.5, Br=0, Vw=4, Bw=90, Pressure=1020, Temp=15, DP=False, Humidity=False, Crr=0.005, Cxf=0.0491, df=0.337*2, Cxr=0.0491, dr=0.337*2, RS=0.25, mb=8, mfw=1.264, mrw=1.364, g=9.81, plotIt=False)\n",
    "    f=bta.solveV(Power=mr/mrRel*pw/pwRel, Grade=g, mr=mr/mrRel, Cd=0.5,  A=0.5/mrRel**(1/3), Br=0, Vw=4, Bw=90, Pressure=1020, Temp=15, DP=False, Humidity=False, Crr=0.005, Cxf=0.0491, df=0.337*2, Cxr=0.0491, dr=0.337*2, RS=0.25, mb=8, mfw=1.264, mrw=1.364, g=9.81, plotIt=False)\n",
    "    print(mr, pw, mrRel, pwRel, g)\n",
    "    print('Rider only ', a,b,c,d,(a/b),(a/c),(a/d))\n",
    "    print('With bike etc ',(e/f))\n",
    "    return e,f\n"
   ]
  },
  {
   "cell_type": "markdown",
   "metadata": {},
   "source": [
    "First consider a steep hill, where the non bike ratio should be close to pwRel. Then include the bike, which ups the relative performance of men. Then consider a flat road with and without bike."
   ]
  },
  {
   "cell_type": "code",
   "execution_count": 87,
   "metadata": {},
   "outputs": [
    {
     "name": "stdout",
     "output_type": "stream",
     "text": [
      "72 5.0 1.2 1.13 0.3\n",
      "Rider only  1.76956518632 1.56678599171 1.5662085703 1.56641270701 1.12942367093 1.12984006082 1.12969281876\n",
      "With bike etc  1.15873113063\n",
      "72 5.0 1.2 1.13 0.0\n",
      "Rider only  13.2899458514 12.7594042432 12.0070590999 12.2527779893 1.04158043731 1.1068443772 1.08464756834\n",
      "With bike etc  1.0907457535\n"
     ]
    }
   ],
   "source": [
    "mr, pw, mrRel, pwRel, g = 72, 5.0, 1.2, 1.13, 0.3\n",
    "QOMKOM(mr, pw, mrRel, pwRel, g)\n",
    "\n",
    "mr, pw, mrRel, pwRel, g = 72, 5.0, 1.2, 1.13, 0.0\n",
    "QOMKOM(mr, pw, mrRel, pwRel, g)\n",
    "\n"
   ]
  },
  {
   "cell_type": "markdown",
   "metadata": {},
   "source": [
    "Now we modify pwRel to match Strava estimated value of 1.43"
   ]
  },
  {
   "cell_type": "code",
   "execution_count": 95,
   "metadata": {},
   "outputs": [
    {
     "name": "stdout",
     "output_type": "stream",
     "text": [
      "72 5.0 1.2 1.3 0.3\n",
      "Rider only  1.76956518632 1.36251353303 1.36213317842 1.36226766902 1.29875053966 1.29911319565 1.29898494001\n",
      "With bike etc  1.33260452428\n",
      "72 5.0 1.2 1.3 0.0\n",
      "Rider only  13.2899458514 12.1770501326 11.4590429003 11.6935468926 1.09139288306 1.15977799953 1.13651965255\n",
      "With bike etc  1.1489578591\n"
     ]
    }
   ],
   "source": [
    "mr, pw, mrRel, pwRel, g = 72, 5.0, 1.2, 1.3, 0.3\n",
    "QOMKOM(mr, pw, mrRel, pwRel, g)\n",
    "\n",
    "mr, pw, mrRel, pwRel, g = 72, 5.0, 1.2, 1.3, 0.0\n",
    "QOMKOM(mr, pw, mrRel, pwRel, g)\n",
    "\n"
   ]
  },
  {
   "cell_type": "markdown",
   "metadata": {},
   "source": [
    "Fewer women - not comparing like with like, women not electing to make public, weather conditions"
   ]
  },
  {
   "cell_type": "code",
   "execution_count": 186,
   "metadata": {},
   "outputs": [
    {
     "name": "stdout",
     "output_type": "stream",
     "text": [
      "72 5.0 1.2 1.4 -0.2\n",
      "Rider only  31.2769094771 30.9416120446 28.3196098136 29.1672562729 1.01083645648 1.1044258619 1.07232950485\n",
      "With bike etc  1.06247877207\n",
      "72 5.0 1.2 1.4 -0.19\n",
      "Rider only  30.5999812693 30.2502136254 27.6917012289 28.5188314843 1.01156248508 1.1050235237 1.07297458124\n",
      "With bike etc  1.0631509486\n",
      "72 5.0 1.2 1.4 -0.18\n",
      "Rider only  29.9057348024 29.5401598388 27.0470698857 27.8530604348 1.01237552422 1.10569222207 1.07369654665\n",
      "With bike etc  1.06390705973\n",
      "72 5.0 1.2 1.4 -0.17\n",
      "Rider only  29.1933560405 28.8104554214 26.3848501493 27.1690358567 1.01329033552 1.10644388258 1.07450835556\n",
      "With bike etc  1.06476201745\n",
      "72 5.0 1.2 1.4 -0.16\n",
      "Rider only  28.4619618465 28.0600035021 25.7040916318 26.4657603552 1.01432495703 1.10729304323 1.07542581299\n",
      "With bike etc  1.06573421693\n",
      "72 5.0 1.2 1.4 -0.15\n",
      "Rider only  27.7105939003 27.2875923813 25.0037489732 25.7421352432 1.01550160648 1.10825756289 1.07646835192\n",
      "With bike etc  1.06684655264\n",
      "72 5.0 1.2 1.4 -0.14\n",
      "Rider only  26.9382129156 26.4918808265 24.282670764 24.9969483258 1.01684788226 1.10935955841 1.07766006332\n",
      "With bike etc  1.06812779111\n",
      "72 5.0 1.2 1.4 -0.13\n",
      "Rider only  26.1436937858 25.6713820605 23.5395879159 24.2288609017 1.01839837545 1.11062665495 1.07903107339\n",
      "With bike etc  1.0696144463\n",
      "72 5.0 1.2 1.4 -0.12\n",
      "Rider only  25.3258227008 24.8244469549 22.7731021266 23.4363945906 1.02019685461 1.1120936691 1.08061940171\n",
      "With bike etc  1.07135337091\n",
      "72 5.0 1.2 1.4 -0.11\n",
      "Rider only  24.4832979436 23.949247565 21.9816756913 22.6179192103 1.022299255 1.1138048931 1.08247348998\n",
      "With bike etc  1.07340537792\n",
      "72 5.0 1.2 1.4 -0.1\n",
      "Rider only  23.6147371315 23.0437632704 21.1636249656 21.7716440092 1.02477780449 1.11581721798 1.08465567054\n",
      "With bike etc  1.07585035808\n",
      "72 5.0 1.2 1.4 -0.09\n",
      "Rider only  22.7186953539 22.1057738302 20.3171216143 20.8956164595 1.02772676172 1.11820442802 1.0872469543\n",
      "With bike etc  1.07879458271\n",
      "72 5.0 1.2 1.4 -0.08\n",
      "Rider only  21.7937013341 21.1328673223 19.4402089533 19.987736161 1.03127043774 1.12106312162 1.0903536628\n",
      "With bike etc  1.0823812036\n",
      "72 5.0 1.2 1.4 -0.07\n",
      "Rider only  20.8383229517 20.1224775245 18.5308461805 19.0457972443 1.03557441803 1.12452085289 1.09411660139\n",
      "With bike etc  1.08680539318\n",
      "72 5.0 1.2 1.4 -0.06\n",
      "Rider only  19.8512799527 19.0719770412 17.5870027235 18.0675828452 1.04086114983 1.12874719273 1.09872361581\n",
      "With bike etc  1.09233604835\n",
      "72 5.0 1.2 1.4 -0.05\n",
      "Rider only  18.8316313476 17.9788732361 16.6068408554 17.0510526533 1.04743112098 1.13396831532 1.1044263208\n",
      "With bike etc  1.09934619522\n",
      "72 5.0 1.2 1.4 -0.04\n",
      "Rider only  17.7790783699 16.841189579 15.5890506119 15.9946933992 1.05569017477 1.14048499889 1.11156106129\n",
      "With bike etc  1.10835311729\n",
      "72 5.0 1.2 1.4 -0.03\n",
      "Rider only  16.6944395856 15.6581719229 14.5334396501 14.898146234 1.06618062873 1.14869156837 1.12057160155\n",
      "With bike etc  1.12006375013\n",
      "72 5.0 1.2 1.4 -0.02\n",
      "Rider only  15.5803653841 14.4315360202 13.4419269973 13.7632801133 1.07960548082 1.15908718945 1.13202414365\n",
      "With bike etc  1.13540366144\n",
      "72 5.0 1.2 1.4 -0.01\n",
      "Rider only  14.4423424919 13.1675273716 12.3201087989 12.5959091311 1.09681507274 1.1722577071 1.14658992389\n",
      "With bike etc  1.15546565206\n",
      "72 5.0 1.2 1.4 0.0\n",
      "Rider only  13.2899458514 11.8799295778 11.1794417533 11.4082238379 1.11868894208 1.18878439055 1.16494434543\n",
      "With bike etc  1.18124128212\n",
      "72 5.0 1.2 1.4 0.01\n",
      "Rider only  12.1380496526 10.5934227522 10.0395812708 10.221430563 1.14580999329 1.20901951239 1.18750986741\n",
      "With bike etc  1.21297079213\n",
      "72 5.0 1.2 1.4 0.02\n",
      "Rider only  11.0072852313 9.34493621936 8.92930923548 9.06680409886 1.17788767873 1.23271408135 1.2140204102\n",
      "With bike etc  1.24923430922\n",
      "72 5.0 1.2 1.4 0.03\n",
      "Rider only  9.92267505939 8.17894679828 7.88346115255 7.98214636136 1.2131971639 1.25866987448 1.24310863397\n",
      "With bike etc  1.28664680446\n",
      "72 5.0 1.2 1.4 0.04\n",
      "Rider only  8.90976256299 7.13524311654 6.93468027968 7.00237343975 1.24869782535 1.28481230621 1.27239180253\n",
      "With bike etc  1.32110261707\n",
      "72 5.0 1.2 1.4 0.05\n",
      "Rider only  7.98918383051 6.23590430983 6.10376636839 6.14882052005 1.28115882374 1.30889410707 1.29930346876\n",
      "With bike etc  1.34976433143\n",
      "72 5.0 1.2 1.4 0.06\n",
      "Rider only  7.17235176726 5.48147183153 5.3953106531 5.42494546274 1.30847188268 1.32936770993 1.32210578273\n",
      "With bike etc  1.37189244018\n",
      "72 5.0 1.2 1.4 0.07\n",
      "Rider only  6.46052609245 4.857243743 4.80072869422 4.8203010348 1.33008068655 1.3457386376 1.34027440316\n",
      "With bike etc  1.38823013605\n",
      "72 5.0 1.2 1.4 0.08\n",
      "Rider only  5.84709402843 4.34234339507 4.3046592217 4.31777782117 1.34652962616 1.35831751767 1.35419057455\n",
      "With bike etc  1.40004970993\n",
      "72 5.0 1.2 1.4 0.09\n",
      "Rider only  5.32108782706 3.91599309123 3.89031147587 3.89928592496 1.35880929897 1.36777938221 1.36463135289\n",
      "With bike etc  1.40856783597\n",
      "72 5.0 1.2 1.4 0.1\n",
      "Rider only  4.8701863406 3.56027860481 3.54235828684 3.54863807755 1.36792281762 1.37484295665 1.37240998777\n",
      "With bike etc  1.41474393133\n",
      "72 5.0 1.2 1.4 0.11\n",
      "Rider only  4.48257144909 3.26074962009 3.24794886675 3.2524438552 1.37470581043 1.38012377442 1.37821639624\n",
      "With bike etc  1.4192731146\n",
      "72 5.0 1.2 1.4 0.12\n",
      "Rider only  4.14778996808 3.00609239163 2.99674364371 3.00003148485 1.37979457306 1.38409902922 1.3825821459\n",
      "With bike etc  1.42264079998\n",
      "72 5.0 1.2 1.4 0.13\n",
      "Rider only  3.85699304658 2.78754315517 2.78057407033 2.78302783661 1.38365321428 1.38712113004 1.38589811997\n",
      "With bike etc  1.42518175255\n",
      "72 5.0 1.2 1.4 0.14\n",
      "Rider only  3.60286253247 2.5983168164 2.593023435 2.59488883559 1.38661402248 1.38944464745 1.38844581049\n",
      "With bike etc  1.42712695017\n",
      "72 5.0 1.2 1.4 0.15\n",
      "Rider only  3.37941380637 2.43313443446 2.42904483575 2.4304869994 1.38891372318 1.39125213196 1.39042661294\n",
      "With bike etc  1.42863694185\n",
      "72 5.0 1.2 1.4 0.16\n",
      "Rider only  3.18177221546 2.28785734649 2.2846486508 2.28578077311 1.39072141904 1.39267463045 1.39198485388\n",
      "With bike etc  1.4298245519\n",
      "72 5.0 1.2 1.4 0.17\n",
      "Rider only  3.00596558203 2.1592117728 2.15665875944 2.15755991758 1.392158759 1.39380677118 1.39322461339\n",
      "With bike etc  1.4307700741\n",
      "72 5.0 1.2 1.4 0.18\n",
      "Rider only  2.84874725899 2.04458370424 2.04252640451 2.04325283206 1.39331407811 1.39471746984 1.39422161286\n",
      "With bike etc  1.43153141155\n",
      "72 5.0 1.2 1.4 0.19\n",
      "Rider only  2.7074514165 1.94186634197 1.94018920741 1.94078156181 1.39425219851 1.39545741527 1.39503150162\n",
      "With bike etc  1.43215087514\n",
      "72 5.0 1.2 1.4 0.2\n",
      "Rider only  2.57987719554 1.84934621345 1.84796447201 1.84845260467 1.39502121169 1.39606428295 1.39569561535\n",
      "With bike etc  1.43265978139\n",
      "72 5.0 1.2 1.4 0.21\n",
      "Rider only  2.46419692581 1.76561762009 1.76446817773 1.76487432048 1.39565718974 1.39656637445 1.39624498879\n",
      "With bike etc  1.43308159571\n",
      "72 5.0 1.2 1.4 0.22\n",
      "Rider only  2.35888369564 1.68951786794 1.68855313685 1.68889406649 1.3961874807 1.39698517278 1.39670316951\n",
      "With bike etc  1.43343410672\n",
      "72 5.0 1.2 1.4 0.23\n",
      "Rider only  2.26265419792 1.62007781803 1.61926146199 1.61954999421 1.39663303376 1.39733715094 1.39708820723\n",
      "With bike etc  1.43373094855\n",
      "72 5.0 1.2 1.4 0.24\n",
      "Rider only  2.17442352628 1.55648380453 1.55578776121 1.55603379712 1.39701005558 1.39763506341 1.39741407307\n",
      "With bike etc  1.43398267966\n",
      "72 5.0 1.2 1.4 0.25\n",
      "Rider only  2.09326928769 1.4980480538 1.49745042101 1.49766169067 1.39733120201 1.3978888772 1.39769168213\n",
      "With bike etc  1.43419755627\n",
      "72 5.0 1.2 1.4 0.26\n",
      "Rider only  2.01840297848 1.44418551223 1.44366902747 1.44385162499 1.39760644418 1.39810644966 1.39792963733\n",
      "With bike etc  1.43438209341\n",
      "72 5.0 1.2 1.4 0.27\n",
      "Rider only  1.94914703538 1.39439554618 1.39394647923 1.39410525284 1.39784370419 1.39829402666 1.39813477599\n",
      "With bike etc  1.43454147609\n",
      "72 5.0 1.2 1.4 0.28\n",
      "Rider only  1.8849163361 1.34824737638 1.34785471338 1.34799355289 1.39804932619 1.39845661212 1.39831257505\n",
      "With bike etc  1.43467986403\n",
      "72 5.0 1.2 1.4 0.29\n",
      "Rider only  1.82520320409 1.305368398 1.30502323368 1.30514528473 1.39822842877 1.39859824483 1.3984674545\n",
      "With bike etc  1.43480061954\n"
     ]
    }
   ],
   "source": [
    "#mr, pw, mrRel, pwRel, g = 72, 5.0, 1.2, 1.13, 0.3\n",
    "mr, pw, mrRel, pwRel, g = 72, 5.0, 1.2, 1.4, 0.3\n",
    "\n",
    "modelRatio = []\n",
    "for g in range(-20,30):\n",
    "    m,f = QOMKOM(mr, pw, mrRel, pwRel, g/100)\n",
    "    modelRatio += [[g, m/f]]\n",
    "df2 = pd.DataFrame(modelRatio, columns=['Grade', 'Model_QOM/KOM'])\n"
   ]
  },
  {
   "cell_type": "code",
   "execution_count": 209,
   "metadata": {},
   "outputs": [
    {
     "data": {
      "image/png": "[encoded data removed]",
      "text/plain": [
       "<matplotlib.figure.Figure at 0x118e180f0>"
      ]
     },
     "metadata": {},
     "output_type": "display_data"
    }
   ],
   "source": [
    "seg.plot.scatter('avg_grade','avgRatio')\n",
    "plt.plot(df.Grade, df['Model_QOM/KOM'],c='r', label='World model')\n",
    "plt.plot(df2.Grade, df2['Model_QOM/KOM'],c='c')\n",
    "plt.title('Strava QOM/KOM ratio versus gradient, compared with model')\n",
    "plt.legend(['World Model','Adjusted Model','Strava Leaderboards'])\n",
    "plt.ylabel('QOM/KOM ratio')\n",
    "plt.xlabel('Segment % gradient')\n",
    "plt.show()"
   ]
  },
  {
   "cell_type": "code",
   "execution_count": null,
   "metadata": {},
   "outputs": [],
   "source": []
  },
  {
   "cell_type": "code",
   "execution_count": 208,
   "metadata": {},
   "outputs": [
    {
     "data": {
      "text/html": [
       "<div>\n",
       "<style>\n",
       "    .dataframe thead tr:only-child th {\n",
       "        text-align: right;\n",
       "    }\n",
       "\n",
       "    .dataframe thead th {\n",
       "        text-align: left;\n",
       "    }\n",
       "\n",
       "    .dataframe tbody tr th {\n",
       "        vertical-align: top;\n",
       "    }\n",
       "</style>\n",
       "<table border=\"1\" class=\"dataframe\">\n",
       "  <thead>\n",
       "    <tr style=\"text-align: right;\">\n",
       "      <th></th>\n",
       "      <th>name</th>\n",
       "      <th>climb_category</th>\n",
       "      <th>climb_category_desc</th>\n",
       "      <th>avg_grade</th>\n",
       "      <th>elev_difference</th>\n",
       "      <th>distance</th>\n",
       "      <th>segment_id</th>\n",
       "      <th>KOM</th>\n",
       "      <th>KOMavg</th>\n",
       "      <th>QOM</th>\n",
       "      <th>...</th>\n",
       "      <th>KOMavg_s</th>\n",
       "      <th>QOM_s</th>\n",
       "      <th>QOMavg_s</th>\n",
       "      <th>avgRatio</th>\n",
       "      <th>Ratio</th>\n",
       "      <th>athlete_count</th>\n",
       "      <th>start_latlng</th>\n",
       "      <th>end_latlng</th>\n",
       "      <th>fRiders</th>\n",
       "      <th>mRiders</th>\n",
       "    </tr>\n",
       "  </thead>\n",
       "  <tbody>\n",
       "    <tr>\n",
       "      <th>13</th>\n",
       "      <td>Sandsifter to Hells Mouth Cafe</td>\n",
       "      <td>0.0</td>\n",
       "      <td>NC</td>\n",
       "      <td>2.7</td>\n",
       "      <td>64.9</td>\n",
       "      <td>1893.6</td>\n",
       "      <td>1033456</td>\n",
       "      <td>0 days 00:02:56</td>\n",
       "      <td>0 days 00:03:19.600000</td>\n",
       "      <td>0 days 00:04:14</td>\n",
       "      <td>...</td>\n",
       "      <td>199.6</td>\n",
       "      <td>254.0</td>\n",
       "      <td>267.4</td>\n",
       "      <td>1.339679</td>\n",
       "      <td>1.443182</td>\n",
       "      <td>3943</td>\n",
       "      <td>(50.2289638277243, -5.384144905430851)</td>\n",
       "      <td>(50.23678073900739, -5.361623133922812)</td>\n",
       "      <td>462</td>\n",
       "      <td>3481</td>\n",
       "    </tr>\n",
       "    <tr>\n",
       "      <th>117</th>\n",
       "      <td>Mudford Climb</td>\n",
       "      <td>0.0</td>\n",
       "      <td>NC</td>\n",
       "      <td>3.1</td>\n",
       "      <td>60.6</td>\n",
       "      <td>1951.1</td>\n",
       "      <td>1742576</td>\n",
       "      <td>0 days 00:03:03</td>\n",
       "      <td>0 days 00:03:25.200000</td>\n",
       "      <td>0 days 00:03:41</td>\n",
       "      <td>...</td>\n",
       "      <td>205.2</td>\n",
       "      <td>221.0</td>\n",
       "      <td>253.4</td>\n",
       "      <td>1.234893</td>\n",
       "      <td>1.207650</td>\n",
       "      <td>3826</td>\n",
       "      <td>(50.97552138380706, -2.6084301620721817)</td>\n",
       "      <td>(50.96029423177242, -2.621479695662856)</td>\n",
       "      <td>473</td>\n",
       "      <td>3353</td>\n",
       "    </tr>\n",
       "    <tr>\n",
       "      <th>804</th>\n",
       "      <td>DMRC Chaingang Ripley Hill Attack</td>\n",
       "      <td>0.0</td>\n",
       "      <td>NC</td>\n",
       "      <td>2.7</td>\n",
       "      <td>54.2</td>\n",
       "      <td>1984.1</td>\n",
       "      <td>1294271</td>\n",
       "      <td>0 days 00:03:08</td>\n",
       "      <td>0 days 00:03:10.400000</td>\n",
       "      <td>0 days 00:03:42</td>\n",
       "      <td>...</td>\n",
       "      <td>190.4</td>\n",
       "      <td>222.0</td>\n",
       "      <td>235.4</td>\n",
       "      <td>1.236345</td>\n",
       "      <td>1.180851</td>\n",
       "      <td>2466</td>\n",
       "      <td>(53.031247, -1.4061)</td>\n",
       "      <td>(53.048633, -1.406668)</td>\n",
       "      <td>224</td>\n",
       "      <td>2242</td>\n",
       "    </tr>\n",
       "    <tr>\n",
       "      <th>638</th>\n",
       "      <td>Haughmond Hill - from Shrewsbury side</td>\n",
       "      <td>0.0</td>\n",
       "      <td>NC</td>\n",
       "      <td>3.1</td>\n",
       "      <td>54.0</td>\n",
       "      <td>1768.5</td>\n",
       "      <td>835475</td>\n",
       "      <td>0 days 00:02:47</td>\n",
       "      <td>0 days 00:03:05</td>\n",
       "      <td>0 days 00:03:43</td>\n",
       "      <td>...</td>\n",
       "      <td>185.0</td>\n",
       "      <td>223.0</td>\n",
       "      <td>233.6</td>\n",
       "      <td>1.262703</td>\n",
       "      <td>1.335329</td>\n",
       "      <td>1956</td>\n",
       "      <td>(52.72659164853394, -2.701669279485941)</td>\n",
       "      <td>(52.73093364201486, -2.6769163459539413)</td>\n",
       "      <td>206</td>\n",
       "      <td>1750</td>\n",
       "    </tr>\n",
       "  </tbody>\n",
       "</table>\n",
       "<p>4 rows × 22 columns</p>\n",
       "</div>"
      ],
      "text/plain": [
       "                                      name  climb_category  \\\n",
       "13          Sandsifter to Hells Mouth Cafe             0.0   \n",
       "117                          Mudford Climb             0.0   \n",
       "804      DMRC Chaingang Ripley Hill Attack             0.0   \n",
       "638  Haughmond Hill - from Shrewsbury side             0.0   \n",
       "\n",
       "    climb_category_desc  avg_grade  elev_difference  distance  segment_id  \\\n",
       "13                   NC        2.7             64.9    1893.6     1033456   \n",
       "117                  NC        3.1             60.6    1951.1     1742576   \n",
       "804                  NC        2.7             54.2    1984.1     1294271   \n",
       "638                  NC        3.1             54.0    1768.5      835475   \n",
       "\n",
       "                 KOM                  KOMavg              QOM   ...    \\\n",
       "13   0 days 00:02:56  0 days 00:03:19.600000  0 days 00:04:14   ...     \n",
       "117  0 days 00:03:03  0 days 00:03:25.200000  0 days 00:03:41   ...     \n",
       "804  0 days 00:03:08  0 days 00:03:10.400000  0 days 00:03:42   ...     \n",
       "638  0 days 00:02:47         0 days 00:03:05  0 days 00:03:43   ...     \n",
       "\n",
       "    KOMavg_s  QOM_s  QOMavg_s  avgRatio     Ratio  athlete_count  \\\n",
       "13     199.6  254.0     267.4  1.339679  1.443182           3943   \n",
       "117    205.2  221.0     253.4  1.234893  1.207650           3826   \n",
       "804    190.4  222.0     235.4  1.236345  1.180851           2466   \n",
       "638    185.0  223.0     233.6  1.262703  1.335329           1956   \n",
       "\n",
       "                                 start_latlng  \\\n",
       "13     (50.2289638277243, -5.384144905430851)   \n",
       "117  (50.97552138380706, -2.6084301620721817)   \n",
       "804                      (53.031247, -1.4061)   \n",
       "638   (52.72659164853394, -2.701669279485941)   \n",
       "\n",
       "                                   end_latlng fRiders mRiders  \n",
       "13    (50.23678073900739, -5.361623133922812)     462    3481  \n",
       "117   (50.96029423177242, -2.621479695662856)     473    3353  \n",
       "804                    (53.048633, -1.406668)     224    2242  \n",
       "638  (52.73093364201486, -2.6769163459539413)     206    1750  \n",
       "\n",
       "[4 rows x 22 columns]"
      ]
     },
     "execution_count": 208,
     "metadata": {},
     "output_type": "execute_result"
    }
   ],
   "source": [
    "seg[(seg.avg_grade<3.5) & (seg.avg_grade>2.5) & (seg.distance>1700) & (seg.distance<2200)]"
   ]
  },
  {
   "cell_type": "code",
   "execution_count": null,
   "metadata": {
    "collapsed": true
   },
   "outputs": [],
   "source": []
  }
 ],
 "metadata": {
  "anaconda-cloud": {},
  "kernelspec": {
   "display_name": "Python 3",
   "language": "python",
   "name": "python3"
  },
  "language_info": {
   "codemirror_mode": {
    "name": "ipython",
    "version": 3
   },
   "file_extension": ".py",
   "mimetype": "text/x-python",
   "name": "python",
   "nbconvert_exporter": "python",
   "pygments_lexer": "ipython3",
   "version": "3.6.4"
  }
 },
 "nbformat": 4,
 "nbformat_minor": 2
}
