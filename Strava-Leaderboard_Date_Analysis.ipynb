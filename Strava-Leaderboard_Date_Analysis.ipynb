{
 "cells": [
  {
   "cell_type": "markdown",
   "metadata": {},
   "source": [
    "# When to go for a KOM on Strava\n",
    "Load a previously pickled leaderboard."
   ]
  },
  {
   "cell_type": "code",
   "execution_count": 1,
   "metadata": {
    "collapsed": false
   },
   "outputs": [],
   "source": [
    "%matplotlib inline\n",
    "import matplotlib.pylab as plt\n",
    "import pandas as pd\n",
    "import numpy as np\n",
    "LB = pd.read_pickle('/Users/Gavin/Gavin/jupyter/Strava/610040_LB.pkl')"
   ]
  },
  {
   "cell_type": "markdown",
   "metadata": {},
   "source": [
    "The first striking observation is that hardly anyone sets a PB during the winter. The following chart shows that most records were set between June and September."
   ]
  },
  {
   "cell_type": "code",
   "execution_count": 3,
   "metadata": {
    "collapsed": false
   },
   "outputs": [
    {
     "data": {
      "image/png": "[encoded data removed]",
      "text/plain": [
       "<matplotlib.figure.Figure at 0x11478f0b8>"
      ]
     },
     "metadata": {},
     "output_type": "display_data"
    }
   ],
   "source": [
    "# The month in which PBs are set\n",
    "ax=LB.start_date_local.dt.month.value_counts().reindex(np.arange(1,13)).plot(kind='bar', xlim=(1,12), title='Month when PB set', width=1)\n",
    "ax.set_xticklabels( ['J','F','M','A','M','J','J','A','S','O','N','D'],rotation='horizontal')\n",
    "ax.set_ylabel('Frequency')\n",
    "plt.savefig('MonthPlot.png')\n",
    "\n"
   ]
  },
  {
   "cell_type": "markdown",
   "metadata": {},
   "source": [
    "This suggests that riders tend to be in better form in the summer and that conditions are more favourable. In fact, it turns out that hours of daylight play an important role, as demonstrated by the following chart showing that most PBs are set either in the evening, around 7pm or in the early morning, between 6am and 9am. These represent times before or after work, when car traffic is lighter. Very few records are set in during the middle of the day and none at night."
   ]
  },
  {
   "cell_type": "code",
   "execution_count": 4,
   "metadata": {
    "collapsed": false
   },
   "outputs": [
    {
     "data": {
      "image/png": "[encoded data removed]",
      "text/plain": [
       "<matplotlib.figure.Figure at 0x1147ee198>"
      ]
     },
     "metadata": {},
     "output_type": "display_data"
    }
   ],
   "source": [
    "# The times at which PBs are set\n",
    "fig=plt.figure()\n",
    "ax=LB.start_date_local.dt.hour.value_counts().reindex(np.arange(25)).plot(kind='bar',xlim=((0,24)),title='Hour of the day when PB set',width=1)\n",
    "ax.set_xticklabels( ['00:00','','','','','','06:00','','','','','','12:00','','','','','','18:00','','','','',''],rotation='vertical')\n",
    "ax.set_ylabel('Frequency')\n",
    "plt.show()\n",
    "fig.savefig('HourPlot.png')\n",
    "\n"
   ]
  },
  {
   "cell_type": "markdown",
   "metadata": {},
   "source": [
    "A look at the days of the week, when record are set, reveals that Wednesday and Saturday are particularly popular. It turns out the most Wednesday records were achieved in the evening with some in morning, whereas almost all Saturday records were completed by 10am."
   ]
  },
  {
   "cell_type": "code",
   "execution_count": 5,
   "metadata": {
    "collapsed": false
   },
   "outputs": [
    {
     "data": {
      "image/png": "[encoded data removed]",
      "text/plain": [
       "<matplotlib.figure.Figure at 0x1147ee710>"
      ]
     },
     "metadata": {},
     "output_type": "display_data"
    }
   ],
   "source": [
    "# The day of the week on which PBs are set\n",
    "fig=plt.figure(figsize=(6, 7))\n",
    "ax=LB.start_date_local.dt.weekday_name.value_counts().reindex(['Monday','Tuesday','Wednesday','Thursday','Friday','Saturday','Sunday']).plot(kind='bar',title='Day of the week when PB set',width=1)\n",
    "ax.set_ylabel('Frequency')\n",
    "plt.show()\n",
    "fig.savefig('WeekPlot.png')\n",
    "\n"
   ]
  },
  {
   "cell_type": "markdown",
   "metadata": {},
   "source": [
    "So the best time to achieve a PB around Richmond Park is on a Wednesday evening in August. And it turns out that Rob Sharland set the KOM at 8:31pm on Wednesday 12 August 2015.\n",
    "\n",
    "But Rob deserves additional kudos, because quite a few riders have set their personal bests riding in groups, whereas it looks like Rob was riding solo. Nine other riders set their PBs on the same day, but these were all earlier than Rob's. There were three other dates on which 10 or more riders achieved their fastest times. It is easy to spot those riding as a group, because they all start together and finish with similar times (<a href=\"leadboardgroups.pdf\" target=\"_blank\">show in red here</a>). So chapeau to Rob for beating them all."
   ]
  },
  {
   "cell_type": "code",
   "execution_count": 6,
   "metadata": {
    "collapsed": false
   },
   "outputs": [
    {
     "name": "stdout",
     "output_type": "stream",
     "text": [
      "     rank      athlete_name  elapsed_time    start_date_local\n",
      "196   193      James Ratzer      00:16:19 2016-09-07 06:35:00\n",
      "204   202      Francis Jago      00:16:21 2016-09-07 06:34:54\n",
      "352   340    Richard Beadle      00:16:49 2016-09-07 19:04:45\n",
      "378   373       Adam Polski      00:16:54 2016-09-07 19:21:32\n",
      "594   585  Greg Jadrijevich      00:17:17 2016-09-07 06:59:25\n",
      "657   644       Andy Ainger      00:17:21 2016-09-07 06:51:39\n",
      "680   661     Andy Matthews      00:17:22 2016-09-07 06:51:39\n",
      "755   741   Charlie Linacre      00:17:27 2016-09-07 19:37:56\n",
      "877   851     Mitchell Bell      00:17:34 2016-09-07 09:18:36\n",
      "986   974     Craig Tomkins      00:17:41 2016-09-07 19:00:03\n",
      "     rank               athlete_name  elapsed_time    start_date_local\n",
      "7       7           Tom Percival RPR      00:14:14 2016-09-13 06:11:23\n",
      "11     11  Joe Peake  (Goat RPR) CCL      00:14:31 2016-09-13 06:11:23\n",
      "14     14             Alex Scutt RPR      00:14:41 2016-09-13 06:11:23\n",
      "39     38            Greg Amann RPR       00:15:25 2016-09-13 06:11:24\n",
      "42     40        General Big Mat RPR      00:15:27 2016-09-13 06:11:23\n",
      "86     83              Neil Grunshaw      00:15:44 2016-09-13 19:31:30\n",
      "120   112                        J D      00:15:54 2016-09-13 19:22:41\n",
      "160   156             Dylan Campbell      00:16:06 2016-09-13 19:22:41\n",
      "188   187             graham o'regan      00:16:16 2016-09-13 06:42:03\n",
      "211   208                Sam Stevens      00:16:23 2016-09-13 07:06:37\n",
      "216   216            Daniel Campbell      00:16:25 2016-09-13 07:06:35\n",
      "242   237              Dan Higginson      00:16:30 2016-09-13 06:33:24\n",
      "272   265                 Ewen Burns      00:16:35 2016-09-13 06:33:26\n",
      "544   535   Matt Antoniou (Crab RPR)      00:17:13 2016-09-13 17:50:25\n",
      "595   585                Tom Pearson      00:17:17 2016-09-13 06:45:32\n",
      "896   879                    Chris M      00:17:35 2016-09-13 06:47:12\n",
      "927   916               James Pymont      00:17:37 2016-09-13 06:47:12\n",
      "958   945              Rick Gradidge      00:17:39 2016-09-13 05:40:21\n",
      "959   945                    craig l      00:17:39 2016-09-13 18:52:12\n",
      "     rank                                   athlete_name  elapsed_time  \\\n",
      "2       2                                  richard mason      00:14:01   \n",
      "3       3                              Barnabas Purbrook      00:14:02   \n",
      "4       3                            Alexander Donaldson      00:14:02   \n",
      "5       5                                 Tom Hargreaves      00:14:03   \n",
      "252   245                                    Todd Hooper      00:16:32   \n",
      "318   315                                 Andrew Maclean      00:16:44   \n",
      "356   353                                    Dave Halpin      00:16:50   \n",
      "363   357  jonathan  unsworth www.cadenceperformance.com      00:16:51   \n",
      "400   388                                Michael Johnson      00:16:56   \n",
      "431   424                                 Edward Raymond      00:16:59   \n",
      "443   432                                    Liam Reilly      00:17:00   \n",
      "452   444                                  Ross Matheson      00:17:01   \n",
      "458   453                                Stephen Hough Ⓢ      00:17:02   \n",
      "733   719                                 Charlie Cooper      00:17:26   \n",
      "944   930                                       Will Day      00:17:38   \n",
      "\n",
      "       start_date_local  \n",
      "2   2016-09-21 06:34:30  \n",
      "3   2016-09-21 06:34:29  \n",
      "4   2016-09-21 06:34:24  \n",
      "5   2016-09-21 06:34:26  \n",
      "252 2016-09-21 06:04:41  \n",
      "318 2016-09-21 06:27:43  \n",
      "356 2016-09-21 06:24:17  \n",
      "363 2016-09-21 10:40:38  \n",
      "400 2016-09-21 14:53:08  \n",
      "431 2016-09-21 07:01:45  \n",
      "443 2016-09-21 07:01:43  \n",
      "452 2016-09-21 07:01:45  \n",
      "458 2016-09-21 07:01:44  \n",
      "733 2016-09-21 09:18:10  \n",
      "944 2016-09-21 08:16:25  \n",
      "     rank     athlete_name  elapsed_time    start_date_local\n",
      "1       1     Rob Sharland      00:13:57 2015-08-12 20:31:06\n",
      "172   172       Jamie Dick      00:16:11 2015-08-12 19:09:44\n",
      "405   403       Matt Jones      00:16:57 2015-08-12 07:02:59\n",
      "419   412      Cam Yorston      00:16:58 2015-08-12 07:02:57\n",
      "438   432  Nick Burlington      00:17:00 2015-08-12 07:02:56\n",
      "531   527       Rory White      00:17:12 2015-08-12 18:58:52\n",
      "600   597    Martin Conway      00:17:18 2015-08-12 20:00:23\n",
      "653   644     Rory Maguire      00:17:21 2015-08-12 20:00:24\n",
      "783   775     Nigel Manson      00:17:29 2015-08-12 19:36:20\n",
      "980   974       Will Manns      00:17:41 2015-08-12 19:39:18\n"
     ]
    }
   ],
   "source": [
    "# Most popular dates for PBs\n",
    "popDates = LB.start_date_local.dt.date.value_counts()[:10]\n",
    "\n",
    "# riders setting PB on the same day as rider position n in table\n",
    "for d in popDates.index[[3,0,1,2]]:\n",
    "    print(LB[['rank','athlete_name','elapsed_time','start_date_local']][LB.start_date_local.dt.date==d])\n"
   ]
  },
  {
   "cell_type": "code",
   "execution_count": 2,
   "metadata": {
    "collapsed": false
   },
   "outputs": [
    {
     "data": {
      "text/plain": [
       "Index(['activity_id', 'athlete_gender', 'athlete_id', 'athlete_name',\n",
       "       'athlete_profile', 'average_hr', 'average_watts', 'distance',\n",
       "       'effort_id', 'elapsed_time', 'moving_time', 'rank', 'start_date_local'],\n",
       "      dtype='object')"
      ]
     },
     "execution_count": 2,
     "metadata": {},
     "output_type": "execute_result"
    }
   ],
   "source": [
    "LB.columns"
   ]
  },
  {
   "cell_type": "code",
   "execution_count": 4,
   "metadata": {
    "collapsed": false
   },
   "outputs": [
    {
     "data": {
      "text/plain": [
       "activity_id                                                    930587\n",
       "athlete_gender                                                      F\n",
       "athlete_id                                                       8309\n",
       "athlete_name                                           Maryka Sennema\n",
       "athlete_profile     https://dgalywyr863hv.cloudfront.net/pictures/...\n",
       "average_hr                                                        167\n",
       "average_watts                                                   220.2\n",
       "distance                                                       9518.4\n",
       "effort_id                                                    13806571\n",
       "elapsed_time                                          0 days 00:17:34\n",
       "moving_time                                           0 days 00:17:34\n",
       "rank                                                              851\n",
       "start_date_local                                  2010-06-10 19:43:02\n",
       "Name: 851, dtype: object"
      ]
     },
     "execution_count": 4,
     "metadata": {},
     "output_type": "execute_result"
    }
   ],
   "source": [
    "LB.loc[851]"
   ]
  },
  {
   "cell_type": "code",
   "execution_count": null,
   "metadata": {
    "collapsed": true
   },
   "outputs": [],
   "source": []
  }
 ],
 "metadata": {
  "anaconda-cloud": {},
  "kernelspec": {
   "display_name": "Python [Root]",
   "language": "python",
   "name": "Python [Root]"
  },
  "language_info": {
   "codemirror_mode": {
    "name": "ipython",
    "version": 3
   },
   "file_extension": ".py",
   "mimetype": "text/x-python",
   "name": "python",
   "nbconvert_exporter": "python",
   "pygments_lexer": "ipython3",
   "version": "3.5.2"
  }
 },
 "nbformat": 4,
 "nbformat_minor": 0
}
